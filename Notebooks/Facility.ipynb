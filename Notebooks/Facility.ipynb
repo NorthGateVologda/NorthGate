{
 "cells": [
  {
   "cell_type": "markdown",
   "id": "4dc04ed2",
   "metadata": {
    "cellId": "arzv3so3v6eu91k8xsm1o",
    "execution_id": "c620eaca-6cca-4248-b5e6-86e1f70b3c50"
   },
   "source": [
    "# Задача\n",
    "\n",
    "Сформировать сетку полигонов вокруг точек из таблицы `facility`"
   ]
  },
  {
   "cell_type": "markdown",
   "id": "18352b44",
   "metadata": {
    "cellId": "gj9sv530dctbzzguglam",
    "execution_id": "db326278-bc2a-4029-8a06-f8d7ea00f452"
   },
   "source": [
    "## Подключаем библиотеки\n",
    "\n",
    "* Единоразово устанавливаем h3pandas"
   ]
  },
  {
   "cell_type": "code",
   "execution_count": 1,
   "id": "0d1dcd14",
   "metadata": {
    "cellId": "vn6jtcsqjho8z3wxmwuj2q"
   },
   "outputs": [],
   "source": [
    "# %pip install h3pandas"
   ]
  },
  {
   "cell_type": "code",
   "execution_count": 2,
   "id": "24d5aa13",
   "metadata": {
    "cellId": "utaye6qr2rsmtife50rolf"
   },
   "outputs": [],
   "source": [
    "import h3pandas\n",
    "import pandas as pd\n",
    "import geopandas as gpd\n",
    "from pyproj import CRS\n",
    "from shapely.geometry import Point\n",
    "from shapely.geometry import LineString\n",
    "from shapely.geometry.polygon import Polygon\n",
    "from shapely.geometry.multipolygon import MultiPolygon"
   ]
  },
  {
   "cell_type": "markdown",
   "id": "a2edf811",
   "metadata": {
    "cellId": "gwxrkehttzppkdfzhc76h",
    "execution_id": "27b875a5-c774-43b2-a086-93d9381a905f"
   },
   "source": [
    "## Определяем функцию для вывода данных\n",
    "\n",
    "* Функция вывода центрального региона набора геоданных"
   ]
  },
  {
   "cell_type": "code",
   "execution_count": 3,
   "id": "5e95210f",
   "metadata": {
    "cellId": "1upwcsdwjnkjmwbfkc9e4b"
   },
   "outputs": [],
   "source": [
    "def get_center(df, qt = 0.1):\n",
    "    return df.loc[\n",
    "        (df['lng'] > df['lng'].quantile(qt)) &\n",
    "        (df['lng'] < df['lng'].quantile(1-qt)) &\n",
    "        (df['lat'] > df['lat'].quantile(qt)) &\n",
    "        (df['lat'] < df['lat'].quantile(1-qt))]"
   ]
  },
  {
   "cell_type": "markdown",
   "id": "637c2b8c",
   "metadata": {
    "cellId": "idlp5uaqgja3bvm83qm6s",
    "execution_id": "467c0d2a-e7c8-4395-8c9f-6300c7c623ce"
   },
   "source": [
    "## Грузим данные"
   ]
  },
  {
   "cell_type": "code",
   "execution_count": 4,
   "id": "a3050190",
   "metadata": {
    "cellId": "k7184xzeoppwgmbyx6d7oo"
   },
   "outputs": [],
   "source": [
    "facility = pd.read_csv('data/facility.csv')"
   ]
  },
  {
   "cell_type": "code",
   "execution_count": 5,
   "id": "4de976a7",
   "metadata": {
    "cellId": "c757s7b7h1q1s0ih279jqz"
   },
   "outputs": [
    {
     "name": "stdout",
     "output_type": "stream",
     "text": [
      "(5041, 10)\n"
     ]
    },
    {
     "data": {
      "text/html": [
       "<div>\n",
       "<style scoped>\n",
       "    .dataframe tbody tr th:only-of-type {\n",
       "        vertical-align: middle;\n",
       "    }\n",
       "\n",
       "    .dataframe tbody tr th {\n",
       "        vertical-align: top;\n",
       "    }\n",
       "\n",
       "    .dataframe thead th {\n",
       "        text-align: right;\n",
       "    }\n",
       "</style>\n",
       "<table border=\"1\" class=\"dataframe\">\n",
       "  <thead>\n",
       "    <tr style=\"text-align: right;\">\n",
       "      <th></th>\n",
       "      <th>facility_id</th>\n",
       "      <th>type2</th>\n",
       "      <th>name</th>\n",
       "      <th>coordinats</th>\n",
       "      <th>address</th>\n",
       "      <th>category</th>\n",
       "      <th>x</th>\n",
       "      <th>y</th>\n",
       "      <th>geometry</th>\n",
       "      <th>number_of_inhabitants</th>\n",
       "    </tr>\n",
       "  </thead>\n",
       "  <tbody>\n",
       "    <tr>\n",
       "      <th>0</th>\n",
       "      <td>5137</td>\n",
       "      <td>Дом</td>\n",
       "      <td>Многоквартирный дом</td>\n",
       "      <td>[64.455331, 40.62206]</td>\n",
       "      <td>NaN</td>\n",
       "      <td>NaN</td>\n",
       "      <td>64.455331</td>\n",
       "      <td>40.622060</td>\n",
       "      <td>0101000000B876A224241D50402B137EA99F4F4440</td>\n",
       "      <td>33.0</td>\n",
       "    </tr>\n",
       "    <tr>\n",
       "      <th>1</th>\n",
       "      <td>794</td>\n",
       "      <td>Дом</td>\n",
       "      <td>Многоквартирный дом</td>\n",
       "      <td>[64.455491, 40.622967]</td>\n",
       "      <td>NaN</td>\n",
       "      <td>NaN</td>\n",
       "      <td>64.455491</td>\n",
       "      <td>40.622967</td>\n",
       "      <td>0101000000D427B9C3261D50405EBEF561BD4F4440</td>\n",
       "      <td>32.6</td>\n",
       "    </tr>\n",
       "    <tr>\n",
       "      <th>2</th>\n",
       "      <td>795</td>\n",
       "      <td>Дом</td>\n",
       "      <td>Многоквартирный дом</td>\n",
       "      <td>[64.455494, 40.623901]</td>\n",
       "      <td>NaN</td>\n",
       "      <td>NaN</td>\n",
       "      <td>64.455494</td>\n",
       "      <td>40.623901</td>\n",
       "      <td>01010000008D614ED0261D50408978EBFCDB4F4440</td>\n",
       "      <td>15.4</td>\n",
       "    </tr>\n",
       "  </tbody>\n",
       "</table>\n",
       "</div>"
      ],
      "text/plain": [
       "   facility_id  ... number_of_inhabitants\n",
       "0         5137  ...                  33.0\n",
       "1          794  ...                  32.6\n",
       "2          795  ...                  15.4\n",
       "\n",
       "[3 rows x 10 columns]"
      ]
     },
     "execution_count": 5,
     "metadata": {},
     "output_type": "execute_result"
    }
   ],
   "source": [
    "print(facility.shape)\n",
    "facility.head(3)"
   ]
  },
  {
   "cell_type": "markdown",
   "id": "5b1f31e1",
   "metadata": {
    "cellId": "yrsodbq297nnwoy9lr4z",
    "execution_id": "89976b23-a7db-4d49-9854-a872b93bd10d"
   },
   "source": [
    "## Обрабатываем данные\n",
    "\n",
    "* Проверяем что нет нулей в object_id\n",
    "* Привеодим object_id к целочисленному значению\n",
    "* Переименовываем столбцы для h3pandas\n",
    "* Удаляем лишние столбцы"
   ]
  },
  {
   "cell_type": "code",
   "execution_count": 6,
   "id": "44d9bdc8",
   "metadata": {
    "cellId": "5jyuru5khvyaihzrx5qxs"
   },
   "outputs": [],
   "source": [
    "nulls = len(facility[facility['facility_id'].isnull()])\n",
    "assert nulls == 0"
   ]
  },
  {
   "cell_type": "code",
   "execution_count": 7,
   "id": "1c798e58",
   "metadata": {
    "cellId": "10ol8q7q1aohnb84w6kas2"
   },
   "outputs": [
    {
     "data": {
      "text/html": [
       "<div>\n",
       "<style scoped>\n",
       "    .dataframe tbody tr th:only-of-type {\n",
       "        vertical-align: middle;\n",
       "    }\n",
       "\n",
       "    .dataframe tbody tr th {\n",
       "        vertical-align: top;\n",
       "    }\n",
       "\n",
       "    .dataframe thead th {\n",
       "        text-align: right;\n",
       "    }\n",
       "</style>\n",
       "<table border=\"1\" class=\"dataframe\">\n",
       "  <thead>\n",
       "    <tr style=\"text-align: right;\">\n",
       "      <th></th>\n",
       "      <th>facility_id</th>\n",
       "      <th>type2</th>\n",
       "      <th>name</th>\n",
       "      <th>coordinats</th>\n",
       "      <th>address</th>\n",
       "      <th>category</th>\n",
       "      <th>x</th>\n",
       "      <th>y</th>\n",
       "      <th>geometry</th>\n",
       "      <th>number_of_inhabitants</th>\n",
       "    </tr>\n",
       "  </thead>\n",
       "  <tbody>\n",
       "    <tr>\n",
       "      <th>0</th>\n",
       "      <td>5137</td>\n",
       "      <td>Дом</td>\n",
       "      <td>Многоквартирный дом</td>\n",
       "      <td>[64.455331, 40.62206]</td>\n",
       "      <td>NaN</td>\n",
       "      <td>NaN</td>\n",
       "      <td>64.455331</td>\n",
       "      <td>40.622060</td>\n",
       "      <td>0101000000B876A224241D50402B137EA99F4F4440</td>\n",
       "      <td>33.0</td>\n",
       "    </tr>\n",
       "    <tr>\n",
       "      <th>1</th>\n",
       "      <td>794</td>\n",
       "      <td>Дом</td>\n",
       "      <td>Многоквартирный дом</td>\n",
       "      <td>[64.455491, 40.622967]</td>\n",
       "      <td>NaN</td>\n",
       "      <td>NaN</td>\n",
       "      <td>64.455491</td>\n",
       "      <td>40.622967</td>\n",
       "      <td>0101000000D427B9C3261D50405EBEF561BD4F4440</td>\n",
       "      <td>32.6</td>\n",
       "    </tr>\n",
       "    <tr>\n",
       "      <th>2</th>\n",
       "      <td>795</td>\n",
       "      <td>Дом</td>\n",
       "      <td>Многоквартирный дом</td>\n",
       "      <td>[64.455494, 40.623901]</td>\n",
       "      <td>NaN</td>\n",
       "      <td>NaN</td>\n",
       "      <td>64.455494</td>\n",
       "      <td>40.623901</td>\n",
       "      <td>01010000008D614ED0261D50408978EBFCDB4F4440</td>\n",
       "      <td>15.4</td>\n",
       "    </tr>\n",
       "  </tbody>\n",
       "</table>\n",
       "</div>"
      ],
      "text/plain": [
       "   facility_id  ... number_of_inhabitants\n",
       "0         5137  ...                  33.0\n",
       "1          794  ...                  32.6\n",
       "2          795  ...                  15.4\n",
       "\n",
       "[3 rows x 10 columns]"
      ]
     },
     "execution_count": 7,
     "metadata": {},
     "output_type": "execute_result"
    }
   ],
   "source": [
    "facility = facility.astype({'facility_id': 'int32'})\n",
    "facility.head(3)"
   ]
  },
  {
   "cell_type": "code",
   "execution_count": 8,
   "id": "3368bdbd",
   "metadata": {
    "cellId": "inoi2hwf11mq2jbq07wz9d"
   },
   "outputs": [
    {
     "data": {
      "text/html": [
       "<div>\n",
       "<style scoped>\n",
       "    .dataframe tbody tr th:only-of-type {\n",
       "        vertical-align: middle;\n",
       "    }\n",
       "\n",
       "    .dataframe tbody tr th {\n",
       "        vertical-align: top;\n",
       "    }\n",
       "\n",
       "    .dataframe thead th {\n",
       "        text-align: right;\n",
       "    }\n",
       "</style>\n",
       "<table border=\"1\" class=\"dataframe\">\n",
       "  <thead>\n",
       "    <tr style=\"text-align: right;\">\n",
       "      <th></th>\n",
       "      <th>facility_id</th>\n",
       "      <th>type2</th>\n",
       "      <th>name</th>\n",
       "      <th>coordinats</th>\n",
       "      <th>address</th>\n",
       "      <th>category</th>\n",
       "      <th>lat</th>\n",
       "      <th>lng</th>\n",
       "      <th>geometry</th>\n",
       "      <th>number_of_inhabitants</th>\n",
       "    </tr>\n",
       "  </thead>\n",
       "  <tbody>\n",
       "    <tr>\n",
       "      <th>0</th>\n",
       "      <td>5137</td>\n",
       "      <td>Дом</td>\n",
       "      <td>Многоквартирный дом</td>\n",
       "      <td>[64.455331, 40.62206]</td>\n",
       "      <td>NaN</td>\n",
       "      <td>NaN</td>\n",
       "      <td>64.455331</td>\n",
       "      <td>40.622060</td>\n",
       "      <td>0101000000B876A224241D50402B137EA99F4F4440</td>\n",
       "      <td>33.0</td>\n",
       "    </tr>\n",
       "    <tr>\n",
       "      <th>1</th>\n",
       "      <td>794</td>\n",
       "      <td>Дом</td>\n",
       "      <td>Многоквартирный дом</td>\n",
       "      <td>[64.455491, 40.622967]</td>\n",
       "      <td>NaN</td>\n",
       "      <td>NaN</td>\n",
       "      <td>64.455491</td>\n",
       "      <td>40.622967</td>\n",
       "      <td>0101000000D427B9C3261D50405EBEF561BD4F4440</td>\n",
       "      <td>32.6</td>\n",
       "    </tr>\n",
       "    <tr>\n",
       "      <th>2</th>\n",
       "      <td>795</td>\n",
       "      <td>Дом</td>\n",
       "      <td>Многоквартирный дом</td>\n",
       "      <td>[64.455494, 40.623901]</td>\n",
       "      <td>NaN</td>\n",
       "      <td>NaN</td>\n",
       "      <td>64.455494</td>\n",
       "      <td>40.623901</td>\n",
       "      <td>01010000008D614ED0261D50408978EBFCDB4F4440</td>\n",
       "      <td>15.4</td>\n",
       "    </tr>\n",
       "  </tbody>\n",
       "</table>\n",
       "</div>"
      ],
      "text/plain": [
       "   facility_id  ... number_of_inhabitants\n",
       "0         5137  ...                  33.0\n",
       "1          794  ...                  32.6\n",
       "2          795  ...                  15.4\n",
       "\n",
       "[3 rows x 10 columns]"
      ]
     },
     "execution_count": 8,
     "metadata": {},
     "output_type": "execute_result"
    }
   ],
   "source": [
    "facility = facility.rename({'y': 'lng', 'x': 'lat'}, axis=1)\n",
    "facility.head(3)"
   ]
  },
  {
   "cell_type": "code",
   "execution_count": 9,
   "id": "adfe3451",
   "metadata": {
    "cellId": "uj36oph4jeisp6fmin1ap"
   },
   "outputs": [
    {
     "data": {
      "text/html": [
       "<div>\n",
       "<style scoped>\n",
       "    .dataframe tbody tr th:only-of-type {\n",
       "        vertical-align: middle;\n",
       "    }\n",
       "\n",
       "    .dataframe tbody tr th {\n",
       "        vertical-align: top;\n",
       "    }\n",
       "\n",
       "    .dataframe thead th {\n",
       "        text-align: right;\n",
       "    }\n",
       "</style>\n",
       "<table border=\"1\" class=\"dataframe\">\n",
       "  <thead>\n",
       "    <tr style=\"text-align: right;\">\n",
       "      <th></th>\n",
       "      <th>facility_id</th>\n",
       "      <th>type2</th>\n",
       "      <th>name</th>\n",
       "      <th>address</th>\n",
       "      <th>category</th>\n",
       "      <th>lat</th>\n",
       "      <th>lng</th>\n",
       "      <th>number_of_inhabitants</th>\n",
       "    </tr>\n",
       "  </thead>\n",
       "  <tbody>\n",
       "    <tr>\n",
       "      <th>0</th>\n",
       "      <td>5137</td>\n",
       "      <td>Дом</td>\n",
       "      <td>Многоквартирный дом</td>\n",
       "      <td>NaN</td>\n",
       "      <td>NaN</td>\n",
       "      <td>64.455331</td>\n",
       "      <td>40.622060</td>\n",
       "      <td>33.0</td>\n",
       "    </tr>\n",
       "    <tr>\n",
       "      <th>1</th>\n",
       "      <td>794</td>\n",
       "      <td>Дом</td>\n",
       "      <td>Многоквартирный дом</td>\n",
       "      <td>NaN</td>\n",
       "      <td>NaN</td>\n",
       "      <td>64.455491</td>\n",
       "      <td>40.622967</td>\n",
       "      <td>32.6</td>\n",
       "    </tr>\n",
       "    <tr>\n",
       "      <th>2</th>\n",
       "      <td>795</td>\n",
       "      <td>Дом</td>\n",
       "      <td>Многоквартирный дом</td>\n",
       "      <td>NaN</td>\n",
       "      <td>NaN</td>\n",
       "      <td>64.455494</td>\n",
       "      <td>40.623901</td>\n",
       "      <td>15.4</td>\n",
       "    </tr>\n",
       "  </tbody>\n",
       "</table>\n",
       "</div>"
      ],
      "text/plain": [
       "   facility_id type2  ...        lng number_of_inhabitants\n",
       "0         5137   Дом  ...  40.622060                  33.0\n",
       "1          794   Дом  ...  40.622967                  32.6\n",
       "2          795   Дом  ...  40.623901                  15.4\n",
       "\n",
       "[3 rows x 8 columns]"
      ]
     },
     "execution_count": 9,
     "metadata": {},
     "output_type": "execute_result"
    }
   ],
   "source": [
    "facility = facility.drop(columns=['coordinats', 'geometry'])\n",
    "facility.head(3)"
   ]
  },
  {
   "cell_type": "markdown",
   "id": "01ffcb63",
   "metadata": {
    "cellId": "b2s5zja1lb7y1mvm2mmj5",
    "execution_id": "4e1410d0-90c6-412b-a6a1-a24fa5aa8f48"
   },
   "source": [
    "## Проверяем, что у нас в центер города"
   ]
  },
  {
   "cell_type": "code",
   "execution_count": 10,
   "id": "82d61e5e",
   "metadata": {
    "cellId": "q04bnm8v3tnxt1gaq1exin"
   },
   "outputs": [
    {
     "data": {
      "text/plain": [
       "<matplotlib.axes._subplots.AxesSubplot at 0x7f3289802a00>"
      ]
     },
     "execution_count": 10,
     "metadata": {},
     "output_type": "execute_result"
    },
    {
     "data": {
      "image/png": "[encoded data removed]",
      "text/plain": [
       "<Figure size 504x504 with 1 Axes>"
      ]
     },
     "metadata": {
      "needs_background": "light"
     },
     "output_type": "display_data"
    }
   ],
   "source": [
    "get_center(facility, 0.08).plot.scatter(x='lng', y='lat', figsize=(7,7), alpha=0.5)"
   ]
  },
  {
   "cell_type": "markdown",
   "id": "67745955",
   "metadata": {
    "cellId": "jezkl1h4r0fhdm3sywrpde",
    "execution_id": "ae51f26b-a2c3-4d52-a273-0e023e6bda3d"
   },
   "source": [
    "## Приводим данные к формату h3pandas"
   ]
  },
  {
   "cell_type": "code",
   "execution_count": 11,
   "id": "ee37b3f8",
   "metadata": {
    "cellId": "dtf3footz38fs6qlogkdy"
   },
   "outputs": [
    {
     "data": {
      "text/html": [
       "<div>\n",
       "<style scoped>\n",
       "    .dataframe tbody tr th:only-of-type {\n",
       "        vertical-align: middle;\n",
       "    }\n",
       "\n",
       "    .dataframe tbody tr th {\n",
       "        vertical-align: top;\n",
       "    }\n",
       "\n",
       "    .dataframe thead th {\n",
       "        text-align: right;\n",
       "    }\n",
       "</style>\n",
       "<table border=\"1\" class=\"dataframe\">\n",
       "  <thead>\n",
       "    <tr style=\"text-align: right;\">\n",
       "      <th></th>\n",
       "      <th>facility_id</th>\n",
       "      <th>type2</th>\n",
       "      <th>name</th>\n",
       "      <th>address</th>\n",
       "      <th>category</th>\n",
       "      <th>lat</th>\n",
       "      <th>lng</th>\n",
       "      <th>number_of_inhabitants</th>\n",
       "    </tr>\n",
       "    <tr>\n",
       "      <th>h3_09</th>\n",
       "      <th></th>\n",
       "      <th></th>\n",
       "      <th></th>\n",
       "      <th></th>\n",
       "      <th></th>\n",
       "      <th></th>\n",
       "      <th></th>\n",
       "      <th></th>\n",
       "    </tr>\n",
       "  </thead>\n",
       "  <tbody>\n",
       "    <tr>\n",
       "      <th>8911503346fffff</th>\n",
       "      <td>5137</td>\n",
       "      <td>Дом</td>\n",
       "      <td>Многоквартирный дом</td>\n",
       "      <td>NaN</td>\n",
       "      <td>NaN</td>\n",
       "      <td>64.455331</td>\n",
       "      <td>40.622060</td>\n",
       "      <td>33.0</td>\n",
       "    </tr>\n",
       "    <tr>\n",
       "      <th>8911503346fffff</th>\n",
       "      <td>794</td>\n",
       "      <td>Дом</td>\n",
       "      <td>Многоквартирный дом</td>\n",
       "      <td>NaN</td>\n",
       "      <td>NaN</td>\n",
       "      <td>64.455491</td>\n",
       "      <td>40.622967</td>\n",
       "      <td>32.6</td>\n",
       "    </tr>\n",
       "    <tr>\n",
       "      <th>891150330d3ffff</th>\n",
       "      <td>795</td>\n",
       "      <td>Дом</td>\n",
       "      <td>Многоквартирный дом</td>\n",
       "      <td>NaN</td>\n",
       "      <td>NaN</td>\n",
       "      <td>64.455494</td>\n",
       "      <td>40.623901</td>\n",
       "      <td>15.4</td>\n",
       "    </tr>\n",
       "    <tr>\n",
       "      <th>891150330d7ffff</th>\n",
       "      <td>796</td>\n",
       "      <td>Дом</td>\n",
       "      <td>Многоквартирный дом</td>\n",
       "      <td>NaN</td>\n",
       "      <td>NaN</td>\n",
       "      <td>64.455545</td>\n",
       "      <td>40.624683</td>\n",
       "      <td>22.5</td>\n",
       "    </tr>\n",
       "    <tr>\n",
       "      <th>891150330d3ffff</th>\n",
       "      <td>797</td>\n",
       "      <td>Дом</td>\n",
       "      <td>Многоквартирный дом</td>\n",
       "      <td>NaN</td>\n",
       "      <td>NaN</td>\n",
       "      <td>64.455172</td>\n",
       "      <td>40.625401</td>\n",
       "      <td>23.5</td>\n",
       "    </tr>\n",
       "  </tbody>\n",
       "</table>\n",
       "</div>"
      ],
      "text/plain": [
       "                 facility_id type2  ...        lng number_of_inhabitants\n",
       "h3_09                               ...                                 \n",
       "8911503346fffff         5137   Дом  ...  40.622060                  33.0\n",
       "8911503346fffff          794   Дом  ...  40.622967                  32.6\n",
       "891150330d3ffff          795   Дом  ...  40.623901                  15.4\n",
       "891150330d7ffff          796   Дом  ...  40.624683                  22.5\n",
       "891150330d3ffff          797   Дом  ...  40.625401                  23.5\n",
       "\n",
       "[5 rows x 8 columns]"
      ]
     },
     "execution_count": 11,
     "metadata": {},
     "output_type": "execute_result"
    }
   ],
   "source": [
    "facility3 = facility.h3.geo_to_h3(9)\n",
    "facility3.head()"
   ]
  },
  {
   "cell_type": "code",
   "execution_count": 12,
   "id": "93663b0c",
   "metadata": {
    "cellId": "943dcpycj896huiw9ckcv7"
   },
   "outputs": [
    {
     "data": {
      "text/html": [
       "<div>\n",
       "<style scoped>\n",
       "    .dataframe tbody tr th:only-of-type {\n",
       "        vertical-align: middle;\n",
       "    }\n",
       "\n",
       "    .dataframe tbody tr th {\n",
       "        vertical-align: top;\n",
       "    }\n",
       "\n",
       "    .dataframe thead th {\n",
       "        text-align: right;\n",
       "    }\n",
       "</style>\n",
       "<table border=\"1\" class=\"dataframe\">\n",
       "  <thead>\n",
       "    <tr style=\"text-align: right;\">\n",
       "      <th></th>\n",
       "      <th>facility_id</th>\n",
       "      <th>type2</th>\n",
       "      <th>name</th>\n",
       "      <th>address</th>\n",
       "      <th>category</th>\n",
       "      <th>lat</th>\n",
       "      <th>lng</th>\n",
       "      <th>number_of_inhabitants</th>\n",
       "      <th>geometry</th>\n",
       "    </tr>\n",
       "    <tr>\n",
       "      <th>h3_09</th>\n",
       "      <th></th>\n",
       "      <th></th>\n",
       "      <th></th>\n",
       "      <th></th>\n",
       "      <th></th>\n",
       "      <th></th>\n",
       "      <th></th>\n",
       "      <th></th>\n",
       "      <th></th>\n",
       "    </tr>\n",
       "  </thead>\n",
       "  <tbody>\n",
       "    <tr>\n",
       "      <th>8911503346fffff</th>\n",
       "      <td>5137</td>\n",
       "      <td>Дом</td>\n",
       "      <td>Многоквартирный дом</td>\n",
       "      <td>NaN</td>\n",
       "      <td>NaN</td>\n",
       "      <td>64.455331</td>\n",
       "      <td>40.622060</td>\n",
       "      <td>33.0</td>\n",
       "      <td>POLYGON ((40.61759 64.45587, 40.62060 64.45488...</td>\n",
       "    </tr>\n",
       "    <tr>\n",
       "      <th>8911503346fffff</th>\n",
       "      <td>794</td>\n",
       "      <td>Дом</td>\n",
       "      <td>Многоквартирный дом</td>\n",
       "      <td>NaN</td>\n",
       "      <td>NaN</td>\n",
       "      <td>64.455491</td>\n",
       "      <td>40.622967</td>\n",
       "      <td>32.6</td>\n",
       "      <td>POLYGON ((40.61759 64.45587, 40.62060 64.45488...</td>\n",
       "    </tr>\n",
       "    <tr>\n",
       "      <th>891150330d3ffff</th>\n",
       "      <td>795</td>\n",
       "      <td>Дом</td>\n",
       "      <td>Многоквартирный дом</td>\n",
       "      <td>NaN</td>\n",
       "      <td>NaN</td>\n",
       "      <td>64.455494</td>\n",
       "      <td>40.623901</td>\n",
       "      <td>15.4</td>\n",
       "      <td>POLYGON ((40.61995 64.45313, 40.62296 64.45214...</td>\n",
       "    </tr>\n",
       "  </tbody>\n",
       "</table>\n",
       "</div>"
      ],
      "text/plain": [
       "                 facility_id  ...                                           geometry\n",
       "h3_09                         ...                                                   \n",
       "8911503346fffff         5137  ...  POLYGON ((40.61759 64.45587, 40.62060 64.45488...\n",
       "8911503346fffff          794  ...  POLYGON ((40.61759 64.45587, 40.62060 64.45488...\n",
       "891150330d3ffff          795  ...  POLYGON ((40.61995 64.45313, 40.62296 64.45214...\n",
       "\n",
       "[3 rows x 9 columns]"
      ]
     },
     "execution_count": 12,
     "metadata": {},
     "output_type": "execute_result"
    }
   ],
   "source": [
    "geofacility3 = facility3.h3.h3_to_geo_boundary()\n",
    "geofacility3.head(3)"
   ]
  },
  {
   "cell_type": "markdown",
   "id": "bd971dc3",
   "metadata": {
    "cellId": "hs4bohp9kwviccu47cel3",
    "execution_id": "9b1bbeb3-8f8a-4260-be4c-40cff520e73d"
   },
   "source": [
    "## Рисуем наши полигоны в центер города"
   ]
  },
  {
   "cell_type": "code",
   "execution_count": 13,
   "id": "f9515ae2",
   "metadata": {
    "cellId": "qe7n9dm9tfts6gp5908g"
   },
   "outputs": [],
   "source": [
    "# Раскомментировать в случае надобности\n",
    "#geofacility3.explore(width='30%', height='60%')"
   ]
  },
  {
   "cell_type": "code",
   "execution_count": 14,
   "id": "30f0ecc3",
   "metadata": {
    "cellId": "i6ankx8kfvjxv8qx66b5k"
   },
   "outputs": [
    {
     "data": {
      "text/plain": [
       "<matplotlib.axes._subplots.AxesSubplot at 0x7f328870ca00>"
      ]
     },
     "execution_count": 14,
     "metadata": {},
     "output_type": "execute_result"
    },
    {
     "data": {
      "image/png": "[encoded data removed]",
      "text/plain": [
       "<Figure size 504x504 with 1 Axes>"
      ]
     },
     "metadata": {
      "needs_background": "light"
     },
     "output_type": "display_data"
    }
   ],
   "source": [
    "get_center(geofacility3).plot(figsize=(7,7))"
   ]
  },
  {
   "cell_type": "markdown",
   "id": "a81aaa58",
   "metadata": {
    "cellId": "zqnjzjyenqotdmxmfcfc1c",
    "execution_id": "bf324822-8a3e-45da-bc59-00ab47971483"
   },
   "source": [
    "## Строим набор данных для точек"
   ]
  },
  {
   "cell_type": "code",
   "execution_count": 15,
   "id": "096d74ef",
   "metadata": {
    "cellId": "ik4sapf885qeu02n0k6h1"
   },
   "outputs": [
    {
     "data": {
      "text/html": [
       "<div>\n",
       "<style scoped>\n",
       "    .dataframe tbody tr th:only-of-type {\n",
       "        vertical-align: middle;\n",
       "    }\n",
       "\n",
       "    .dataframe tbody tr th {\n",
       "        vertical-align: top;\n",
       "    }\n",
       "\n",
       "    .dataframe thead th {\n",
       "        text-align: right;\n",
       "    }\n",
       "</style>\n",
       "<table border=\"1\" class=\"dataframe\">\n",
       "  <thead>\n",
       "    <tr style=\"text-align: right;\">\n",
       "      <th></th>\n",
       "      <th>facility_id</th>\n",
       "      <th>type2</th>\n",
       "      <th>name</th>\n",
       "      <th>address</th>\n",
       "      <th>category</th>\n",
       "      <th>lat</th>\n",
       "      <th>lng</th>\n",
       "      <th>number_of_inhabitants</th>\n",
       "    </tr>\n",
       "  </thead>\n",
       "  <tbody>\n",
       "    <tr>\n",
       "      <th>0</th>\n",
       "      <td>5137</td>\n",
       "      <td>Дом</td>\n",
       "      <td>Многоквартирный дом</td>\n",
       "      <td>NaN</td>\n",
       "      <td>NaN</td>\n",
       "      <td>64.455331</td>\n",
       "      <td>40.622060</td>\n",
       "      <td>33.0</td>\n",
       "    </tr>\n",
       "    <tr>\n",
       "      <th>1</th>\n",
       "      <td>794</td>\n",
       "      <td>Дом</td>\n",
       "      <td>Многоквартирный дом</td>\n",
       "      <td>NaN</td>\n",
       "      <td>NaN</td>\n",
       "      <td>64.455491</td>\n",
       "      <td>40.622967</td>\n",
       "      <td>32.6</td>\n",
       "    </tr>\n",
       "    <tr>\n",
       "      <th>2</th>\n",
       "      <td>795</td>\n",
       "      <td>Дом</td>\n",
       "      <td>Многоквартирный дом</td>\n",
       "      <td>NaN</td>\n",
       "      <td>NaN</td>\n",
       "      <td>64.455494</td>\n",
       "      <td>40.623901</td>\n",
       "      <td>15.4</td>\n",
       "    </tr>\n",
       "  </tbody>\n",
       "</table>\n",
       "</div>"
      ],
      "text/plain": [
       "   facility_id type2  ...        lng number_of_inhabitants\n",
       "0         5137   Дом  ...  40.622060                  33.0\n",
       "1          794   Дом  ...  40.622967                  32.6\n",
       "2          795   Дом  ...  40.623901                  15.4\n",
       "\n",
       "[3 rows x 8 columns]"
      ]
     },
     "execution_count": 15,
     "metadata": {},
     "output_type": "execute_result"
    }
   ],
   "source": [
    "facility.head(3)"
   ]
  },
  {
   "cell_type": "code",
   "execution_count": 16,
   "id": "b34cf028",
   "metadata": {
    "cellId": "mywhgiv7migujd36la6nq"
   },
   "outputs": [
    {
     "data": {
      "text/html": [
       "<div>\n",
       "<style scoped>\n",
       "    .dataframe tbody tr th:only-of-type {\n",
       "        vertical-align: middle;\n",
       "    }\n",
       "\n",
       "    .dataframe tbody tr th {\n",
       "        vertical-align: top;\n",
       "    }\n",
       "\n",
       "    .dataframe thead th {\n",
       "        text-align: right;\n",
       "    }\n",
       "</style>\n",
       "<table border=\"1\" class=\"dataframe\">\n",
       "  <thead>\n",
       "    <tr style=\"text-align: right;\">\n",
       "      <th></th>\n",
       "      <th>facility_id</th>\n",
       "      <th>type2</th>\n",
       "      <th>name</th>\n",
       "      <th>address</th>\n",
       "      <th>category</th>\n",
       "      <th>lat</th>\n",
       "      <th>lng</th>\n",
       "      <th>number_of_inhabitants</th>\n",
       "      <th>geometry</th>\n",
       "    </tr>\n",
       "  </thead>\n",
       "  <tbody>\n",
       "    <tr>\n",
       "      <th>0</th>\n",
       "      <td>5137</td>\n",
       "      <td>Дом</td>\n",
       "      <td>Многоквартирный дом</td>\n",
       "      <td>NaN</td>\n",
       "      <td>NaN</td>\n",
       "      <td>64.455331</td>\n",
       "      <td>40.622060</td>\n",
       "      <td>33.0</td>\n",
       "      <td>POINT (40.62206 64.45533)</td>\n",
       "    </tr>\n",
       "    <tr>\n",
       "      <th>1</th>\n",
       "      <td>794</td>\n",
       "      <td>Дом</td>\n",
       "      <td>Многоквартирный дом</td>\n",
       "      <td>NaN</td>\n",
       "      <td>NaN</td>\n",
       "      <td>64.455491</td>\n",
       "      <td>40.622967</td>\n",
       "      <td>32.6</td>\n",
       "      <td>POINT (40.62297 64.45549)</td>\n",
       "    </tr>\n",
       "    <tr>\n",
       "      <th>2</th>\n",
       "      <td>795</td>\n",
       "      <td>Дом</td>\n",
       "      <td>Многоквартирный дом</td>\n",
       "      <td>NaN</td>\n",
       "      <td>NaN</td>\n",
       "      <td>64.455494</td>\n",
       "      <td>40.623901</td>\n",
       "      <td>15.4</td>\n",
       "      <td>POINT (40.62390 64.45549)</td>\n",
       "    </tr>\n",
       "  </tbody>\n",
       "</table>\n",
       "</div>"
      ],
      "text/plain": [
       "   facility_id type2  ... number_of_inhabitants                   geometry\n",
       "0         5137   Дом  ...                  33.0  POINT (40.62206 64.45533)\n",
       "1          794   Дом  ...                  32.6  POINT (40.62297 64.45549)\n",
       "2          795   Дом  ...                  15.4  POINT (40.62390 64.45549)\n",
       "\n",
       "[3 rows x 9 columns]"
      ]
     },
     "execution_count": 16,
     "metadata": {},
     "output_type": "execute_result"
    }
   ],
   "source": [
    "geometry = [Point(xy) for xy in zip(facility.lng, facility.lat)]\n",
    "geofacility = gpd.GeoDataFrame(facility, crs=geofacility3.crs, geometry=geometry)\n",
    "geofacility.head(3)"
   ]
  },
  {
   "cell_type": "markdown",
   "id": "a6b955e0",
   "metadata": {
    "cellId": "8wqpbu2letcyllseabphog",
    "execution_id": "dc4a1dc0-8521-458f-83ff-7f27b90543ee"
   },
   "source": [
    "## Отображаем точки и полигоны"
   ]
  },
  {
   "cell_type": "code",
   "execution_count": 17,
   "id": "7c1d5a22",
   "metadata": {
    "cellId": "z85983hppmh0sl88kidf7z"
   },
   "outputs": [
    {
     "data": {
      "text/plain": [
       "<matplotlib.axes._subplots.AxesSubplot at 0x7f327970b3a0>"
      ]
     },
     "execution_count": 17,
     "metadata": {},
     "output_type": "execute_result"
    },
    {
     "data": {
      "image/png": "[encoded data removed]",
      "text/plain": [
       "<Figure size 720x720 with 1 Axes>"
      ]
     },
     "metadata": {
      "needs_background": "light"
     },
     "output_type": "display_data"
    }
   ],
   "source": [
    "ax = get_center(geofacility).plot(\n",
    "    figsize=(10,10), facecolor=\"teal\", markersize=2)\n",
    "get_center(geofacility3).plot(\n",
    "    ax=ax, figsize=(10,10), facecolor=\"none\", edgecolor=\"black\")"
   ]
  },
  {
   "cell_type": "markdown",
   "id": "b3aecf1a",
   "metadata": {
    "cellId": "pcyjokrmnlc4ynpwa4foxn",
    "execution_id": "a659fe22-8b24-4e32-afad-93ab4b638328"
   },
   "source": [
    "## Готовим набор к экспорту"
   ]
  },
  {
   "cell_type": "code",
   "execution_count": 18,
   "id": "5d019c30",
   "metadata": {
    "cellId": "c4f03h93jrwq4mevbyodu"
   },
   "outputs": [
    {
     "data": {
      "text/html": [
       "<div>\n",
       "<style scoped>\n",
       "    .dataframe tbody tr th:only-of-type {\n",
       "        vertical-align: middle;\n",
       "    }\n",
       "\n",
       "    .dataframe tbody tr th {\n",
       "        vertical-align: top;\n",
       "    }\n",
       "\n",
       "    .dataframe thead th {\n",
       "        text-align: right;\n",
       "    }\n",
       "</style>\n",
       "<table border=\"1\" class=\"dataframe\">\n",
       "  <thead>\n",
       "    <tr style=\"text-align: right;\">\n",
       "      <th></th>\n",
       "      <th>facility_id</th>\n",
       "      <th>type2</th>\n",
       "      <th>name</th>\n",
       "      <th>address</th>\n",
       "      <th>category</th>\n",
       "      <th>lat</th>\n",
       "      <th>lng</th>\n",
       "      <th>number_of_inhabitants</th>\n",
       "      <th>geometry</th>\n",
       "    </tr>\n",
       "    <tr>\n",
       "      <th>h3_09</th>\n",
       "      <th></th>\n",
       "      <th></th>\n",
       "      <th></th>\n",
       "      <th></th>\n",
       "      <th></th>\n",
       "      <th></th>\n",
       "      <th></th>\n",
       "      <th></th>\n",
       "      <th></th>\n",
       "    </tr>\n",
       "  </thead>\n",
       "  <tbody>\n",
       "    <tr>\n",
       "      <th>8911503346fffff</th>\n",
       "      <td>5137</td>\n",
       "      <td>Дом</td>\n",
       "      <td>Многоквартирный дом</td>\n",
       "      <td>NaN</td>\n",
       "      <td>NaN</td>\n",
       "      <td>64.455331</td>\n",
       "      <td>40.622060</td>\n",
       "      <td>33.0</td>\n",
       "      <td>POLYGON ((40.61759 64.45587, 40.62060 64.45488...</td>\n",
       "    </tr>\n",
       "    <tr>\n",
       "      <th>8911503346fffff</th>\n",
       "      <td>794</td>\n",
       "      <td>Дом</td>\n",
       "      <td>Многоквартирный дом</td>\n",
       "      <td>NaN</td>\n",
       "      <td>NaN</td>\n",
       "      <td>64.455491</td>\n",
       "      <td>40.622967</td>\n",
       "      <td>32.6</td>\n",
       "      <td>POLYGON ((40.61759 64.45587, 40.62060 64.45488...</td>\n",
       "    </tr>\n",
       "    <tr>\n",
       "      <th>891150330d3ffff</th>\n",
       "      <td>795</td>\n",
       "      <td>Дом</td>\n",
       "      <td>Многоквартирный дом</td>\n",
       "      <td>NaN</td>\n",
       "      <td>NaN</td>\n",
       "      <td>64.455494</td>\n",
       "      <td>40.623901</td>\n",
       "      <td>15.4</td>\n",
       "      <td>POLYGON ((40.61995 64.45313, 40.62296 64.45214...</td>\n",
       "    </tr>\n",
       "  </tbody>\n",
       "</table>\n",
       "</div>"
      ],
      "text/plain": [
       "                 facility_id  ...                                           geometry\n",
       "h3_09                         ...                                                   \n",
       "8911503346fffff         5137  ...  POLYGON ((40.61759 64.45587, 40.62060 64.45488...\n",
       "8911503346fffff          794  ...  POLYGON ((40.61759 64.45587, 40.62060 64.45488...\n",
       "891150330d3ffff          795  ...  POLYGON ((40.61995 64.45313, 40.62296 64.45214...\n",
       "\n",
       "[3 rows x 9 columns]"
      ]
     },
     "execution_count": 18,
     "metadata": {},
     "output_type": "execute_result"
    }
   ],
   "source": [
    "geofacility3.head(3)"
   ]
  },
  {
   "cell_type": "code",
   "execution_count": 19,
   "id": "b870c525",
   "metadata": {
    "cellId": "h8nko5y7f086d6hxzompqk"
   },
   "outputs": [
    {
     "data": {
      "text/html": [
       "<div>\n",
       "<style scoped>\n",
       "    .dataframe tbody tr th:only-of-type {\n",
       "        vertical-align: middle;\n",
       "    }\n",
       "\n",
       "    .dataframe tbody tr th {\n",
       "        vertical-align: top;\n",
       "    }\n",
       "\n",
       "    .dataframe thead th {\n",
       "        text-align: right;\n",
       "    }\n",
       "</style>\n",
       "<table border=\"1\" class=\"dataframe\">\n",
       "  <thead>\n",
       "    <tr style=\"text-align: right;\">\n",
       "      <th></th>\n",
       "      <th>facility_id</th>\n",
       "      <th>type2</th>\n",
       "      <th>geometry</th>\n",
       "    </tr>\n",
       "  </thead>\n",
       "  <tbody>\n",
       "    <tr>\n",
       "      <th>0</th>\n",
       "      <td>5137</td>\n",
       "      <td>Дом</td>\n",
       "      <td>POLYGON ((40.61759 64.45587, 40.62060 64.45488...</td>\n",
       "    </tr>\n",
       "    <tr>\n",
       "      <th>1</th>\n",
       "      <td>794</td>\n",
       "      <td>Дом</td>\n",
       "      <td>POLYGON ((40.61759 64.45587, 40.62060 64.45488...</td>\n",
       "    </tr>\n",
       "    <tr>\n",
       "      <th>2</th>\n",
       "      <td>795</td>\n",
       "      <td>Дом</td>\n",
       "      <td>POLYGON ((40.61995 64.45313, 40.62296 64.45214...</td>\n",
       "    </tr>\n",
       "  </tbody>\n",
       "</table>\n",
       "</div>"
      ],
      "text/plain": [
       "   facility_id type2                                           geometry\n",
       "0         5137   Дом  POLYGON ((40.61759 64.45587, 40.62060 64.45488...\n",
       "1          794   Дом  POLYGON ((40.61759 64.45587, 40.62060 64.45488...\n",
       "2          795   Дом  POLYGON ((40.61995 64.45313, 40.62296 64.45214..."
      ]
     },
     "execution_count": 19,
     "metadata": {},
     "output_type": "execute_result"
    }
   ],
   "source": [
    "geometry = geofacility3['geometry']\n",
    "data = geofacility3[['facility_id', 'type2']]\n",
    "gdf = gpd.GeoDataFrame(data=data, geometry=geometry, crs=geofacility3.crs)\n",
    "gdf = gdf.reset_index()\n",
    "gdf = gdf.drop(columns=['h3_09'])\n",
    "gdf.head(3)"
   ]
  },
  {
   "cell_type": "code",
   "execution_count": 20,
   "id": "c68abf79",
   "metadata": {
    "cellId": "en0tl34ba8ddisjbe50mgg"
   },
   "outputs": [
    {
     "data": {
      "text/plain": [
       "(5041, 3)"
      ]
     },
     "execution_count": 20,
     "metadata": {},
     "output_type": "execute_result"
    }
   ],
   "source": [
    "gdf.shape"
   ]
  },
  {
   "cell_type": "markdown",
   "id": "666c878b",
   "metadata": {
    "cellId": "a5ly4zp30c7t165vlvkwui",
    "execution_id": "604b6586-2317-49ad-8df5-ed58341d798a"
   },
   "source": [
    "## Экспортируем набор данных с полигонами"
   ]
  },
  {
   "cell_type": "code",
   "execution_count": 21,
   "id": "4173ba73",
   "metadata": {
    "cellId": "hvqrqttyk4emxahbfctign"
   },
   "outputs": [],
   "source": [
    "gdf.to_file('data/facility_polygons.geojson', driver='GeoJSON')"
   ]
  },
  {
   "cell_type": "markdown",
   "id": "4e9ce884",
   "metadata": {
    "cellId": "zkqtido0c8lvndy29dhav9",
    "execution_id": "04f052cf-db02-4446-b28d-d7fba80ee8ac"
   },
   "source": [
    "## Экспортируем данные для DataLens"
   ]
  },
  {
   "cell_type": "code",
   "execution_count": 22,
   "id": "32022e02",
   "metadata": {
    "cellId": "iq9jbf5oi51as3p19rq0i"
   },
   "outputs": [],
   "source": [
    "all_res = []\n",
    "\n",
    "def convert(df):\n",
    "    for _, row in df.iterrows():\n",
    "        polygon = row.geometry\n",
    "        x, y = polygon.exterior.xy\n",
    "        pairs = zip(x, y)\n",
    "        coords = []\n",
    "        for pair in pairs:\n",
    "            coords.append([pair[1], pair[0]])\n",
    "        obj = {}\n",
    "        obj['facility_id'] = row.facility_id\n",
    "        obj['type2'] = row.type2\n",
    "        obj['geometry'] = [coords]\n",
    "        all_res.append(obj)"
   ]
  },
  {
   "cell_type": "code",
   "execution_count": 23,
   "id": "05bd559f",
   "metadata": {
    "cellId": "3vu03c5g77tm11pm8j2g0b"
   },
   "outputs": [
    {
     "data": {
      "text/html": [
       "<div>\n",
       "<style scoped>\n",
       "    .dataframe tbody tr th:only-of-type {\n",
       "        vertical-align: middle;\n",
       "    }\n",
       "\n",
       "    .dataframe tbody tr th {\n",
       "        vertical-align: top;\n",
       "    }\n",
       "\n",
       "    .dataframe thead th {\n",
       "        text-align: right;\n",
       "    }\n",
       "</style>\n",
       "<table border=\"1\" class=\"dataframe\">\n",
       "  <thead>\n",
       "    <tr style=\"text-align: right;\">\n",
       "      <th></th>\n",
       "      <th>facility_id</th>\n",
       "      <th>type2</th>\n",
       "      <th>geometry</th>\n",
       "    </tr>\n",
       "  </thead>\n",
       "  <tbody>\n",
       "    <tr>\n",
       "      <th>0</th>\n",
       "      <td>5137</td>\n",
       "      <td>Дом</td>\n",
       "      <td>[[[64.45587444575847, 40.617592620485716], [64...</td>\n",
       "    </tr>\n",
       "    <tr>\n",
       "      <th>1</th>\n",
       "      <td>794</td>\n",
       "      <td>Дом</td>\n",
       "      <td>[[[64.45587444575847, 40.617592620485716], [64...</td>\n",
       "    </tr>\n",
       "    <tr>\n",
       "      <th>2</th>\n",
       "      <td>795</td>\n",
       "      <td>Дом</td>\n",
       "      <td>[[[64.45313033286712, 40.61995296608718], [64....</td>\n",
       "    </tr>\n",
       "  </tbody>\n",
       "</table>\n",
       "</div>"
      ],
      "text/plain": [
       "   facility_id type2                                           geometry\n",
       "0         5137   Дом  [[[64.45587444575847, 40.617592620485716], [64...\n",
       "1          794   Дом  [[[64.45587444575847, 40.617592620485716], [64...\n",
       "2          795   Дом  [[[64.45313033286712, 40.61995296608718], [64...."
      ]
     },
     "execution_count": 23,
     "metadata": {},
     "output_type": "execute_result"
    }
   ],
   "source": [
    "convert(gdf)\n",
    "\n",
    "gdf_df = pd.DataFrame(all_res)\n",
    "gdf_df.head(3)"
   ]
  },
  {
   "cell_type": "code",
   "execution_count": 24,
   "id": "6fdb457b",
   "metadata": {
    "cellId": "xduz7t7ogo97jl6km1havg"
   },
   "outputs": [],
   "source": [
    "gdf_df.to_csv('data/facility_polygons_lens.csv', index=False)"
   ]
  },
  {
   "cell_type": "code",
   "execution_count": 25,
   "id": "d5f21394",
   "metadata": {
    "cellId": "b3z61fgtgpsoxsalez6ow"
   },
   "outputs": [
    {
     "data": {
      "text/html": [
       "<div>\n",
       "<style scoped>\n",
       "    .dataframe tbody tr th:only-of-type {\n",
       "        vertical-align: middle;\n",
       "    }\n",
       "\n",
       "    .dataframe tbody tr th {\n",
       "        vertical-align: top;\n",
       "    }\n",
       "\n",
       "    .dataframe thead th {\n",
       "        text-align: right;\n",
       "    }\n",
       "</style>\n",
       "<table border=\"1\" class=\"dataframe\">\n",
       "  <thead>\n",
       "    <tr style=\"text-align: right;\">\n",
       "      <th></th>\n",
       "      <th>facility_id</th>\n",
       "      <th>type2</th>\n",
       "      <th>name</th>\n",
       "      <th>address</th>\n",
       "      <th>category</th>\n",
       "      <th>lat</th>\n",
       "      <th>lng</th>\n",
       "      <th>number_of_inhabitants</th>\n",
       "    </tr>\n",
       "  </thead>\n",
       "  <tbody>\n",
       "    <tr>\n",
       "      <th>0</th>\n",
       "      <td>5137</td>\n",
       "      <td>Дом</td>\n",
       "      <td>Многоквартирный дом</td>\n",
       "      <td>NaN</td>\n",
       "      <td>NaN</td>\n",
       "      <td>64.455331</td>\n",
       "      <td>40.622060</td>\n",
       "      <td>33.0</td>\n",
       "    </tr>\n",
       "    <tr>\n",
       "      <th>1</th>\n",
       "      <td>794</td>\n",
       "      <td>Дом</td>\n",
       "      <td>Многоквартирный дом</td>\n",
       "      <td>NaN</td>\n",
       "      <td>NaN</td>\n",
       "      <td>64.455491</td>\n",
       "      <td>40.622967</td>\n",
       "      <td>32.6</td>\n",
       "    </tr>\n",
       "    <tr>\n",
       "      <th>2</th>\n",
       "      <td>795</td>\n",
       "      <td>Дом</td>\n",
       "      <td>Многоквартирный дом</td>\n",
       "      <td>NaN</td>\n",
       "      <td>NaN</td>\n",
       "      <td>64.455494</td>\n",
       "      <td>40.623901</td>\n",
       "      <td>15.4</td>\n",
       "    </tr>\n",
       "  </tbody>\n",
       "</table>\n",
       "</div>"
      ],
      "text/plain": [
       "   facility_id type2  ...        lng number_of_inhabitants\n",
       "0         5137   Дом  ...  40.622060                  33.0\n",
       "1          794   Дом  ...  40.622967                  32.6\n",
       "2          795   Дом  ...  40.623901                  15.4\n",
       "\n",
       "[3 rows x 8 columns]"
      ]
     },
     "execution_count": 25,
     "metadata": {},
     "output_type": "execute_result"
    }
   ],
   "source": [
    "facility.head(3)"
   ]
  },
  {
   "cell_type": "code",
   "execution_count": 26,
   "id": "777b3e98",
   "metadata": {
    "cellId": "vutrvq74fgo2ahyt7fdv2i"
   },
   "outputs": [],
   "source": [
    "geometry = [[xy[1], xy[0]] for xy in zip(facility.lng, facility.lat)]"
   ]
  },
  {
   "cell_type": "code",
   "execution_count": 27,
   "id": "3d7ba955",
   "metadata": {
    "cellId": "4wyy9hzdc537uu5euowv5"
   },
   "outputs": [
    {
     "data": {
      "text/html": [
       "<div>\n",
       "<style scoped>\n",
       "    .dataframe tbody tr th:only-of-type {\n",
       "        vertical-align: middle;\n",
       "    }\n",
       "\n",
       "    .dataframe tbody tr th {\n",
       "        vertical-align: top;\n",
       "    }\n",
       "\n",
       "    .dataframe thead th {\n",
       "        text-align: right;\n",
       "    }\n",
       "</style>\n",
       "<table border=\"1\" class=\"dataframe\">\n",
       "  <thead>\n",
       "    <tr style=\"text-align: right;\">\n",
       "      <th></th>\n",
       "      <th>facility_id</th>\n",
       "      <th>type2</th>\n",
       "      <th>name</th>\n",
       "      <th>address</th>\n",
       "      <th>category</th>\n",
       "      <th>geometry</th>\n",
       "    </tr>\n",
       "  </thead>\n",
       "  <tbody>\n",
       "    <tr>\n",
       "      <th>0</th>\n",
       "      <td>5137</td>\n",
       "      <td>Дом</td>\n",
       "      <td>Многоквартирный дом</td>\n",
       "      <td>NaN</td>\n",
       "      <td>NaN</td>\n",
       "      <td>[64.455331, 40.62206]</td>\n",
       "    </tr>\n",
       "    <tr>\n",
       "      <th>1</th>\n",
       "      <td>794</td>\n",
       "      <td>Дом</td>\n",
       "      <td>Многоквартирный дом</td>\n",
       "      <td>NaN</td>\n",
       "      <td>NaN</td>\n",
       "      <td>[64.455491, 40.622967]</td>\n",
       "    </tr>\n",
       "    <tr>\n",
       "      <th>2</th>\n",
       "      <td>795</td>\n",
       "      <td>Дом</td>\n",
       "      <td>Многоквартирный дом</td>\n",
       "      <td>NaN</td>\n",
       "      <td>NaN</td>\n",
       "      <td>[64.455494, 40.623901]</td>\n",
       "    </tr>\n",
       "  </tbody>\n",
       "</table>\n",
       "</div>"
      ],
      "text/plain": [
       "   facility_id type2  ... category                geometry\n",
       "0         5137   Дом  ...      NaN   [64.455331, 40.62206]\n",
       "1          794   Дом  ...      NaN  [64.455491, 40.622967]\n",
       "2          795   Дом  ...      NaN  [64.455494, 40.623901]\n",
       "\n",
       "[3 rows x 6 columns]"
      ]
     },
     "execution_count": 27,
     "metadata": {},
     "output_type": "execute_result"
    }
   ],
   "source": [
    "facility_dl = pd.DataFrame(facility[['facility_id', 'type2', 'name', 'address', 'category']])\n",
    "facility_dl['geometry'] = geometry\n",
    "facility_dl.head(3)"
   ]
  },
  {
   "cell_type": "code",
   "execution_count": 28,
   "id": "a9204e81",
   "metadata": {
    "cellId": "okuzpn3js6u391mz4tgf"
   },
   "outputs": [],
   "source": [
    "facility_dl.to_csv('data/facility_lens.csv', quotechar='$', index=False)"
   ]
  },
  {
   "cell_type": "code",
   "execution_count": null,
   "id": "375643ad",
   "metadata": {
    "cellId": "gkl8rjv2dkg315rgir0tca"
   },
   "outputs": [],
   "source": []
  }
 ],
 "metadata": {
  "language_info": {
   "codemirror_mode": {
    "name": "ipython",
    "version": 3
   },
   "file_extension": ".py",
   "mimetype": "text/x-python",
   "name": "python",
   "nbconvert_exporter": "python",
   "pygments_lexer": "ipython3",
   "version": "3.7.7"
  },
  "notebookId": "80253be2-147c-4a1b-8a5e-6b683e530a47",
  "notebookPath": "NorthGate/Notebooks/Facility.ipynb"
 },
 "nbformat": 4,
 "nbformat_minor": 5
}
