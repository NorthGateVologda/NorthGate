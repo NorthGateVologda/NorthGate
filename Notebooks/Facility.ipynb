{
 "cells": [
  {
   "cell_type": "markdown",
   "id": "d0edff38",
   "metadata": {
    "cellId": "arzv3so3v6eu91k8xsm1o",
    "execution_id": "3b3f7b88-f9b9-4e11-a18c-b9f09daa0b66"
   },
   "source": [
    "# Задача\n",
    "\n",
    "Сформировать сетку полигонов вокруг точек из таблицы `facility`"
   ]
  },
  {
   "cell_type": "markdown",
   "id": "9d0089a2",
   "metadata": {
    "cellId": "gj9sv530dctbzzguglam",
    "execution_id": "c89e6c17-b1f9-48c8-b680-3fdb054dec1b"
   },
   "source": [
    "## Подключаем библиотеки\n",
    "\n",
    "* Единоразово устанавливаем h3pandas"
   ]
  },
  {
   "cell_type": "code",
   "execution_count": 1,
   "id": "fb0f1beb",
   "metadata": {
    "cellId": "vn6jtcsqjho8z3wxmwuj2q"
   },
   "outputs": [],
   "source": [
    "# %pip install h3pandas"
   ]
  },
  {
   "cell_type": "code",
   "execution_count": 2,
   "id": "a949e963",
   "metadata": {
    "cellId": "utaye6qr2rsmtife50rolf"
   },
   "outputs": [],
   "source": [
    "import h3pandas\n",
    "import pandas as pd\n",
    "import geopandas as gpd\n",
    "from pyproj import CRS\n",
    "from shapely.geometry import Point\n",
    "from shapely.geometry import LineString\n",
    "from shapely.geometry.polygon import Polygon\n",
    "from shapely.geometry.multipolygon import MultiPolygon"
   ]
  },
  {
   "cell_type": "markdown",
   "id": "21d035ec",
   "metadata": {
    "cellId": "gwxrkehttzppkdfzhc76h",
    "execution_id": "97a6f15a-a451-44d8-a062-662843564543"
   },
   "source": [
    "## Определяем функцию для вывода данных\n",
    "\n",
    "* Функция вывода центрального региона набора геоданных"
   ]
  },
  {
   "cell_type": "code",
   "execution_count": 3,
   "id": "d4c5ecce",
   "metadata": {
    "cellId": "1upwcsdwjnkjmwbfkc9e4b"
   },
   "outputs": [],
   "source": [
    "def get_center(df, qt = 0.1):\n",
    "    return df.loc[\n",
    "        (df['lng'] > df['lng'].quantile(qt)) &\n",
    "        (df['lng'] < df['lng'].quantile(1-qt)) &\n",
    "        (df['lat'] > df['lat'].quantile(qt)) &\n",
    "        (df['lat'] < df['lat'].quantile(1-qt))]"
   ]
  },
  {
   "cell_type": "markdown",
   "id": "ae830459",
   "metadata": {
    "cellId": "idlp5uaqgja3bvm83qm6s",
    "execution_id": "1eabed7c-3e77-458d-8b09-63974fa1e6db"
   },
   "source": [
    "## Грузим данные"
   ]
  },
  {
   "cell_type": "code",
   "execution_count": 4,
   "id": "12e2ae8a",
   "metadata": {
    "cellId": "k7184xzeoppwgmbyx6d7oo"
   },
   "outputs": [],
   "source": [
    "facility = pd.read_csv('data/facility.csv')"
   ]
  },
  {
   "cell_type": "code",
   "execution_count": 5,
   "id": "80d0298d",
   "metadata": {
    "cellId": "c757s7b7h1q1s0ih279jqz"
   },
   "outputs": [
    {
     "data": {
      "text/html": [
       "<div>\n",
       "<style scoped>\n",
       "    .dataframe tbody tr th:only-of-type {\n",
       "        vertical-align: middle;\n",
       "    }\n",
       "\n",
       "    .dataframe tbody tr th {\n",
       "        vertical-align: top;\n",
       "    }\n",
       "\n",
       "    .dataframe thead th {\n",
       "        text-align: right;\n",
       "    }\n",
       "</style>\n",
       "<table border=\"1\" class=\"dataframe\">\n",
       "  <thead>\n",
       "    <tr style=\"text-align: right;\">\n",
       "      <th></th>\n",
       "      <th>poligon_id</th>\n",
       "      <th>object_id</th>\n",
       "      <th>type2</th>\n",
       "      <th>name</th>\n",
       "      <th>coordinats</th>\n",
       "      <th>address</th>\n",
       "      <th>category</th>\n",
       "      <th>x</th>\n",
       "      <th>y</th>\n",
       "      <th>geometry</th>\n",
       "    </tr>\n",
       "  </thead>\n",
       "  <tbody>\n",
       "    <tr>\n",
       "      <th>0</th>\n",
       "      <td>NaN</td>\n",
       "      <td>13</td>\n",
       "      <td>Обьекты бизнеса</td>\n",
       "      <td>Santa Pasta</td>\n",
       "      <td>[64.5332, 40.526401]</td>\n",
       "      <td>Троицкий проспект, 21</td>\n",
       "      <td>Кафе</td>\n",
       "      <td>64.533200</td>\n",
       "      <td>40.526401</td>\n",
       "      <td>010100000075CAA31B614344408A8EE4F21F225040</td>\n",
       "    </tr>\n",
       "    <tr>\n",
       "      <th>1</th>\n",
       "      <td>NaN</td>\n",
       "      <td>40</td>\n",
       "      <td>Обьекты бизнеса</td>\n",
       "      <td>Римская кофейня</td>\n",
       "      <td>[64.545284, 40.550311]</td>\n",
       "      <td>Воскресенская, 102</td>\n",
       "      <td>Кафе</td>\n",
       "      <td>64.545284</td>\n",
       "      <td>40.550311</td>\n",
       "      <td>010100000085D04197704644400DC2DCEEE5225040</td>\n",
       "    </tr>\n",
       "    <tr>\n",
       "      <th>2</th>\n",
       "      <td>NaN</td>\n",
       "      <td>173</td>\n",
       "      <td>Обьекты социальной инфраструктуры</td>\n",
       "      <td>Коммунар</td>\n",
       "      <td>[64.533747, 40.514836]</td>\n",
       "      <td>Без адреса</td>\n",
       "      <td>Музеи</td>\n",
       "      <td>64.533747</td>\n",
       "      <td>40.514836</td>\n",
       "      <td>0101000000D8666325E6414440A4552DE928225040</td>\n",
       "    </tr>\n",
       "  </tbody>\n",
       "</table>\n",
       "</div>"
      ],
      "text/plain": [
       "   poligon_id  object_id  ...          y                                    geometry\n",
       "0         NaN         13  ...  40.526401  010100000075CAA31B614344408A8EE4F21F225040\n",
       "1         NaN         40  ...  40.550311  010100000085D04197704644400DC2DCEEE5225040\n",
       "2         NaN        173  ...  40.514836  0101000000D8666325E6414440A4552DE928225040\n",
       "\n",
       "[3 rows x 10 columns]"
      ]
     },
     "execution_count": 5,
     "metadata": {},
     "output_type": "execute_result"
    }
   ],
   "source": [
    "facility.head(3)"
   ]
  },
  {
   "cell_type": "markdown",
   "id": "e75ed3bf",
   "metadata": {
    "cellId": "yrsodbq297nnwoy9lr4z",
    "execution_id": "0d73f1ce-496b-45b2-92dc-044d056e65bf"
   },
   "source": [
    "## Обрабатываем данные\n",
    "\n",
    "* Проверяем что нет нулей в object_id\n",
    "* Привеодим object_id к целочисленному значению\n",
    "* Переименовываем столбцы для h3pandas\n",
    "* Удаляем лишние столбцы"
   ]
  },
  {
   "cell_type": "code",
   "execution_count": 6,
   "id": "4e32a787",
   "metadata": {
    "cellId": "5jyuru5khvyaihzrx5qxs"
   },
   "outputs": [],
   "source": [
    "nulls = len(facility[facility['object_id'].isnull()])\n",
    "assert nulls == 0"
   ]
  },
  {
   "cell_type": "code",
   "execution_count": 7,
   "id": "09df66ab",
   "metadata": {
    "cellId": "10ol8q7q1aohnb84w6kas2"
   },
   "outputs": [
    {
     "data": {
      "text/html": [
       "<div>\n",
       "<style scoped>\n",
       "    .dataframe tbody tr th:only-of-type {\n",
       "        vertical-align: middle;\n",
       "    }\n",
       "\n",
       "    .dataframe tbody tr th {\n",
       "        vertical-align: top;\n",
       "    }\n",
       "\n",
       "    .dataframe thead th {\n",
       "        text-align: right;\n",
       "    }\n",
       "</style>\n",
       "<table border=\"1\" class=\"dataframe\">\n",
       "  <thead>\n",
       "    <tr style=\"text-align: right;\">\n",
       "      <th></th>\n",
       "      <th>poligon_id</th>\n",
       "      <th>object_id</th>\n",
       "      <th>type2</th>\n",
       "      <th>name</th>\n",
       "      <th>coordinats</th>\n",
       "      <th>address</th>\n",
       "      <th>category</th>\n",
       "      <th>x</th>\n",
       "      <th>y</th>\n",
       "      <th>geometry</th>\n",
       "    </tr>\n",
       "  </thead>\n",
       "  <tbody>\n",
       "    <tr>\n",
       "      <th>0</th>\n",
       "      <td>NaN</td>\n",
       "      <td>13</td>\n",
       "      <td>Обьекты бизнеса</td>\n",
       "      <td>Santa Pasta</td>\n",
       "      <td>[64.5332, 40.526401]</td>\n",
       "      <td>Троицкий проспект, 21</td>\n",
       "      <td>Кафе</td>\n",
       "      <td>64.533200</td>\n",
       "      <td>40.526401</td>\n",
       "      <td>010100000075CAA31B614344408A8EE4F21F225040</td>\n",
       "    </tr>\n",
       "    <tr>\n",
       "      <th>1</th>\n",
       "      <td>NaN</td>\n",
       "      <td>40</td>\n",
       "      <td>Обьекты бизнеса</td>\n",
       "      <td>Римская кофейня</td>\n",
       "      <td>[64.545284, 40.550311]</td>\n",
       "      <td>Воскресенская, 102</td>\n",
       "      <td>Кафе</td>\n",
       "      <td>64.545284</td>\n",
       "      <td>40.550311</td>\n",
       "      <td>010100000085D04197704644400DC2DCEEE5225040</td>\n",
       "    </tr>\n",
       "    <tr>\n",
       "      <th>2</th>\n",
       "      <td>NaN</td>\n",
       "      <td>173</td>\n",
       "      <td>Обьекты социальной инфраструктуры</td>\n",
       "      <td>Коммунар</td>\n",
       "      <td>[64.533747, 40.514836]</td>\n",
       "      <td>Без адреса</td>\n",
       "      <td>Музеи</td>\n",
       "      <td>64.533747</td>\n",
       "      <td>40.514836</td>\n",
       "      <td>0101000000D8666325E6414440A4552DE928225040</td>\n",
       "    </tr>\n",
       "  </tbody>\n",
       "</table>\n",
       "</div>"
      ],
      "text/plain": [
       "   poligon_id  object_id  ...          y                                    geometry\n",
       "0         NaN         13  ...  40.526401  010100000075CAA31B614344408A8EE4F21F225040\n",
       "1         NaN         40  ...  40.550311  010100000085D04197704644400DC2DCEEE5225040\n",
       "2         NaN        173  ...  40.514836  0101000000D8666325E6414440A4552DE928225040\n",
       "\n",
       "[3 rows x 10 columns]"
      ]
     },
     "execution_count": 7,
     "metadata": {},
     "output_type": "execute_result"
    }
   ],
   "source": [
    "facility = facility.astype({'object_id': 'int32'})\n",
    "facility.head(3)"
   ]
  },
  {
   "cell_type": "code",
   "execution_count": 8,
   "id": "ac110ba8",
   "metadata": {
    "cellId": "inoi2hwf11mq2jbq07wz9d"
   },
   "outputs": [
    {
     "data": {
      "text/html": [
       "<div>\n",
       "<style scoped>\n",
       "    .dataframe tbody tr th:only-of-type {\n",
       "        vertical-align: middle;\n",
       "    }\n",
       "\n",
       "    .dataframe tbody tr th {\n",
       "        vertical-align: top;\n",
       "    }\n",
       "\n",
       "    .dataframe thead th {\n",
       "        text-align: right;\n",
       "    }\n",
       "</style>\n",
       "<table border=\"1\" class=\"dataframe\">\n",
       "  <thead>\n",
       "    <tr style=\"text-align: right;\">\n",
       "      <th></th>\n",
       "      <th>poligon_id</th>\n",
       "      <th>object_id</th>\n",
       "      <th>type2</th>\n",
       "      <th>name</th>\n",
       "      <th>coordinats</th>\n",
       "      <th>address</th>\n",
       "      <th>category</th>\n",
       "      <th>lat</th>\n",
       "      <th>lng</th>\n",
       "      <th>geometry</th>\n",
       "    </tr>\n",
       "  </thead>\n",
       "  <tbody>\n",
       "    <tr>\n",
       "      <th>0</th>\n",
       "      <td>NaN</td>\n",
       "      <td>13</td>\n",
       "      <td>Обьекты бизнеса</td>\n",
       "      <td>Santa Pasta</td>\n",
       "      <td>[64.5332, 40.526401]</td>\n",
       "      <td>Троицкий проспект, 21</td>\n",
       "      <td>Кафе</td>\n",
       "      <td>64.533200</td>\n",
       "      <td>40.526401</td>\n",
       "      <td>010100000075CAA31B614344408A8EE4F21F225040</td>\n",
       "    </tr>\n",
       "    <tr>\n",
       "      <th>1</th>\n",
       "      <td>NaN</td>\n",
       "      <td>40</td>\n",
       "      <td>Обьекты бизнеса</td>\n",
       "      <td>Римская кофейня</td>\n",
       "      <td>[64.545284, 40.550311]</td>\n",
       "      <td>Воскресенская, 102</td>\n",
       "      <td>Кафе</td>\n",
       "      <td>64.545284</td>\n",
       "      <td>40.550311</td>\n",
       "      <td>010100000085D04197704644400DC2DCEEE5225040</td>\n",
       "    </tr>\n",
       "    <tr>\n",
       "      <th>2</th>\n",
       "      <td>NaN</td>\n",
       "      <td>173</td>\n",
       "      <td>Обьекты социальной инфраструктуры</td>\n",
       "      <td>Коммунар</td>\n",
       "      <td>[64.533747, 40.514836]</td>\n",
       "      <td>Без адреса</td>\n",
       "      <td>Музеи</td>\n",
       "      <td>64.533747</td>\n",
       "      <td>40.514836</td>\n",
       "      <td>0101000000D8666325E6414440A4552DE928225040</td>\n",
       "    </tr>\n",
       "  </tbody>\n",
       "</table>\n",
       "</div>"
      ],
      "text/plain": [
       "   poligon_id  object_id  ...        lng                                    geometry\n",
       "0         NaN         13  ...  40.526401  010100000075CAA31B614344408A8EE4F21F225040\n",
       "1         NaN         40  ...  40.550311  010100000085D04197704644400DC2DCEEE5225040\n",
       "2         NaN        173  ...  40.514836  0101000000D8666325E6414440A4552DE928225040\n",
       "\n",
       "[3 rows x 10 columns]"
      ]
     },
     "execution_count": 8,
     "metadata": {},
     "output_type": "execute_result"
    }
   ],
   "source": [
    "facility = facility.rename({'y': 'lng', 'x': 'lat'}, axis=1)\n",
    "facility.head(3)"
   ]
  },
  {
   "cell_type": "code",
   "execution_count": 9,
   "id": "8f984cbd",
   "metadata": {
    "cellId": "uj36oph4jeisp6fmin1ap"
   },
   "outputs": [
    {
     "data": {
      "text/html": [
       "<div>\n",
       "<style scoped>\n",
       "    .dataframe tbody tr th:only-of-type {\n",
       "        vertical-align: middle;\n",
       "    }\n",
       "\n",
       "    .dataframe tbody tr th {\n",
       "        vertical-align: top;\n",
       "    }\n",
       "\n",
       "    .dataframe thead th {\n",
       "        text-align: right;\n",
       "    }\n",
       "</style>\n",
       "<table border=\"1\" class=\"dataframe\">\n",
       "  <thead>\n",
       "    <tr style=\"text-align: right;\">\n",
       "      <th></th>\n",
       "      <th>object_id</th>\n",
       "      <th>type2</th>\n",
       "      <th>name</th>\n",
       "      <th>address</th>\n",
       "      <th>category</th>\n",
       "      <th>lat</th>\n",
       "      <th>lng</th>\n",
       "    </tr>\n",
       "  </thead>\n",
       "  <tbody>\n",
       "    <tr>\n",
       "      <th>0</th>\n",
       "      <td>13</td>\n",
       "      <td>Обьекты бизнеса</td>\n",
       "      <td>Santa Pasta</td>\n",
       "      <td>Троицкий проспект, 21</td>\n",
       "      <td>Кафе</td>\n",
       "      <td>64.533200</td>\n",
       "      <td>40.526401</td>\n",
       "    </tr>\n",
       "    <tr>\n",
       "      <th>1</th>\n",
       "      <td>40</td>\n",
       "      <td>Обьекты бизнеса</td>\n",
       "      <td>Римская кофейня</td>\n",
       "      <td>Воскресенская, 102</td>\n",
       "      <td>Кафе</td>\n",
       "      <td>64.545284</td>\n",
       "      <td>40.550311</td>\n",
       "    </tr>\n",
       "    <tr>\n",
       "      <th>2</th>\n",
       "      <td>173</td>\n",
       "      <td>Обьекты социальной инфраструктуры</td>\n",
       "      <td>Коммунар</td>\n",
       "      <td>Без адреса</td>\n",
       "      <td>Музеи</td>\n",
       "      <td>64.533747</td>\n",
       "      <td>40.514836</td>\n",
       "    </tr>\n",
       "  </tbody>\n",
       "</table>\n",
       "</div>"
      ],
      "text/plain": [
       "   object_id                              type2  ...        lat        lng\n",
       "0         13                    Обьекты бизнеса  ...  64.533200  40.526401\n",
       "1         40                    Обьекты бизнеса  ...  64.545284  40.550311\n",
       "2        173  Обьекты социальной инфраструктуры  ...  64.533747  40.514836\n",
       "\n",
       "[3 rows x 7 columns]"
      ]
     },
     "execution_count": 9,
     "metadata": {},
     "output_type": "execute_result"
    }
   ],
   "source": [
    "facility = facility.drop(columns=['coordinats', 'geometry', 'poligon_id'])\n",
    "facility.head(3)"
   ]
  },
  {
   "cell_type": "markdown",
   "id": "42d4e1bb",
   "metadata": {
    "cellId": "b2s5zja1lb7y1mvm2mmj5",
    "execution_id": "ca82352f-877a-46b7-8c58-eb997b8d08f5"
   },
   "source": [
    "## Проверяем, что у нас в центер города"
   ]
  },
  {
   "cell_type": "code",
   "execution_count": 10,
   "id": "c62109a9",
   "metadata": {
    "cellId": "q04bnm8v3tnxt1gaq1exin"
   },
   "outputs": [
    {
     "data": {
      "text/plain": [
       "<matplotlib.axes._subplots.AxesSubplot at 0x7f2009ad8880>"
      ]
     },
     "execution_count": 10,
     "metadata": {},
     "output_type": "execute_result"
    },
    {
     "data": {
      "image/png": "[encoded data removed]",
      "text/plain": [
       "<Figure size 504x504 with 1 Axes>"
      ]
     },
     "metadata": {
      "needs_background": "light"
     },
     "output_type": "display_data"
    }
   ],
   "source": [
    "get_center(facility, 0.08).plot.scatter(x='lng', y='lat', figsize=(7,7), alpha=0.5)"
   ]
  },
  {
   "cell_type": "markdown",
   "id": "f05aecdd",
   "metadata": {
    "cellId": "jezkl1h4r0fhdm3sywrpde",
    "execution_id": "41fca63e-cd46-429f-93ed-f77171e322bc"
   },
   "source": [
    "## Приводим данные к формату h3pandas"
   ]
  },
  {
   "cell_type": "code",
   "execution_count": 11,
   "id": "14ffa3fa",
   "metadata": {
    "cellId": "dtf3footz38fs6qlogkdy"
   },
   "outputs": [
    {
     "data": {
      "text/html": [
       "<div>\n",
       "<style scoped>\n",
       "    .dataframe tbody tr th:only-of-type {\n",
       "        vertical-align: middle;\n",
       "    }\n",
       "\n",
       "    .dataframe tbody tr th {\n",
       "        vertical-align: top;\n",
       "    }\n",
       "\n",
       "    .dataframe thead th {\n",
       "        text-align: right;\n",
       "    }\n",
       "</style>\n",
       "<table border=\"1\" class=\"dataframe\">\n",
       "  <thead>\n",
       "    <tr style=\"text-align: right;\">\n",
       "      <th></th>\n",
       "      <th>object_id</th>\n",
       "      <th>type2</th>\n",
       "      <th>name</th>\n",
       "      <th>address</th>\n",
       "      <th>category</th>\n",
       "      <th>lat</th>\n",
       "      <th>lng</th>\n",
       "    </tr>\n",
       "    <tr>\n",
       "      <th>h3_09</th>\n",
       "      <th></th>\n",
       "      <th></th>\n",
       "      <th></th>\n",
       "      <th></th>\n",
       "      <th></th>\n",
       "      <th></th>\n",
       "      <th></th>\n",
       "    </tr>\n",
       "  </thead>\n",
       "  <tbody>\n",
       "    <tr>\n",
       "      <th>891150a881bffff</th>\n",
       "      <td>13</td>\n",
       "      <td>Обьекты бизнеса</td>\n",
       "      <td>Santa Pasta</td>\n",
       "      <td>Троицкий проспект, 21</td>\n",
       "      <td>Кафе</td>\n",
       "      <td>64.533200</td>\n",
       "      <td>40.526401</td>\n",
       "    </tr>\n",
       "    <tr>\n",
       "      <th>891150a8827ffff</th>\n",
       "      <td>40</td>\n",
       "      <td>Обьекты бизнеса</td>\n",
       "      <td>Римская кофейня</td>\n",
       "      <td>Воскресенская, 102</td>\n",
       "      <td>Кафе</td>\n",
       "      <td>64.545284</td>\n",
       "      <td>40.550311</td>\n",
       "    </tr>\n",
       "    <tr>\n",
       "      <th>891150a88d7ffff</th>\n",
       "      <td>173</td>\n",
       "      <td>Обьекты социальной инфраструктуры</td>\n",
       "      <td>Коммунар</td>\n",
       "      <td>Без адреса</td>\n",
       "      <td>Музеи</td>\n",
       "      <td>64.533747</td>\n",
       "      <td>40.514836</td>\n",
       "    </tr>\n",
       "    <tr>\n",
       "      <th>891150a895bffff</th>\n",
       "      <td>379</td>\n",
       "      <td>Парк</td>\n",
       "      <td>NaN</td>\n",
       "      <td>Парк Зарусье</td>\n",
       "      <td>NaN</td>\n",
       "      <td>64.542998</td>\n",
       "      <td>40.560676</td>\n",
       "    </tr>\n",
       "    <tr>\n",
       "      <th>891150a899bffff</th>\n",
       "      <td>222</td>\n",
       "      <td>Объекты туризма</td>\n",
       "      <td>Выставочный зал, Союз художников России</td>\n",
       "      <td>Советских Космонавтов проспект</td>\n",
       "      <td>NaN</td>\n",
       "      <td>64.555533</td>\n",
       "      <td>40.540251</td>\n",
       "    </tr>\n",
       "  </tbody>\n",
       "</table>\n",
       "</div>"
      ],
      "text/plain": [
       "                 object_id  ...        lng\n",
       "h3_09                       ...           \n",
       "891150a881bffff         13  ...  40.526401\n",
       "891150a8827ffff         40  ...  40.550311\n",
       "891150a88d7ffff        173  ...  40.514836\n",
       "891150a895bffff        379  ...  40.560676\n",
       "891150a899bffff        222  ...  40.540251\n",
       "\n",
       "[5 rows x 7 columns]"
      ]
     },
     "execution_count": 11,
     "metadata": {},
     "output_type": "execute_result"
    }
   ],
   "source": [
    "facility3 = facility.h3.geo_to_h3(9)\n",
    "facility3.head()"
   ]
  },
  {
   "cell_type": "code",
   "execution_count": 12,
   "id": "e3871987",
   "metadata": {
    "cellId": "943dcpycj896huiw9ckcv7"
   },
   "outputs": [
    {
     "data": {
      "text/html": [
       "<div>\n",
       "<style scoped>\n",
       "    .dataframe tbody tr th:only-of-type {\n",
       "        vertical-align: middle;\n",
       "    }\n",
       "\n",
       "    .dataframe tbody tr th {\n",
       "        vertical-align: top;\n",
       "    }\n",
       "\n",
       "    .dataframe thead th {\n",
       "        text-align: right;\n",
       "    }\n",
       "</style>\n",
       "<table border=\"1\" class=\"dataframe\">\n",
       "  <thead>\n",
       "    <tr style=\"text-align: right;\">\n",
       "      <th></th>\n",
       "      <th>object_id</th>\n",
       "      <th>type2</th>\n",
       "      <th>name</th>\n",
       "      <th>address</th>\n",
       "      <th>category</th>\n",
       "      <th>lat</th>\n",
       "      <th>lng</th>\n",
       "      <th>geometry</th>\n",
       "    </tr>\n",
       "    <tr>\n",
       "      <th>h3_09</th>\n",
       "      <th></th>\n",
       "      <th></th>\n",
       "      <th></th>\n",
       "      <th></th>\n",
       "      <th></th>\n",
       "      <th></th>\n",
       "      <th></th>\n",
       "      <th></th>\n",
       "    </tr>\n",
       "  </thead>\n",
       "  <tbody>\n",
       "    <tr>\n",
       "      <th>891150a881bffff</th>\n",
       "      <td>13</td>\n",
       "      <td>Обьекты бизнеса</td>\n",
       "      <td>Santa Pasta</td>\n",
       "      <td>Троицкий проспект, 21</td>\n",
       "      <td>Кафе</td>\n",
       "      <td>64.533200</td>\n",
       "      <td>40.526401</td>\n",
       "      <td>POLYGON ((40.52461 64.53358, 40.52763 64.53259...</td>\n",
       "    </tr>\n",
       "    <tr>\n",
       "      <th>891150a8827ffff</th>\n",
       "      <td>40</td>\n",
       "      <td>Обьекты бизнеса</td>\n",
       "      <td>Римская кофейня</td>\n",
       "      <td>Воскресенская, 102</td>\n",
       "      <td>Кафе</td>\n",
       "      <td>64.545284</td>\n",
       "      <td>40.550311</td>\n",
       "      <td>POLYGON ((40.54855 64.54338, 40.55157 64.54239...</td>\n",
       "    </tr>\n",
       "    <tr>\n",
       "      <th>891150a88d7ffff</th>\n",
       "      <td>173</td>\n",
       "      <td>Обьекты социальной инфраструктуры</td>\n",
       "      <td>Коммунар</td>\n",
       "      <td>Без адреса</td>\n",
       "      <td>Музеи</td>\n",
       "      <td>64.533747</td>\n",
       "      <td>40.514836</td>\n",
       "      <td>POLYGON ((40.51124 64.53404, 40.51426 64.53305...</td>\n",
       "    </tr>\n",
       "  </tbody>\n",
       "</table>\n",
       "</div>"
      ],
      "text/plain": [
       "                 object_id  ...                                           geometry\n",
       "h3_09                       ...                                                   \n",
       "891150a881bffff         13  ...  POLYGON ((40.52461 64.53358, 40.52763 64.53259...\n",
       "891150a8827ffff         40  ...  POLYGON ((40.54855 64.54338, 40.55157 64.54239...\n",
       "891150a88d7ffff        173  ...  POLYGON ((40.51124 64.53404, 40.51426 64.53305...\n",
       "\n",
       "[3 rows x 8 columns]"
      ]
     },
     "execution_count": 12,
     "metadata": {},
     "output_type": "execute_result"
    }
   ],
   "source": [
    "geofacility3 = facility3.h3.h3_to_geo_boundary()\n",
    "geofacility3.head(3)"
   ]
  },
  {
   "cell_type": "markdown",
   "id": "b48a524a",
   "metadata": {
    "cellId": "hs4bohp9kwviccu47cel3",
    "execution_id": "430f8492-ca75-48dc-8418-e7d82fb368dc"
   },
   "source": [
    "## Рисуем наши полигоны в центер города"
   ]
  },
  {
   "cell_type": "code",
   "execution_count": 14,
   "id": "c69353ae",
   "metadata": {
    "cellId": "qe7n9dm9tfts6gp5908g"
   },
   "outputs": [],
   "source": [
    "# Раскомментировать в случае надобности\n",
    "#geofacility3.explore(width='30%', height='60%')"
   ]
  },
  {
   "cell_type": "code",
   "execution_count": 15,
   "id": "48efee41",
   "metadata": {
    "cellId": "i6ankx8kfvjxv8qx66b5k"
   },
   "outputs": [
    {
     "data": {
      "text/plain": [
       "<matplotlib.axes._subplots.AxesSubplot at 0x7f20081ef460>"
      ]
     },
     "execution_count": 15,
     "metadata": {},
     "output_type": "execute_result"
    },
    {
     "data": {
      "image/png": "[encoded data removed]",
      "text/plain": [
       "<Figure size 504x504 with 1 Axes>"
      ]
     },
     "metadata": {
      "needs_background": "light"
     },
     "output_type": "display_data"
    }
   ],
   "source": [
    "get_center(geofacility3).plot(figsize=(7,7))"
   ]
  },
  {
   "cell_type": "markdown",
   "id": "60fd6b81",
   "metadata": {
    "cellId": "zqnjzjyenqotdmxmfcfc1c",
    "execution_id": "2bef7c91-9b73-4880-b3db-a7645848b446"
   },
   "source": [
    "## Строим набор данных для точек"
   ]
  },
  {
   "cell_type": "code",
   "execution_count": 16,
   "id": "c97e23c8",
   "metadata": {
    "cellId": "ik4sapf885qeu02n0k6h1"
   },
   "outputs": [
    {
     "data": {
      "text/html": [
       "<div>\n",
       "<style scoped>\n",
       "    .dataframe tbody tr th:only-of-type {\n",
       "        vertical-align: middle;\n",
       "    }\n",
       "\n",
       "    .dataframe tbody tr th {\n",
       "        vertical-align: top;\n",
       "    }\n",
       "\n",
       "    .dataframe thead th {\n",
       "        text-align: right;\n",
       "    }\n",
       "</style>\n",
       "<table border=\"1\" class=\"dataframe\">\n",
       "  <thead>\n",
       "    <tr style=\"text-align: right;\">\n",
       "      <th></th>\n",
       "      <th>object_id</th>\n",
       "      <th>type2</th>\n",
       "      <th>name</th>\n",
       "      <th>address</th>\n",
       "      <th>category</th>\n",
       "      <th>lat</th>\n",
       "      <th>lng</th>\n",
       "    </tr>\n",
       "  </thead>\n",
       "  <tbody>\n",
       "    <tr>\n",
       "      <th>0</th>\n",
       "      <td>13</td>\n",
       "      <td>Обьекты бизнеса</td>\n",
       "      <td>Santa Pasta</td>\n",
       "      <td>Троицкий проспект, 21</td>\n",
       "      <td>Кафе</td>\n",
       "      <td>64.533200</td>\n",
       "      <td>40.526401</td>\n",
       "    </tr>\n",
       "    <tr>\n",
       "      <th>1</th>\n",
       "      <td>40</td>\n",
       "      <td>Обьекты бизнеса</td>\n",
       "      <td>Римская кофейня</td>\n",
       "      <td>Воскресенская, 102</td>\n",
       "      <td>Кафе</td>\n",
       "      <td>64.545284</td>\n",
       "      <td>40.550311</td>\n",
       "    </tr>\n",
       "    <tr>\n",
       "      <th>2</th>\n",
       "      <td>173</td>\n",
       "      <td>Обьекты социальной инфраструктуры</td>\n",
       "      <td>Коммунар</td>\n",
       "      <td>Без адреса</td>\n",
       "      <td>Музеи</td>\n",
       "      <td>64.533747</td>\n",
       "      <td>40.514836</td>\n",
       "    </tr>\n",
       "  </tbody>\n",
       "</table>\n",
       "</div>"
      ],
      "text/plain": [
       "   object_id                              type2  ...        lat        lng\n",
       "0         13                    Обьекты бизнеса  ...  64.533200  40.526401\n",
       "1         40                    Обьекты бизнеса  ...  64.545284  40.550311\n",
       "2        173  Обьекты социальной инфраструктуры  ...  64.533747  40.514836\n",
       "\n",
       "[3 rows x 7 columns]"
      ]
     },
     "execution_count": 16,
     "metadata": {},
     "output_type": "execute_result"
    }
   ],
   "source": [
    "facility.head(3)"
   ]
  },
  {
   "cell_type": "code",
   "execution_count": 17,
   "id": "5e7171c5",
   "metadata": {
    "cellId": "mywhgiv7migujd36la6nq"
   },
   "outputs": [
    {
     "data": {
      "text/html": [
       "<div>\n",
       "<style scoped>\n",
       "    .dataframe tbody tr th:only-of-type {\n",
       "        vertical-align: middle;\n",
       "    }\n",
       "\n",
       "    .dataframe tbody tr th {\n",
       "        vertical-align: top;\n",
       "    }\n",
       "\n",
       "    .dataframe thead th {\n",
       "        text-align: right;\n",
       "    }\n",
       "</style>\n",
       "<table border=\"1\" class=\"dataframe\">\n",
       "  <thead>\n",
       "    <tr style=\"text-align: right;\">\n",
       "      <th></th>\n",
       "      <th>object_id</th>\n",
       "      <th>type2</th>\n",
       "      <th>name</th>\n",
       "      <th>address</th>\n",
       "      <th>category</th>\n",
       "      <th>lat</th>\n",
       "      <th>lng</th>\n",
       "      <th>geometry</th>\n",
       "    </tr>\n",
       "  </thead>\n",
       "  <tbody>\n",
       "    <tr>\n",
       "      <th>0</th>\n",
       "      <td>13</td>\n",
       "      <td>Обьекты бизнеса</td>\n",
       "      <td>Santa Pasta</td>\n",
       "      <td>Троицкий проспект, 21</td>\n",
       "      <td>Кафе</td>\n",
       "      <td>64.533200</td>\n",
       "      <td>40.526401</td>\n",
       "      <td>POINT (40.52640 64.53320)</td>\n",
       "    </tr>\n",
       "    <tr>\n",
       "      <th>1</th>\n",
       "      <td>40</td>\n",
       "      <td>Обьекты бизнеса</td>\n",
       "      <td>Римская кофейня</td>\n",
       "      <td>Воскресенская, 102</td>\n",
       "      <td>Кафе</td>\n",
       "      <td>64.545284</td>\n",
       "      <td>40.550311</td>\n",
       "      <td>POINT (40.55031 64.54528)</td>\n",
       "    </tr>\n",
       "    <tr>\n",
       "      <th>2</th>\n",
       "      <td>173</td>\n",
       "      <td>Обьекты социальной инфраструктуры</td>\n",
       "      <td>Коммунар</td>\n",
       "      <td>Без адреса</td>\n",
       "      <td>Музеи</td>\n",
       "      <td>64.533747</td>\n",
       "      <td>40.514836</td>\n",
       "      <td>POINT (40.51484 64.53375)</td>\n",
       "    </tr>\n",
       "  </tbody>\n",
       "</table>\n",
       "</div>"
      ],
      "text/plain": [
       "   object_id  ...                   geometry\n",
       "0         13  ...  POINT (40.52640 64.53320)\n",
       "1         40  ...  POINT (40.55031 64.54528)\n",
       "2        173  ...  POINT (40.51484 64.53375)\n",
       "\n",
       "[3 rows x 8 columns]"
      ]
     },
     "execution_count": 17,
     "metadata": {},
     "output_type": "execute_result"
    }
   ],
   "source": [
    "geometry = [Point(xy) for xy in zip(facility.lng, facility.lat)]\n",
    "geofacility = gpd.GeoDataFrame(facility, crs=geofacility3.crs, geometry=geometry)\n",
    "geofacility.head(3)"
   ]
  },
  {
   "cell_type": "markdown",
   "id": "a39deda3",
   "metadata": {
    "cellId": "8wqpbu2letcyllseabphog",
    "execution_id": "e57bc324-2db3-43c8-ad6b-9389232f2ffd"
   },
   "source": [
    "## отображаем точки и полигоны"
   ]
  },
  {
   "cell_type": "code",
   "execution_count": 18,
   "id": "b8b33102",
   "metadata": {
    "cellId": "z85983hppmh0sl88kidf7z"
   },
   "outputs": [
    {
     "data": {
      "text/plain": [
       "<matplotlib.axes._subplots.AxesSubplot at 0x7f2008142a30>"
      ]
     },
     "execution_count": 18,
     "metadata": {},
     "output_type": "execute_result"
    },
    {
     "data": {
      "image/png": "[encoded data removed]",
      "text/plain": [
       "<Figure size 720x720 with 1 Axes>"
      ]
     },
     "metadata": {
      "needs_background": "light"
     },
     "output_type": "display_data"
    }
   ],
   "source": [
    "ax = get_center(geofacility).plot(\n",
    "    figsize=(10,10), facecolor=\"teal\", markersize=2)\n",
    "get_center(geofacility3).plot(\n",
    "    ax=ax, figsize=(10,10), facecolor=\"none\", edgecolor=\"black\")"
   ]
  },
  {
   "cell_type": "markdown",
   "id": "93b37a20",
   "metadata": {
    "cellId": "pcyjokrmnlc4ynpwa4foxn",
    "execution_id": "46b1f096-ed43-44d5-b8db-4ddafbb68d51"
   },
   "source": [
    "## Готовим набор к экспорту"
   ]
  },
  {
   "cell_type": "code",
   "execution_count": 19,
   "id": "ff320c0e",
   "metadata": {
    "cellId": "c4f03h93jrwq4mevbyodu"
   },
   "outputs": [
    {
     "data": {
      "text/html": [
       "<div>\n",
       "<style scoped>\n",
       "    .dataframe tbody tr th:only-of-type {\n",
       "        vertical-align: middle;\n",
       "    }\n",
       "\n",
       "    .dataframe tbody tr th {\n",
       "        vertical-align: top;\n",
       "    }\n",
       "\n",
       "    .dataframe thead th {\n",
       "        text-align: right;\n",
       "    }\n",
       "</style>\n",
       "<table border=\"1\" class=\"dataframe\">\n",
       "  <thead>\n",
       "    <tr style=\"text-align: right;\">\n",
       "      <th></th>\n",
       "      <th>object_id</th>\n",
       "      <th>type2</th>\n",
       "      <th>name</th>\n",
       "      <th>address</th>\n",
       "      <th>category</th>\n",
       "      <th>lat</th>\n",
       "      <th>lng</th>\n",
       "      <th>geometry</th>\n",
       "    </tr>\n",
       "    <tr>\n",
       "      <th>h3_09</th>\n",
       "      <th></th>\n",
       "      <th></th>\n",
       "      <th></th>\n",
       "      <th></th>\n",
       "      <th></th>\n",
       "      <th></th>\n",
       "      <th></th>\n",
       "      <th></th>\n",
       "    </tr>\n",
       "  </thead>\n",
       "  <tbody>\n",
       "    <tr>\n",
       "      <th>891150a881bffff</th>\n",
       "      <td>13</td>\n",
       "      <td>Обьекты бизнеса</td>\n",
       "      <td>Santa Pasta</td>\n",
       "      <td>Троицкий проспект, 21</td>\n",
       "      <td>Кафе</td>\n",
       "      <td>64.533200</td>\n",
       "      <td>40.526401</td>\n",
       "      <td>POLYGON ((40.52461 64.53358, 40.52763 64.53259...</td>\n",
       "    </tr>\n",
       "    <tr>\n",
       "      <th>891150a8827ffff</th>\n",
       "      <td>40</td>\n",
       "      <td>Обьекты бизнеса</td>\n",
       "      <td>Римская кофейня</td>\n",
       "      <td>Воскресенская, 102</td>\n",
       "      <td>Кафе</td>\n",
       "      <td>64.545284</td>\n",
       "      <td>40.550311</td>\n",
       "      <td>POLYGON ((40.54855 64.54338, 40.55157 64.54239...</td>\n",
       "    </tr>\n",
       "    <tr>\n",
       "      <th>891150a88d7ffff</th>\n",
       "      <td>173</td>\n",
       "      <td>Обьекты социальной инфраструктуры</td>\n",
       "      <td>Коммунар</td>\n",
       "      <td>Без адреса</td>\n",
       "      <td>Музеи</td>\n",
       "      <td>64.533747</td>\n",
       "      <td>40.514836</td>\n",
       "      <td>POLYGON ((40.51124 64.53404, 40.51426 64.53305...</td>\n",
       "    </tr>\n",
       "  </tbody>\n",
       "</table>\n",
       "</div>"
      ],
      "text/plain": [
       "                 object_id  ...                                           geometry\n",
       "h3_09                       ...                                                   \n",
       "891150a881bffff         13  ...  POLYGON ((40.52461 64.53358, 40.52763 64.53259...\n",
       "891150a8827ffff         40  ...  POLYGON ((40.54855 64.54338, 40.55157 64.54239...\n",
       "891150a88d7ffff        173  ...  POLYGON ((40.51124 64.53404, 40.51426 64.53305...\n",
       "\n",
       "[3 rows x 8 columns]"
      ]
     },
     "execution_count": 19,
     "metadata": {},
     "output_type": "execute_result"
    }
   ],
   "source": [
    "geofacility3.head(3)"
   ]
  },
  {
   "cell_type": "code",
   "execution_count": 20,
   "id": "913902f1",
   "metadata": {
    "cellId": "h8nko5y7f086d6hxzompqk"
   },
   "outputs": [
    {
     "data": {
      "text/html": [
       "<div>\n",
       "<style scoped>\n",
       "    .dataframe tbody tr th:only-of-type {\n",
       "        vertical-align: middle;\n",
       "    }\n",
       "\n",
       "    .dataframe tbody tr th {\n",
       "        vertical-align: top;\n",
       "    }\n",
       "\n",
       "    .dataframe thead th {\n",
       "        text-align: right;\n",
       "    }\n",
       "</style>\n",
       "<table border=\"1\" class=\"dataframe\">\n",
       "  <thead>\n",
       "    <tr style=\"text-align: right;\">\n",
       "      <th></th>\n",
       "      <th>object_id</th>\n",
       "      <th>geometry</th>\n",
       "    </tr>\n",
       "  </thead>\n",
       "  <tbody>\n",
       "    <tr>\n",
       "      <th>0</th>\n",
       "      <td>13</td>\n",
       "      <td>POLYGON ((40.52461 64.53358, 40.52763 64.53259...</td>\n",
       "    </tr>\n",
       "    <tr>\n",
       "      <th>1</th>\n",
       "      <td>40</td>\n",
       "      <td>POLYGON ((40.54855 64.54338, 40.55157 64.54239...</td>\n",
       "    </tr>\n",
       "    <tr>\n",
       "      <th>2</th>\n",
       "      <td>173</td>\n",
       "      <td>POLYGON ((40.51124 64.53404, 40.51426 64.53305...</td>\n",
       "    </tr>\n",
       "  </tbody>\n",
       "</table>\n",
       "</div>"
      ],
      "text/plain": [
       "   object_id                                           geometry\n",
       "0         13  POLYGON ((40.52461 64.53358, 40.52763 64.53259...\n",
       "1         40  POLYGON ((40.54855 64.54338, 40.55157 64.54239...\n",
       "2        173  POLYGON ((40.51124 64.53404, 40.51426 64.53305..."
      ]
     },
     "execution_count": 20,
     "metadata": {},
     "output_type": "execute_result"
    }
   ],
   "source": [
    "geometry = geofacility3['geometry']\n",
    "data = geofacility3['object_id']\n",
    "gdf = gpd.GeoDataFrame(data=data, geometry=geometry, crs=geofacility3.crs)\n",
    "gdf = gdf.reset_index()\n",
    "gdf = gdf.drop(columns=['h3_09'])\n",
    "gdf.head(3)"
   ]
  },
  {
   "cell_type": "markdown",
   "id": "4ebf1a47",
   "metadata": {
    "cellId": "a5ly4zp30c7t165vlvkwui",
    "execution_id": "3930fc63-0aa8-47cd-81c8-a92f0b78380a"
   },
   "source": [
    "## Экспортируем набор данных с полигонами"
   ]
  },
  {
   "cell_type": "code",
   "execution_count": 21,
   "id": "ecf5464c",
   "metadata": {
    "cellId": "hvqrqttyk4emxahbfctign"
   },
   "outputs": [],
   "source": [
    "gdf.to_file('data/facility.geojson', driver='GeoJSON')"
   ]
  },
  {
   "cell_type": "code",
   "execution_count": null,
   "id": "6f3d62fb",
   "metadata": {
    "cellId": "3k4rkl6qy7caaablk8gvc"
   },
   "outputs": [],
   "source": []
  }
 ],
 "metadata": {
  "language_info": {
   "codemirror_mode": {
    "name": "ipython",
    "version": 3
   },
   "file_extension": ".py",
   "mimetype": "text/x-python",
   "name": "python",
   "nbconvert_exporter": "python",
   "pygments_lexer": "ipython3",
   "version": "3.7.7"
  },
  "notebookId": "80253be2-147c-4a1b-8a5e-6b683e530a47",
  "notebookPath": "NorthGate/Notebooks/Facility.ipynb"
 },
 "nbformat": 4,
 "nbformat_minor": 5
}
