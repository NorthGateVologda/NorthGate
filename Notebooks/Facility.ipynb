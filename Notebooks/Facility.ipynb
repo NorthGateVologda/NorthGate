{
 "cells": [
  {
   "cell_type": "markdown",
   "id": "b3270f9e",
   "metadata": {
    "cellId": "arzv3so3v6eu91k8xsm1o",
    "execution_id": "7b26df05-230a-467a-ad35-ca2c2a7b34b0"
   },
   "source": [
    "# Задача\n",
    "\n",
    "Сформировать сетку полигонов вокруг точек из таблицы `facility`"
   ]
  },
  {
   "cell_type": "markdown",
   "id": "0d40ec77",
   "metadata": {
    "cellId": "gj9sv530dctbzzguglam",
    "execution_id": "5aa332a2-48f5-43f7-a7f9-c86d3be523b6"
   },
   "source": [
    "## Подключаем библиотеки\n",
    "\n",
    "* Единоразово устанавливаем h3pandas"
   ]
  },
  {
   "cell_type": "code",
   "execution_count": 1,
   "id": "2c780c56",
   "metadata": {
    "cellId": "vn6jtcsqjho8z3wxmwuj2q"
   },
   "outputs": [],
   "source": [
    "# %pip install h3pandas"
   ]
  },
  {
   "cell_type": "code",
   "execution_count": 2,
   "id": "80ac28b8",
   "metadata": {
    "cellId": "utaye6qr2rsmtife50rolf"
   },
   "outputs": [],
   "source": [
    "import h3pandas\n",
    "import pandas as pd\n",
    "import geopandas as gpd\n",
    "from pyproj import CRS\n",
    "from shapely.geometry import Point\n",
    "from shapely.geometry import LineString\n",
    "from shapely.geometry.polygon import Polygon\n",
    "from shapely.geometry.multipolygon import MultiPolygon"
   ]
  },
  {
   "cell_type": "markdown",
   "id": "154f7c15",
   "metadata": {
    "cellId": "gwxrkehttzppkdfzhc76h",
    "execution_id": "d0b473f0-847a-4bf0-aa7b-b394ef39571b"
   },
   "source": [
    "## Определяем функцию для вывода данных\n",
    "\n",
    "* Функция вывода центрального региона набора геоданных"
   ]
  },
  {
   "cell_type": "code",
   "execution_count": 3,
   "id": "dd8a3595",
   "metadata": {
    "cellId": "1upwcsdwjnkjmwbfkc9e4b"
   },
   "outputs": [],
   "source": [
    "def get_center(df, qt = 0.1):\n",
    "    return df.loc[\n",
    "        (df['lng'] > df['lng'].quantile(qt)) &\n",
    "        (df['lng'] < df['lng'].quantile(1-qt)) &\n",
    "        (df['lat'] > df['lat'].quantile(qt)) &\n",
    "        (df['lat'] < df['lat'].quantile(1-qt))]"
   ]
  },
  {
   "cell_type": "markdown",
   "id": "92b2c11f",
   "metadata": {
    "cellId": "idlp5uaqgja3bvm83qm6s",
    "execution_id": "e1886ac7-a012-41ca-891d-4367049a6ab0"
   },
   "source": [
    "## Грузим данные"
   ]
  },
  {
   "cell_type": "code",
   "execution_count": 4,
   "id": "e399f105",
   "metadata": {
    "cellId": "k7184xzeoppwgmbyx6d7oo"
   },
   "outputs": [],
   "source": [
    "facility = pd.read_csv('data/facility.csv')"
   ]
  },
  {
   "cell_type": "code",
   "execution_count": 5,
   "id": "563a8ef7",
   "metadata": {
    "cellId": "c757s7b7h1q1s0ih279jqz"
   },
   "outputs": [
    {
     "data": {
      "text/html": [
       "<div>\n",
       "<style scoped>\n",
       "    .dataframe tbody tr th:only-of-type {\n",
       "        vertical-align: middle;\n",
       "    }\n",
       "\n",
       "    .dataframe tbody tr th {\n",
       "        vertical-align: top;\n",
       "    }\n",
       "\n",
       "    .dataframe thead th {\n",
       "        text-align: right;\n",
       "    }\n",
       "</style>\n",
       "<table border=\"1\" class=\"dataframe\">\n",
       "  <thead>\n",
       "    <tr style=\"text-align: right;\">\n",
       "      <th></th>\n",
       "      <th>object_id</th>\n",
       "      <th>type2</th>\n",
       "      <th>name</th>\n",
       "      <th>coordinats</th>\n",
       "      <th>address</th>\n",
       "      <th>category</th>\n",
       "      <th>x</th>\n",
       "      <th>y</th>\n",
       "      <th>geometry</th>\n",
       "    </tr>\n",
       "  </thead>\n",
       "  <tbody>\n",
       "    <tr>\n",
       "      <th>0</th>\n",
       "      <td>13</td>\n",
       "      <td>Обьекты бизнеса</td>\n",
       "      <td>Santa Pasta</td>\n",
       "      <td>[64.5332, 40.526401]</td>\n",
       "      <td>Троицкий проспект, 21</td>\n",
       "      <td>Кафе</td>\n",
       "      <td>64.533200</td>\n",
       "      <td>40.526401</td>\n",
       "      <td>010100000075CAA31B614344408A8EE4F21F225040</td>\n",
       "    </tr>\n",
       "    <tr>\n",
       "      <th>1</th>\n",
       "      <td>40</td>\n",
       "      <td>Обьекты бизнеса</td>\n",
       "      <td>Римская кофейня</td>\n",
       "      <td>[64.545284, 40.550311]</td>\n",
       "      <td>Воскресенская, 102</td>\n",
       "      <td>Кафе</td>\n",
       "      <td>64.545284</td>\n",
       "      <td>40.550311</td>\n",
       "      <td>010100000085D04197704644400DC2DCEEE5225040</td>\n",
       "    </tr>\n",
       "    <tr>\n",
       "      <th>2</th>\n",
       "      <td>173</td>\n",
       "      <td>Обьекты социальной инфраструктуры</td>\n",
       "      <td>Коммунар</td>\n",
       "      <td>[64.533747, 40.514836]</td>\n",
       "      <td>Без адреса</td>\n",
       "      <td>Музеи</td>\n",
       "      <td>64.533747</td>\n",
       "      <td>40.514836</td>\n",
       "      <td>0101000000D8666325E6414440A4552DE928225040</td>\n",
       "    </tr>\n",
       "  </tbody>\n",
       "</table>\n",
       "</div>"
      ],
      "text/plain": [
       "   object_id  ...                                    geometry\n",
       "0         13  ...  010100000075CAA31B614344408A8EE4F21F225040\n",
       "1         40  ...  010100000085D04197704644400DC2DCEEE5225040\n",
       "2        173  ...  0101000000D8666325E6414440A4552DE928225040\n",
       "\n",
       "[3 rows x 9 columns]"
      ]
     },
     "execution_count": 5,
     "metadata": {},
     "output_type": "execute_result"
    }
   ],
   "source": [
    "facility.head(3)"
   ]
  },
  {
   "cell_type": "markdown",
   "id": "0d7a7604",
   "metadata": {
    "cellId": "yrsodbq297nnwoy9lr4z",
    "execution_id": "dfb45921-f606-47b7-8bab-077e13cb66ee"
   },
   "source": [
    "## Обрабатываем данные\n",
    "\n",
    "* Проверяем что нет нулей в object_id\n",
    "* Привеодим object_id к целочисленному значению\n",
    "* Переименовываем столбцы для h3pandas\n",
    "* Удаляем лишние столбцы"
   ]
  },
  {
   "cell_type": "code",
   "execution_count": 6,
   "id": "0be65304",
   "metadata": {
    "cellId": "5jyuru5khvyaihzrx5qxs"
   },
   "outputs": [],
   "source": [
    "nulls = len(facility[facility['object_id'].isnull()])\n",
    "assert nulls == 0"
   ]
  },
  {
   "cell_type": "code",
   "execution_count": 7,
   "id": "bfb2d265",
   "metadata": {
    "cellId": "10ol8q7q1aohnb84w6kas2"
   },
   "outputs": [
    {
     "data": {
      "text/html": [
       "<div>\n",
       "<style scoped>\n",
       "    .dataframe tbody tr th:only-of-type {\n",
       "        vertical-align: middle;\n",
       "    }\n",
       "\n",
       "    .dataframe tbody tr th {\n",
       "        vertical-align: top;\n",
       "    }\n",
       "\n",
       "    .dataframe thead th {\n",
       "        text-align: right;\n",
       "    }\n",
       "</style>\n",
       "<table border=\"1\" class=\"dataframe\">\n",
       "  <thead>\n",
       "    <tr style=\"text-align: right;\">\n",
       "      <th></th>\n",
       "      <th>object_id</th>\n",
       "      <th>type2</th>\n",
       "      <th>name</th>\n",
       "      <th>coordinats</th>\n",
       "      <th>address</th>\n",
       "      <th>category</th>\n",
       "      <th>x</th>\n",
       "      <th>y</th>\n",
       "      <th>geometry</th>\n",
       "    </tr>\n",
       "  </thead>\n",
       "  <tbody>\n",
       "    <tr>\n",
       "      <th>0</th>\n",
       "      <td>13</td>\n",
       "      <td>Обьекты бизнеса</td>\n",
       "      <td>Santa Pasta</td>\n",
       "      <td>[64.5332, 40.526401]</td>\n",
       "      <td>Троицкий проспект, 21</td>\n",
       "      <td>Кафе</td>\n",
       "      <td>64.533200</td>\n",
       "      <td>40.526401</td>\n",
       "      <td>010100000075CAA31B614344408A8EE4F21F225040</td>\n",
       "    </tr>\n",
       "    <tr>\n",
       "      <th>1</th>\n",
       "      <td>40</td>\n",
       "      <td>Обьекты бизнеса</td>\n",
       "      <td>Римская кофейня</td>\n",
       "      <td>[64.545284, 40.550311]</td>\n",
       "      <td>Воскресенская, 102</td>\n",
       "      <td>Кафе</td>\n",
       "      <td>64.545284</td>\n",
       "      <td>40.550311</td>\n",
       "      <td>010100000085D04197704644400DC2DCEEE5225040</td>\n",
       "    </tr>\n",
       "    <tr>\n",
       "      <th>2</th>\n",
       "      <td>173</td>\n",
       "      <td>Обьекты социальной инфраструктуры</td>\n",
       "      <td>Коммунар</td>\n",
       "      <td>[64.533747, 40.514836]</td>\n",
       "      <td>Без адреса</td>\n",
       "      <td>Музеи</td>\n",
       "      <td>64.533747</td>\n",
       "      <td>40.514836</td>\n",
       "      <td>0101000000D8666325E6414440A4552DE928225040</td>\n",
       "    </tr>\n",
       "  </tbody>\n",
       "</table>\n",
       "</div>"
      ],
      "text/plain": [
       "   object_id  ...                                    geometry\n",
       "0         13  ...  010100000075CAA31B614344408A8EE4F21F225040\n",
       "1         40  ...  010100000085D04197704644400DC2DCEEE5225040\n",
       "2        173  ...  0101000000D8666325E6414440A4552DE928225040\n",
       "\n",
       "[3 rows x 9 columns]"
      ]
     },
     "execution_count": 7,
     "metadata": {},
     "output_type": "execute_result"
    }
   ],
   "source": [
    "facility = facility.astype({'object_id': 'int32'})\n",
    "facility.head(3)"
   ]
  },
  {
   "cell_type": "code",
   "execution_count": 8,
   "id": "6eaddd6b",
   "metadata": {
    "cellId": "inoi2hwf11mq2jbq07wz9d"
   },
   "outputs": [
    {
     "data": {
      "text/html": [
       "<div>\n",
       "<style scoped>\n",
       "    .dataframe tbody tr th:only-of-type {\n",
       "        vertical-align: middle;\n",
       "    }\n",
       "\n",
       "    .dataframe tbody tr th {\n",
       "        vertical-align: top;\n",
       "    }\n",
       "\n",
       "    .dataframe thead th {\n",
       "        text-align: right;\n",
       "    }\n",
       "</style>\n",
       "<table border=\"1\" class=\"dataframe\">\n",
       "  <thead>\n",
       "    <tr style=\"text-align: right;\">\n",
       "      <th></th>\n",
       "      <th>object_id</th>\n",
       "      <th>type2</th>\n",
       "      <th>name</th>\n",
       "      <th>coordinats</th>\n",
       "      <th>address</th>\n",
       "      <th>category</th>\n",
       "      <th>lat</th>\n",
       "      <th>lng</th>\n",
       "      <th>geometry</th>\n",
       "    </tr>\n",
       "  </thead>\n",
       "  <tbody>\n",
       "    <tr>\n",
       "      <th>0</th>\n",
       "      <td>13</td>\n",
       "      <td>Обьекты бизнеса</td>\n",
       "      <td>Santa Pasta</td>\n",
       "      <td>[64.5332, 40.526401]</td>\n",
       "      <td>Троицкий проспект, 21</td>\n",
       "      <td>Кафе</td>\n",
       "      <td>64.533200</td>\n",
       "      <td>40.526401</td>\n",
       "      <td>010100000075CAA31B614344408A8EE4F21F225040</td>\n",
       "    </tr>\n",
       "    <tr>\n",
       "      <th>1</th>\n",
       "      <td>40</td>\n",
       "      <td>Обьекты бизнеса</td>\n",
       "      <td>Римская кофейня</td>\n",
       "      <td>[64.545284, 40.550311]</td>\n",
       "      <td>Воскресенская, 102</td>\n",
       "      <td>Кафе</td>\n",
       "      <td>64.545284</td>\n",
       "      <td>40.550311</td>\n",
       "      <td>010100000085D04197704644400DC2DCEEE5225040</td>\n",
       "    </tr>\n",
       "    <tr>\n",
       "      <th>2</th>\n",
       "      <td>173</td>\n",
       "      <td>Обьекты социальной инфраструктуры</td>\n",
       "      <td>Коммунар</td>\n",
       "      <td>[64.533747, 40.514836]</td>\n",
       "      <td>Без адреса</td>\n",
       "      <td>Музеи</td>\n",
       "      <td>64.533747</td>\n",
       "      <td>40.514836</td>\n",
       "      <td>0101000000D8666325E6414440A4552DE928225040</td>\n",
       "    </tr>\n",
       "  </tbody>\n",
       "</table>\n",
       "</div>"
      ],
      "text/plain": [
       "   object_id  ...                                    geometry\n",
       "0         13  ...  010100000075CAA31B614344408A8EE4F21F225040\n",
       "1         40  ...  010100000085D04197704644400DC2DCEEE5225040\n",
       "2        173  ...  0101000000D8666325E6414440A4552DE928225040\n",
       "\n",
       "[3 rows x 9 columns]"
      ]
     },
     "execution_count": 8,
     "metadata": {},
     "output_type": "execute_result"
    }
   ],
   "source": [
    "facility = facility.rename({'y': 'lng', 'x': 'lat'}, axis=1)\n",
    "facility.head(3)"
   ]
  },
  {
   "cell_type": "code",
   "execution_count": 9,
   "id": "181f3741",
   "metadata": {
    "cellId": "uj36oph4jeisp6fmin1ap"
   },
   "outputs": [
    {
     "data": {
      "text/html": [
       "<div>\n",
       "<style scoped>\n",
       "    .dataframe tbody tr th:only-of-type {\n",
       "        vertical-align: middle;\n",
       "    }\n",
       "\n",
       "    .dataframe tbody tr th {\n",
       "        vertical-align: top;\n",
       "    }\n",
       "\n",
       "    .dataframe thead th {\n",
       "        text-align: right;\n",
       "    }\n",
       "</style>\n",
       "<table border=\"1\" class=\"dataframe\">\n",
       "  <thead>\n",
       "    <tr style=\"text-align: right;\">\n",
       "      <th></th>\n",
       "      <th>object_id</th>\n",
       "      <th>type2</th>\n",
       "      <th>name</th>\n",
       "      <th>address</th>\n",
       "      <th>category</th>\n",
       "      <th>lat</th>\n",
       "      <th>lng</th>\n",
       "    </tr>\n",
       "  </thead>\n",
       "  <tbody>\n",
       "    <tr>\n",
       "      <th>0</th>\n",
       "      <td>13</td>\n",
       "      <td>Обьекты бизнеса</td>\n",
       "      <td>Santa Pasta</td>\n",
       "      <td>Троицкий проспект, 21</td>\n",
       "      <td>Кафе</td>\n",
       "      <td>64.533200</td>\n",
       "      <td>40.526401</td>\n",
       "    </tr>\n",
       "    <tr>\n",
       "      <th>1</th>\n",
       "      <td>40</td>\n",
       "      <td>Обьекты бизнеса</td>\n",
       "      <td>Римская кофейня</td>\n",
       "      <td>Воскресенская, 102</td>\n",
       "      <td>Кафе</td>\n",
       "      <td>64.545284</td>\n",
       "      <td>40.550311</td>\n",
       "    </tr>\n",
       "    <tr>\n",
       "      <th>2</th>\n",
       "      <td>173</td>\n",
       "      <td>Обьекты социальной инфраструктуры</td>\n",
       "      <td>Коммунар</td>\n",
       "      <td>Без адреса</td>\n",
       "      <td>Музеи</td>\n",
       "      <td>64.533747</td>\n",
       "      <td>40.514836</td>\n",
       "    </tr>\n",
       "  </tbody>\n",
       "</table>\n",
       "</div>"
      ],
      "text/plain": [
       "   object_id                              type2  ...        lat        lng\n",
       "0         13                    Обьекты бизнеса  ...  64.533200  40.526401\n",
       "1         40                    Обьекты бизнеса  ...  64.545284  40.550311\n",
       "2        173  Обьекты социальной инфраструктуры  ...  64.533747  40.514836\n",
       "\n",
       "[3 rows x 7 columns]"
      ]
     },
     "execution_count": 9,
     "metadata": {},
     "output_type": "execute_result"
    }
   ],
   "source": [
    "facility = facility.drop(columns=['coordinats', 'geometry'])\n",
    "facility.head(3)"
   ]
  },
  {
   "cell_type": "markdown",
   "id": "dcc874d8",
   "metadata": {
    "cellId": "b2s5zja1lb7y1mvm2mmj5",
    "execution_id": "807dbfb8-66a0-44bc-b170-356ccb29056f"
   },
   "source": [
    "## Проверяем, что у нас в центер города"
   ]
  },
  {
   "cell_type": "code",
   "execution_count": 10,
   "id": "fbf9e7f0",
   "metadata": {
    "cellId": "q04bnm8v3tnxt1gaq1exin"
   },
   "outputs": [
    {
     "data": {
      "text/plain": [
       "<matplotlib.axes._subplots.AxesSubplot at 0x7f5775b66820>"
      ]
     },
     "execution_count": 10,
     "metadata": {},
     "output_type": "execute_result"
    },
    {
     "data": {
      "image/png": "[encoded data removed]",
      "text/plain": [
       "<Figure size 504x504 with 1 Axes>"
      ]
     },
     "metadata": {
      "needs_background": "light"
     },
     "output_type": "display_data"
    }
   ],
   "source": [
    "get_center(facility, 0.08).plot.scatter(x='lng', y='lat', figsize=(7,7), alpha=0.5)"
   ]
  },
  {
   "cell_type": "markdown",
   "id": "fda5713e",
   "metadata": {
    "cellId": "jezkl1h4r0fhdm3sywrpde",
    "execution_id": "28429fde-f66b-444d-af26-4ecc549bf14d"
   },
   "source": [
    "## Приводим данные к формату h3pandas"
   ]
  },
  {
   "cell_type": "code",
   "execution_count": 11,
   "id": "1e923689",
   "metadata": {
    "cellId": "dtf3footz38fs6qlogkdy"
   },
   "outputs": [
    {
     "data": {
      "text/html": [
       "<div>\n",
       "<style scoped>\n",
       "    .dataframe tbody tr th:only-of-type {\n",
       "        vertical-align: middle;\n",
       "    }\n",
       "\n",
       "    .dataframe tbody tr th {\n",
       "        vertical-align: top;\n",
       "    }\n",
       "\n",
       "    .dataframe thead th {\n",
       "        text-align: right;\n",
       "    }\n",
       "</style>\n",
       "<table border=\"1\" class=\"dataframe\">\n",
       "  <thead>\n",
       "    <tr style=\"text-align: right;\">\n",
       "      <th></th>\n",
       "      <th>object_id</th>\n",
       "      <th>type2</th>\n",
       "      <th>name</th>\n",
       "      <th>address</th>\n",
       "      <th>category</th>\n",
       "      <th>lat</th>\n",
       "      <th>lng</th>\n",
       "    </tr>\n",
       "    <tr>\n",
       "      <th>h3_09</th>\n",
       "      <th></th>\n",
       "      <th></th>\n",
       "      <th></th>\n",
       "      <th></th>\n",
       "      <th></th>\n",
       "      <th></th>\n",
       "      <th></th>\n",
       "    </tr>\n",
       "  </thead>\n",
       "  <tbody>\n",
       "    <tr>\n",
       "      <th>891150a881bffff</th>\n",
       "      <td>13</td>\n",
       "      <td>Обьекты бизнеса</td>\n",
       "      <td>Santa Pasta</td>\n",
       "      <td>Троицкий проспект, 21</td>\n",
       "      <td>Кафе</td>\n",
       "      <td>64.533200</td>\n",
       "      <td>40.526401</td>\n",
       "    </tr>\n",
       "    <tr>\n",
       "      <th>891150a8827ffff</th>\n",
       "      <td>40</td>\n",
       "      <td>Обьекты бизнеса</td>\n",
       "      <td>Римская кофейня</td>\n",
       "      <td>Воскресенская, 102</td>\n",
       "      <td>Кафе</td>\n",
       "      <td>64.545284</td>\n",
       "      <td>40.550311</td>\n",
       "    </tr>\n",
       "    <tr>\n",
       "      <th>891150a88d7ffff</th>\n",
       "      <td>173</td>\n",
       "      <td>Обьекты социальной инфраструктуры</td>\n",
       "      <td>Коммунар</td>\n",
       "      <td>Без адреса</td>\n",
       "      <td>Музеи</td>\n",
       "      <td>64.533747</td>\n",
       "      <td>40.514836</td>\n",
       "    </tr>\n",
       "    <tr>\n",
       "      <th>891150a895bffff</th>\n",
       "      <td>379</td>\n",
       "      <td>Парк</td>\n",
       "      <td>NaN</td>\n",
       "      <td>Парк Зарусье</td>\n",
       "      <td>NaN</td>\n",
       "      <td>64.542998</td>\n",
       "      <td>40.560676</td>\n",
       "    </tr>\n",
       "    <tr>\n",
       "      <th>89115032437ffff</th>\n",
       "      <td>354</td>\n",
       "      <td>Парк</td>\n",
       "      <td>NaN</td>\n",
       "      <td>Майский</td>\n",
       "      <td>NaN</td>\n",
       "      <td>64.523584</td>\n",
       "      <td>40.610349</td>\n",
       "    </tr>\n",
       "  </tbody>\n",
       "</table>\n",
       "</div>"
      ],
      "text/plain": [
       "                 object_id  ...        lng\n",
       "h3_09                       ...           \n",
       "891150a881bffff         13  ...  40.526401\n",
       "891150a8827ffff         40  ...  40.550311\n",
       "891150a88d7ffff        173  ...  40.514836\n",
       "891150a895bffff        379  ...  40.560676\n",
       "89115032437ffff        354  ...  40.610349\n",
       "\n",
       "[5 rows x 7 columns]"
      ]
     },
     "execution_count": 11,
     "metadata": {},
     "output_type": "execute_result"
    }
   ],
   "source": [
    "facility3 = facility.h3.geo_to_h3(9)\n",
    "facility3.head()"
   ]
  },
  {
   "cell_type": "code",
   "execution_count": 12,
   "id": "bd6c3c62",
   "metadata": {
    "cellId": "943dcpycj896huiw9ckcv7"
   },
   "outputs": [
    {
     "data": {
      "text/html": [
       "<div>\n",
       "<style scoped>\n",
       "    .dataframe tbody tr th:only-of-type {\n",
       "        vertical-align: middle;\n",
       "    }\n",
       "\n",
       "    .dataframe tbody tr th {\n",
       "        vertical-align: top;\n",
       "    }\n",
       "\n",
       "    .dataframe thead th {\n",
       "        text-align: right;\n",
       "    }\n",
       "</style>\n",
       "<table border=\"1\" class=\"dataframe\">\n",
       "  <thead>\n",
       "    <tr style=\"text-align: right;\">\n",
       "      <th></th>\n",
       "      <th>object_id</th>\n",
       "      <th>type2</th>\n",
       "      <th>name</th>\n",
       "      <th>address</th>\n",
       "      <th>category</th>\n",
       "      <th>lat</th>\n",
       "      <th>lng</th>\n",
       "      <th>geometry</th>\n",
       "    </tr>\n",
       "    <tr>\n",
       "      <th>h3_09</th>\n",
       "      <th></th>\n",
       "      <th></th>\n",
       "      <th></th>\n",
       "      <th></th>\n",
       "      <th></th>\n",
       "      <th></th>\n",
       "      <th></th>\n",
       "      <th></th>\n",
       "    </tr>\n",
       "  </thead>\n",
       "  <tbody>\n",
       "    <tr>\n",
       "      <th>891150a881bffff</th>\n",
       "      <td>13</td>\n",
       "      <td>Обьекты бизнеса</td>\n",
       "      <td>Santa Pasta</td>\n",
       "      <td>Троицкий проспект, 21</td>\n",
       "      <td>Кафе</td>\n",
       "      <td>64.533200</td>\n",
       "      <td>40.526401</td>\n",
       "      <td>POLYGON ((40.52461 64.53358, 40.52763 64.53259...</td>\n",
       "    </tr>\n",
       "    <tr>\n",
       "      <th>891150a8827ffff</th>\n",
       "      <td>40</td>\n",
       "      <td>Обьекты бизнеса</td>\n",
       "      <td>Римская кофейня</td>\n",
       "      <td>Воскресенская, 102</td>\n",
       "      <td>Кафе</td>\n",
       "      <td>64.545284</td>\n",
       "      <td>40.550311</td>\n",
       "      <td>POLYGON ((40.54855 64.54338, 40.55157 64.54239...</td>\n",
       "    </tr>\n",
       "    <tr>\n",
       "      <th>891150a88d7ffff</th>\n",
       "      <td>173</td>\n",
       "      <td>Обьекты социальной инфраструктуры</td>\n",
       "      <td>Коммунар</td>\n",
       "      <td>Без адреса</td>\n",
       "      <td>Музеи</td>\n",
       "      <td>64.533747</td>\n",
       "      <td>40.514836</td>\n",
       "      <td>POLYGON ((40.51124 64.53404, 40.51426 64.53305...</td>\n",
       "    </tr>\n",
       "  </tbody>\n",
       "</table>\n",
       "</div>"
      ],
      "text/plain": [
       "                 object_id  ...                                           geometry\n",
       "h3_09                       ...                                                   \n",
       "891150a881bffff         13  ...  POLYGON ((40.52461 64.53358, 40.52763 64.53259...\n",
       "891150a8827ffff         40  ...  POLYGON ((40.54855 64.54338, 40.55157 64.54239...\n",
       "891150a88d7ffff        173  ...  POLYGON ((40.51124 64.53404, 40.51426 64.53305...\n",
       "\n",
       "[3 rows x 8 columns]"
      ]
     },
     "execution_count": 12,
     "metadata": {},
     "output_type": "execute_result"
    }
   ],
   "source": [
    "geofacility3 = facility3.h3.h3_to_geo_boundary()\n",
    "geofacility3.head(3)"
   ]
  },
  {
   "cell_type": "markdown",
   "id": "77068118",
   "metadata": {
    "cellId": "hs4bohp9kwviccu47cel3",
    "execution_id": "908cfd85-f3d3-4b40-823e-db5abbec6339"
   },
   "source": [
    "## Рисуем наши полигоны в центер города"
   ]
  },
  {
   "cell_type": "code",
   "execution_count": 13,
   "id": "4689877b",
   "metadata": {
    "cellId": "qe7n9dm9tfts6gp5908g"
   },
   "outputs": [],
   "source": [
    "# Раскомментировать в случае надобности\n",
    "#geofacility3.explore(width='30%', height='60%')"
   ]
  },
  {
   "cell_type": "code",
   "execution_count": 14,
   "id": "9ae976d4",
   "metadata": {
    "cellId": "i6ankx8kfvjxv8qx66b5k"
   },
   "outputs": [
    {
     "data": {
      "text/plain": [
       "<matplotlib.axes._subplots.AxesSubplot at 0x7f57743570a0>"
      ]
     },
     "execution_count": 14,
     "metadata": {},
     "output_type": "execute_result"
    },
    {
     "data": {
      "image/png": "[encoded data removed]",
      "text/plain": [
       "<Figure size 504x504 with 1 Axes>"
      ]
     },
     "metadata": {
      "needs_background": "light"
     },
     "output_type": "display_data"
    }
   ],
   "source": [
    "get_center(geofacility3).plot(figsize=(7,7))"
   ]
  },
  {
   "cell_type": "markdown",
   "id": "f3b8ab6d",
   "metadata": {
    "cellId": "zqnjzjyenqotdmxmfcfc1c",
    "execution_id": "33228e89-5e19-404b-b656-f040531ea381"
   },
   "source": [
    "## Строим набор данных для точек"
   ]
  },
  {
   "cell_type": "code",
   "execution_count": 15,
   "id": "f1a9c27f",
   "metadata": {
    "cellId": "ik4sapf885qeu02n0k6h1"
   },
   "outputs": [
    {
     "data": {
      "text/html": [
       "<div>\n",
       "<style scoped>\n",
       "    .dataframe tbody tr th:only-of-type {\n",
       "        vertical-align: middle;\n",
       "    }\n",
       "\n",
       "    .dataframe tbody tr th {\n",
       "        vertical-align: top;\n",
       "    }\n",
       "\n",
       "    .dataframe thead th {\n",
       "        text-align: right;\n",
       "    }\n",
       "</style>\n",
       "<table border=\"1\" class=\"dataframe\">\n",
       "  <thead>\n",
       "    <tr style=\"text-align: right;\">\n",
       "      <th></th>\n",
       "      <th>object_id</th>\n",
       "      <th>type2</th>\n",
       "      <th>name</th>\n",
       "      <th>address</th>\n",
       "      <th>category</th>\n",
       "      <th>lat</th>\n",
       "      <th>lng</th>\n",
       "    </tr>\n",
       "  </thead>\n",
       "  <tbody>\n",
       "    <tr>\n",
       "      <th>0</th>\n",
       "      <td>13</td>\n",
       "      <td>Обьекты бизнеса</td>\n",
       "      <td>Santa Pasta</td>\n",
       "      <td>Троицкий проспект, 21</td>\n",
       "      <td>Кафе</td>\n",
       "      <td>64.533200</td>\n",
       "      <td>40.526401</td>\n",
       "    </tr>\n",
       "    <tr>\n",
       "      <th>1</th>\n",
       "      <td>40</td>\n",
       "      <td>Обьекты бизнеса</td>\n",
       "      <td>Римская кофейня</td>\n",
       "      <td>Воскресенская, 102</td>\n",
       "      <td>Кафе</td>\n",
       "      <td>64.545284</td>\n",
       "      <td>40.550311</td>\n",
       "    </tr>\n",
       "    <tr>\n",
       "      <th>2</th>\n",
       "      <td>173</td>\n",
       "      <td>Обьекты социальной инфраструктуры</td>\n",
       "      <td>Коммунар</td>\n",
       "      <td>Без адреса</td>\n",
       "      <td>Музеи</td>\n",
       "      <td>64.533747</td>\n",
       "      <td>40.514836</td>\n",
       "    </tr>\n",
       "  </tbody>\n",
       "</table>\n",
       "</div>"
      ],
      "text/plain": [
       "   object_id                              type2  ...        lat        lng\n",
       "0         13                    Обьекты бизнеса  ...  64.533200  40.526401\n",
       "1         40                    Обьекты бизнеса  ...  64.545284  40.550311\n",
       "2        173  Обьекты социальной инфраструктуры  ...  64.533747  40.514836\n",
       "\n",
       "[3 rows x 7 columns]"
      ]
     },
     "execution_count": 15,
     "metadata": {},
     "output_type": "execute_result"
    }
   ],
   "source": [
    "facility.head(3)"
   ]
  },
  {
   "cell_type": "code",
   "execution_count": 16,
   "id": "b8dbc742",
   "metadata": {
    "cellId": "mywhgiv7migujd36la6nq"
   },
   "outputs": [
    {
     "data": {
      "text/html": [
       "<div>\n",
       "<style scoped>\n",
       "    .dataframe tbody tr th:only-of-type {\n",
       "        vertical-align: middle;\n",
       "    }\n",
       "\n",
       "    .dataframe tbody tr th {\n",
       "        vertical-align: top;\n",
       "    }\n",
       "\n",
       "    .dataframe thead th {\n",
       "        text-align: right;\n",
       "    }\n",
       "</style>\n",
       "<table border=\"1\" class=\"dataframe\">\n",
       "  <thead>\n",
       "    <tr style=\"text-align: right;\">\n",
       "      <th></th>\n",
       "      <th>object_id</th>\n",
       "      <th>type2</th>\n",
       "      <th>name</th>\n",
       "      <th>address</th>\n",
       "      <th>category</th>\n",
       "      <th>lat</th>\n",
       "      <th>lng</th>\n",
       "      <th>geometry</th>\n",
       "    </tr>\n",
       "  </thead>\n",
       "  <tbody>\n",
       "    <tr>\n",
       "      <th>0</th>\n",
       "      <td>13</td>\n",
       "      <td>Обьекты бизнеса</td>\n",
       "      <td>Santa Pasta</td>\n",
       "      <td>Троицкий проспект, 21</td>\n",
       "      <td>Кафе</td>\n",
       "      <td>64.533200</td>\n",
       "      <td>40.526401</td>\n",
       "      <td>POINT (40.52640 64.53320)</td>\n",
       "    </tr>\n",
       "    <tr>\n",
       "      <th>1</th>\n",
       "      <td>40</td>\n",
       "      <td>Обьекты бизнеса</td>\n",
       "      <td>Римская кофейня</td>\n",
       "      <td>Воскресенская, 102</td>\n",
       "      <td>Кафе</td>\n",
       "      <td>64.545284</td>\n",
       "      <td>40.550311</td>\n",
       "      <td>POINT (40.55031 64.54528)</td>\n",
       "    </tr>\n",
       "    <tr>\n",
       "      <th>2</th>\n",
       "      <td>173</td>\n",
       "      <td>Обьекты социальной инфраструктуры</td>\n",
       "      <td>Коммунар</td>\n",
       "      <td>Без адреса</td>\n",
       "      <td>Музеи</td>\n",
       "      <td>64.533747</td>\n",
       "      <td>40.514836</td>\n",
       "      <td>POINT (40.51484 64.53375)</td>\n",
       "    </tr>\n",
       "  </tbody>\n",
       "</table>\n",
       "</div>"
      ],
      "text/plain": [
       "   object_id  ...                   geometry\n",
       "0         13  ...  POINT (40.52640 64.53320)\n",
       "1         40  ...  POINT (40.55031 64.54528)\n",
       "2        173  ...  POINT (40.51484 64.53375)\n",
       "\n",
       "[3 rows x 8 columns]"
      ]
     },
     "execution_count": 16,
     "metadata": {},
     "output_type": "execute_result"
    }
   ],
   "source": [
    "geometry = [Point(xy) for xy in zip(facility.lng, facility.lat)]\n",
    "geofacility = gpd.GeoDataFrame(facility, crs=geofacility3.crs, geometry=geometry)\n",
    "geofacility.head(3)"
   ]
  },
  {
   "cell_type": "markdown",
   "id": "0da51b40",
   "metadata": {
    "cellId": "8wqpbu2letcyllseabphog",
    "execution_id": "058f62be-4b76-46bf-9b75-d5fea0ef0072"
   },
   "source": [
    "## Отображаем точки и полигоны"
   ]
  },
  {
   "cell_type": "code",
   "execution_count": 17,
   "id": "4c42b10e",
   "metadata": {
    "cellId": "z85983hppmh0sl88kidf7z"
   },
   "outputs": [
    {
     "data": {
      "text/plain": [
       "<matplotlib.axes._subplots.AxesSubplot at 0x7f57742f7760>"
      ]
     },
     "execution_count": 17,
     "metadata": {},
     "output_type": "execute_result"
    },
    {
     "data": {
      "image/png": "[encoded data removed]",
      "text/plain": [
       "<Figure size 720x720 with 1 Axes>"
      ]
     },
     "metadata": {
      "needs_background": "light"
     },
     "output_type": "display_data"
    }
   ],
   "source": [
    "ax = get_center(geofacility).plot(\n",
    "    figsize=(10,10), facecolor=\"teal\", markersize=2)\n",
    "get_center(geofacility3).plot(\n",
    "    ax=ax, figsize=(10,10), facecolor=\"none\", edgecolor=\"black\")"
   ]
  },
  {
   "cell_type": "markdown",
   "id": "a0544939",
   "metadata": {
    "cellId": "pcyjokrmnlc4ynpwa4foxn",
    "execution_id": "c86676c6-9c62-4cee-95a4-c73a59505909"
   },
   "source": [
    "## Готовим набор к экспорту"
   ]
  },
  {
   "cell_type": "code",
   "execution_count": 18,
   "id": "4786dc5d",
   "metadata": {
    "cellId": "c4f03h93jrwq4mevbyodu"
   },
   "outputs": [
    {
     "data": {
      "text/html": [
       "<div>\n",
       "<style scoped>\n",
       "    .dataframe tbody tr th:only-of-type {\n",
       "        vertical-align: middle;\n",
       "    }\n",
       "\n",
       "    .dataframe tbody tr th {\n",
       "        vertical-align: top;\n",
       "    }\n",
       "\n",
       "    .dataframe thead th {\n",
       "        text-align: right;\n",
       "    }\n",
       "</style>\n",
       "<table border=\"1\" class=\"dataframe\">\n",
       "  <thead>\n",
       "    <tr style=\"text-align: right;\">\n",
       "      <th></th>\n",
       "      <th>object_id</th>\n",
       "      <th>type2</th>\n",
       "      <th>name</th>\n",
       "      <th>address</th>\n",
       "      <th>category</th>\n",
       "      <th>lat</th>\n",
       "      <th>lng</th>\n",
       "      <th>geometry</th>\n",
       "    </tr>\n",
       "    <tr>\n",
       "      <th>h3_09</th>\n",
       "      <th></th>\n",
       "      <th></th>\n",
       "      <th></th>\n",
       "      <th></th>\n",
       "      <th></th>\n",
       "      <th></th>\n",
       "      <th></th>\n",
       "      <th></th>\n",
       "    </tr>\n",
       "  </thead>\n",
       "  <tbody>\n",
       "    <tr>\n",
       "      <th>891150a881bffff</th>\n",
       "      <td>13</td>\n",
       "      <td>Обьекты бизнеса</td>\n",
       "      <td>Santa Pasta</td>\n",
       "      <td>Троицкий проспект, 21</td>\n",
       "      <td>Кафе</td>\n",
       "      <td>64.533200</td>\n",
       "      <td>40.526401</td>\n",
       "      <td>POLYGON ((40.52461 64.53358, 40.52763 64.53259...</td>\n",
       "    </tr>\n",
       "    <tr>\n",
       "      <th>891150a8827ffff</th>\n",
       "      <td>40</td>\n",
       "      <td>Обьекты бизнеса</td>\n",
       "      <td>Римская кофейня</td>\n",
       "      <td>Воскресенская, 102</td>\n",
       "      <td>Кафе</td>\n",
       "      <td>64.545284</td>\n",
       "      <td>40.550311</td>\n",
       "      <td>POLYGON ((40.54855 64.54338, 40.55157 64.54239...</td>\n",
       "    </tr>\n",
       "    <tr>\n",
       "      <th>891150a88d7ffff</th>\n",
       "      <td>173</td>\n",
       "      <td>Обьекты социальной инфраструктуры</td>\n",
       "      <td>Коммунар</td>\n",
       "      <td>Без адреса</td>\n",
       "      <td>Музеи</td>\n",
       "      <td>64.533747</td>\n",
       "      <td>40.514836</td>\n",
       "      <td>POLYGON ((40.51124 64.53404, 40.51426 64.53305...</td>\n",
       "    </tr>\n",
       "  </tbody>\n",
       "</table>\n",
       "</div>"
      ],
      "text/plain": [
       "                 object_id  ...                                           geometry\n",
       "h3_09                       ...                                                   \n",
       "891150a881bffff         13  ...  POLYGON ((40.52461 64.53358, 40.52763 64.53259...\n",
       "891150a8827ffff         40  ...  POLYGON ((40.54855 64.54338, 40.55157 64.54239...\n",
       "891150a88d7ffff        173  ...  POLYGON ((40.51124 64.53404, 40.51426 64.53305...\n",
       "\n",
       "[3 rows x 8 columns]"
      ]
     },
     "execution_count": 18,
     "metadata": {},
     "output_type": "execute_result"
    }
   ],
   "source": [
    "geofacility3.head(3)"
   ]
  },
  {
   "cell_type": "code",
   "execution_count": 19,
   "id": "62284460",
   "metadata": {
    "cellId": "h8nko5y7f086d6hxzompqk"
   },
   "outputs": [
    {
     "data": {
      "text/html": [
       "<div>\n",
       "<style scoped>\n",
       "    .dataframe tbody tr th:only-of-type {\n",
       "        vertical-align: middle;\n",
       "    }\n",
       "\n",
       "    .dataframe tbody tr th {\n",
       "        vertical-align: top;\n",
       "    }\n",
       "\n",
       "    .dataframe thead th {\n",
       "        text-align: right;\n",
       "    }\n",
       "</style>\n",
       "<table border=\"1\" class=\"dataframe\">\n",
       "  <thead>\n",
       "    <tr style=\"text-align: right;\">\n",
       "      <th></th>\n",
       "      <th>object_id</th>\n",
       "      <th>geometry</th>\n",
       "    </tr>\n",
       "  </thead>\n",
       "  <tbody>\n",
       "    <tr>\n",
       "      <th>0</th>\n",
       "      <td>13</td>\n",
       "      <td>POLYGON ((40.52461 64.53358, 40.52763 64.53259...</td>\n",
       "    </tr>\n",
       "    <tr>\n",
       "      <th>1</th>\n",
       "      <td>40</td>\n",
       "      <td>POLYGON ((40.54855 64.54338, 40.55157 64.54239...</td>\n",
       "    </tr>\n",
       "    <tr>\n",
       "      <th>2</th>\n",
       "      <td>173</td>\n",
       "      <td>POLYGON ((40.51124 64.53404, 40.51426 64.53305...</td>\n",
       "    </tr>\n",
       "  </tbody>\n",
       "</table>\n",
       "</div>"
      ],
      "text/plain": [
       "   object_id                                           geometry\n",
       "0         13  POLYGON ((40.52461 64.53358, 40.52763 64.53259...\n",
       "1         40  POLYGON ((40.54855 64.54338, 40.55157 64.54239...\n",
       "2        173  POLYGON ((40.51124 64.53404, 40.51426 64.53305..."
      ]
     },
     "execution_count": 19,
     "metadata": {},
     "output_type": "execute_result"
    }
   ],
   "source": [
    "geometry = geofacility3['geometry']\n",
    "data = geofacility3['object_id']\n",
    "gdf = gpd.GeoDataFrame(data=data, geometry=geometry, crs=geofacility3.crs)\n",
    "gdf = gdf.reset_index()\n",
    "gdf = gdf.drop(columns=['h3_09'])\n",
    "gdf.head(3)"
   ]
  },
  {
   "cell_type": "markdown",
   "id": "5310682f",
   "metadata": {
    "cellId": "a5ly4zp30c7t165vlvkwui",
    "execution_id": "88d210a6-c241-42cd-a5e1-0d1db6429464"
   },
   "source": [
    "## Экспортируем набор данных с полигонами"
   ]
  },
  {
   "cell_type": "code",
   "execution_count": 20,
   "id": "720380b5",
   "metadata": {
    "cellId": "hvqrqttyk4emxahbfctign"
   },
   "outputs": [],
   "source": [
    "gdf.to_file('data/facility.geojson', driver='GeoJSON')"
   ]
  },
  {
   "cell_type": "markdown",
   "id": "bc015edf",
   "metadata": {
    "cellId": "zkqtido0c8lvndy29dhav9",
    "execution_id": "f04978f5-6e32-47ab-9520-83db65883b04"
   },
   "source": [
    "## Экспортируем данные для DataLens"
   ]
  },
  {
   "cell_type": "code",
   "execution_count": 22,
   "id": "9fe6ffdc",
   "metadata": {
    "cellId": "iq9jbf5oi51as3p19rq0i"
   },
   "outputs": [
    {
     "data": {
      "text/html": [
       "<div>\n",
       "<style scoped>\n",
       "    .dataframe tbody tr th:only-of-type {\n",
       "        vertical-align: middle;\n",
       "    }\n",
       "\n",
       "    .dataframe tbody tr th {\n",
       "        vertical-align: top;\n",
       "    }\n",
       "\n",
       "    .dataframe thead th {\n",
       "        text-align: right;\n",
       "    }\n",
       "</style>\n",
       "<table border=\"1\" class=\"dataframe\">\n",
       "  <thead>\n",
       "    <tr style=\"text-align: right;\">\n",
       "      <th></th>\n",
       "      <th>object_id</th>\n",
       "      <th>geometry</th>\n",
       "    </tr>\n",
       "  </thead>\n",
       "  <tbody>\n",
       "    <tr>\n",
       "      <th>0</th>\n",
       "      <td>13</td>\n",
       "      <td>[[[64.53357960675277, 40.52460840474879], [64....</td>\n",
       "    </tr>\n",
       "    <tr>\n",
       "      <th>1</th>\n",
       "      <td>40</td>\n",
       "      <td>[[[64.5433789533762, 40.54854571749962], [64.5...</td>\n",
       "    </tr>\n",
       "    <tr>\n",
       "      <th>2</th>\n",
       "      <td>173</td>\n",
       "      <td>[[[64.53404159037963, 40.511240128323244], [64...</td>\n",
       "    </tr>\n",
       "  </tbody>\n",
       "</table>\n",
       "</div>"
      ],
      "text/plain": [
       "   object_id                                           geometry\n",
       "0         13  [[[64.53357960675277, 40.52460840474879], [64....\n",
       "1         40  [[[64.5433789533762, 40.54854571749962], [64.5...\n",
       "2        173  [[[64.53404159037963, 40.511240128323244], [64..."
      ]
     },
     "execution_count": 22,
     "metadata": {},
     "output_type": "execute_result"
    }
   ],
   "source": [
    "all_res = []\n",
    "\n",
    "def convert(df):\n",
    "    for _, row in df.iterrows():\n",
    "        polygon = row.geometry\n",
    "        x, y = polygon.exterior.xy\n",
    "        pairs = zip(x, y)\n",
    "        coords = []\n",
    "        for pair in pairs:\n",
    "            coords.append([pair[1], pair[0]])\n",
    "        obj = {}\n",
    "        obj['object_id'] = row.object_id\n",
    "        obj['geometry'] = [coords]\n",
    "        all_res.append(obj)\n",
    "\n",
    "convert(gdf)\n",
    "\n",
    "gdf_df = pd.DataFrame(all_res)\n",
    "gdf_df.head(3)"
   ]
  },
  {
   "cell_type": "code",
   "execution_count": 35,
   "id": "fc680207",
   "metadata": {
    "cellId": "xduz7t7ogo97jl6km1havg"
   },
   "outputs": [],
   "source": [
    "gdf_df.to_csv('data/facility_polygons_lens.csv', index=False)"
   ]
  },
  {
   "cell_type": "code",
   "execution_count": 27,
   "id": "d0428f80",
   "metadata": {
    "cellId": "b3z61fgtgpsoxsalez6ow"
   },
   "outputs": [
    {
     "data": {
      "text/html": [
       "<div>\n",
       "<style scoped>\n",
       "    .dataframe tbody tr th:only-of-type {\n",
       "        vertical-align: middle;\n",
       "    }\n",
       "\n",
       "    .dataframe tbody tr th {\n",
       "        vertical-align: top;\n",
       "    }\n",
       "\n",
       "    .dataframe thead th {\n",
       "        text-align: right;\n",
       "    }\n",
       "</style>\n",
       "<table border=\"1\" class=\"dataframe\">\n",
       "  <thead>\n",
       "    <tr style=\"text-align: right;\">\n",
       "      <th></th>\n",
       "      <th>object_id</th>\n",
       "      <th>type2</th>\n",
       "      <th>name</th>\n",
       "      <th>address</th>\n",
       "      <th>category</th>\n",
       "      <th>lat</th>\n",
       "      <th>lng</th>\n",
       "    </tr>\n",
       "  </thead>\n",
       "  <tbody>\n",
       "    <tr>\n",
       "      <th>0</th>\n",
       "      <td>13</td>\n",
       "      <td>Обьекты бизнеса</td>\n",
       "      <td>Santa Pasta</td>\n",
       "      <td>Троицкий проспект, 21</td>\n",
       "      <td>Кафе</td>\n",
       "      <td>64.533200</td>\n",
       "      <td>40.526401</td>\n",
       "    </tr>\n",
       "    <tr>\n",
       "      <th>1</th>\n",
       "      <td>40</td>\n",
       "      <td>Обьекты бизнеса</td>\n",
       "      <td>Римская кофейня</td>\n",
       "      <td>Воскресенская, 102</td>\n",
       "      <td>Кафе</td>\n",
       "      <td>64.545284</td>\n",
       "      <td>40.550311</td>\n",
       "    </tr>\n",
       "    <tr>\n",
       "      <th>2</th>\n",
       "      <td>173</td>\n",
       "      <td>Обьекты социальной инфраструктуры</td>\n",
       "      <td>Коммунар</td>\n",
       "      <td>Без адреса</td>\n",
       "      <td>Музеи</td>\n",
       "      <td>64.533747</td>\n",
       "      <td>40.514836</td>\n",
       "    </tr>\n",
       "  </tbody>\n",
       "</table>\n",
       "</div>"
      ],
      "text/plain": [
       "   object_id                              type2  ...        lat        lng\n",
       "0         13                    Обьекты бизнеса  ...  64.533200  40.526401\n",
       "1         40                    Обьекты бизнеса  ...  64.545284  40.550311\n",
       "2        173  Обьекты социальной инфраструктуры  ...  64.533747  40.514836\n",
       "\n",
       "[3 rows x 7 columns]"
      ]
     },
     "execution_count": 27,
     "metadata": {},
     "output_type": "execute_result"
    }
   ],
   "source": [
    "facility.head(3)"
   ]
  },
  {
   "cell_type": "code",
   "execution_count": 32,
   "id": "857a8d65",
   "metadata": {
    "cellId": "vutrvq74fgo2ahyt7fdv2i"
   },
   "outputs": [],
   "source": [
    "geometry = [[xy[0], xy[1]] for xy in zip(facility.lng, facility.lat)]"
   ]
  },
  {
   "cell_type": "code",
   "execution_count": 33,
   "id": "ada67922",
   "metadata": {
    "cellId": "4wyy9hzdc537uu5euowv5"
   },
   "outputs": [
    {
     "data": {
      "text/html": [
       "<div>\n",
       "<style scoped>\n",
       "    .dataframe tbody tr th:only-of-type {\n",
       "        vertical-align: middle;\n",
       "    }\n",
       "\n",
       "    .dataframe tbody tr th {\n",
       "        vertical-align: top;\n",
       "    }\n",
       "\n",
       "    .dataframe thead th {\n",
       "        text-align: right;\n",
       "    }\n",
       "</style>\n",
       "<table border=\"1\" class=\"dataframe\">\n",
       "  <thead>\n",
       "    <tr style=\"text-align: right;\">\n",
       "      <th></th>\n",
       "      <th>object_id</th>\n",
       "      <th>type2</th>\n",
       "      <th>name</th>\n",
       "      <th>address</th>\n",
       "      <th>category</th>\n",
       "      <th>geometry</th>\n",
       "    </tr>\n",
       "  </thead>\n",
       "  <tbody>\n",
       "    <tr>\n",
       "      <th>0</th>\n",
       "      <td>13</td>\n",
       "      <td>Обьекты бизнеса</td>\n",
       "      <td>Santa Pasta</td>\n",
       "      <td>Троицкий проспект, 21</td>\n",
       "      <td>Кафе</td>\n",
       "      <td>[40.526401, 64.5332]</td>\n",
       "    </tr>\n",
       "    <tr>\n",
       "      <th>1</th>\n",
       "      <td>40</td>\n",
       "      <td>Обьекты бизнеса</td>\n",
       "      <td>Римская кофейня</td>\n",
       "      <td>Воскресенская, 102</td>\n",
       "      <td>Кафе</td>\n",
       "      <td>[40.550311, 64.545284]</td>\n",
       "    </tr>\n",
       "    <tr>\n",
       "      <th>2</th>\n",
       "      <td>173</td>\n",
       "      <td>Обьекты социальной инфраструктуры</td>\n",
       "      <td>Коммунар</td>\n",
       "      <td>Без адреса</td>\n",
       "      <td>Музеи</td>\n",
       "      <td>[40.514836, 64.533747]</td>\n",
       "    </tr>\n",
       "  </tbody>\n",
       "</table>\n",
       "</div>"
      ],
      "text/plain": [
       "   object_id  ...                geometry\n",
       "0         13  ...    [40.526401, 64.5332]\n",
       "1         40  ...  [40.550311, 64.545284]\n",
       "2        173  ...  [40.514836, 64.533747]\n",
       "\n",
       "[3 rows x 6 columns]"
      ]
     },
     "execution_count": 33,
     "metadata": {},
     "output_type": "execute_result"
    }
   ],
   "source": [
    "facility_dl = pd.DataFrame(facility[['object_id', 'type2', 'name', 'address', 'category']])\n",
    "facility_dl['geometry'] = geometry\n",
    "facility_dl.head(3)"
   ]
  },
  {
   "cell_type": "code",
   "execution_count": 37,
   "id": "bd181e9a",
   "metadata": {
    "cellId": "okuzpn3js6u391mz4tgf"
   },
   "outputs": [],
   "source": [
    "facility_dl.to_csv('data/facility_lens.csv', quotechar='$', index=False)"
   ]
  },
  {
   "cell_type": "code",
   "execution_count": null,
   "id": "320ad9f0",
   "metadata": {
    "cellId": "gkl8rjv2dkg315rgir0tca"
   },
   "outputs": [],
   "source": []
  }
 ],
 "metadata": {
  "language_info": {
   "codemirror_mode": {
    "name": "ipython",
    "version": 3
   },
   "file_extension": ".py",
   "mimetype": "text/x-python",
   "name": "python",
   "nbconvert_exporter": "python",
   "pygments_lexer": "ipython3",
   "version": "3.7.7"
  },
  "notebookId": "80253be2-147c-4a1b-8a5e-6b683e530a47",
  "notebookPath": "NorthGate/Notebooks/Facility.ipynb"
 },
 "nbformat": 4,
 "nbformat_minor": 5
}
