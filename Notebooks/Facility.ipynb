{
 "cells": [
  {
   "cell_type": "markdown",
   "id": "19c6c29c",
   "metadata": {
    "cellId": "arzv3so3v6eu91k8xsm1o",
    "execution_id": "3b3f7b88-f9b9-4e11-a18c-b9f09daa0b66"
   },
   "source": [
    "# Задача\n",
    "\n",
    "Сформировать сетку полигонов вокруг точек из таблицы `facility`"
   ]
  },
  {
   "cell_type": "markdown",
   "id": "9a18ea84",
   "metadata": {
    "cellId": "gj9sv530dctbzzguglam",
    "execution_id": "c89e6c17-b1f9-48c8-b680-3fdb054dec1b"
   },
   "source": [
    "## Подключаем библиотеки\n",
    "\n",
    "* Единоразово устанавливаем h3pandas"
   ]
  },
  {
   "cell_type": "code",
   "execution_count": 22,
   "id": "efb8c307",
   "metadata": {
    "cellId": "vn6jtcsqjho8z3wxmwuj2q"
   },
   "outputs": [],
   "source": [
    "# %pip install h3pandas"
   ]
  },
  {
   "cell_type": "code",
   "execution_count": 23,
   "id": "3191e53f",
   "metadata": {
    "cellId": "utaye6qr2rsmtife50rolf"
   },
   "outputs": [],
   "source": [
    "import h3pandas\n",
    "import pandas as pd\n",
    "import geopandas as gpd\n",
    "from pyproj import CRS\n",
    "from shapely.geometry import Point\n",
    "from shapely.geometry import LineString\n",
    "from shapely.geometry.polygon import Polygon\n",
    "from shapely.geometry.multipolygon import MultiPolygon"
   ]
  },
  {
   "cell_type": "markdown",
   "id": "483eb6e5",
   "metadata": {
    "cellId": "gwxrkehttzppkdfzhc76h",
    "execution_id": "127e8685-bc48-4c78-bf70-613861bae099"
   },
   "source": [
    "## Определяем функцию для вывода данных\n",
    "\n",
    "* Функция вывода центрального региона набора геоданных"
   ]
  },
  {
   "cell_type": "code",
   "execution_count": 24,
   "id": "3433e7bb",
   "metadata": {
    "cellId": "1upwcsdwjnkjmwbfkc9e4b"
   },
   "outputs": [],
   "source": [
    "def get_center(df, qt = 0.1):\n",
    "    return df.loc[\n",
    "        (df['lng'] > df['lng'].quantile(qt)) &\n",
    "        (df['lng'] < df['lng'].quantile(1-qt)) &\n",
    "        (df['lat'] > df['lat'].quantile(qt)) &\n",
    "        (df['lat'] < df['lat'].quantile(1-qt))]"
   ]
  },
  {
   "cell_type": "markdown",
   "id": "7f0091cb",
   "metadata": {
    "cellId": "idlp5uaqgja3bvm83qm6s",
    "execution_id": "075b6d62-27cc-44ca-8c3f-4689ae396f3a"
   },
   "source": [
    "## Грузим данные"
   ]
  },
  {
   "cell_type": "code",
   "execution_count": 25,
   "id": "0753b1c6",
   "metadata": {
    "cellId": "k7184xzeoppwgmbyx6d7oo"
   },
   "outputs": [],
   "source": [
    "facility = pd.read_csv('data/facility.csv')"
   ]
  },
  {
   "cell_type": "code",
   "execution_count": 26,
   "id": "b2575dfe",
   "metadata": {
    "cellId": "c757s7b7h1q1s0ih279jqz"
   },
   "outputs": [
    {
     "data": {
      "text/html": [
       "<div>\n",
       "<style scoped>\n",
       "    .dataframe tbody tr th:only-of-type {\n",
       "        vertical-align: middle;\n",
       "    }\n",
       "\n",
       "    .dataframe tbody tr th {\n",
       "        vertical-align: top;\n",
       "    }\n",
       "\n",
       "    .dataframe thead th {\n",
       "        text-align: right;\n",
       "    }\n",
       "</style>\n",
       "<table border=\"1\" class=\"dataframe\">\n",
       "  <thead>\n",
       "    <tr style=\"text-align: right;\">\n",
       "      <th></th>\n",
       "      <th>object_id</th>\n",
       "      <th>type2</th>\n",
       "      <th>name</th>\n",
       "      <th>coordinats</th>\n",
       "      <th>address</th>\n",
       "      <th>category</th>\n",
       "      <th>x</th>\n",
       "      <th>y</th>\n",
       "      <th>geometry</th>\n",
       "    </tr>\n",
       "  </thead>\n",
       "  <tbody>\n",
       "    <tr>\n",
       "      <th>0</th>\n",
       "      <td>13</td>\n",
       "      <td>Обьекты бизнеса</td>\n",
       "      <td>Santa Pasta</td>\n",
       "      <td>[64.5332, 40.526401]</td>\n",
       "      <td>Троицкий проспект, 21</td>\n",
       "      <td>Кафе</td>\n",
       "      <td>64.533200</td>\n",
       "      <td>40.526401</td>\n",
       "      <td>010100000075CAA31B614344408A8EE4F21F225040</td>\n",
       "    </tr>\n",
       "    <tr>\n",
       "      <th>1</th>\n",
       "      <td>40</td>\n",
       "      <td>Обьекты бизнеса</td>\n",
       "      <td>Римская кофейня</td>\n",
       "      <td>[64.545284, 40.550311]</td>\n",
       "      <td>Воскресенская, 102</td>\n",
       "      <td>Кафе</td>\n",
       "      <td>64.545284</td>\n",
       "      <td>40.550311</td>\n",
       "      <td>010100000085D04197704644400DC2DCEEE5225040</td>\n",
       "    </tr>\n",
       "    <tr>\n",
       "      <th>2</th>\n",
       "      <td>173</td>\n",
       "      <td>Обьекты социальной инфраструктуры</td>\n",
       "      <td>Коммунар</td>\n",
       "      <td>[64.533747, 40.514836]</td>\n",
       "      <td>Без адреса</td>\n",
       "      <td>Музеи</td>\n",
       "      <td>64.533747</td>\n",
       "      <td>40.514836</td>\n",
       "      <td>0101000000D8666325E6414440A4552DE928225040</td>\n",
       "    </tr>\n",
       "  </tbody>\n",
       "</table>\n",
       "</div>"
      ],
      "text/plain": [
       "   object_id  ...                                    geometry\n",
       "0         13  ...  010100000075CAA31B614344408A8EE4F21F225040\n",
       "1         40  ...  010100000085D04197704644400DC2DCEEE5225040\n",
       "2        173  ...  0101000000D8666325E6414440A4552DE928225040\n",
       "\n",
       "[3 rows x 9 columns]"
      ]
     },
     "execution_count": 26,
     "metadata": {},
     "output_type": "execute_result"
    }
   ],
   "source": [
    "facility.head(3)"
   ]
  },
  {
   "cell_type": "markdown",
   "id": "8c86e938",
   "metadata": {
    "cellId": "yrsodbq297nnwoy9lr4z",
    "execution_id": "2492cfef-9a7e-4bfd-9ad0-366123d87d5e"
   },
   "source": [
    "## Обрабатываем данные\n",
    "\n",
    "* Проверяем что нет нулей в object_id\n",
    "* Привеодим object_id к целочисленному значению\n",
    "* Переименовываем столбцы для h3pandas\n",
    "* Удаляем лишние столбцы"
   ]
  },
  {
   "cell_type": "code",
   "execution_count": 27,
   "id": "93907a9c",
   "metadata": {
    "cellId": "5jyuru5khvyaihzrx5qxs"
   },
   "outputs": [],
   "source": [
    "nulls = len(facility[facility['object_id'].isnull()])\n",
    "assert nulls == 0"
   ]
  },
  {
   "cell_type": "code",
   "execution_count": 28,
   "id": "f5e4c635",
   "metadata": {
    "cellId": "10ol8q7q1aohnb84w6kas2"
   },
   "outputs": [
    {
     "data": {
      "text/html": [
       "<div>\n",
       "<style scoped>\n",
       "    .dataframe tbody tr th:only-of-type {\n",
       "        vertical-align: middle;\n",
       "    }\n",
       "\n",
       "    .dataframe tbody tr th {\n",
       "        vertical-align: top;\n",
       "    }\n",
       "\n",
       "    .dataframe thead th {\n",
       "        text-align: right;\n",
       "    }\n",
       "</style>\n",
       "<table border=\"1\" class=\"dataframe\">\n",
       "  <thead>\n",
       "    <tr style=\"text-align: right;\">\n",
       "      <th></th>\n",
       "      <th>object_id</th>\n",
       "      <th>type2</th>\n",
       "      <th>name</th>\n",
       "      <th>coordinats</th>\n",
       "      <th>address</th>\n",
       "      <th>category</th>\n",
       "      <th>x</th>\n",
       "      <th>y</th>\n",
       "      <th>geometry</th>\n",
       "    </tr>\n",
       "  </thead>\n",
       "  <tbody>\n",
       "    <tr>\n",
       "      <th>0</th>\n",
       "      <td>13</td>\n",
       "      <td>Обьекты бизнеса</td>\n",
       "      <td>Santa Pasta</td>\n",
       "      <td>[64.5332, 40.526401]</td>\n",
       "      <td>Троицкий проспект, 21</td>\n",
       "      <td>Кафе</td>\n",
       "      <td>64.533200</td>\n",
       "      <td>40.526401</td>\n",
       "      <td>010100000075CAA31B614344408A8EE4F21F225040</td>\n",
       "    </tr>\n",
       "    <tr>\n",
       "      <th>1</th>\n",
       "      <td>40</td>\n",
       "      <td>Обьекты бизнеса</td>\n",
       "      <td>Римская кофейня</td>\n",
       "      <td>[64.545284, 40.550311]</td>\n",
       "      <td>Воскресенская, 102</td>\n",
       "      <td>Кафе</td>\n",
       "      <td>64.545284</td>\n",
       "      <td>40.550311</td>\n",
       "      <td>010100000085D04197704644400DC2DCEEE5225040</td>\n",
       "    </tr>\n",
       "    <tr>\n",
       "      <th>2</th>\n",
       "      <td>173</td>\n",
       "      <td>Обьекты социальной инфраструктуры</td>\n",
       "      <td>Коммунар</td>\n",
       "      <td>[64.533747, 40.514836]</td>\n",
       "      <td>Без адреса</td>\n",
       "      <td>Музеи</td>\n",
       "      <td>64.533747</td>\n",
       "      <td>40.514836</td>\n",
       "      <td>0101000000D8666325E6414440A4552DE928225040</td>\n",
       "    </tr>\n",
       "  </tbody>\n",
       "</table>\n",
       "</div>"
      ],
      "text/plain": [
       "   object_id  ...                                    geometry\n",
       "0         13  ...  010100000075CAA31B614344408A8EE4F21F225040\n",
       "1         40  ...  010100000085D04197704644400DC2DCEEE5225040\n",
       "2        173  ...  0101000000D8666325E6414440A4552DE928225040\n",
       "\n",
       "[3 rows x 9 columns]"
      ]
     },
     "execution_count": 28,
     "metadata": {},
     "output_type": "execute_result"
    }
   ],
   "source": [
    "facility = facility.astype({'object_id': 'int32'})\n",
    "facility.head(3)"
   ]
  },
  {
   "cell_type": "code",
   "execution_count": 29,
   "id": "de43885a",
   "metadata": {
    "cellId": "inoi2hwf11mq2jbq07wz9d"
   },
   "outputs": [
    {
     "data": {
      "text/html": [
       "<div>\n",
       "<style scoped>\n",
       "    .dataframe tbody tr th:only-of-type {\n",
       "        vertical-align: middle;\n",
       "    }\n",
       "\n",
       "    .dataframe tbody tr th {\n",
       "        vertical-align: top;\n",
       "    }\n",
       "\n",
       "    .dataframe thead th {\n",
       "        text-align: right;\n",
       "    }\n",
       "</style>\n",
       "<table border=\"1\" class=\"dataframe\">\n",
       "  <thead>\n",
       "    <tr style=\"text-align: right;\">\n",
       "      <th></th>\n",
       "      <th>object_id</th>\n",
       "      <th>type2</th>\n",
       "      <th>name</th>\n",
       "      <th>coordinats</th>\n",
       "      <th>address</th>\n",
       "      <th>category</th>\n",
       "      <th>lat</th>\n",
       "      <th>lng</th>\n",
       "      <th>geometry</th>\n",
       "    </tr>\n",
       "  </thead>\n",
       "  <tbody>\n",
       "    <tr>\n",
       "      <th>0</th>\n",
       "      <td>13</td>\n",
       "      <td>Обьекты бизнеса</td>\n",
       "      <td>Santa Pasta</td>\n",
       "      <td>[64.5332, 40.526401]</td>\n",
       "      <td>Троицкий проспект, 21</td>\n",
       "      <td>Кафе</td>\n",
       "      <td>64.533200</td>\n",
       "      <td>40.526401</td>\n",
       "      <td>010100000075CAA31B614344408A8EE4F21F225040</td>\n",
       "    </tr>\n",
       "    <tr>\n",
       "      <th>1</th>\n",
       "      <td>40</td>\n",
       "      <td>Обьекты бизнеса</td>\n",
       "      <td>Римская кофейня</td>\n",
       "      <td>[64.545284, 40.550311]</td>\n",
       "      <td>Воскресенская, 102</td>\n",
       "      <td>Кафе</td>\n",
       "      <td>64.545284</td>\n",
       "      <td>40.550311</td>\n",
       "      <td>010100000085D04197704644400DC2DCEEE5225040</td>\n",
       "    </tr>\n",
       "    <tr>\n",
       "      <th>2</th>\n",
       "      <td>173</td>\n",
       "      <td>Обьекты социальной инфраструктуры</td>\n",
       "      <td>Коммунар</td>\n",
       "      <td>[64.533747, 40.514836]</td>\n",
       "      <td>Без адреса</td>\n",
       "      <td>Музеи</td>\n",
       "      <td>64.533747</td>\n",
       "      <td>40.514836</td>\n",
       "      <td>0101000000D8666325E6414440A4552DE928225040</td>\n",
       "    </tr>\n",
       "  </tbody>\n",
       "</table>\n",
       "</div>"
      ],
      "text/plain": [
       "   object_id  ...                                    geometry\n",
       "0         13  ...  010100000075CAA31B614344408A8EE4F21F225040\n",
       "1         40  ...  010100000085D04197704644400DC2DCEEE5225040\n",
       "2        173  ...  0101000000D8666325E6414440A4552DE928225040\n",
       "\n",
       "[3 rows x 9 columns]"
      ]
     },
     "execution_count": 29,
     "metadata": {},
     "output_type": "execute_result"
    }
   ],
   "source": [
    "facility = facility.rename({'y': 'lng', 'x': 'lat'}, axis=1)\n",
    "facility.head(3)"
   ]
  },
  {
   "cell_type": "code",
   "execution_count": 39,
   "id": "2fc5efa9",
   "metadata": {
    "cellId": "uj36oph4jeisp6fmin1ap"
   },
   "outputs": [
    {
     "data": {
      "text/html": [
       "<div>\n",
       "<style scoped>\n",
       "    .dataframe tbody tr th:only-of-type {\n",
       "        vertical-align: middle;\n",
       "    }\n",
       "\n",
       "    .dataframe tbody tr th {\n",
       "        vertical-align: top;\n",
       "    }\n",
       "\n",
       "    .dataframe thead th {\n",
       "        text-align: right;\n",
       "    }\n",
       "</style>\n",
       "<table border=\"1\" class=\"dataframe\">\n",
       "  <thead>\n",
       "    <tr style=\"text-align: right;\">\n",
       "      <th></th>\n",
       "      <th>object_id</th>\n",
       "      <th>type2</th>\n",
       "      <th>name</th>\n",
       "      <th>address</th>\n",
       "      <th>category</th>\n",
       "      <th>lat</th>\n",
       "      <th>lng</th>\n",
       "    </tr>\n",
       "  </thead>\n",
       "  <tbody>\n",
       "    <tr>\n",
       "      <th>0</th>\n",
       "      <td>13</td>\n",
       "      <td>Обьекты бизнеса</td>\n",
       "      <td>Santa Pasta</td>\n",
       "      <td>Троицкий проспект, 21</td>\n",
       "      <td>Кафе</td>\n",
       "      <td>64.533200</td>\n",
       "      <td>40.526401</td>\n",
       "    </tr>\n",
       "    <tr>\n",
       "      <th>1</th>\n",
       "      <td>40</td>\n",
       "      <td>Обьекты бизнеса</td>\n",
       "      <td>Римская кофейня</td>\n",
       "      <td>Воскресенская, 102</td>\n",
       "      <td>Кафе</td>\n",
       "      <td>64.545284</td>\n",
       "      <td>40.550311</td>\n",
       "    </tr>\n",
       "    <tr>\n",
       "      <th>2</th>\n",
       "      <td>173</td>\n",
       "      <td>Обьекты социальной инфраструктуры</td>\n",
       "      <td>Коммунар</td>\n",
       "      <td>Без адреса</td>\n",
       "      <td>Музеи</td>\n",
       "      <td>64.533747</td>\n",
       "      <td>40.514836</td>\n",
       "    </tr>\n",
       "  </tbody>\n",
       "</table>\n",
       "</div>"
      ],
      "text/plain": [
       "   object_id                              type2  ...        lat        lng\n",
       "0         13                    Обьекты бизнеса  ...  64.533200  40.526401\n",
       "1         40                    Обьекты бизнеса  ...  64.545284  40.550311\n",
       "2        173  Обьекты социальной инфраструктуры  ...  64.533747  40.514836\n",
       "\n",
       "[3 rows x 7 columns]"
      ]
     },
     "execution_count": 39,
     "metadata": {},
     "output_type": "execute_result"
    }
   ],
   "source": [
    "facility = facility.drop(columns=['coordinats', 'geometry'])\n",
    "facility.head(3)"
   ]
  },
  {
   "cell_type": "markdown",
   "id": "6597b7d1",
   "metadata": {
    "cellId": "b2s5zja1lb7y1mvm2mmj5",
    "execution_id": "38498c08-b499-4b5d-81fe-4eddaeb1e3b1"
   },
   "source": [
    "## Проверяем, что у нас в центер города"
   ]
  },
  {
   "cell_type": "code",
   "execution_count": null,
   "id": "7a0347aa",
   "metadata": {
    "cellId": "q04bnm8v3tnxt1gaq1exin"
   },
   "outputs": [],
   "source": [
    "get_center(facility, 0.08).plot.scatter(x='lng', y='lat', figsize=(7,7), alpha=0.5)"
   ]
  },
  {
   "cell_type": "markdown",
   "id": "c4096b6e",
   "metadata": {
    "cellId": "jezkl1h4r0fhdm3sywrpde",
    "execution_id": "f3c4c4a3-6115-44c4-86f0-6222a927fd0c"
   },
   "source": [
    "## Приводим данные к формату h3pandas"
   ]
  },
  {
   "cell_type": "code",
   "execution_count": null,
   "id": "74d90cdd",
   "metadata": {
    "cellId": "dtf3footz38fs6qlogkdy"
   },
   "outputs": [],
   "source": [
    "facility3 = facility.h3.geo_to_h3(9)\n",
    "facility3.head()"
   ]
  },
  {
   "cell_type": "code",
   "execution_count": null,
   "id": "3e6144a1",
   "metadata": {
    "cellId": "943dcpycj896huiw9ckcv7"
   },
   "outputs": [],
   "source": [
    "geofacility3 = facility3.h3.h3_to_geo_boundary()\n",
    "geofacility3.head(3)"
   ]
  },
  {
   "cell_type": "markdown",
   "id": "25286da3",
   "metadata": {
    "cellId": "hs4bohp9kwviccu47cel3",
    "execution_id": "7d43d85c-7ade-4410-b4d5-931d0e42c1e6"
   },
   "source": [
    "## Рисуем наши полигоны в центер города"
   ]
  },
  {
   "cell_type": "code",
   "execution_count": 31,
   "id": "0f14d153",
   "metadata": {
    "cellId": "qe7n9dm9tfts6gp5908g"
   },
   "outputs": [],
   "source": [
    "# Раскомментировать в случае надобности\n",
    "#geofacility3.explore(width='30%', height='60%')"
   ]
  },
  {
   "cell_type": "code",
   "execution_count": 32,
   "id": "247a1c56",
   "metadata": {
    "cellId": "i6ankx8kfvjxv8qx66b5k"
   },
   "outputs": [
    {
     "data": {
      "text/plain": [
       "<matplotlib.axes._subplots.AxesSubplot at 0x7f1ff1728b80>"
      ]
     },
     "execution_count": 32,
     "metadata": {},
     "output_type": "execute_result"
    },
    {
     "data": {
      "image/png": "[encoded data removed]",
      "text/plain": [
       "<Figure size 504x504 with 1 Axes>"
      ]
     },
     "metadata": {
      "needs_background": "light"
     },
     "output_type": "display_data"
    }
   ],
   "source": [
    "get_center(geofacility3).plot(figsize=(7,7))"
   ]
  },
  {
   "cell_type": "markdown",
   "id": "f4ce8386",
   "metadata": {
    "cellId": "zqnjzjyenqotdmxmfcfc1c",
    "execution_id": "2f501143-e4ba-47a8-8f52-660d18fe38bf"
   },
   "source": [
    "## Строим набор данных для точек"
   ]
  },
  {
   "cell_type": "code",
   "execution_count": 33,
   "id": "5f5c6b16",
   "metadata": {
    "cellId": "ik4sapf885qeu02n0k6h1"
   },
   "outputs": [
    {
     "data": {
      "text/html": [
       "<div>\n",
       "<style scoped>\n",
       "    .dataframe tbody tr th:only-of-type {\n",
       "        vertical-align: middle;\n",
       "    }\n",
       "\n",
       "    .dataframe tbody tr th {\n",
       "        vertical-align: top;\n",
       "    }\n",
       "\n",
       "    .dataframe thead th {\n",
       "        text-align: right;\n",
       "    }\n",
       "</style>\n",
       "<table border=\"1\" class=\"dataframe\">\n",
       "  <thead>\n",
       "    <tr style=\"text-align: right;\">\n",
       "      <th></th>\n",
       "      <th>object_id</th>\n",
       "      <th>type2</th>\n",
       "      <th>name</th>\n",
       "      <th>coordinats</th>\n",
       "      <th>address</th>\n",
       "      <th>category</th>\n",
       "      <th>lat</th>\n",
       "      <th>lng</th>\n",
       "      <th>geometry</th>\n",
       "    </tr>\n",
       "  </thead>\n",
       "  <tbody>\n",
       "    <tr>\n",
       "      <th>0</th>\n",
       "      <td>13</td>\n",
       "      <td>Обьекты бизнеса</td>\n",
       "      <td>Santa Pasta</td>\n",
       "      <td>[64.5332, 40.526401]</td>\n",
       "      <td>Троицкий проспект, 21</td>\n",
       "      <td>Кафе</td>\n",
       "      <td>64.533200</td>\n",
       "      <td>40.526401</td>\n",
       "      <td>010100000075CAA31B614344408A8EE4F21F225040</td>\n",
       "    </tr>\n",
       "    <tr>\n",
       "      <th>1</th>\n",
       "      <td>40</td>\n",
       "      <td>Обьекты бизнеса</td>\n",
       "      <td>Римская кофейня</td>\n",
       "      <td>[64.545284, 40.550311]</td>\n",
       "      <td>Воскресенская, 102</td>\n",
       "      <td>Кафе</td>\n",
       "      <td>64.545284</td>\n",
       "      <td>40.550311</td>\n",
       "      <td>010100000085D04197704644400DC2DCEEE5225040</td>\n",
       "    </tr>\n",
       "    <tr>\n",
       "      <th>2</th>\n",
       "      <td>173</td>\n",
       "      <td>Обьекты социальной инфраструктуры</td>\n",
       "      <td>Коммунар</td>\n",
       "      <td>[64.533747, 40.514836]</td>\n",
       "      <td>Без адреса</td>\n",
       "      <td>Музеи</td>\n",
       "      <td>64.533747</td>\n",
       "      <td>40.514836</td>\n",
       "      <td>0101000000D8666325E6414440A4552DE928225040</td>\n",
       "    </tr>\n",
       "  </tbody>\n",
       "</table>\n",
       "</div>"
      ],
      "text/plain": [
       "   object_id  ...                                    geometry\n",
       "0         13  ...  010100000075CAA31B614344408A8EE4F21F225040\n",
       "1         40  ...  010100000085D04197704644400DC2DCEEE5225040\n",
       "2        173  ...  0101000000D8666325E6414440A4552DE928225040\n",
       "\n",
       "[3 rows x 9 columns]"
      ]
     },
     "execution_count": 33,
     "metadata": {},
     "output_type": "execute_result"
    }
   ],
   "source": [
    "facility.head(3)"
   ]
  },
  {
   "cell_type": "code",
   "execution_count": 34,
   "id": "6136de75",
   "metadata": {
    "cellId": "mywhgiv7migujd36la6nq"
   },
   "outputs": [
    {
     "data": {
      "text/html": [
       "<div>\n",
       "<style scoped>\n",
       "    .dataframe tbody tr th:only-of-type {\n",
       "        vertical-align: middle;\n",
       "    }\n",
       "\n",
       "    .dataframe tbody tr th {\n",
       "        vertical-align: top;\n",
       "    }\n",
       "\n",
       "    .dataframe thead th {\n",
       "        text-align: right;\n",
       "    }\n",
       "</style>\n",
       "<table border=\"1\" class=\"dataframe\">\n",
       "  <thead>\n",
       "    <tr style=\"text-align: right;\">\n",
       "      <th></th>\n",
       "      <th>object_id</th>\n",
       "      <th>type2</th>\n",
       "      <th>name</th>\n",
       "      <th>coordinats</th>\n",
       "      <th>address</th>\n",
       "      <th>category</th>\n",
       "      <th>lat</th>\n",
       "      <th>lng</th>\n",
       "      <th>geometry</th>\n",
       "    </tr>\n",
       "  </thead>\n",
       "  <tbody>\n",
       "    <tr>\n",
       "      <th>0</th>\n",
       "      <td>13</td>\n",
       "      <td>Обьекты бизнеса</td>\n",
       "      <td>Santa Pasta</td>\n",
       "      <td>[64.5332, 40.526401]</td>\n",
       "      <td>Троицкий проспект, 21</td>\n",
       "      <td>Кафе</td>\n",
       "      <td>64.533200</td>\n",
       "      <td>40.526401</td>\n",
       "      <td>POINT (40.52640 64.53320)</td>\n",
       "    </tr>\n",
       "    <tr>\n",
       "      <th>1</th>\n",
       "      <td>40</td>\n",
       "      <td>Обьекты бизнеса</td>\n",
       "      <td>Римская кофейня</td>\n",
       "      <td>[64.545284, 40.550311]</td>\n",
       "      <td>Воскресенская, 102</td>\n",
       "      <td>Кафе</td>\n",
       "      <td>64.545284</td>\n",
       "      <td>40.550311</td>\n",
       "      <td>POINT (40.55031 64.54528)</td>\n",
       "    </tr>\n",
       "    <tr>\n",
       "      <th>2</th>\n",
       "      <td>173</td>\n",
       "      <td>Обьекты социальной инфраструктуры</td>\n",
       "      <td>Коммунар</td>\n",
       "      <td>[64.533747, 40.514836]</td>\n",
       "      <td>Без адреса</td>\n",
       "      <td>Музеи</td>\n",
       "      <td>64.533747</td>\n",
       "      <td>40.514836</td>\n",
       "      <td>POINT (40.51484 64.53375)</td>\n",
       "    </tr>\n",
       "  </tbody>\n",
       "</table>\n",
       "</div>"
      ],
      "text/plain": [
       "   object_id  ...                   geometry\n",
       "0         13  ...  POINT (40.52640 64.53320)\n",
       "1         40  ...  POINT (40.55031 64.54528)\n",
       "2        173  ...  POINT (40.51484 64.53375)\n",
       "\n",
       "[3 rows x 9 columns]"
      ]
     },
     "execution_count": 34,
     "metadata": {},
     "output_type": "execute_result"
    }
   ],
   "source": [
    "geometry = [Point(xy) for xy in zip(facility.lng, facility.lat)]\n",
    "geofacility = gpd.GeoDataFrame(facility, crs=geofacility3.crs, geometry=geometry)\n",
    "geofacility.head(3)"
   ]
  },
  {
   "cell_type": "markdown",
   "id": "ee44719d",
   "metadata": {
    "cellId": "8wqpbu2letcyllseabphog",
    "execution_id": "0928633b-3094-42ba-97f3-e4374bc8e773"
   },
   "source": [
    "## отображаем точки и полигоны"
   ]
  },
  {
   "cell_type": "code",
   "execution_count": 35,
   "id": "34715849",
   "metadata": {
    "cellId": "z85983hppmh0sl88kidf7z"
   },
   "outputs": [
    {
     "data": {
      "text/plain": [
       "<matplotlib.axes._subplots.AxesSubplot at 0x7f1ff1706160>"
      ]
     },
     "execution_count": 35,
     "metadata": {},
     "output_type": "execute_result"
    },
    {
     "data": {
      "image/png": "[encoded data removed]",
      "text/plain": [
       "<Figure size 720x720 with 1 Axes>"
      ]
     },
     "metadata": {
      "needs_background": "light"
     },
     "output_type": "display_data"
    }
   ],
   "source": [
    "ax = get_center(geofacility).plot(\n",
    "    figsize=(10,10), facecolor=\"teal\", markersize=2)\n",
    "get_center(geofacility3).plot(\n",
    "    ax=ax, figsize=(10,10), facecolor=\"none\", edgecolor=\"black\")"
   ]
  },
  {
   "cell_type": "markdown",
   "id": "21f008e1",
   "metadata": {
    "cellId": "pcyjokrmnlc4ynpwa4foxn",
    "execution_id": "d8c06fec-32ec-43bc-8025-9f333b336695"
   },
   "source": [
    "## Готовим набор к экспорту"
   ]
  },
  {
   "cell_type": "code",
   "execution_count": 36,
   "id": "6aac38b5",
   "metadata": {
    "cellId": "c4f03h93jrwq4mevbyodu"
   },
   "outputs": [
    {
     "data": {
      "text/html": [
       "<div>\n",
       "<style scoped>\n",
       "    .dataframe tbody tr th:only-of-type {\n",
       "        vertical-align: middle;\n",
       "    }\n",
       "\n",
       "    .dataframe tbody tr th {\n",
       "        vertical-align: top;\n",
       "    }\n",
       "\n",
       "    .dataframe thead th {\n",
       "        text-align: right;\n",
       "    }\n",
       "</style>\n",
       "<table border=\"1\" class=\"dataframe\">\n",
       "  <thead>\n",
       "    <tr style=\"text-align: right;\">\n",
       "      <th></th>\n",
       "      <th>object_id</th>\n",
       "      <th>type2</th>\n",
       "      <th>name</th>\n",
       "      <th>address</th>\n",
       "      <th>category</th>\n",
       "      <th>lat</th>\n",
       "      <th>lng</th>\n",
       "      <th>geometry</th>\n",
       "    </tr>\n",
       "    <tr>\n",
       "      <th>h3_09</th>\n",
       "      <th></th>\n",
       "      <th></th>\n",
       "      <th></th>\n",
       "      <th></th>\n",
       "      <th></th>\n",
       "      <th></th>\n",
       "      <th></th>\n",
       "      <th></th>\n",
       "    </tr>\n",
       "  </thead>\n",
       "  <tbody>\n",
       "    <tr>\n",
       "      <th>891150a881bffff</th>\n",
       "      <td>13</td>\n",
       "      <td>Обьекты бизнеса</td>\n",
       "      <td>Santa Pasta</td>\n",
       "      <td>Троицкий проспект, 21</td>\n",
       "      <td>Кафе</td>\n",
       "      <td>64.533200</td>\n",
       "      <td>40.526401</td>\n",
       "      <td>POLYGON ((40.52461 64.53358, 40.52763 64.53259...</td>\n",
       "    </tr>\n",
       "    <tr>\n",
       "      <th>891150a8827ffff</th>\n",
       "      <td>40</td>\n",
       "      <td>Обьекты бизнеса</td>\n",
       "      <td>Римская кофейня</td>\n",
       "      <td>Воскресенская, 102</td>\n",
       "      <td>Кафе</td>\n",
       "      <td>64.545284</td>\n",
       "      <td>40.550311</td>\n",
       "      <td>POLYGON ((40.54855 64.54338, 40.55157 64.54239...</td>\n",
       "    </tr>\n",
       "    <tr>\n",
       "      <th>891150a88d7ffff</th>\n",
       "      <td>173</td>\n",
       "      <td>Обьекты социальной инфраструктуры</td>\n",
       "      <td>Коммунар</td>\n",
       "      <td>Без адреса</td>\n",
       "      <td>Музеи</td>\n",
       "      <td>64.533747</td>\n",
       "      <td>40.514836</td>\n",
       "      <td>POLYGON ((40.51124 64.53404, 40.51426 64.53305...</td>\n",
       "    </tr>\n",
       "  </tbody>\n",
       "</table>\n",
       "</div>"
      ],
      "text/plain": [
       "                 object_id  ...                                           geometry\n",
       "h3_09                       ...                                                   \n",
       "891150a881bffff         13  ...  POLYGON ((40.52461 64.53358, 40.52763 64.53259...\n",
       "891150a8827ffff         40  ...  POLYGON ((40.54855 64.54338, 40.55157 64.54239...\n",
       "891150a88d7ffff        173  ...  POLYGON ((40.51124 64.53404, 40.51426 64.53305...\n",
       "\n",
       "[3 rows x 8 columns]"
      ]
     },
     "execution_count": 36,
     "metadata": {},
     "output_type": "execute_result"
    }
   ],
   "source": [
    "geofacility3.head(3)"
   ]
  },
  {
   "cell_type": "code",
   "execution_count": 37,
   "id": "1c42997a",
   "metadata": {
    "cellId": "h8nko5y7f086d6hxzompqk"
   },
   "outputs": [
    {
     "data": {
      "text/html": [
       "<div>\n",
       "<style scoped>\n",
       "    .dataframe tbody tr th:only-of-type {\n",
       "        vertical-align: middle;\n",
       "    }\n",
       "\n",
       "    .dataframe tbody tr th {\n",
       "        vertical-align: top;\n",
       "    }\n",
       "\n",
       "    .dataframe thead th {\n",
       "        text-align: right;\n",
       "    }\n",
       "</style>\n",
       "<table border=\"1\" class=\"dataframe\">\n",
       "  <thead>\n",
       "    <tr style=\"text-align: right;\">\n",
       "      <th></th>\n",
       "      <th>object_id</th>\n",
       "      <th>geometry</th>\n",
       "    </tr>\n",
       "  </thead>\n",
       "  <tbody>\n",
       "    <tr>\n",
       "      <th>0</th>\n",
       "      <td>13</td>\n",
       "      <td>POLYGON ((40.52461 64.53358, 40.52763 64.53259...</td>\n",
       "    </tr>\n",
       "    <tr>\n",
       "      <th>1</th>\n",
       "      <td>40</td>\n",
       "      <td>POLYGON ((40.54855 64.54338, 40.55157 64.54239...</td>\n",
       "    </tr>\n",
       "    <tr>\n",
       "      <th>2</th>\n",
       "      <td>173</td>\n",
       "      <td>POLYGON ((40.51124 64.53404, 40.51426 64.53305...</td>\n",
       "    </tr>\n",
       "  </tbody>\n",
       "</table>\n",
       "</div>"
      ],
      "text/plain": [
       "   object_id                                           geometry\n",
       "0         13  POLYGON ((40.52461 64.53358, 40.52763 64.53259...\n",
       "1         40  POLYGON ((40.54855 64.54338, 40.55157 64.54239...\n",
       "2        173  POLYGON ((40.51124 64.53404, 40.51426 64.53305..."
      ]
     },
     "execution_count": 37,
     "metadata": {},
     "output_type": "execute_result"
    }
   ],
   "source": [
    "geometry = geofacility3['geometry']\n",
    "data = geofacility3['object_id']\n",
    "gdf = gpd.GeoDataFrame(data=data, geometry=geometry, crs=geofacility3.crs)\n",
    "gdf = gdf.reset_index()\n",
    "gdf = gdf.drop(columns=['h3_09'])\n",
    "gdf.head(3)"
   ]
  },
  {
   "cell_type": "markdown",
   "id": "17daadd6",
   "metadata": {
    "cellId": "a5ly4zp30c7t165vlvkwui",
    "execution_id": "b330d137-44d6-4ea2-a2ed-76a3da5c8564"
   },
   "source": [
    "## Экспортируем набор данных с полигонами"
   ]
  },
  {
   "cell_type": "code",
   "execution_count": 38,
   "id": "bf1402e4",
   "metadata": {
    "cellId": "hvqrqttyk4emxahbfctign"
   },
   "outputs": [],
   "source": [
    "gdf.to_file('data/facility.geojson', driver='GeoJSON')"
   ]
  },
  {
   "cell_type": "code",
   "execution_count": null,
   "id": "4081c56f",
   "metadata": {
    "cellId": "3k4rkl6qy7caaablk8gvc"
   },
   "outputs": [],
   "source": []
  }
 ],
 "metadata": {
  "language_info": {
   "codemirror_mode": {
    "name": "ipython",
    "version": 3
   },
   "file_extension": ".py",
   "mimetype": "text/x-python",
   "name": "python",
   "nbconvert_exporter": "python",
   "pygments_lexer": "ipython3",
   "version": "3.7.7"
  },
  "notebookId": "80253be2-147c-4a1b-8a5e-6b683e530a47",
  "notebookPath": "NorthGate/Notebooks/Facility.ipynb"
 },
 "nbformat": 4,
 "nbformat_minor": 5
}
