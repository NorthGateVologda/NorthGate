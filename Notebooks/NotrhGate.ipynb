{
 "cells": [
  {
   "cell_type": "code",
   "execution_count": 1,
   "id": "7bf6b319",
   "metadata": {},
   "outputs": [],
   "source": [
    "import pandas as pd\n",
    "import geopandas as gpd\n",
    "from sklearn import tree\n",
    "from ymaps.sync import SearchClient, StaticClient\n",
    "from shapely.geometry import Point, Polygon\n",
    "from IPython.display import Image, display"
   ]
  },
  {
   "cell_type": "markdown",
   "id": "d4280e24",
   "metadata": {},
   "source": [
    "## Описание\n",
    "\n",
    "В этой тетради мы эксперементируем со следующими инструментами:\n",
    "\n",
    "* `YandexMaps API`: `SearchClient`, `StaticClient`\n",
    "* Geopandas: отрисовка объектов\n",
    "* `Sklearn`: прогноз по дереву решений\n",
    "\n",
    "Цель: основываясь на координатах книжных магазинов и магазинов алкоголя, мы прогнозируем жильцы каких общажитий *условно* будут больше читать.\n",
    "\n",
    "Термины:\n",
    "\n",
    "* Центр города: центр объекта **Каменный мост**\n",
    "* Смещение от центра: смещение равное расстоянию от *центра* до **Прилук**\n",
    "* Границы города: квадрат стороны которого *смещены от центра* на указанное выше растояние\n",
    "\n",
    "Далее алгоритм действий:\n",
    "\n",
    "1. С помощью `API` яндекса находим координаты объектов по следующим запросам:\n",
    "    1. 'Книжный магазин'\n",
    "    2. 'Алкогольный магазин'\n",
    "    3. 'Общежитие'\n",
    "2. Так же с помощью `API` `Yandex`-а отрисовываем растровую карту Вологды\n",
    "3. Отрисовываем все найденные множества точек\n",
    "    1. Площадь города **лазурным** цветом\n",
    "    2. Центр города **фиолетовым** цветом\n",
    "    3. Сами точки заданным цветом\n",
    "        1. Книжные магазины: синим\n",
    "        2. Алкогольные: красным\n",
    "        3. Общежития: зелёным\n",
    "4. Основываясь на первых двух наборах обучаем модель `DecisionTreeClassifier`\n",
    "5. Прогнозируем на третьем наборе\n",
    "6. Выводим результат\n",
    "\n",
    "Комментарии:\n",
    "\n",
    "При поиске было необходимо установить опцию ограничения поиска `rspn` в `False`\n",
    "так как при установки в `True` количество результатов очень снижалось."
   ]
  },
  {
   "cell_type": "markdown",
   "id": "ec056492",
   "metadata": {},
   "source": [
    "### Грузим ключ"
   ]
  },
  {
   "cell_type": "code",
   "execution_count": 2,
   "id": "607c7b44",
   "metadata": {},
   "outputs": [],
   "source": [
    "f = open('api_key.txt', 'r')\n",
    "key = f.read()"
   ]
  },
  {
   "cell_type": "markdown",
   "id": "b20ac258",
   "metadata": {},
   "source": [
    "### Создаём объекты API Yandex-а"
   ]
  },
  {
   "cell_type": "code",
   "execution_count": 3,
   "id": "099092ba",
   "metadata": {},
   "outputs": [],
   "source": [
    "search = SearchClient(key)\n",
    "static = StaticClient()"
   ]
  },
  {
   "cell_type": "markdown",
   "id": "4b615315",
   "metadata": {},
   "source": [
    "### Задаём параметры поиска"
   ]
  },
  {
   "cell_type": "code",
   "execution_count": 4,
   "id": "ec973593",
   "metadata": {},
   "outputs": [],
   "source": [
    "# Координаты\n",
    "lon = 39.891057\n",
    "lat = 59.220514\n",
    "ll = [lon, lat]\n",
    "\n",
    "# Размах\n",
    "offset = 0.05\n",
    "spn=[offset, offset]\n",
    "\n",
    "# Поиск\n",
    "booksSearch = 'Книжный магазин'\n",
    "alcoSearch = 'Алкогольный магазин'\n",
    "houseSearch = 'Общежитие'\n",
    "rspn=False\n",
    "results = 50\n",
    "\n",
    "# Карта\n",
    "l = ['sat']\n",
    "size = [450, 450]"
   ]
  },
  {
   "cell_type": "markdown",
   "id": "026aa158",
   "metadata": {},
   "source": [
    "### Определяем функцию трансляции формата Yandex-а в Geopandas"
   ]
  },
  {
   "cell_type": "code",
   "execution_count": 5,
   "id": "df9da5d0",
   "metadata": {},
   "outputs": [],
   "source": [
    "def getGeoSeries(json):\n",
    "    properties = json['properties']\n",
    "    ResponseMetaData = properties['ResponseMetaData']\n",
    "    SearchResponse = ResponseMetaData['SearchResponse']\n",
    "    found = SearchResponse['found']\n",
    "    print('Found: {0}'.format(found))\n",
    "    \n",
    "    features = json['features']\n",
    "    items = list()\n",
    "    for feature in features:\n",
    "        pos = feature['geometry']['coordinates']\n",
    "        items.append(Point(pos))\n",
    "    \n",
    "    return gpd.GeoSeries(items)"
   ]
  },
  {
   "cell_type": "markdown",
   "id": "6d5dd998",
   "metadata": {},
   "source": [
    "### Обращаемся к API Yandex-а и переводим в формат Geopandas"
   ]
  },
  {
   "cell_type": "code",
   "execution_count": 6,
   "id": "d7d40c30",
   "metadata": {},
   "outputs": [],
   "source": [
    "bookJson = search.search(\n",
    "    query=booksSearch,\n",
    "    results=results,\n",
    "    ll=ll,\n",
    "    spn=spn,\n",
    "    rspn=rspn,\n",
    "    type='biz')"
   ]
  },
  {
   "cell_type": "code",
   "execution_count": 7,
   "id": "0c5da4e0",
   "metadata": {},
   "outputs": [
    {
     "name": "stdout",
     "output_type": "stream",
     "text": [
      "Found: 29\n"
     ]
    }
   ],
   "source": [
    "bookShopItems = getGeoSeries(bookJson)"
   ]
  },
  {
   "cell_type": "code",
   "execution_count": 8,
   "id": "fdea07af",
   "metadata": {},
   "outputs": [],
   "source": [
    "alcoJson = search.search(\n",
    "    query=alcoSearch,\n",
    "    results=results,\n",
    "    ll=ll,\n",
    "    spn=spn,\n",
    "    rspn=rspn,\n",
    "    type='biz')"
   ]
  },
  {
   "cell_type": "code",
   "execution_count": 9,
   "id": "4187635b",
   "metadata": {},
   "outputs": [
    {
     "name": "stdout",
     "output_type": "stream",
     "text": [
      "Found: 92\n"
     ]
    }
   ],
   "source": [
    "alcoShopItems = getGeoSeries(alcoJson)"
   ]
  },
  {
   "cell_type": "code",
   "execution_count": 10,
   "id": "ef08a1ff",
   "metadata": {},
   "outputs": [],
   "source": [
    "houseJson = search.search(\n",
    "    query=houseSearch,\n",
    "    results=results,\n",
    "    ll=ll,\n",
    "    spn=spn,\n",
    "    rspn=rspn,\n",
    "    type='biz')"
   ]
  },
  {
   "cell_type": "code",
   "execution_count": 11,
   "id": "c5e8bf70",
   "metadata": {},
   "outputs": [
    {
     "name": "stdout",
     "output_type": "stream",
     "text": [
      "Found: 40\n"
     ]
    }
   ],
   "source": [
    "houseItems = getGeoSeries(houseJson)"
   ]
  },
  {
   "cell_type": "markdown",
   "id": "b4dbccb0",
   "metadata": {},
   "source": [
    "### Задаём полигон границ города и точку центра"
   ]
  },
  {
   "cell_type": "code",
   "execution_count": 12,
   "id": "9808aed9",
   "metadata": {},
   "outputs": [],
   "source": [
    "# lu - left upper, lb - left bottom\n",
    "# ru - right upper, rb - right bottom\n",
    "lu_lon = lon - offset\n",
    "lu_lat = lat + offset\n",
    "lb_lon = lon - offset\n",
    "lb_lat = lat - offset\n",
    "ru_lon = lon + offset\n",
    "ru_lat = lat + offset\n",
    "rb_lon = lon + offset\n",
    "rb_lat = lat - offset\n",
    "lon_lat_list = [\n",
    "    [lu_lon, lu_lat],\n",
    "    [ru_lon, ru_lat],\n",
    "    [rb_lon, rb_lat],\n",
    "    [lb_lon, lb_lat]]\n",
    "borders = Polygon(lon_lat_list)\n",
    "center = Point(ll)"
   ]
  },
  {
   "cell_type": "markdown",
   "id": "0d01c62a",
   "metadata": {},
   "source": [
    "### Задаём функцию отрисовки объектов"
   ]
  },
  {
   "cell_type": "code",
   "execution_count": 13,
   "id": "0b2495fb",
   "metadata": {},
   "outputs": [],
   "source": [
    "def plotItems(items, color, borders, center):\n",
    "    gdfBorders = gpd.GeoDataFrame(geometry=[borders])\n",
    "    gdfBorders['color'] = 'azure'\n",
    "    gdfCenter = gpd.GeoDataFrame(geometry=[center])\n",
    "    gdfCenter['color'] = 'maroon'\n",
    "    gdfItems = gpd.GeoDataFrame(geometry=items)\n",
    "    gdfItems['color'] = color\n",
    "    gdfItems = pd.concat([gdfBorders, gdfCenter, gdfItems])\n",
    "    gdfItems.plot(color=gdfItems['color'], figsize=(8,8))"
   ]
  },
  {
   "cell_type": "markdown",
   "id": "36001e3b",
   "metadata": {},
   "source": [
    "### К сожалению в geopandas не получается подставить карту под графики\n",
    "#### Так что попробуйте пока использовать воображение :)"
   ]
  },
  {
   "cell_type": "code",
   "execution_count": 14,
   "id": "12b20f9c",
   "metadata": {},
   "outputs": [],
   "source": [
    "data = static.getimage(ll=ll, l=l, size=size, spn=spn)\n",
    "img = Image(data, width=600)"
   ]
  },
  {
   "cell_type": "code",
   "execution_count": 15,
   "id": "d799886c",
   "metadata": {},
   "outputs": [
    {
     "data": {
      "image/jpeg": "[encoded data removed]",
      "text/plain": [
       "<IPython.core.display.Image object>"
      ]
     },
     "metadata": {
      "image/jpeg": {
       "width": 600
      }
     },
     "output_type": "display_data"
    }
   ],
   "source": [
    "display(img)"
   ]
  },
  {
   "cell_type": "markdown",
   "id": "0010321d",
   "metadata": {},
   "source": [
    "### Расположения книжных магазинов"
   ]
  },
  {
   "cell_type": "code",
   "execution_count": 16,
   "id": "f478653e",
   "metadata": {},
   "outputs": [
    {
     "data": {
      "image/png": "[encoded data removed]",
      "text/plain": [
       "<Figure size 576x576 with 1 Axes>"
      ]
     },
     "metadata": {
      "needs_background": "light"
     },
     "output_type": "display_data"
    }
   ],
   "source": [
    "plotItems(bookShopItems, 'blue', borders, center)"
   ]
  },
  {
   "cell_type": "markdown",
   "id": "8722621f",
   "metadata": {},
   "source": [
    "### Расположение алкогольных магазинов"
   ]
  },
  {
   "cell_type": "code",
   "execution_count": 17,
   "id": "a125fc45",
   "metadata": {},
   "outputs": [
    {
     "data": {
      "image/png": "[encoded data removed]",
      "text/plain": [
       "<Figure size 576x576 with 1 Axes>"
      ]
     },
     "metadata": {
      "needs_background": "light"
     },
     "output_type": "display_data"
    }
   ],
   "source": [
    "plotItems(alcoShopItems, 'red', borders, center)"
   ]
  },
  {
   "cell_type": "markdown",
   "id": "30042295",
   "metadata": {},
   "source": [
    "### Расположение общежитий"
   ]
  },
  {
   "cell_type": "code",
   "execution_count": 18,
   "id": "a2f11b51",
   "metadata": {},
   "outputs": [
    {
     "data": {
      "image/png": "[encoded data removed]",
      "text/plain": [
       "<Figure size 576x576 with 1 Axes>"
      ]
     },
     "metadata": {
      "needs_background": "light"
     },
     "output_type": "display_data"
    }
   ],
   "source": [
    "plotItems(houseItems, 'green', borders, center)"
   ]
  },
  {
   "cell_type": "markdown",
   "id": "81448b35",
   "metadata": {},
   "source": [
    "### Готовим данные для обучения"
   ]
  },
  {
   "cell_type": "code",
   "execution_count": 19,
   "id": "f5606bcc",
   "metadata": {},
   "outputs": [],
   "source": [
    "dfBooks = pd.DataFrame()\n",
    "dfAlco = pd.DataFrame()\n",
    "dfHouse = pd.DataFrame()"
   ]
  },
  {
   "cell_type": "code",
   "execution_count": 20,
   "id": "5142216d",
   "metadata": {},
   "outputs": [],
   "source": [
    "dfBooks['lon'] = pd.DataFrame(bookShopItems.x)\n",
    "dfBooks['lat'] = pd.DataFrame(bookShopItems.y)\n",
    "dfAlco['lon'] = pd.DataFrame(alcoShopItems.x)\n",
    "dfAlco['lat'] = pd.DataFrame(alcoShopItems.y)\n",
    "dfHouse['lon'] = pd.DataFrame(houseItems.x)\n",
    "dfHouse['lat'] = pd.DataFrame(houseItems.y)"
   ]
  },
  {
   "cell_type": "code",
   "execution_count": 21,
   "id": "e9593d4c",
   "metadata": {},
   "outputs": [],
   "source": [
    "# Сохраняем наборы данных\n",
    "\n",
    "dfBooks.to_csv('books.csv', index=False)\n",
    "dfAlco.to_csv('alco.csv', index=False)\n",
    "dfHouse.to_csv('house.csv', index=False)"
   ]
  },
  {
   "cell_type": "code",
   "execution_count": 22,
   "id": "50e4eb6f",
   "metadata": {},
   "outputs": [],
   "source": [
    "dfBooks['book'] = True\n",
    "dfAlco['book'] = False"
   ]
  },
  {
   "cell_type": "code",
   "execution_count": 23,
   "id": "d99c79c3",
   "metadata": {},
   "outputs": [
    {
     "data": {
      "text/html": [
       "<div>\n",
       "<style scoped>\n",
       "    .dataframe tbody tr th:only-of-type {\n",
       "        vertical-align: middle;\n",
       "    }\n",
       "\n",
       "    .dataframe tbody tr th {\n",
       "        vertical-align: top;\n",
       "    }\n",
       "\n",
       "    .dataframe thead th {\n",
       "        text-align: right;\n",
       "    }\n",
       "</style>\n",
       "<table border=\"1\" class=\"dataframe\">\n",
       "  <thead>\n",
       "    <tr style=\"text-align: right;\">\n",
       "      <th></th>\n",
       "      <th>lon</th>\n",
       "      <th>lat</th>\n",
       "      <th>book</th>\n",
       "    </tr>\n",
       "  </thead>\n",
       "  <tbody>\n",
       "    <tr>\n",
       "      <th>0</th>\n",
       "      <td>39.893984</td>\n",
       "      <td>59.217613</td>\n",
       "      <td>True</td>\n",
       "    </tr>\n",
       "    <tr>\n",
       "      <th>1</th>\n",
       "      <td>39.883791</td>\n",
       "      <td>59.219514</td>\n",
       "      <td>True</td>\n",
       "    </tr>\n",
       "    <tr>\n",
       "      <th>2</th>\n",
       "      <td>39.889447</td>\n",
       "      <td>59.219449</td>\n",
       "      <td>True</td>\n",
       "    </tr>\n",
       "  </tbody>\n",
       "</table>\n",
       "</div>"
      ],
      "text/plain": [
       "         lon        lat  book\n",
       "0  39.893984  59.217613  True\n",
       "1  39.883791  59.219514  True\n",
       "2  39.889447  59.219449  True"
      ]
     },
     "execution_count": 23,
     "metadata": {},
     "output_type": "execute_result"
    }
   ],
   "source": [
    "dfBooks.head(3)"
   ]
  },
  {
   "cell_type": "code",
   "execution_count": 24,
   "id": "d4a09392",
   "metadata": {},
   "outputs": [
    {
     "data": {
      "text/html": [
       "<div>\n",
       "<style scoped>\n",
       "    .dataframe tbody tr th:only-of-type {\n",
       "        vertical-align: middle;\n",
       "    }\n",
       "\n",
       "    .dataframe tbody tr th {\n",
       "        vertical-align: top;\n",
       "    }\n",
       "\n",
       "    .dataframe thead th {\n",
       "        text-align: right;\n",
       "    }\n",
       "</style>\n",
       "<table border=\"1\" class=\"dataframe\">\n",
       "  <thead>\n",
       "    <tr style=\"text-align: right;\">\n",
       "      <th></th>\n",
       "      <th>lon</th>\n",
       "      <th>lat</th>\n",
       "      <th>book</th>\n",
       "    </tr>\n",
       "  </thead>\n",
       "  <tbody>\n",
       "    <tr>\n",
       "      <th>47</th>\n",
       "      <td>39.837965</td>\n",
       "      <td>59.203069</td>\n",
       "      <td>False</td>\n",
       "    </tr>\n",
       "    <tr>\n",
       "      <th>48</th>\n",
       "      <td>39.862148</td>\n",
       "      <td>59.196219</td>\n",
       "      <td>False</td>\n",
       "    </tr>\n",
       "    <tr>\n",
       "      <th>49</th>\n",
       "      <td>39.902639</td>\n",
       "      <td>59.230011</td>\n",
       "      <td>False</td>\n",
       "    </tr>\n",
       "  </tbody>\n",
       "</table>\n",
       "</div>"
      ],
      "text/plain": [
       "          lon        lat   book\n",
       "47  39.837965  59.203069  False\n",
       "48  39.862148  59.196219  False\n",
       "49  39.902639  59.230011  False"
      ]
     },
     "execution_count": 24,
     "metadata": {},
     "output_type": "execute_result"
    }
   ],
   "source": [
    "dfAlco.tail(3)"
   ]
  },
  {
   "cell_type": "code",
   "execution_count": 25,
   "id": "ef26e715",
   "metadata": {},
   "outputs": [
    {
     "data": {
      "text/html": [
       "<div>\n",
       "<style scoped>\n",
       "    .dataframe tbody tr th:only-of-type {\n",
       "        vertical-align: middle;\n",
       "    }\n",
       "\n",
       "    .dataframe tbody tr th {\n",
       "        vertical-align: top;\n",
       "    }\n",
       "\n",
       "    .dataframe thead th {\n",
       "        text-align: right;\n",
       "    }\n",
       "</style>\n",
       "<table border=\"1\" class=\"dataframe\">\n",
       "  <thead>\n",
       "    <tr style=\"text-align: right;\">\n",
       "      <th></th>\n",
       "      <th>lon</th>\n",
       "      <th>lat</th>\n",
       "      <th>book</th>\n",
       "    </tr>\n",
       "  </thead>\n",
       "  <tbody>\n",
       "    <tr>\n",
       "      <th>0</th>\n",
       "      <td>39.893984</td>\n",
       "      <td>59.217613</td>\n",
       "      <td>True</td>\n",
       "    </tr>\n",
       "    <tr>\n",
       "      <th>1</th>\n",
       "      <td>39.883791</td>\n",
       "      <td>59.219514</td>\n",
       "      <td>True</td>\n",
       "    </tr>\n",
       "    <tr>\n",
       "      <th>2</th>\n",
       "      <td>39.889447</td>\n",
       "      <td>59.219449</td>\n",
       "      <td>True</td>\n",
       "    </tr>\n",
       "    <tr>\n",
       "      <th>3</th>\n",
       "      <td>39.894176</td>\n",
       "      <td>59.214597</td>\n",
       "      <td>True</td>\n",
       "    </tr>\n",
       "    <tr>\n",
       "      <th>4</th>\n",
       "      <td>39.890660</td>\n",
       "      <td>59.218769</td>\n",
       "      <td>True</td>\n",
       "    </tr>\n",
       "    <tr>\n",
       "      <th>...</th>\n",
       "      <td>...</td>\n",
       "      <td>...</td>\n",
       "      <td>...</td>\n",
       "    </tr>\n",
       "    <tr>\n",
       "      <th>74</th>\n",
       "      <td>39.912020</td>\n",
       "      <td>59.189349</td>\n",
       "      <td>False</td>\n",
       "    </tr>\n",
       "    <tr>\n",
       "      <th>75</th>\n",
       "      <td>39.943610</td>\n",
       "      <td>59.218378</td>\n",
       "      <td>False</td>\n",
       "    </tr>\n",
       "    <tr>\n",
       "      <th>76</th>\n",
       "      <td>39.837965</td>\n",
       "      <td>59.203069</td>\n",
       "      <td>False</td>\n",
       "    </tr>\n",
       "    <tr>\n",
       "      <th>77</th>\n",
       "      <td>39.862148</td>\n",
       "      <td>59.196219</td>\n",
       "      <td>False</td>\n",
       "    </tr>\n",
       "    <tr>\n",
       "      <th>78</th>\n",
       "      <td>39.902639</td>\n",
       "      <td>59.230011</td>\n",
       "      <td>False</td>\n",
       "    </tr>\n",
       "  </tbody>\n",
       "</table>\n",
       "<p>79 rows × 3 columns</p>\n",
       "</div>"
      ],
      "text/plain": [
       "          lon        lat   book\n",
       "0   39.893984  59.217613   True\n",
       "1   39.883791  59.219514   True\n",
       "2   39.889447  59.219449   True\n",
       "3   39.894176  59.214597   True\n",
       "4   39.890660  59.218769   True\n",
       "..        ...        ...    ...\n",
       "74  39.912020  59.189349  False\n",
       "75  39.943610  59.218378  False\n",
       "76  39.837965  59.203069  False\n",
       "77  39.862148  59.196219  False\n",
       "78  39.902639  59.230011  False\n",
       "\n",
       "[79 rows x 3 columns]"
      ]
     },
     "execution_count": 25,
     "metadata": {},
     "output_type": "execute_result"
    }
   ],
   "source": [
    "frames = [dfBooks, dfAlco]\n",
    "df = pd.concat(frames)\n",
    "df = df.reset_index(drop=True)\n",
    "df"
   ]
  },
  {
   "cell_type": "markdown",
   "id": "60b07c54",
   "metadata": {},
   "source": [
    "### Делим данные на X и Y"
   ]
  },
  {
   "cell_type": "code",
   "execution_count": 26,
   "id": "0fffadb7",
   "metadata": {},
   "outputs": [],
   "source": [
    "x = df.iloc[:,:2]\n",
    "y = df.iloc[:,2:]"
   ]
  },
  {
   "cell_type": "code",
   "execution_count": 27,
   "id": "30705d49",
   "metadata": {},
   "outputs": [
    {
     "data": {
      "text/html": [
       "<div>\n",
       "<style scoped>\n",
       "    .dataframe tbody tr th:only-of-type {\n",
       "        vertical-align: middle;\n",
       "    }\n",
       "\n",
       "    .dataframe tbody tr th {\n",
       "        vertical-align: top;\n",
       "    }\n",
       "\n",
       "    .dataframe thead th {\n",
       "        text-align: right;\n",
       "    }\n",
       "</style>\n",
       "<table border=\"1\" class=\"dataframe\">\n",
       "  <thead>\n",
       "    <tr style=\"text-align: right;\">\n",
       "      <th></th>\n",
       "      <th>lon</th>\n",
       "      <th>lat</th>\n",
       "    </tr>\n",
       "  </thead>\n",
       "  <tbody>\n",
       "    <tr>\n",
       "      <th>0</th>\n",
       "      <td>39.893984</td>\n",
       "      <td>59.217613</td>\n",
       "    </tr>\n",
       "    <tr>\n",
       "      <th>1</th>\n",
       "      <td>39.883791</td>\n",
       "      <td>59.219514</td>\n",
       "    </tr>\n",
       "    <tr>\n",
       "      <th>2</th>\n",
       "      <td>39.889447</td>\n",
       "      <td>59.219449</td>\n",
       "    </tr>\n",
       "  </tbody>\n",
       "</table>\n",
       "</div>"
      ],
      "text/plain": [
       "         lon        lat\n",
       "0  39.893984  59.217613\n",
       "1  39.883791  59.219514\n",
       "2  39.889447  59.219449"
      ]
     },
     "execution_count": 27,
     "metadata": {},
     "output_type": "execute_result"
    }
   ],
   "source": [
    "x.head(3)"
   ]
  },
  {
   "cell_type": "code",
   "execution_count": 28,
   "id": "5499c724",
   "metadata": {},
   "outputs": [
    {
     "data": {
      "text/html": [
       "<div>\n",
       "<style scoped>\n",
       "    .dataframe tbody tr th:only-of-type {\n",
       "        vertical-align: middle;\n",
       "    }\n",
       "\n",
       "    .dataframe tbody tr th {\n",
       "        vertical-align: top;\n",
       "    }\n",
       "\n",
       "    .dataframe thead th {\n",
       "        text-align: right;\n",
       "    }\n",
       "</style>\n",
       "<table border=\"1\" class=\"dataframe\">\n",
       "  <thead>\n",
       "    <tr style=\"text-align: right;\">\n",
       "      <th></th>\n",
       "      <th>book</th>\n",
       "    </tr>\n",
       "  </thead>\n",
       "  <tbody>\n",
       "    <tr>\n",
       "      <th>0</th>\n",
       "      <td>True</td>\n",
       "    </tr>\n",
       "    <tr>\n",
       "      <th>1</th>\n",
       "      <td>True</td>\n",
       "    </tr>\n",
       "    <tr>\n",
       "      <th>2</th>\n",
       "      <td>True</td>\n",
       "    </tr>\n",
       "  </tbody>\n",
       "</table>\n",
       "</div>"
      ],
      "text/plain": [
       "   book\n",
       "0  True\n",
       "1  True\n",
       "2  True"
      ]
     },
     "execution_count": 28,
     "metadata": {},
     "output_type": "execute_result"
    }
   ],
   "source": [
    "y.head(3)"
   ]
  },
  {
   "cell_type": "markdown",
   "id": "c407940e",
   "metadata": {},
   "source": [
    "### Запускаем обучение"
   ]
  },
  {
   "cell_type": "code",
   "execution_count": 29,
   "id": "ca49b289",
   "metadata": {},
   "outputs": [
    {
     "data": {
      "text/plain": [
       "DecisionTreeClassifier(criterion='entropy')"
      ]
     },
     "execution_count": 29,
     "metadata": {},
     "output_type": "execute_result"
    }
   ],
   "source": [
    "model = tree.DecisionTreeClassifier(criterion=\"entropy\")\n",
    "model.fit(x,y)"
   ]
  },
  {
   "cell_type": "code",
   "execution_count": 30,
   "id": "a303ba7f",
   "metadata": {},
   "outputs": [
    {
     "data": {
      "text/plain": [
       "1.0"
      ]
     },
     "execution_count": 30,
     "metadata": {},
     "output_type": "execute_result"
    }
   ],
   "source": [
    "model.score(x,y)"
   ]
  },
  {
   "cell_type": "markdown",
   "id": "c6800fbf",
   "metadata": {},
   "source": [
    "### Запускаем прогноз по общежитиям"
   ]
  },
  {
   "cell_type": "code",
   "execution_count": 31,
   "id": "9d37f40c",
   "metadata": {},
   "outputs": [],
   "source": [
    "houseBook = model.predict(dfHouse)"
   ]
  },
  {
   "cell_type": "code",
   "execution_count": 32,
   "id": "689027df",
   "metadata": {},
   "outputs": [],
   "source": [
    "dfHouse['book'] = houseBook"
   ]
  },
  {
   "cell_type": "code",
   "execution_count": 33,
   "id": "7b2b7a20",
   "metadata": {},
   "outputs": [
    {
     "data": {
      "text/html": [
       "<div>\n",
       "<style scoped>\n",
       "    .dataframe tbody tr th:only-of-type {\n",
       "        vertical-align: middle;\n",
       "    }\n",
       "\n",
       "    .dataframe tbody tr th {\n",
       "        vertical-align: top;\n",
       "    }\n",
       "\n",
       "    .dataframe thead th {\n",
       "        text-align: right;\n",
       "    }\n",
       "</style>\n",
       "<table border=\"1\" class=\"dataframe\">\n",
       "  <thead>\n",
       "    <tr style=\"text-align: right;\">\n",
       "      <th></th>\n",
       "      <th>lon</th>\n",
       "      <th>lat</th>\n",
       "      <th>book</th>\n",
       "    </tr>\n",
       "  </thead>\n",
       "  <tbody>\n",
       "    <tr>\n",
       "      <th>0</th>\n",
       "      <td>39.893324</td>\n",
       "      <td>59.222005</td>\n",
       "      <td>False</td>\n",
       "    </tr>\n",
       "    <tr>\n",
       "      <th>1</th>\n",
       "      <td>39.876942</td>\n",
       "      <td>59.219260</td>\n",
       "      <td>False</td>\n",
       "    </tr>\n",
       "    <tr>\n",
       "      <th>2</th>\n",
       "      <td>39.884552</td>\n",
       "      <td>59.229857</td>\n",
       "      <td>False</td>\n",
       "    </tr>\n",
       "  </tbody>\n",
       "</table>\n",
       "</div>"
      ],
      "text/plain": [
       "         lon        lat   book\n",
       "0  39.893324  59.222005  False\n",
       "1  39.876942  59.219260  False\n",
       "2  39.884552  59.229857  False"
      ]
     },
     "execution_count": 33,
     "metadata": {},
     "output_type": "execute_result"
    }
   ],
   "source": [
    "dfHouse.head(3)"
   ]
  },
  {
   "cell_type": "markdown",
   "id": "33eb0f0b",
   "metadata": {},
   "source": [
    "### Готовим структуру для вывода"
   ]
  },
  {
   "cell_type": "code",
   "execution_count": 34,
   "id": "6900e38a",
   "metadata": {},
   "outputs": [
    {
     "data": {
      "text/html": [
       "<div>\n",
       "<style scoped>\n",
       "    .dataframe tbody tr th:only-of-type {\n",
       "        vertical-align: middle;\n",
       "    }\n",
       "\n",
       "    .dataframe tbody tr th {\n",
       "        vertical-align: top;\n",
       "    }\n",
       "\n",
       "    .dataframe thead th {\n",
       "        text-align: right;\n",
       "    }\n",
       "</style>\n",
       "<table border=\"1\" class=\"dataframe\">\n",
       "  <thead>\n",
       "    <tr style=\"text-align: right;\">\n",
       "      <th></th>\n",
       "      <th>lon</th>\n",
       "      <th>lat</th>\n",
       "      <th>book</th>\n",
       "      <th>point</th>\n",
       "    </tr>\n",
       "  </thead>\n",
       "  <tbody>\n",
       "    <tr>\n",
       "      <th>0</th>\n",
       "      <td>39.893324</td>\n",
       "      <td>59.222005</td>\n",
       "      <td>False</td>\n",
       "      <td>POINT (39.893324 59.222005)</td>\n",
       "    </tr>\n",
       "    <tr>\n",
       "      <th>1</th>\n",
       "      <td>39.876942</td>\n",
       "      <td>59.219260</td>\n",
       "      <td>False</td>\n",
       "      <td>POINT (39.876942 59.21926)</td>\n",
       "    </tr>\n",
       "    <tr>\n",
       "      <th>2</th>\n",
       "      <td>39.884552</td>\n",
       "      <td>59.229857</td>\n",
       "      <td>False</td>\n",
       "      <td>POINT (39.884552 59.229857)</td>\n",
       "    </tr>\n",
       "  </tbody>\n",
       "</table>\n",
       "</div>"
      ],
      "text/plain": [
       "         lon        lat   book                        point\n",
       "0  39.893324  59.222005  False  POINT (39.893324 59.222005)\n",
       "1  39.876942  59.219260  False   POINT (39.876942 59.21926)\n",
       "2  39.884552  59.229857  False  POINT (39.884552 59.229857)"
      ]
     },
     "execution_count": 34,
     "metadata": {},
     "output_type": "execute_result"
    }
   ],
   "source": [
    "dfHouse['point'] = dfHouse.apply(lambda row: Point(row[0], row[1]), axis=1)\n",
    "dfHouse.head(3)"
   ]
  },
  {
   "cell_type": "code",
   "execution_count": 35,
   "id": "5b1d18c7",
   "metadata": {},
   "outputs": [
    {
     "data": {
      "text/html": [
       "<div>\n",
       "<style scoped>\n",
       "    .dataframe tbody tr th:only-of-type {\n",
       "        vertical-align: middle;\n",
       "    }\n",
       "\n",
       "    .dataframe tbody tr th {\n",
       "        vertical-align: top;\n",
       "    }\n",
       "\n",
       "    .dataframe thead th {\n",
       "        text-align: right;\n",
       "    }\n",
       "</style>\n",
       "<table border=\"1\" class=\"dataframe\">\n",
       "  <thead>\n",
       "    <tr style=\"text-align: right;\">\n",
       "      <th></th>\n",
       "      <th>book</th>\n",
       "      <th>geometry</th>\n",
       "    </tr>\n",
       "  </thead>\n",
       "  <tbody>\n",
       "    <tr>\n",
       "      <th>0</th>\n",
       "      <td>False</td>\n",
       "      <td>POINT (39.89332 59.22201)</td>\n",
       "    </tr>\n",
       "    <tr>\n",
       "      <th>1</th>\n",
       "      <td>False</td>\n",
       "      <td>POINT (39.87694 59.21926)</td>\n",
       "    </tr>\n",
       "    <tr>\n",
       "      <th>2</th>\n",
       "      <td>False</td>\n",
       "      <td>POINT (39.88455 59.22986)</td>\n",
       "    </tr>\n",
       "  </tbody>\n",
       "</table>\n",
       "</div>"
      ],
      "text/plain": [
       "    book                   geometry\n",
       "0  False  POINT (39.89332 59.22201)\n",
       "1  False  POINT (39.87694 59.21926)\n",
       "2  False  POINT (39.88455 59.22986)"
      ]
     },
     "execution_count": 35,
     "metadata": {},
     "output_type": "execute_result"
    }
   ],
   "source": [
    "gdfItems = gpd.GeoDataFrame(dfHouse['book'], geometry=dfHouse['point'])\n",
    "gdfItems.head(3)"
   ]
  },
  {
   "cell_type": "markdown",
   "id": "c861fe97",
   "metadata": {},
   "source": [
    "### Ещё раз выводим обычное расположение"
   ]
  },
  {
   "cell_type": "code",
   "execution_count": 36,
   "id": "be0d3255",
   "metadata": {},
   "outputs": [
    {
     "data": {
      "image/png": "[encoded data removed]",
      "text/plain": [
       "<Figure size 576x576 with 1 Axes>"
      ]
     },
     "metadata": {
      "needs_background": "light"
     },
     "output_type": "display_data"
    }
   ],
   "source": [
    "plotItems(houseItems, 'green', borders, center)"
   ]
  },
  {
   "cell_type": "markdown",
   "id": "770d148f",
   "metadata": {},
   "source": [
    "### Выводим результат прогноза"
   ]
  },
  {
   "cell_type": "code",
   "execution_count": 37,
   "id": "37f1babd",
   "metadata": {},
   "outputs": [
    {
     "data": {
      "text/plain": [
       "<AxesSubplot:>"
      ]
     },
     "execution_count": 37,
     "metadata": {},
     "output_type": "execute_result"
    },
    {
     "data": {
      "image/png": "[encoded data removed]",
      "text/plain": [
       "<Figure size 576x576 with 1 Axes>"
      ]
     },
     "metadata": {
      "needs_background": "light"
     },
     "output_type": "display_data"
    }
   ],
   "source": [
    "gdfItems.plot(column='book', legend=True, figsize=(8,8))"
   ]
  },
  {
   "cell_type": "code",
   "execution_count": 38,
   "id": "b0a5b0d3",
   "metadata": {},
   "outputs": [],
   "source": [
    "# Сохраняем финальный набор данных\n",
    "\n",
    "dfBooks = pd.DataFrame()\n",
    "dfBooks['lon'] = pd.DataFrame(gdfItems.geometry.x)\n",
    "dfBooks['lat'] = pd.DataFrame(gdfItems.geometry.y)\n",
    "dfBooks['book'] = gdfItems['book']\n",
    "dfBooks.to_csv('predicted.csv', index=False)"
   ]
  },
  {
   "cell_type": "code",
   "execution_count": null,
   "id": "ca5e63c6",
   "metadata": {},
   "outputs": [],
   "source": []
  }
 ],
 "metadata": {
  "kernelspec": {
   "display_name": "Python 3 (ipykernel)",
   "language": "python",
   "name": "python3"
  },
  "language_info": {
   "codemirror_mode": {
    "name": "ipython",
    "version": 3
   },
   "file_extension": ".py",
   "mimetype": "text/x-python",
   "name": "python",
   "nbconvert_exporter": "python",
   "pygments_lexer": "ipython3",
   "version": "3.9.9"
  }
 },
 "nbformat": 4,
 "nbformat_minor": 5
}
