{
 "cells": [
  {
   "cell_type": "code",
   "execution_count": 1,
   "id": "91b0ea26",
   "metadata": {
    "cellId": "g2zbtl3gntcrlm5mz1f8f"
   },
   "outputs": [],
   "source": [
    "import numpy as np\n",
    "import pandas as pd\n",
    "import geopandas as gpd\n",
    "import matplotlib as mathpl\n",
    "from shapely.ops import split\n",
    "from shapely.geometry import Point\n",
    "from shapely.geometry import LineString\n",
    "from shapely.geometry.polygon import Polygon\n",
    "from shapely.geometry.multipolygon import MultiPolygon"
   ]
  },
  {
   "cell_type": "markdown",
   "id": "96996649",
   "metadata": {
    "cellId": "q2vc12qz18ykf5sctmhj",
    "execution_id": "69d91f3a-7f27-4555-a28d-d99b43748cae"
   },
   "source": [
    "## Расчёт доступности объектов здравоохранение\n",
    "\n",
    "[Задача](https://github.com/NorthGateVologda/NorthGate/issues/20)\n",
    "\n",
    "В рамках данной задачи, мы делим данный городской округ $G$ на заданные квадраты и\n",
    "полигоны по краям границы используя сетку с заданным шагом.\n",
    "\n",
    "$$\n",
    "P = \\{p | p \\in G\\}\n",
    "$$\n",
    "\n",
    "Считаем количество населения $N$ для каждого квадрата $p$ по количеству домов $h$\n",
    "используя функцию $H$ возвращающую среднее количество жителей по году постройки здания:\n",
    "\n",
    "$$\n",
    "N = \\{ n | \\sum_{i=1}^{k} H(h_i), h \\in p \\}\n",
    "$$\n",
    "\n",
    "где к вышеупомянутым $n$ это население в заданном квадрате, а $k$ это единично-основанный\n",
    "индекс здания в заданном квадрате.\n",
    "\n",
    "Считаем потенциал оказания медицинских услуг $Q$ для каждого квадрата $p$ по количеству\n",
    "медучреждений $m$ используф функцию $M$ возвращающую средний охват населения на учреждение:\n",
    "\n",
    "$$\n",
    "Q = \\{ q | \\sum_{i=1}^{l} M(h_l), m \\in p \\}\n",
    "$$\n",
    "\n",
    "где к вышеупомянутым $q$ это потенциальный охват учреждения, а $k$ это единично-основанный\n",
    "индекс учреждения в заданном квадрате.\n",
    "\n",
    "Считаем профицит доступности медицинских услуг:\n",
    "\n",
    "$$\n",
    "\\frac{Q}{N}\n",
    "$$\n",
    "\n"
   ]
  },
  {
   "cell_type": "markdown",
   "id": "67c1d1b3",
   "metadata": {
    "cellId": "5drbdrvbzkr8atar0kgg4k",
    "execution_id": "54956b43-c337-4acc-b993-1368efa4fe73"
   },
   "source": [
    "### Параметры алгоритма"
   ]
  },
  {
   "cell_type": "code",
   "execution_count": 2,
   "id": "92c16c85",
   "metadata": {
    "cellId": "y2nl335t6bctyc38as6g"
   },
   "outputs": [],
   "source": [
    "# Имя городского округа\n",
    "city = 'Архангельск'\n",
    "# Шаг геодезической сети (наверное это как то по другому называется)\n",
    "mesh_step = 1000\n",
    "# Год постройки жилых зданий делящий набор на два подмножества\n",
    "# Дом считается старым, если его год меньше или равен заданному\n",
    "split_year = 1972\n",
    "# Среднее количество в новых домах\n",
    "upper_amount = 100\n",
    "# Среднее количество в старых домах\n",
    "lower_amount = 50\n",
    "# Количество населения обслуживаемое медучреждением\n",
    "med_amount = 500"
   ]
  },
  {
   "cell_type": "markdown",
   "id": "bada7507",
   "metadata": {
    "cellId": "b8qs6i6x8wru8oz6k82so",
    "execution_id": "5d0ed448-986a-4333-a598-7b57017554d6"
   },
   "source": [
    "### Загружаем данные"
   ]
  },
  {
   "cell_type": "code",
   "execution_count": 3,
   "id": "da045b31",
   "metadata": {
    "cellId": "oikrye2kod1rmd3xvpxp6"
   },
   "outputs": [],
   "source": [
    "# Загружаем данные\n",
    "buildings = gpd.read_file('GeoJSON/data/buildings.geojson')\n",
    "zdrav = gpd.read_file('GeoJSON/data/objects_zdrav.geojson')\n",
    "mun_obr = gpd.read_file('GeoJSON/data/mun_obr_all_bad.geojson')"
   ]
  },
  {
   "cell_type": "code",
   "execution_count": 4,
   "id": "b47c54ce",
   "metadata": {
    "cellId": "13x0l0q0ik9j3a2eytfw8vx"
   },
   "outputs": [
    {
     "data": {
      "text/html": [
       "<div>\n",
       "<style scoped>\n",
       "    .dataframe tbody tr th:only-of-type {\n",
       "        vertical-align: middle;\n",
       "    }\n",
       "\n",
       "    .dataframe tbody tr th {\n",
       "        vertical-align: top;\n",
       "    }\n",
       "\n",
       "    .dataframe thead th {\n",
       "        text-align: right;\n",
       "    }\n",
       "</style>\n",
       "<table border=\"1\" class=\"dataframe\">\n",
       "  <thead>\n",
       "    <tr style=\"text-align: right;\">\n",
       "      <th></th>\n",
       "      <th>id</th>\n",
       "      <th>city</th>\n",
       "      <th>year</th>\n",
       "      <th>geometry</th>\n",
       "    </tr>\n",
       "  </thead>\n",
       "  <tbody>\n",
       "    <tr>\n",
       "      <th>0</th>\n",
       "      <td>3600851</td>\n",
       "      <td>г. Архангельск</td>\n",
       "      <td>1972</td>\n",
       "      <td>POINT (4500192.491 9488394.583)</td>\n",
       "    </tr>\n",
       "    <tr>\n",
       "      <th>1</th>\n",
       "      <td>3600852</td>\n",
       "      <td>г. Архангельск</td>\n",
       "      <td>1971</td>\n",
       "      <td>POINT (4500308.835 9488520.679)</td>\n",
       "    </tr>\n",
       "    <tr>\n",
       "      <th>2</th>\n",
       "      <td>3600853</td>\n",
       "      <td>г. Архангельск</td>\n",
       "      <td>1974</td>\n",
       "      <td>POINT (4500297.482 9488325.283)</td>\n",
       "    </tr>\n",
       "  </tbody>\n",
       "</table>\n",
       "</div>"
      ],
      "text/plain": [
       "        id            city  year                         geometry\n",
       "0  3600851  г. Архангельск  1972  POINT (4500192.491 9488394.583)\n",
       "1  3600852  г. Архангельск  1971  POINT (4500308.835 9488520.679)\n",
       "2  3600853  г. Архангельск  1974  POINT (4500297.482 9488325.283)"
      ]
     },
     "execution_count": 4,
     "metadata": {},
     "output_type": "execute_result"
    }
   ],
   "source": [
    "buildings.head(3)"
   ]
  },
  {
   "cell_type": "code",
   "execution_count": 5,
   "id": "8a65ebf4",
   "metadata": {
    "cellId": "xm58n374yprrqdcjp1o29"
   },
   "outputs": [
    {
     "data": {
      "text/html": [
       "<div>\n",
       "<style scoped>\n",
       "    .dataframe tbody tr th:only-of-type {\n",
       "        vertical-align: middle;\n",
       "    }\n",
       "\n",
       "    .dataframe tbody tr th {\n",
       "        vertical-align: top;\n",
       "    }\n",
       "\n",
       "    .dataframe thead th {\n",
       "        text-align: right;\n",
       "    }\n",
       "</style>\n",
       "<table border=\"1\" class=\"dataframe\">\n",
       "  <thead>\n",
       "    <tr style=\"text-align: right;\">\n",
       "      <th></th>\n",
       "      <th>id</th>\n",
       "      <th>name</th>\n",
       "      <th>city</th>\n",
       "      <th>street</th>\n",
       "      <th>house</th>\n",
       "      <th>post</th>\n",
       "      <th>x</th>\n",
       "      <th>y</th>\n",
       "      <th>cpi_id</th>\n",
       "      <th>geometry</th>\n",
       "    </tr>\n",
       "  </thead>\n",
       "  <tbody>\n",
       "    <tr>\n",
       "      <th>0</th>\n",
       "      <td>497</td>\n",
       "      <td>Зубной лекарь, стоматологическая клиника, ООО ...</td>\n",
       "      <td>Архангельск</td>\n",
       "      <td>Троицкий проспект</td>\n",
       "      <td>12</td>\n",
       "      <td></td>\n",
       "      <td>40.531366</td>\n",
       "      <td>64.532504</td>\n",
       "      <td>15347</td>\n",
       "      <td>POINT (4511931.077 9486294.630)</td>\n",
       "    </tr>\n",
       "    <tr>\n",
       "      <th>1</th>\n",
       "      <td>540</td>\n",
       "      <td>Северодвинская городская больница №1, ГБУЗ</td>\n",
       "      <td>Северодвинск (Северодвинск городской округ)</td>\n",
       "      <td>Серго Орджоникидзе</td>\n",
       "      <td>2а</td>\n",
       "      <td>164512</td>\n",
       "      <td>39.784852</td>\n",
       "      <td>64.561244</td>\n",
       "      <td>16904</td>\n",
       "      <td>POINT (4428829.428 9493738.840)</td>\n",
       "    </tr>\n",
       "    <tr>\n",
       "      <th>2</th>\n",
       "      <td>1196</td>\n",
       "      <td>Стоматошка, ООО, центр семейной стоматологии</td>\n",
       "      <td>Северодвинск (Северодвинск городской округ)</td>\n",
       "      <td>Ломоносова</td>\n",
       "      <td>97</td>\n",
       "      <td>164522</td>\n",
       "      <td>39.768076</td>\n",
       "      <td>64.547978</td>\n",
       "      <td>37139</td>\n",
       "      <td>POINT (4426962.001 9490301.724)</td>\n",
       "    </tr>\n",
       "  </tbody>\n",
       "</table>\n",
       "</div>"
      ],
      "text/plain": [
       "     id  ...                         geometry\n",
       "0   497  ...  POINT (4511931.077 9486294.630)\n",
       "1   540  ...  POINT (4428829.428 9493738.840)\n",
       "2  1196  ...  POINT (4426962.001 9490301.724)\n",
       "\n",
       "[3 rows x 10 columns]"
      ]
     },
     "execution_count": 5,
     "metadata": {},
     "output_type": "execute_result"
    }
   ],
   "source": [
    "zdrav.head(3)"
   ]
  },
  {
   "cell_type": "code",
   "execution_count": 6,
   "id": "2fa58290",
   "metadata": {
    "cellId": "k7n3f27w1ub5wkcb7ur9t"
   },
   "outputs": [
    {
     "data": {
      "text/html": [
       "<div>\n",
       "<style scoped>\n",
       "    .dataframe tbody tr th:only-of-type {\n",
       "        vertical-align: middle;\n",
       "    }\n",
       "\n",
       "    .dataframe tbody tr th {\n",
       "        vertical-align: top;\n",
       "    }\n",
       "\n",
       "    .dataframe thead th {\n",
       "        text-align: right;\n",
       "    }\n",
       "</style>\n",
       "<table border=\"1\" class=\"dataframe\">\n",
       "  <thead>\n",
       "    <tr style=\"text-align: right;\">\n",
       "      <th></th>\n",
       "      <th>id</th>\n",
       "      <th>name</th>\n",
       "      <th>type</th>\n",
       "      <th>level</th>\n",
       "      <th>sub</th>\n",
       "      <th>region</th>\n",
       "      <th>people</th>\n",
       "      <th>sum_bad</th>\n",
       "      <th>percent</th>\n",
       "      <th>road_density</th>\n",
       "      <th>road_demand</th>\n",
       "      <th>id_full</th>\n",
       "      <th>count_bad</th>\n",
       "      <th>avg_free_speed_to_limit</th>\n",
       "      <th>sum_all</th>\n",
       "      <th>sum_all_signal</th>\n",
       "      <th>geometry</th>\n",
       "    </tr>\n",
       "  </thead>\n",
       "  <tbody>\n",
       "    <tr>\n",
       "      <th>0</th>\n",
       "      <td>1</td>\n",
       "      <td>Приморский</td>\n",
       "      <td>Район</td>\n",
       "      <td>3</td>\n",
       "      <td>3</td>\n",
       "      <td>Архангельская область</td>\n",
       "      <td>25639</td>\n",
       "      <td>454.179</td>\n",
       "      <td>22.587524</td>\n",
       "      <td>0.039698</td>\n",
       "      <td>7817</td>\n",
       "      <td>191.0</td>\n",
       "      <td>1276</td>\n",
       "      <td>0.540127</td>\n",
       "      <td>4566.956058</td>\n",
       "      <td>2010.751573</td>\n",
       "      <td>MULTIPOLYGON (((6752340.851 16757142.533, 6747...</td>\n",
       "    </tr>\n",
       "    <tr>\n",
       "      <th>1</th>\n",
       "      <td>2</td>\n",
       "      <td>Онежский</td>\n",
       "      <td>Район</td>\n",
       "      <td>3</td>\n",
       "      <td>3</td>\n",
       "      <td>Архангельская область</td>\n",
       "      <td>30762</td>\n",
       "      <td>497.027</td>\n",
       "      <td>52.266499</td>\n",
       "      <td>0.199816</td>\n",
       "      <td>258</td>\n",
       "      <td>198.0</td>\n",
       "      <td>557</td>\n",
       "      <td>0.769203</td>\n",
       "      <td>5690.231916</td>\n",
       "      <td>950.947574</td>\n",
       "      <td>MULTIPOLYGON (((4137834.751 9506878.049, 41661...</td>\n",
       "    </tr>\n",
       "    <tr>\n",
       "      <th>2</th>\n",
       "      <td>3</td>\n",
       "      <td>Архангельск</td>\n",
       "      <td>Городской округ</td>\n",
       "      <td>3</td>\n",
       "      <td>3</td>\n",
       "      <td>Архангельская область</td>\n",
       "      <td>358594</td>\n",
       "      <td>22.830</td>\n",
       "      <td>1.136748</td>\n",
       "      <td>5.871852</td>\n",
       "      <td>6029</td>\n",
       "      <td>202.0</td>\n",
       "      <td>110</td>\n",
       "      <td>0.635683</td>\n",
       "      <td>2046.616862</td>\n",
       "      <td>2008.360347</td>\n",
       "      <td>MULTIPOLYGON (((4508803.091 9540731.081, 45093...</td>\n",
       "    </tr>\n",
       "  </tbody>\n",
       "</table>\n",
       "</div>"
      ],
      "text/plain": [
       "   id  ...                                           geometry\n",
       "0   1  ...  MULTIPOLYGON (((6752340.851 16757142.533, 6747...\n",
       "1   2  ...  MULTIPOLYGON (((4137834.751 9506878.049, 41661...\n",
       "2   3  ...  MULTIPOLYGON (((4508803.091 9540731.081, 45093...\n",
       "\n",
       "[3 rows x 17 columns]"
      ]
     },
     "execution_count": 6,
     "metadata": {},
     "output_type": "execute_result"
    }
   ],
   "source": [
    "mun_obr.head(3)"
   ]
  },
  {
   "cell_type": "markdown",
   "id": "0bd4739a",
   "metadata": {
    "cellId": "zfdhy3buq98h52pbqo0sd",
    "execution_id": "9731e75e-abfc-441b-a9a5-cdd04b0b465c"
   },
   "source": [
    "### Ограничиваем данные"
   ]
  },
  {
   "cell_type": "code",
   "execution_count": 7,
   "id": "91be7510",
   "metadata": {
    "cellId": "kyx6ee7jzgsovdoii8tkq"
   },
   "outputs": [
    {
     "data": {
      "text/html": [
       "<div>\n",
       "<style scoped>\n",
       "    .dataframe tbody tr th:only-of-type {\n",
       "        vertical-align: middle;\n",
       "    }\n",
       "\n",
       "    .dataframe tbody tr th {\n",
       "        vertical-align: top;\n",
       "    }\n",
       "\n",
       "    .dataframe thead th {\n",
       "        text-align: right;\n",
       "    }\n",
       "</style>\n",
       "<table border=\"1\" class=\"dataframe\">\n",
       "  <thead>\n",
       "    <tr style=\"text-align: right;\">\n",
       "      <th></th>\n",
       "      <th>id</th>\n",
       "      <th>name</th>\n",
       "      <th>type</th>\n",
       "      <th>level</th>\n",
       "      <th>sub</th>\n",
       "      <th>region</th>\n",
       "      <th>people</th>\n",
       "      <th>sum_bad</th>\n",
       "      <th>percent</th>\n",
       "      <th>road_density</th>\n",
       "      <th>road_demand</th>\n",
       "      <th>id_full</th>\n",
       "      <th>count_bad</th>\n",
       "      <th>avg_free_speed_to_limit</th>\n",
       "      <th>sum_all</th>\n",
       "      <th>sum_all_signal</th>\n",
       "      <th>geometry</th>\n",
       "    </tr>\n",
       "  </thead>\n",
       "  <tbody>\n",
       "    <tr>\n",
       "      <th>2</th>\n",
       "      <td>3</td>\n",
       "      <td>Архангельск</td>\n",
       "      <td>Городской округ</td>\n",
       "      <td>3</td>\n",
       "      <td>3</td>\n",
       "      <td>Архангельская область</td>\n",
       "      <td>358594</td>\n",
       "      <td>22.83</td>\n",
       "      <td>1.136748</td>\n",
       "      <td>5.871852</td>\n",
       "      <td>6029</td>\n",
       "      <td>202.0</td>\n",
       "      <td>110</td>\n",
       "      <td>0.635683</td>\n",
       "      <td>2046.616862</td>\n",
       "      <td>2008.360347</td>\n",
       "      <td>MULTIPOLYGON (((4508803.091 9540731.081, 45093...</td>\n",
       "    </tr>\n",
       "  </tbody>\n",
       "</table>\n",
       "</div>"
      ],
      "text/plain": [
       "   id  ...                                           geometry\n",
       "2   3  ...  MULTIPOLYGON (((4508803.091 9540731.081, 45093...\n",
       "\n",
       "[1 rows x 17 columns]"
      ]
     },
     "execution_count": 7,
     "metadata": {},
     "output_type": "execute_result"
    }
   ],
   "source": [
    "area_type = 'Городской округ'\n",
    "mun_obr = mun_obr[(mun_obr.name==city) & (mun_obr['type']==area_type)]\n",
    "mun_obr.head(3)"
   ]
  },
  {
   "cell_type": "code",
   "execution_count": 8,
   "id": "d2038228",
   "metadata": {
    "cellId": "1m6vp75133ejjcof0maxvn"
   },
   "outputs": [
    {
     "data": {
      "text/html": [
       "<div>\n",
       "<style scoped>\n",
       "    .dataframe tbody tr th:only-of-type {\n",
       "        vertical-align: middle;\n",
       "    }\n",
       "\n",
       "    .dataframe tbody tr th {\n",
       "        vertical-align: top;\n",
       "    }\n",
       "\n",
       "    .dataframe thead th {\n",
       "        text-align: right;\n",
       "    }\n",
       "</style>\n",
       "<table border=\"1\" class=\"dataframe\">\n",
       "  <thead>\n",
       "    <tr style=\"text-align: right;\">\n",
       "      <th></th>\n",
       "      <th>id</th>\n",
       "      <th>name</th>\n",
       "      <th>city</th>\n",
       "      <th>street</th>\n",
       "      <th>house</th>\n",
       "      <th>post</th>\n",
       "      <th>x</th>\n",
       "      <th>y</th>\n",
       "      <th>cpi_id</th>\n",
       "      <th>geometry</th>\n",
       "    </tr>\n",
       "  </thead>\n",
       "  <tbody>\n",
       "    <tr>\n",
       "      <th>0</th>\n",
       "      <td>497</td>\n",
       "      <td>Зубной лекарь, стоматологическая клиника, ООО ...</td>\n",
       "      <td>Архангельск</td>\n",
       "      <td>Троицкий проспект</td>\n",
       "      <td>12</td>\n",
       "      <td></td>\n",
       "      <td>40.531366</td>\n",
       "      <td>64.532504</td>\n",
       "      <td>15347</td>\n",
       "      <td>POINT (4511931.077 9486294.630)</td>\n",
       "    </tr>\n",
       "    <tr>\n",
       "      <th>3</th>\n",
       "      <td>1449</td>\n",
       "      <td>Arctic Smile, клиника эстетической стоматологии</td>\n",
       "      <td>Архангельск</td>\n",
       "      <td>Советских Космонавтов проспект</td>\n",
       "      <td>115</td>\n",
       "      <td>163000</td>\n",
       "      <td>40.532484</td>\n",
       "      <td>64.545325</td>\n",
       "      <td>44992</td>\n",
       "      <td>POINT (4512055.475 9489614.533)</td>\n",
       "    </tr>\n",
       "    <tr>\n",
       "      <th>5</th>\n",
       "      <td>1940</td>\n",
       "      <td>Альтаир, ООО, стоматологическая клиника</td>\n",
       "      <td>Архангельск</td>\n",
       "      <td>Гагарина</td>\n",
       "      <td>45</td>\n",
       "      <td>163045</td>\n",
       "      <td>40.557178</td>\n",
       "      <td>64.556126</td>\n",
       "      <td>60521</td>\n",
       "      <td>POINT (4514804.394 9492412.583)</td>\n",
       "    </tr>\n",
       "  </tbody>\n",
       "</table>\n",
       "</div>"
      ],
      "text/plain": [
       "     id  ...                         geometry\n",
       "0   497  ...  POINT (4511931.077 9486294.630)\n",
       "3  1449  ...  POINT (4512055.475 9489614.533)\n",
       "5  1940  ...  POINT (4514804.394 9492412.583)\n",
       "\n",
       "[3 rows x 10 columns]"
      ]
     },
     "execution_count": 8,
     "metadata": {},
     "output_type": "execute_result"
    }
   ],
   "source": [
    "zdrav = zdrav[zdrav.city==city]\n",
    "zdrav.head(3)"
   ]
  },
  {
   "cell_type": "markdown",
   "id": "ce2b9c8a",
   "metadata": {
    "cellId": "nu8h0wvxzsjfoei7ve7o9",
    "execution_id": "baf0e474-db9c-41d5-8957-317a41e12508"
   },
   "source": [
    "### Задаём функция разбиения мультиполигона"
   ]
  },
  {
   "cell_type": "code",
   "execution_count": 9,
   "id": "66c00cc3",
   "metadata": {
    "cellId": "k56csmxneubx96v384cpsq"
   },
   "outputs": [],
   "source": [
    "# Функция разбиения мультиполигона\n",
    "def explodeMultiPolygon(indf):\n",
    "    outarr = []\n",
    "    for _, row in indf.iterrows():\n",
    "        assert type(row.geometry) == MultiPolygon\n",
    "        for geom in row.geometry.geoms:\n",
    "            obj = {}\n",
    "            obj['people'] = row.people\n",
    "            obj['id_full'] = row.id_full\n",
    "            obj['geometry'] = geom\n",
    "            outarr.append(obj)\n",
    "    return outarr"
   ]
  },
  {
   "cell_type": "markdown",
   "id": "8c6e4882",
   "metadata": {
    "cellId": "ige2rh1vwqofknb1b1rbar",
    "execution_id": "59adf0d4-cf65-4404-8552-b2ac150b0d9e"
   },
   "source": [
    "### Разбиваем мультиполигон"
   ]
  },
  {
   "cell_type": "code",
   "execution_count": 10,
   "id": "f2b8d1bf",
   "metadata": {
    "cellId": "jcoo2mpju8kqxryddxrrr"
   },
   "outputs": [
    {
     "data": {
      "text/html": [
       "<div>\n",
       "<style scoped>\n",
       "    .dataframe tbody tr th:only-of-type {\n",
       "        vertical-align: middle;\n",
       "    }\n",
       "\n",
       "    .dataframe tbody tr th {\n",
       "        vertical-align: top;\n",
       "    }\n",
       "\n",
       "    .dataframe thead th {\n",
       "        text-align: right;\n",
       "    }\n",
       "</style>\n",
       "<table border=\"1\" class=\"dataframe\">\n",
       "  <thead>\n",
       "    <tr style=\"text-align: right;\">\n",
       "      <th></th>\n",
       "      <th>people</th>\n",
       "      <th>id_full</th>\n",
       "      <th>geometry</th>\n",
       "    </tr>\n",
       "  </thead>\n",
       "  <tbody>\n",
       "    <tr>\n",
       "      <th>0</th>\n",
       "      <td>358594</td>\n",
       "      <td>202.0</td>\n",
       "      <td>POLYGON ((4508803.091 9540731.081, 4509337.013...</td>\n",
       "    </tr>\n",
       "  </tbody>\n",
       "</table>\n",
       "</div>"
      ],
      "text/plain": [
       "   people  id_full                                           geometry\n",
       "0  358594    202.0  POLYGON ((4508803.091 9540731.081, 4509337.013..."
      ]
     },
     "execution_count": 10,
     "metadata": {},
     "output_type": "execute_result"
    }
   ],
   "source": [
    "city_polys = explodeMultiPolygon(mun_obr)\n",
    "arch = gpd.GeoDataFrame(city_polys, crs=mun_obr.crs.name)\n",
    "arch.head()"
   ]
  },
  {
   "cell_type": "code",
   "execution_count": 11,
   "id": "19e38f54",
   "metadata": {
    "cellId": "gqfi4556wcsulpl1u4utta"
   },
   "outputs": [
    {
     "data": {
      "text/plain": [
       "<matplotlib.axes._subplots.AxesSubplot at 0x7f7cfa8c8280>"
      ]
     },
     "execution_count": 11,
     "metadata": {},
     "output_type": "execute_result"
    },
    {
     "data": {
      "image/png": "[encoded data removed]",
      "text/plain": [
       "<Figure size 504x504 with 1 Axes>"
      ]
     },
     "metadata": {
      "needs_background": "light"
     },
     "output_type": "display_data"
    }
   ],
   "source": [
    "arch.plot(figsize=(7,7))"
   ]
  },
  {
   "cell_type": "markdown",
   "id": "18d9eae1",
   "metadata": {
    "cellId": "3fvdp1ixlohax6akn6m2hi",
    "execution_id": "82c5e40c-58d2-40f1-93fd-a8d859fd888a"
   },
   "source": [
    "### Задаём функцию разбиения прямоугольника на квадраты с заданной стороной"
   ]
  },
  {
   "cell_type": "code",
   "execution_count": 12,
   "id": "92bfda06",
   "metadata": {
    "cellId": "uxni5dk1p5t37oifpbb1"
   },
   "outputs": [],
   "source": [
    "def get_squares_from_rect(geom, mesh_step=2000):\n",
    "    rect_coords = np.array(geom.boundary.coords.xy)\n",
    "    y_list = rect_coords[1]\n",
    "    x_list = rect_coords[0]\n",
    "    y1 = min(y_list)\n",
    "    y2 = max(y_list)\n",
    "    x1 = min(x_list)\n",
    "    x2 = max(x_list)\n",
    "    width = x2 - x1\n",
    "    height = y2 - y1\n",
    "\n",
    "    xcells = int(np.round(width / mesh_step))\n",
    "    ycells = int(np.round(height / mesh_step))\n",
    "\n",
    "    yindices = np.linspace(y1, y2, ycells + 1)\n",
    "    xindices = np.linspace(x1, x2, xcells + 1)\n",
    "    horizontal_splitters = [\n",
    "        LineString([(x, yindices[0]), (x, yindices[-1])]) for x in xindices\n",
    "    ]\n",
    "    vertical_splitters = [\n",
    "        LineString([(xindices[0], y), (xindices[-1], y)]) for y in yindices\n",
    "    ]\n",
    "    result = geom\n",
    "    for splitter in vertical_splitters:\n",
    "        result = MultiPolygon(split(result, splitter))\n",
    "    for splitter in horizontal_splitters:\n",
    "        result = MultiPolygon(split(result, splitter))\n",
    "\n",
    "    return result"
   ]
  },
  {
   "cell_type": "markdown",
   "id": "6c858a04",
   "metadata": {
    "cellId": "ad6xgl8j93rv09vg75tnb",
    "execution_id": "8d0af21b-6413-47f8-86a6-ea7574312345"
   },
   "source": [
    "### Разбиваем прямоугольник замыкающий городской округ на полигоны\n",
    "\n",
    "Проверяем функцию `get_squares_from_rect`. Важное замечание.\n",
    "В первый раз сетка выходила за рамки родительского многоугольника, во втором нет.\n",
    "Нужно будет исследовать этот момент."
   ]
  },
  {
   "cell_type": "code",
   "execution_count": 13,
   "id": "fcce543d",
   "metadata": {
    "cellId": "37jl6io4ykw3byn2ol5kjl"
   },
   "outputs": [
    {
     "data": {
      "text/plain": [
       "<matplotlib.axes._subplots.AxesSubplot at 0x7f7cfa97faf0>"
      ]
     },
     "execution_count": 13,
     "metadata": {},
     "output_type": "execute_result"
    },
    {
     "data": {
      "image/png": "[encoded data removed]",
      "text/plain": [
       "<Figure size 504x504 with 1 Axes>"
      ]
     },
     "metadata": {
      "needs_background": "light"
     },
     "output_type": "display_data"
    }
   ],
   "source": [
    "# Используем временное значение шага сетки\n",
    "mesh_step_loc = 4000\n",
    "city_geom = arch.iloc[0].geometry\n",
    "squares = get_squares_from_rect(city_geom, mesh_step_loc)\n",
    "city_mesh = gpd.GeoDataFrame(geometry=[squares], crs=arch.crs.name)\n",
    "city_mesh.plot(figsize=(7,7), facecolor=\"none\", edgecolor=\"black\")"
   ]
  },
  {
   "cell_type": "markdown",
   "id": "d17c8052",
   "metadata": {
    "cellId": "y39rlxjcscb4tbyrfgpn9i",
    "execution_id": "c7b632af-9bd3-47e4-bbfb-43d37f7c2686"
   },
   "source": [
    "### Задаём функцию обёртку для разбиения"
   ]
  },
  {
   "cell_type": "code",
   "execution_count": 14,
   "id": "378dcc14",
   "metadata": {
    "cellId": "3z4yyk8d2gaif44co2mh1e"
   },
   "outputs": [],
   "source": [
    "def split_geometry(geometry, crs, mesh_step, threashold=0.5):\n",
    "    city_geom = arch.iloc[0].geometry\n",
    "    squares = get_squares_from_rect(city_geom, mesh_step)\n",
    "    city_squares = gpd.GeoDataFrame(geometry=[squares], crs=arch.crs.name)\n",
    "    city_inter_geom = city_squares[city_squares.intersects(city_geom)]\n",
    "    city_values = city_inter_geom.geometry.values\n",
    "    polys = []\n",
    "    for geom in city_values[0].geoms:\n",
    "        if ((geom.intersection(city_geom)).area / geom.area) >= threashold:\n",
    "            polys.append(geom)\n",
    "    return gpd.GeoDataFrame(geometry=polys, crs=crs)"
   ]
  },
  {
   "cell_type": "markdown",
   "id": "7c58e5f4",
   "metadata": {
    "cellId": "28o4i9faedyivytmmi10s8q",
    "execution_id": "0580202a-d467-4e98-9f94-28cb06cbeeee"
   },
   "source": [
    "### Разбиваем сетку на полигоны\n",
    "\n",
    "На всякий случай отсекаем лишние полигоны"
   ]
  },
  {
   "cell_type": "code",
   "execution_count": 15,
   "id": "bc41528e",
   "metadata": {
    "cellId": "8arlxiux98vpm33g354jbq"
   },
   "outputs": [
    {
     "data": {
      "text/html": [
       "<div>\n",
       "<style scoped>\n",
       "    .dataframe tbody tr th:only-of-type {\n",
       "        vertical-align: middle;\n",
       "    }\n",
       "\n",
       "    .dataframe tbody tr th {\n",
       "        vertical-align: top;\n",
       "    }\n",
       "\n",
       "    .dataframe thead th {\n",
       "        text-align: right;\n",
       "    }\n",
       "</style>\n",
       "<table border=\"1\" class=\"dataframe\">\n",
       "  <thead>\n",
       "    <tr style=\"text-align: right;\">\n",
       "      <th></th>\n",
       "      <th>geometry</th>\n",
       "    </tr>\n",
       "  </thead>\n",
       "  <tbody>\n",
       "    <tr>\n",
       "      <th>0</th>\n",
       "      <td>POLYGON ((4508803.091 9540731.081, 4509002.186...</td>\n",
       "    </tr>\n",
       "    <tr>\n",
       "      <th>1</th>\n",
       "      <td>POLYGON ((4508656.352 9539807.261, 4507649.788...</td>\n",
       "    </tr>\n",
       "    <tr>\n",
       "      <th>2</th>\n",
       "      <td>POLYGON ((4507649.788 9539807.261, 4506643.225...</td>\n",
       "    </tr>\n",
       "  </tbody>\n",
       "</table>\n",
       "</div>"
      ],
      "text/plain": [
       "                                            geometry\n",
       "0  POLYGON ((4508803.091 9540731.081, 4509002.186...\n",
       "1  POLYGON ((4508656.352 9539807.261, 4507649.788...\n",
       "2  POLYGON ((4507649.788 9539807.261, 4506643.225..."
      ]
     },
     "execution_count": 15,
     "metadata": {},
     "output_type": "execute_result"
    }
   ],
   "source": [
    "city_geom = arch.iloc[0].geometry\n",
    "city_mesh = split_geometry(city_geom, arch.crs.name, mesh_step)\n",
    "city_mesh.head(3)"
   ]
  },
  {
   "cell_type": "markdown",
   "id": "1541d5e3",
   "metadata": {
    "cellId": "1fkc522nbsw7g57c87dlpn",
    "execution_id": "9f9744c6-077b-4652-9e72-56e1510b3e27"
   },
   "source": [
    "### Выводим все актуальные геоданные\n",
    "\n",
    "Наблюдаем, что объекты здравоохранения сосредоточены в центре.\n",
    "Необходимо уменьшить шаг сетки.\n",
    "Используем параметр алгоритма."
   ]
  },
  {
   "cell_type": "code",
   "execution_count": 16,
   "id": "b85b3d86",
   "metadata": {
    "cellId": "fjghfd41wnth82yqlloo1e"
   },
   "outputs": [
    {
     "data": {
      "text/plain": [
       "<matplotlib.axes._subplots.AxesSubplot at 0x7f7cfaae98e0>"
      ]
     },
     "execution_count": 16,
     "metadata": {},
     "output_type": "execute_result"
    },
    {
     "data": {
      "image/png": "[encoded data removed]",
      "text/plain": [
       "<Figure size 720x720 with 1 Axes>"
      ]
     },
     "metadata": {
      "needs_background": "light"
     },
     "output_type": "display_data"
    }
   ],
   "source": [
    "ax = arch.plot(figsize=(10,10), facecolor=\"none\", edgecolor=\"black\")\n",
    "ax = buildings.plot(ax=ax, figsize=(10,10), facecolor=\"teal\", markersize=2)\n",
    "ax = zdrav.plot(ax=ax, figsize=(10,10), facecolor=\"plum\", markersize=2)\n",
    "city_mesh.plot(ax=ax, figsize=(10,10), facecolor=\"none\", edgecolor=\"black\")"
   ]
  },
  {
   "cell_type": "markdown",
   "id": "fdc679f0",
   "metadata": {
    "cellId": "xrx8od82nopm6ipi0mm3",
    "execution_id": "450c678b-5d66-4ffd-8868-7c5a1dbc7ea8"
   },
   "source": [
    "### Считаем плонтость населения\n",
    "\n",
    "Считаем основываясь на жилый постройках и годах строительства каждой постройки.\n",
    "Для этого в параметрах выделено три переменных с экспертными значениями.\n",
    "\n",
    "* `split_year`\n",
    "* `upper_amount`\n",
    "* `lower_amount`"
   ]
  },
  {
   "cell_type": "code",
   "execution_count": 17,
   "id": "d31a730d",
   "metadata": {
    "cellId": "joh9m2dtfqkwb4pvd8e9"
   },
   "outputs": [],
   "source": [
    "# Добовляем колонку к основному набору\n",
    "city_mesh['people'] = 0"
   ]
  },
  {
   "cell_type": "markdown",
   "id": "2844317a",
   "metadata": {
    "cellId": "qwvw7gza5idg01vk69k4v5",
    "execution_id": "63c67a2a-3535-4b42-b6de-cb48f1c57a53"
   },
   "source": [
    "### Создаём набор данных с аккумулированными значениями по геолокации"
   ]
  },
  {
   "cell_type": "code",
   "execution_count": 18,
   "id": "4316a8d1",
   "metadata": {
    "cellId": "o4n899gxx29b9xkj9dzlsi"
   },
   "outputs": [],
   "source": [
    "population = {}\n",
    "cnt = 0\n",
    "for idx, row in city_mesh.iterrows():\n",
    "    square = row.geometry\n",
    "    houses = buildings[buildings.intersects(square)]\n",
    "    for _, house in houses.iterrows():\n",
    "        residents = lower_amount if house.year <= split_year else upper_amount\n",
    "        if idx in population:\n",
    "            amount = population[idx]\n",
    "            population[idx] = amount + residents\n",
    "        else:\n",
    "            population[idx] = residents"
   ]
  },
  {
   "cell_type": "markdown",
   "id": "657d6aa9",
   "metadata": {
    "cellId": "mkrhmujzkinkv21h61vkrg",
    "execution_id": "394aa073-b871-4631-9ec8-a74eca80d9a3"
   },
   "source": [
    "### Интегрируем данные в основной набор"
   ]
  },
  {
   "cell_type": "code",
   "execution_count": 19,
   "id": "7b045115",
   "metadata": {
    "cellId": "eefs065sxwrljw9t385k4r"
   },
   "outputs": [
    {
     "data": {
      "text/html": [
       "<div>\n",
       "<style scoped>\n",
       "    .dataframe tbody tr th:only-of-type {\n",
       "        vertical-align: middle;\n",
       "    }\n",
       "\n",
       "    .dataframe tbody tr th {\n",
       "        vertical-align: top;\n",
       "    }\n",
       "\n",
       "    .dataframe thead th {\n",
       "        text-align: right;\n",
       "    }\n",
       "</style>\n",
       "<table border=\"1\" class=\"dataframe\">\n",
       "  <thead>\n",
       "    <tr style=\"text-align: right;\">\n",
       "      <th></th>\n",
       "      <th>geometry</th>\n",
       "      <th>people</th>\n",
       "    </tr>\n",
       "  </thead>\n",
       "  <tbody>\n",
       "    <tr>\n",
       "      <th>221</th>\n",
       "      <td>POLYGON ((4509662.915 9533780.925, 4508656.352...</td>\n",
       "      <td>200</td>\n",
       "    </tr>\n",
       "    <tr>\n",
       "      <th>249</th>\n",
       "      <td>POLYGON ((4509662.915 9532776.536, 4508656.352...</td>\n",
       "      <td>400</td>\n",
       "    </tr>\n",
       "    <tr>\n",
       "      <th>250</th>\n",
       "      <td>POLYGON ((4508656.352 9532776.536, 4507649.788...</td>\n",
       "      <td>900</td>\n",
       "    </tr>\n",
       "  </tbody>\n",
       "</table>\n",
       "</div>"
      ],
      "text/plain": [
       "                                              geometry  people\n",
       "221  POLYGON ((4509662.915 9533780.925, 4508656.352...     200\n",
       "249  POLYGON ((4509662.915 9532776.536, 4508656.352...     400\n",
       "250  POLYGON ((4508656.352 9532776.536, 4507649.788...     900"
      ]
     },
     "execution_count": 19,
     "metadata": {},
     "output_type": "execute_result"
    }
   ],
   "source": [
    "city_mesh['people'] = city_mesh.index.map(population)\n",
    "city_mesh['people'] = city_mesh['people'].fillna(0)\n",
    "city_mesh['people'] = city_mesh['people'].astype(int)\n",
    "# Убираем квадраты с нулевым населением\n",
    "city_mesh = city_mesh[city_mesh.people != 0]\n",
    "city_mesh.head(3)"
   ]
  },
  {
   "cell_type": "markdown",
   "id": "eb924b82",
   "metadata": {
    "cellId": "u5tmwycldlmozng4eoydmb",
    "execution_id": "37e2916d-45fb-4126-86f9-35eda6942f40"
   },
   "source": [
    "### Выводим граффик плотности населения"
   ]
  },
  {
   "cell_type": "code",
   "execution_count": 20,
   "id": "0c65297a",
   "metadata": {
    "cellId": "xa2ozchdiwa2er8h181bdq"
   },
   "outputs": [
    {
     "data": {
      "text/plain": [
       "<matplotlib.axes._subplots.AxesSubplot at 0x7f7cfaab8400>"
      ]
     },
     "execution_count": 20,
     "metadata": {},
     "output_type": "execute_result"
    },
    {
     "data": {
      "image/png": "[encoded data removed]",
      "text/plain": [
       "<Figure size 720x720 with 2 Axes>"
      ]
     },
     "metadata": {
      "needs_background": "light"
     },
     "output_type": "display_data"
    }
   ],
   "source": [
    "ax = arch.plot(figsize=(10,10), facecolor=\"none\", edgecolor=\"black\")\n",
    "city_mesh.plot(ax=ax, figsize=(10,10), column='people', legend=True)"
   ]
  },
  {
   "cell_type": "markdown",
   "id": "87924010",
   "metadata": {
    "cellId": "n8rrc5p7j0kwawoh494",
    "execution_id": "910d01c5-6a34-442e-aee4-ac8ac7dadf03"
   },
   "source": [
    "### Считаем плонтость оказывания медицинских услуг\n",
    "\n",
    "Считаем основываясь на переменной `med_amount` с экспертным значением."
   ]
  },
  {
   "cell_type": "code",
   "execution_count": 21,
   "id": "9fd6c6ea",
   "metadata": {
    "cellId": "2ph8bqba997l8wc3aamqm8"
   },
   "outputs": [],
   "source": [
    "# Добовляем колонку к основному набору\n",
    "city_mesh['medicine'] = 0"
   ]
  },
  {
   "cell_type": "markdown",
   "id": "32094cd8",
   "metadata": {
    "cellId": "ra8hlaljpvawggczux5ded",
    "execution_id": "ed54ee0f-fd18-40b4-8afe-d32501338196"
   },
   "source": [
    "### Создаём набор данных с аккумулированными значениями по геолокации"
   ]
  },
  {
   "cell_type": "code",
   "execution_count": 22,
   "id": "56495e88",
   "metadata": {
    "cellId": "zvk1wdk68qmul9xube87b"
   },
   "outputs": [],
   "source": [
    "medicine = {}\n",
    "cnt = 0\n",
    "for idx, row in city_mesh.iterrows():\n",
    "    square = row.geometry\n",
    "    hospitals = zdrav[zdrav.intersects(square)]\n",
    "    for _, hospital in hospitals.iterrows():\n",
    "        if idx in medicine:\n",
    "            amount = medicine[idx]\n",
    "            medicine[idx] = amount + med_amount\n",
    "        else:\n",
    "            medicine[idx] = med_amount"
   ]
  },
  {
   "cell_type": "markdown",
   "id": "2ff3799e",
   "metadata": {
    "cellId": "ick6zofer9ryrjfcva8q",
    "execution_id": "abff5dfd-4f4b-4599-b704-3c3f85368ca7"
   },
   "source": [
    "### Интегрируем данные в основной набор"
   ]
  },
  {
   "cell_type": "code",
   "execution_count": 23,
   "id": "430a182f",
   "metadata": {
    "cellId": "ovpa7uyflflmx38gcrzy"
   },
   "outputs": [
    {
     "data": {
      "text/html": [
       "<div>\n",
       "<style scoped>\n",
       "    .dataframe tbody tr th:only-of-type {\n",
       "        vertical-align: middle;\n",
       "    }\n",
       "\n",
       "    .dataframe tbody tr th {\n",
       "        vertical-align: top;\n",
       "    }\n",
       "\n",
       "    .dataframe thead th {\n",
       "        text-align: right;\n",
       "    }\n",
       "</style>\n",
       "<table border=\"1\" class=\"dataframe\">\n",
       "  <thead>\n",
       "    <tr style=\"text-align: right;\">\n",
       "      <th></th>\n",
       "      <th>geometry</th>\n",
       "      <th>people</th>\n",
       "      <th>medicine</th>\n",
       "    </tr>\n",
       "  </thead>\n",
       "  <tbody>\n",
       "    <tr>\n",
       "      <th>266</th>\n",
       "      <td>POLYGON ((4520735.113 9531772.146, 4519728.549...</td>\n",
       "      <td>1050</td>\n",
       "      <td>500</td>\n",
       "    </tr>\n",
       "    <tr>\n",
       "      <th>516</th>\n",
       "      <td>POLYGON ((4509662.915 9522732.642, 4508656.352...</td>\n",
       "      <td>1450</td>\n",
       "      <td>500</td>\n",
       "    </tr>\n",
       "    <tr>\n",
       "      <th>710</th>\n",
       "      <td>POLYGON ((4509662.915 9514697.527, 4508656.352...</td>\n",
       "      <td>950</td>\n",
       "      <td>500</td>\n",
       "    </tr>\n",
       "  </tbody>\n",
       "</table>\n",
       "</div>"
      ],
      "text/plain": [
       "                                              geometry  people  medicine\n",
       "266  POLYGON ((4520735.113 9531772.146, 4519728.549...    1050       500\n",
       "516  POLYGON ((4509662.915 9522732.642, 4508656.352...    1450       500\n",
       "710  POLYGON ((4509662.915 9514697.527, 4508656.352...     950       500"
      ]
     },
     "execution_count": 23,
     "metadata": {},
     "output_type": "execute_result"
    }
   ],
   "source": [
    "city_mesh['medicine'] = city_mesh.index.map(medicine)\n",
    "city_mesh['medicine'] = city_mesh['medicine'].fillna(0)\n",
    "city_mesh['medicine'] = city_mesh['medicine'].astype(int)\n",
    "city_mesh[city_mesh.medicine>0].head(3)"
   ]
  },
  {
   "cell_type": "markdown",
   "id": "e1d603f4",
   "metadata": {
    "cellId": "pjn6n45m3sr0g2xwyy3gtdg",
    "execution_id": "569bb618-482b-4e32-b9bd-c951ab79b8b2"
   },
   "source": [
    "### Выводим граффик потенциала оказания медицинских услуг"
   ]
  },
  {
   "cell_type": "code",
   "execution_count": 24,
   "id": "d74f33a3",
   "metadata": {
    "cellId": "ow5szpgyz4kjt94gsd6g3p"
   },
   "outputs": [
    {
     "data": {
      "text/plain": [
       "<matplotlib.axes._subplots.AxesSubplot at 0x7f7cfac4bc70>"
      ]
     },
     "execution_count": 24,
     "metadata": {},
     "output_type": "execute_result"
    },
    {
     "data": {
      "image/png": "[encoded data removed]",
      "text/plain": [
       "<Figure size 720x720 with 2 Axes>"
      ]
     },
     "metadata": {
      "needs_background": "light"
     },
     "output_type": "display_data"
    }
   ],
   "source": [
    "ax = arch.plot(figsize=(10,10), facecolor=\"none\", edgecolor=\"black\")\n",
    "city_mesh.plot(ax=ax, figsize=(10,10), column='medicine', legend=True)"
   ]
  },
  {
   "cell_type": "markdown",
   "id": "e499da03",
   "metadata": {
    "cellId": "ac6ajhwhfb6g2ycujb194g",
    "execution_id": "263c64d3-233f-4f9b-b8da-d0e996901ae3"
   },
   "source": [
    "### Расчитываем отношение популяции к потенциалу оказания медицинских услуг"
   ]
  },
  {
   "cell_type": "code",
   "execution_count": 25,
   "id": "84ad8625",
   "metadata": {
    "cellId": "fpm38wpjfscz8yb5y7pk0n"
   },
   "outputs": [
    {
     "data": {
      "text/html": [
       "<div>\n",
       "<style scoped>\n",
       "    .dataframe tbody tr th:only-of-type {\n",
       "        vertical-align: middle;\n",
       "    }\n",
       "\n",
       "    .dataframe tbody tr th {\n",
       "        vertical-align: top;\n",
       "    }\n",
       "\n",
       "    .dataframe thead th {\n",
       "        text-align: right;\n",
       "    }\n",
       "</style>\n",
       "<table border=\"1\" class=\"dataframe\">\n",
       "  <thead>\n",
       "    <tr style=\"text-align: right;\">\n",
       "      <th></th>\n",
       "      <th>geometry</th>\n",
       "      <th>people</th>\n",
       "      <th>medicine</th>\n",
       "      <th>proficit</th>\n",
       "    </tr>\n",
       "  </thead>\n",
       "  <tbody>\n",
       "    <tr>\n",
       "      <th>266</th>\n",
       "      <td>POLYGON ((4520735.113 9531772.146, 4519728.549...</td>\n",
       "      <td>1050</td>\n",
       "      <td>500</td>\n",
       "      <td>0.476190</td>\n",
       "    </tr>\n",
       "    <tr>\n",
       "      <th>516</th>\n",
       "      <td>POLYGON ((4509662.915 9522732.642, 4508656.352...</td>\n",
       "      <td>1450</td>\n",
       "      <td>500</td>\n",
       "      <td>0.344828</td>\n",
       "    </tr>\n",
       "    <tr>\n",
       "      <th>710</th>\n",
       "      <td>POLYGON ((4509662.915 9514697.527, 4508656.352...</td>\n",
       "      <td>950</td>\n",
       "      <td>500</td>\n",
       "      <td>0.526316</td>\n",
       "    </tr>\n",
       "    <tr>\n",
       "      <th>842</th>\n",
       "      <td>POLYGON ((4507649.788 9506662.413, 4506643.225...</td>\n",
       "      <td>350</td>\n",
       "      <td>500</td>\n",
       "      <td>1.428571</td>\n",
       "    </tr>\n",
       "    <tr>\n",
       "      <th>894</th>\n",
       "      <td>POLYGON ((4517715.422 9503649.245, 4516708.859...</td>\n",
       "      <td>800</td>\n",
       "      <td>2000</td>\n",
       "      <td>2.500000</td>\n",
       "    </tr>\n",
       "    <tr>\n",
       "      <th>...</th>\n",
       "      <td>...</td>\n",
       "      <td>...</td>\n",
       "      <td>...</td>\n",
       "      <td>...</td>\n",
       "    </tr>\n",
       "    <tr>\n",
       "      <th>1845</th>\n",
       "      <td>POLYGON ((4520735.113 9475526.343, 4519728.549...</td>\n",
       "      <td>300</td>\n",
       "      <td>500</td>\n",
       "      <td>1.666667</td>\n",
       "    </tr>\n",
       "    <tr>\n",
       "      <th>1881</th>\n",
       "      <td>POLYGON ((4538853.254 9473517.565, 4537846.691...</td>\n",
       "      <td>200</td>\n",
       "      <td>500</td>\n",
       "      <td>2.500000</td>\n",
       "    </tr>\n",
       "    <tr>\n",
       "      <th>1947</th>\n",
       "      <td>POLYGON ((4519728.549 9471508.786, 4518721.986...</td>\n",
       "      <td>1500</td>\n",
       "      <td>500</td>\n",
       "      <td>0.333333</td>\n",
       "    </tr>\n",
       "    <tr>\n",
       "      <th>2048</th>\n",
       "      <td>POLYGON ((4525767.930 9466486.839, 4524761.366...</td>\n",
       "      <td>1750</td>\n",
       "      <td>1000</td>\n",
       "      <td>0.571429</td>\n",
       "    </tr>\n",
       "    <tr>\n",
       "      <th>2107</th>\n",
       "      <td>POLYGON ((4522748.240 9459456.114, 4521741.676...</td>\n",
       "      <td>1000</td>\n",
       "      <td>500</td>\n",
       "      <td>0.500000</td>\n",
       "    </tr>\n",
       "  </tbody>\n",
       "</table>\n",
       "<p>88 rows × 4 columns</p>\n",
       "</div>"
      ],
      "text/plain": [
       "                                               geometry  ...  proficit\n",
       "266   POLYGON ((4520735.113 9531772.146, 4519728.549...  ...  0.476190\n",
       "516   POLYGON ((4509662.915 9522732.642, 4508656.352...  ...  0.344828\n",
       "710   POLYGON ((4509662.915 9514697.527, 4508656.352...  ...  0.526316\n",
       "842   POLYGON ((4507649.788 9506662.413, 4506643.225...  ...  1.428571\n",
       "894   POLYGON ((4517715.422 9503649.245, 4516708.859...  ...  2.500000\n",
       "...                                                 ...  ...       ...\n",
       "1845  POLYGON ((4520735.113 9475526.343, 4519728.549...  ...  1.666667\n",
       "1881  POLYGON ((4538853.254 9473517.565, 4537846.691...  ...  2.500000\n",
       "1947  POLYGON ((4519728.549 9471508.786, 4518721.986...  ...  0.333333\n",
       "2048  POLYGON ((4525767.930 9466486.839, 4524761.366...  ...  0.571429\n",
       "2107  POLYGON ((4522748.240 9459456.114, 4521741.676...  ...  0.500000\n",
       "\n",
       "[88 rows x 4 columns]"
      ]
     },
     "execution_count": 25,
     "metadata": {},
     "output_type": "execute_result"
    }
   ],
   "source": [
    "city_mesh['proficit'] = city_mesh['medicine'] / city_mesh['people']\n",
    "city_mesh[city_mesh.medicine>0]"
   ]
  },
  {
   "cell_type": "markdown",
   "id": "537ca649",
   "metadata": {
    "cellId": "3woibyrbyqd7vpi34pxbv8",
    "execution_id": "acd63566-0bbe-4fb0-ab43-81d186e6b1d3"
   },
   "source": [
    "### Переводим в угловую систему координатdata = data.to_crs('WGS84')"
   ]
  },
  {
   "cell_type": "code",
   "execution_count": 26,
   "id": "e1ae129b",
   "metadata": {
    "cellId": "qhujz6kg5pfl043bjgo2"
   },
   "outputs": [],
   "source": [
    "city_mesh_wgs84 = city_mesh.to_crs('WGS84')\n",
    "arch_wgs84 = arch.to_crs('WGS84')"
   ]
  },
  {
   "cell_type": "markdown",
   "id": "94f1463c",
   "metadata": {
    "cellId": "mu2s01gwlssjy8t1idpwp",
    "execution_id": "539edd9c-2d74-4316-bd0c-4b11e6a7506b"
   },
   "source": [
    "### Визуализируем профицит\n",
    "\n",
    "Визуализируем профицит, как отношение потенциала оказания мед услуг к количество населения в заданном квадрате."
   ]
  },
  {
   "cell_type": "code",
   "execution_count": 27,
   "id": "4963a0f6",
   "metadata": {
    "cellId": "m7jb9x61yxiu1v8dclkv0c"
   },
   "outputs": [
    {
     "data": {
      "text/plain": [
       "<matplotlib.axes._subplots.AxesSubplot at 0x7f7cf85d6af0>"
      ]
     },
     "execution_count": 27,
     "metadata": {},
     "output_type": "execute_result"
    },
    {
     "data": {
      "image/png": "[encoded data removed]",
      "text/plain": [
       "<Figure size 720x720 with 2 Axes>"
      ]
     },
     "metadata": {
      "needs_background": "light"
     },
     "output_type": "display_data"
    }
   ],
   "source": [
    "ax = arch_wgs84.plot(figsize=(10,10), facecolor=\"none\", edgecolor=\"black\")\n",
    "city_mesh_wgs84.plot(ax=ax, figsize=(10,10), column='proficit', legend=True)"
   ]
  },
  {
   "cell_type": "markdown",
   "id": "b2da7ef5",
   "metadata": {
    "cellId": "ds46cec1fekcy3t73punq",
    "execution_id": "98635395-0c1e-487e-bf4c-b1736f4f9e48"
   },
   "source": [
    "### Сохраняем Dataset для визуализации в Datalens"
   ]
  },
  {
   "cell_type": "code",
   "execution_count": 28,
   "id": "a5b4d10c",
   "metadata": {
    "cellId": "ycyhpxnh8ai05g6hu778"
   },
   "outputs": [
    {
     "data": {
      "text/html": [
       "<div>\n",
       "<style scoped>\n",
       "    .dataframe tbody tr th:only-of-type {\n",
       "        vertical-align: middle;\n",
       "    }\n",
       "\n",
       "    .dataframe tbody tr th {\n",
       "        vertical-align: top;\n",
       "    }\n",
       "\n",
       "    .dataframe thead th {\n",
       "        text-align: right;\n",
       "    }\n",
       "</style>\n",
       "<table border=\"1\" class=\"dataframe\">\n",
       "  <thead>\n",
       "    <tr style=\"text-align: right;\">\n",
       "      <th></th>\n",
       "      <th>people</th>\n",
       "      <th>medicine</th>\n",
       "      <th>proficit</th>\n",
       "      <th>geometry</th>\n",
       "    </tr>\n",
       "  </thead>\n",
       "  <tbody>\n",
       "    <tr>\n",
       "      <th>0</th>\n",
       "      <td>200</td>\n",
       "      <td>0</td>\n",
       "      <td>0.00000</td>\n",
       "      <td>[[[64.71531613016083, 40.51099122768549], [64....</td>\n",
       "    </tr>\n",
       "    <tr>\n",
       "      <th>1</th>\n",
       "      <td>400</td>\n",
       "      <td>0</td>\n",
       "      <td>0.00000</td>\n",
       "      <td>[[[64.71146216469891, 40.51099122768549], [64....</td>\n",
       "    </tr>\n",
       "    <tr>\n",
       "      <th>2</th>\n",
       "      <td>900</td>\n",
       "      <td>0</td>\n",
       "      <td>0.00000</td>\n",
       "      <td>[[[64.71146216469891, 40.50194911456859], [64....</td>\n",
       "    </tr>\n",
       "    <tr>\n",
       "      <th>3</th>\n",
       "      <td>700</td>\n",
       "      <td>0</td>\n",
       "      <td>0.00000</td>\n",
       "      <td>[[[64.71146216469891, 40.492907001451684], [64...</td>\n",
       "    </tr>\n",
       "    <tr>\n",
       "      <th>4</th>\n",
       "      <td>1050</td>\n",
       "      <td>500</td>\n",
       "      <td>0.47619</td>\n",
       "      <td>[[[64.70760765045972, 40.610454471971416], [64...</td>\n",
       "    </tr>\n",
       "    <tr>\n",
       "      <th>...</th>\n",
       "      <td>...</td>\n",
       "      <td>...</td>\n",
       "      <td>...</td>\n",
       "      <td>...</td>\n",
       "    </tr>\n",
       "    <tr>\n",
       "      <th>499</th>\n",
       "      <td>500</td>\n",
       "      <td>0</td>\n",
       "      <td>0.00000</td>\n",
       "      <td>[[[64.41695062925233, 40.60141235885452], [64....</td>\n",
       "    </tr>\n",
       "    <tr>\n",
       "      <th>500</th>\n",
       "      <td>900</td>\n",
       "      <td>0</td>\n",
       "      <td>0.00000</td>\n",
       "      <td>[[[64.41695062925233, 40.592370245737605], [64...</td>\n",
       "    </tr>\n",
       "    <tr>\n",
       "      <th>501</th>\n",
       "      <td>100</td>\n",
       "      <td>0</td>\n",
       "      <td>0.00000</td>\n",
       "      <td>[[[64.41305423044668, 40.610454471971416], [64...</td>\n",
       "    </tr>\n",
       "    <tr>\n",
       "      <th>502</th>\n",
       "      <td>300</td>\n",
       "      <td>0</td>\n",
       "      <td>0.00000</td>\n",
       "      <td>[[[64.41305423044668, 40.60141235885452], [64....</td>\n",
       "    </tr>\n",
       "    <tr>\n",
       "      <th>503</th>\n",
       "      <td>100</td>\n",
       "      <td>0</td>\n",
       "      <td>0.00000</td>\n",
       "      <td>[[[64.41305423044668, 40.592370245737605], [64...</td>\n",
       "    </tr>\n",
       "  </tbody>\n",
       "</table>\n",
       "<p>504 rows × 4 columns</p>\n",
       "</div>"
      ],
      "text/plain": [
       "     people  ...                                           geometry\n",
       "0       200  ...  [[[64.71531613016083, 40.51099122768549], [64....\n",
       "1       400  ...  [[[64.71146216469891, 40.51099122768549], [64....\n",
       "2       900  ...  [[[64.71146216469891, 40.50194911456859], [64....\n",
       "3       700  ...  [[[64.71146216469891, 40.492907001451684], [64...\n",
       "4      1050  ...  [[[64.70760765045972, 40.610454471971416], [64...\n",
       "..      ...  ...                                                ...\n",
       "499     500  ...  [[[64.41695062925233, 40.60141235885452], [64....\n",
       "500     900  ...  [[[64.41695062925233, 40.592370245737605], [64...\n",
       "501     100  ...  [[[64.41305423044668, 40.610454471971416], [64...\n",
       "502     300  ...  [[[64.41305423044668, 40.60141235885452], [64....\n",
       "503     100  ...  [[[64.41305423044668, 40.592370245737605], [64...\n",
       "\n",
       "[504 rows x 4 columns]"
      ]
     },
     "execution_count": 28,
     "metadata": {},
     "output_type": "execute_result"
    }
   ],
   "source": [
    "def convert(data):\n",
    "    all_res = []\n",
    "    for _, row in data.iterrows():\n",
    "        x, y = row.geometry.exterior.xy\n",
    "        pairs = zip(x, y)\n",
    "        coords = []\n",
    "        for pair in pairs:\n",
    "            coords.append([pair[1], pair[0]])\n",
    "        obj = {}\n",
    "        obj['people'] = row.people\n",
    "        obj['medicine'] = row.medicine\n",
    "        obj['proficit'] = row.proficit\n",
    "        obj['geometry'] = [coords]\n",
    "\n",
    "        all_res.append(obj)\n",
    "    return pd.DataFrame(all_res)\n",
    "\n",
    "df = convert(city_mesh_wgs84)\n",
    "df"
   ]
  },
  {
   "cell_type": "code",
   "execution_count": 29,
   "id": "bff32926",
   "metadata": {
    "cellId": "1nvfb46lauzie9uj7qow5f"
   },
   "outputs": [],
   "source": [
    "df.to_csv('GeoJSON/data/people_medicin_lense.csv', index=False)"
   ]
  },
  {
   "cell_type": "code",
   "execution_count": null,
   "id": "31be486c",
   "metadata": {
    "cellId": "wmr8m2mibdlibpm3o856p"
   },
   "outputs": [],
   "source": []
  }
 ],
 "metadata": {
  "language_info": {
   "codemirror_mode": {
    "name": "ipython",
    "version": 3
   },
   "file_extension": ".py",
   "mimetype": "text/x-python",
   "name": "python",
   "nbconvert_exporter": "python",
   "pygments_lexer": "ipython3",
   "version": "3.7.7"
  },
  "notebookId": "1e2e9528-b9a3-4f3d-a37f-c3b98f786ca4",
  "notebookPath": "NorthGate/Notebooks/FirstMagic.ipynb"
 },
 "nbformat": 4,
 "nbformat_minor": 5
}
