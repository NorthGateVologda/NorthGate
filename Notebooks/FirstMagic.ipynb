{
 "cells": [
  {
   "cell_type": "code",
   "execution_count": null,
   "id": "523c88f8",
   "metadata": {
    "cellId": "g2zbtl3gntcrlm5mz1f8f",
    "execution_id": "0e810064-fe97-4030-9552-8e99bc3ae106"
   },
   "outputs": [],
   "source": [
    "import numpy as np"
   ]
  },
  {
   "cell_type": "code",
   "execution_count": null,
   "id": "06032eb6",
   "metadata": {
    "cellId": "xbdsfamnm27egsyq38yj7"
   },
   "outputs": [],
   "source": []
  }
 ],
 "metadata": {
  "language_info": {
   "codemirror_mode": {
    "name": "ipython",
    "version": 3
   },
   "file_extension": ".py",
   "mimetype": "text/x-python",
   "name": "python",
   "nbconvert_exporter": "python",
   "pygments_lexer": "ipython3",
   "version": "3.7.7"
  },
  "notebookId": "1e2e9528-b9a3-4f3d-a37f-c3b98f786ca4",
  "notebookPath": "NorthGate/Notebooks/Untitled.ipynb"
 },
 "nbformat": 4,
 "nbformat_minor": 5
}
