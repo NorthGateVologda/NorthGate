{
 "cells": [
  {
   "cell_type": "markdown",
   "id": "bc25171d",
   "metadata": {
    "cellId": "wn3mw2a09tffyqnys155or",
    "execution_id": "56d5f2e5-381c-4db2-91c4-cbc08c6b73c1"
   },
   "source": [
    "## Небольшое исследование содержимого файла northwestern-fed-district-latest.osm.pbf\n",
    "\n",
    "Появлися запрос на изученеи содержимого фала `data/northwestern-fed-district-latest.osm.pbf` связанного с [проектом](https://github.com/RodionovF/Nizhny_Novgorod_3d_map/) ветхих домов в Нижнем Новгороде.\n",
    "\n",
    "Во-первых пару слов о расширениях:\n",
    "\n",
    "* `osm` - `OpenStreetMap`, `Osmissis` - *модель данных проекта* [OpenStreetMap](https://learnosm.org/ru/)\n",
    "* `pbf` - `Protocol Buffer Format` - [формат](https://ru.wikipedia.org/wiki/Protocol_Buffers) представления иерархических данных\n",
    "\n",
    "`OSM` как модель данных может быть представлена в виде текстового `XML`-а или более экономного бинарного `PBF`-а. Сами `XML` и `PBF` этот лишь форматы носители. В то время как `OSM` это словарь, подобно словарям данных `XSD` в экосистемах `XML`-а.\n",
    "\n",
    "Для работы с этим форматом нам необходим пакет [esy-osm-pbf](https://dlr-ve-esy.gitlab.io/esy-osm-pbf/). Но перед этим обновим `pip`."
   ]
  },
  {
   "cell_type": "code",
   "execution_count": 1,
   "id": "3f190606",
   "metadata": {
    "cellId": "ohfprwza7bh0z60ehubjgu"
   },
   "outputs": [],
   "source": [
    "# %pip install --upgrade pip\n",
    "# %pip install esy-osm-pbf"
   ]
  },
  {
   "cell_type": "markdown",
   "id": "b9c489f1",
   "metadata": {
    "cellId": "f07h0kkd3poufqb6pnixz",
    "execution_id": "048dd851-cec7-4aac-bf20-bc766c5e8480"
   },
   "source": [
    "### Немного о самом проекте по Нижнему Новгороду\n",
    "\n",
    "На [странице](https://github.com/RodionovF/Nizhny_Novgorod_3d_map/) проекта к сожалению не приведён весь код и все `Notebook`-и. Но в общем автор расказывает следующее. Автору выпала задача визуализировать ветхие объекты недвижимости. Автор решил сделать это самым крутым способом и использовал утилиту [kepler.gl](https://kepler.gl/). Утилита в свою очередь работает как с `CSV` в стиле `DataLens` так и с `GeoJSON` как `geopandas`. Как я поняла у автора была база данных с текстовыми адресами ветхих зданий. Автору нужны были этажность этих зданий и полигоны описывающие основание строений. Данная задача является задачей геокодирования. Автор задался вопросом от куда всё это взять? Сначала думал с Яндекса, но понял что Яндекс слишком ограничен в бесплатной версии. Прочитав соответсвующий [пост](https://habr.com/ru/articles/499990/) взял данные из других источников. Часть данных вообще от правительства ФРГ. Далее у автора появилось несколько наборов данных. В одном были полигоны в другом точки. В кажом были необходимые свойства которые нужно совместить. Заместо того, чтобы использовать функции типа `intersect` от `geopandas`, как использовали мы, автор решил реализовать свой алгоритм основанный на вот таком [принципе](https://ru.wikipedia.org/wiki/Задача_о_принадлежности_точки_многоугольнику), заложенным скорее всего ещё Пифагором. В общем эти же принципы используются в базовых функциях `geopandas`. Далее автор признаётся, что велосипед [можно было не изобретать](https://www.matecdev.com/posts/point-in-polygon.html#use-the-optimized-pygeos-library).\n",
    "\n",
    "Тот отрывок, где автор ваяет трёхмерные изображения отсутствует, но скорее всего автор настраивает в `kepler`-е слой трёхмерности основанный на этажности задавая коеффициент высоты этажа. Подобным образом мы хотим задать коэффициент количества жильцов на `N`-ую площадь в расчёте плотности населения в нашем пользовательском интерфейсе."
   ]
  },
  {
   "cell_type": "markdown",
   "id": "5ceaec86",
   "metadata": {
    "cellId": "diu624cqbb7fy8lwah62av",
    "execution_id": "998142cd-93f2-49e9-b4ba-343796d52187"
   },
   "source": [
    "### Импортируем необходимые библиотеки"
   ]
  },
  {
   "cell_type": "code",
   "execution_count": 2,
   "id": "3957b4af",
   "metadata": {
    "cellId": "idtzk99enlkohdai8euge"
   },
   "outputs": [],
   "source": [
    "import pandas as pd\n",
    "import geopandas as gpd\n",
    "import esy.osm.pbf as osm\n",
    "from shapely.geometry import Point"
   ]
  },
  {
   "cell_type": "markdown",
   "id": "9a5e482d",
   "metadata": {
    "cellId": "08u32xs2m87jtxmzdwpq90q",
    "execution_id": "481eb2ed-91fe-49c7-8249-badfbaefb32a"
   },
   "source": [
    "### Грузим данные"
   ]
  },
  {
   "cell_type": "code",
   "execution_count": 3,
   "id": "e89da06e",
   "metadata": {
    "cellId": "7bj0ra6p5igzkpxl8iqr8"
   },
   "outputs": [
    {
     "data": {
      "text/plain": [
       "<esy.osm.pbf.file.File at 0x7f432873aac0>"
      ]
     },
     "execution_count": 3,
     "metadata": {},
     "output_type": "execute_result"
    }
   ],
   "source": [
    "data = osm.File('data/northwestern-fed-district-latest.osm.pbf')\n",
    "data"
   ]
  },
  {
   "cell_type": "markdown",
   "id": "014c9eb4",
   "metadata": {
    "cellId": "n6w03hhmu39i6dgc2dzalh",
    "execution_id": "254b1fc5-cff7-4e3c-9e6a-7740676f36aa"
   },
   "source": [
    "### Количество всех записей\n",
    "\n",
    "Мы бы хотели использовать функцию `len(data)` но к сожалению получим ошибку:\n",
    "\n",
    "> TypeError: object of type 'File' has no len()\n",
    "\n",
    "Предположительно стиль работы с классом `esy.osm.pbf.file.File` по принципу `SAX`, то есть только **поточно**. Хотя я могу ошибаться."
   ]
  },
  {
   "cell_type": "markdown",
   "id": "268a2816",
   "metadata": {
    "cellId": "5dz2s3dm4ja584slv6ftax",
    "execution_id": "2b35016c-d77f-4aec-a2c8-473afc079c10"
   },
   "source": [
    "### Проверяем первые 10 записей\n",
    "\n",
    "Объект `esy.osm.pbf.file.File` является итерабельным."
   ]
  },
  {
   "cell_type": "code",
   "execution_count": 4,
   "id": "1f47cd4c",
   "metadata": {
    "cellId": "bua6x6jgnef37cy97v03j3"
   },
   "outputs": [
    {
     "name": "stdout",
     "output_type": "stream",
     "text": [
      "Node(id=2, tags={'name': 'Центр Круглого Зала (ЦКЗ)', 'wikidata': 'Q4383612', 'wikimedia_commons': 'Category:Pulkovo meridian', 'wikipedia': 'ru:Пулковский меридиан'}, lonlat=(30.326110000000003, 59.771792600000005))\n",
      "Node(id=124324, tags={}, lonlat=(30.798840000000002, 69.786938))\n",
      "Node(id=124330, tags={'highway': 'passing_place'}, lonlat=(30.793881700000004, 69.7906746))\n",
      "Node(id=124331, tags={}, lonlat=(30.795055600000005, 69.7909983))\n",
      "Node(id=124335, tags={}, lonlat=(30.812636600000005, 69.7849177))\n",
      "Node(id=124345, tags={}, lonlat=(30.843896700000005, 69.7705914))\n",
      "Node(id=124352, tags={}, lonlat=(30.851180600000006, 69.7639247))\n",
      "Node(id=124387, tags={}, lonlat=(30.855078400000007, 69.7122193))\n",
      "Node(id=124482, tags={}, lonlat=(30.09129220000001, 69.6789634))\n",
      "Node(id=219779, tags={}, lonlat=(30.320485500000007, 59.8426732))\n",
      "Node(id=219780, tags={}, lonlat=(30.320395200000007, 59.843037))\n"
     ]
    }
   ],
   "source": [
    "count = 0\n",
    "for entry in data:\n",
    "    print(entry)\n",
    "    if (count == 10): break\n",
    "    count = count + 1"
   ]
  },
  {
   "cell_type": "markdown",
   "id": "21511f13",
   "metadata": {
    "cellId": "nlp00sndw3vt2yaj3ocp8",
    "execution_id": "835d4fee-79de-4f23-8a0e-440d55313678"
   },
   "source": [
    "### Что мы имеем\n",
    "\n",
    "Выше мы видем набор узлов с тегами и координатами. Как визуализировать `OSM` описано в [статье](https://habr.com/ru/articles/515328/), ссылку на которую я кстати кидала ещё в самом начале. И вот круг замкнулся.\n",
    "\n",
    "В этой статье упомянаяются файлы формата `OSM` но с расширением `.shp`, значащее - `shape` - форма. В этих файлах административные границы Мосвы разных уровней. Файлы грузятся с помощью функции `read_file` пакета `geopandas`. По идее можно выполнить: `gpd.read_file('data/northwestern-fed-district-latest.osm.pbf')`, но не тут то было, мы получим следующую ошибку:\n",
    "\n",
    "> DriverError: unsupported driver: 'OSM'\n",
    "\n",
    "По сему нам придётся создавать геометрию самим итеративно шагая по списку. Скорее всего мы имеем дело с древовидной структурой, но там пока достаточно пройтись по верхушкам. На первом этапе создадим обычную панель данных `Pandas`. Полная обработка занимает кучу времени, поэтому обойдёмся сейчас первыми `10 000` записями."
   ]
  },
  {
   "cell_type": "code",
   "execution_count": 5,
   "id": "29867b56",
   "metadata": {
    "cellId": "3ua72958fl83xca4in0bdl"
   },
   "outputs": [
    {
     "name": "stdout",
     "output_type": "stream",
     "text": [
      "Количество записей: 10000\n"
     ]
    },
    {
     "data": {
      "text/html": [
       "<div>\n",
       "<style scoped>\n",
       "    .dataframe tbody tr th:only-of-type {\n",
       "        vertical-align: middle;\n",
       "    }\n",
       "\n",
       "    .dataframe tbody tr th {\n",
       "        vertical-align: top;\n",
       "    }\n",
       "\n",
       "    .dataframe thead th {\n",
       "        text-align: right;\n",
       "    }\n",
       "</style>\n",
       "<table border=\"1\" class=\"dataframe\">\n",
       "  <thead>\n",
       "    <tr style=\"text-align: right;\">\n",
       "      <th></th>\n",
       "      <th>id</th>\n",
       "      <th>name</th>\n",
       "      <th>geometry</th>\n",
       "    </tr>\n",
       "  </thead>\n",
       "  <tbody>\n",
       "    <tr>\n",
       "      <th>0</th>\n",
       "      <td>2</td>\n",
       "      <td>Центр Круглого Зала (ЦКЗ)</td>\n",
       "      <td>POINT (30.326110000000003 59.771792600000005)</td>\n",
       "    </tr>\n",
       "    <tr>\n",
       "      <th>1</th>\n",
       "      <td>124324</td>\n",
       "      <td></td>\n",
       "      <td>POINT (30.798840000000002 69.786938)</td>\n",
       "    </tr>\n",
       "    <tr>\n",
       "      <th>2</th>\n",
       "      <td>124330</td>\n",
       "      <td></td>\n",
       "      <td>POINT (30.793881700000004 69.7906746)</td>\n",
       "    </tr>\n",
       "  </tbody>\n",
       "</table>\n",
       "</div>"
      ],
      "text/plain": [
       "       id  ...                                       geometry\n",
       "0       2  ...  POINT (30.326110000000003 59.771792600000005)\n",
       "1  124324  ...           POINT (30.798840000000002 69.786938)\n",
       "2  124330  ...          POINT (30.793881700000004 69.7906746)\n",
       "\n",
       "[3 rows x 3 columns]"
      ]
     },
     "execution_count": 5,
     "metadata": {},
     "output_type": "execute_result"
    }
   ],
   "source": [
    "all_res = []\n",
    "maxiter = 10000\n",
    "count = 0\n",
    "for entry in data:\n",
    "    coord = entry.lonlat\n",
    "    tags = entry.tags\n",
    "    oid = entry.id\n",
    "    if 'name' in tags: name = tags['name']\n",
    "    else: name = ''\n",
    "    obj = {}\n",
    "    obj['id'] = oid\n",
    "    obj['name'] = name\n",
    "    obj['geometry'] = Point(coord)\n",
    "    all_res.append(obj)\n",
    "    count = count + 1\n",
    "    if (count >= maxiter): break\n",
    "\n",
    "osm_df = pd.DataFrame(all_res)\n",
    "print('Количество записей: {}'.format(len(osm_df)))\n",
    "osm_df.head(3)"
   ]
  },
  {
   "cell_type": "markdown",
   "id": "3f4d6a96",
   "metadata": {
    "cellId": "dz6zpc0ejydr1ll3eyg36f",
    "execution_id": "32c2c2b3-2429-4a59-ae54-39c90c72acca"
   },
   "source": [
    "### Далее переведём из Pandas в Geopandas"
   ]
  },
  {
   "cell_type": "code",
   "execution_count": 6,
   "id": "93da91fc",
   "metadata": {
    "cellId": "zeqp7z0f389x76gqo428ai"
   },
   "outputs": [
    {
     "data": {
      "text/html": [
       "<div>\n",
       "<style scoped>\n",
       "    .dataframe tbody tr th:only-of-type {\n",
       "        vertical-align: middle;\n",
       "    }\n",
       "\n",
       "    .dataframe tbody tr th {\n",
       "        vertical-align: top;\n",
       "    }\n",
       "\n",
       "    .dataframe thead th {\n",
       "        text-align: right;\n",
       "    }\n",
       "</style>\n",
       "<table border=\"1\" class=\"dataframe\">\n",
       "  <thead>\n",
       "    <tr style=\"text-align: right;\">\n",
       "      <th></th>\n",
       "      <th>id</th>\n",
       "      <th>name</th>\n",
       "      <th>geometry</th>\n",
       "    </tr>\n",
       "  </thead>\n",
       "  <tbody>\n",
       "    <tr>\n",
       "      <th>0</th>\n",
       "      <td>2</td>\n",
       "      <td>Центр Круглого Зала (ЦКЗ)</td>\n",
       "      <td>POINT (30.32611 59.77179)</td>\n",
       "    </tr>\n",
       "    <tr>\n",
       "      <th>1</th>\n",
       "      <td>124324</td>\n",
       "      <td></td>\n",
       "      <td>POINT (30.79884 69.78694)</td>\n",
       "    </tr>\n",
       "    <tr>\n",
       "      <th>2</th>\n",
       "      <td>124330</td>\n",
       "      <td></td>\n",
       "      <td>POINT (30.79388 69.79067)</td>\n",
       "    </tr>\n",
       "  </tbody>\n",
       "</table>\n",
       "</div>"
      ],
      "text/plain": [
       "       id                       name                   geometry\n",
       "0       2  Центр Круглого Зала (ЦКЗ)  POINT (30.32611 59.77179)\n",
       "1  124324                             POINT (30.79884 69.78694)\n",
       "2  124330                             POINT (30.79388 69.79067)"
      ]
     },
     "execution_count": 6,
     "metadata": {},
     "output_type": "execute_result"
    }
   ],
   "source": [
    "geometry = osm_df['geometry']\n",
    "osm_df = osm_df.drop('geometry', axis=1)\n",
    "osm_gdf = gpd.GeoDataFrame(osm_df, crs=\"EPSG:4326\", geometry=geometry)\n",
    "osm_gdf.head(3)"
   ]
  },
  {
   "cell_type": "markdown",
   "id": "42ed6f9c",
   "metadata": {
    "cellId": "zdikqs720eowle1bch8ijd",
    "execution_id": "c62784ec-797c-4071-873e-1aa92b162271"
   },
   "source": [
    "### Выводим данные стандартными средствами\n",
    "\n",
    "Мы уже можем догадаться что между точками есть связь в геометрическом плане."
   ]
  },
  {
   "cell_type": "code",
   "execution_count": 7,
   "id": "a2914963",
   "metadata": {
    "cellId": "b1doqg852utxrdkkmvsjo"
   },
   "outputs": [
    {
     "data": {
      "text/plain": [
       "<matplotlib.axes._subplots.AxesSubplot at 0x7f432ab34d90>"
      ]
     },
     "execution_count": 7,
     "metadata": {},
     "output_type": "execute_result"
    },
    {
     "data": {
      "image/png": "[encoded data removed]",
      "text/plain": [
       "<Figure size 576x576 with 1 Axes>"
      ]
     },
     "metadata": {
      "needs_background": "light"
     },
     "output_type": "display_data"
    }
   ],
   "source": [
    "osm_gdf.plot(figsize=(8,8))"
   ]
  },
  {
   "cell_type": "markdown",
   "id": "d295b145",
   "metadata": {
    "cellId": "4k0k1uioklrfndlgo3umxd",
    "execution_id": "767ac4a0-a0e8-4d63-b63c-9b8711a87007"
   },
   "source": [
    "### Используем интерактивный вывод\n",
    "\n",
    "Вызываем функцию `explore` пакета `geopandas`.\n",
    "Видим, что точки ложаться на дороги и представляют, собственно говоря, отрезки кривых дорог.\n",
    "Из за сложностей сохранения инетрактивной карты, я закомментровала вызов функции и вывела результат в виде сохранённой картинки."
   ]
  },
  {
   "cell_type": "code",
   "execution_count": 11,
   "id": "de5ffb84",
   "metadata": {
    "cellId": "pvhvdqeexyim7bynhplmoi"
   },
   "outputs": [],
   "source": [
    "# osm_gdf.explore(width='30%')"
   ]
  },
  {
   "cell_type": "markdown",
   "id": "0a4ec808",
   "metadata": {
    "cellId": "vuz40owl4cc6q6h21h8co3",
    "execution_id": "699b5ffd-bcb9-4fff-a54b-2f796e4b866e"
   },
   "source": [
    "![RoadMap](img/explore.jpg)"
   ]
  },
  {
   "cell_type": "code",
   "execution_count": null,
   "id": "362528cc",
   "metadata": {
    "cellId": "o5f2mqlggkd5klplp15qr"
   },
   "outputs": [],
   "source": []
  }
 ],
 "metadata": {
  "language_info": {
   "codemirror_mode": {
    "name": "ipython",
    "version": 3
   },
   "file_extension": ".py",
   "mimetype": "text/x-python",
   "name": "python",
   "nbconvert_exporter": "python",
   "pygments_lexer": "ipython3",
   "version": "3.7.7"
  },
  "notebookId": "f28826f0-0c83-4959-9de4-1894626961c9",
  "notebookPath": "NorthGate/Notebooks/OSM/OSM.ipynb"
 },
 "nbformat": 4,
 "nbformat_minor": 5
}
