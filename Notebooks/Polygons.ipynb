{
 "cells": [
  {
   "cell_type": "code",
   "execution_count": 1,
   "id": "ec006f92",
   "metadata": {
    "cellId": "tg62z4a1eia9u6hprnd8b"
   },
   "outputs": [],
   "source": [
    "import math\n",
    "import h3pandas\n",
    "import numpy as np\n",
    "import pandas as pd\n",
    "import geopandas as gpd\n",
    "from shapely.ops import split\n",
    "from shapely.geometry import LineString\n",
    "from shapely.geometry.polygon import Polygon\n",
    "from shapely.geometry.multipolygon import MultiPolygon"
   ]
  },
  {
   "cell_type": "markdown",
   "id": "6a9d2192",
   "metadata": {
    "cellId": "mvua618gefhfq96gl32lpt",
    "execution_id": "3b7b6773-8907-4596-b62d-c6ab4cbfc2a2"
   },
   "source": [
    "# Формирование сетки шестиугольников\n",
    "\n",
    "Формирование сетки шестиугольников в рамках заданного населённого пункта для\n",
    "расчётов необходимых в рамках данного проекта, в том числе плотности\n",
    "населения.\n",
    "\n",
    "Сетка формируется с помощью алгоритма приведённого ниже. К сожалению в нашем\n",
    "случае нет возможности использовать библиотеку `h3geopandas`, так как\n",
    "архитектура данной библиотеки не даёт возможность явно задать размер стороны\n",
    "фигуры, а лишь плотность фигур в заданном участке через ограниченный набор\n",
    "коеффициентов. Учитывая, что площадь населённых пунктов варьирует, мы получим\n",
    "совершенно разные фигуры в каждом случае.\n",
    "\n",
    "Алгоритм который используется ниже возможен лишь на плоской системе координат,\n",
    "как например `Web Mercator` (`EPSG:3857`), в рамках угловых координат фигуры\n",
    "растягиваются. Но после построения сетки, панель данных свободно можно\n",
    "перевести в угловую систему координат, к примеру: `WGS84` (`EPSG:4326`).\n",
    "\n",
    "В рамках данной задачи, так же появилась необходимость расчёта коеффициента\n",
    "искажения, так как номинально одинаковые расстояния в `EPSG:3857` фактически\n",
    "разные на разных широтах.\n",
    "\n",
    "Для нахождения данного коеффициента необходимо было найти фактическое\n",
    "расстояние между двумя верхними точками замыкающего прямоугольника.\n",
    "\n",
    "Для нахождения фактического расстояния было необходимо перевести координаты\n",
    "из `EPSG:3857` в `EPSG:4326`.\n",
    "\n",
    "Далее общее описание процесса:\n",
    "\n",
    "1. Выборка `Multipolygon`-а населённого пункта\n",
    "  1. Используется набор `mun_obr_all_bad.geojson`\n",
    "  2. Набор так же присутствует в базе данных\n",
    "  3. Соответственно все эти действия можно воспроизвести на `Backend`-е\n",
    "2. Разбитие `Multipolygon`-а на `Polygon`-ы\n",
    "  1. В рамках данного `Notebook`-а используется первый `Polygon`\n",
    "3. Нахождение замыкающего прямоугольника `Polygon`-а\n",
    "4. Расчёт коеффициента искажения длинны для данной широты\n",
    "  1. Перевод из системы `EPSG:3857` в `EPSG:4326`\n",
    "  2. Расчёт фактического расстояния между точками на сферической поверхносте\n",
    "  3. Проверяем полученное расстояние с помощью `Yandex` карт\n",
    "  4. Расчёт формального расстояния между точками в `EPSG:3857`\n",
    "  5. Расчёт коеффициента искажения\n",
    "5. Построение шестиугольников\n",
    "6. Ограничеваем фигуры контуром населённого пункта\n",
    "7. Переводим в угловые координаты\n",
    "8. Интегрируем в DataLens\n",
    "9. Сверяем"
   ]
  },
  {
   "cell_type": "markdown",
   "id": "25f8ba45",
   "metadata": {
    "cellId": "lnerqfj8kgp95mafim0wt",
    "execution_id": "4a436c5e-2a9d-421b-b46c-e84db2895d6d"
   },
   "source": [
    "## Выборка `Multipolygon`-а населённого пункта"
   ]
  },
  {
   "cell_type": "code",
   "execution_count": 2,
   "id": "d750382f",
   "metadata": {
    "cellId": "k8ssge6nqfrzvx972uax5r"
   },
   "outputs": [],
   "source": [
    "mun_obr_merk = gpd.read_file('GeoJSON/data/mun_obr_all_bad.geojson')"
   ]
  },
  {
   "cell_type": "code",
   "execution_count": 3,
   "id": "52557bbe",
   "metadata": {
    "cellId": "2hg38ilsn7qsoqchv2nfan"
   },
   "outputs": [
    {
     "name": "stdout",
     "output_type": "stream",
     "text": [
      "EPSG:3857\n"
     ]
    }
   ],
   "source": [
    "mun_obr = mun_obr_merk\n",
    "print(mun_obr.crs)"
   ]
  },
  {
   "cell_type": "code",
   "execution_count": 4,
   "id": "fd5f4f8c",
   "metadata": {
    "cellId": "kbmd44juzgb7lefp3zhg3"
   },
   "outputs": [
    {
     "data": {
      "text/html": [
       "<div>\n",
       "<style scoped>\n",
       "    .dataframe tbody tr th:only-of-type {\n",
       "        vertical-align: middle;\n",
       "    }\n",
       "\n",
       "    .dataframe tbody tr th {\n",
       "        vertical-align: top;\n",
       "    }\n",
       "\n",
       "    .dataframe thead th {\n",
       "        text-align: right;\n",
       "    }\n",
       "</style>\n",
       "<table border=\"1\" class=\"dataframe\">\n",
       "  <thead>\n",
       "    <tr style=\"text-align: right;\">\n",
       "      <th></th>\n",
       "      <th>id</th>\n",
       "      <th>name</th>\n",
       "      <th>type</th>\n",
       "      <th>level</th>\n",
       "      <th>sub</th>\n",
       "      <th>region</th>\n",
       "      <th>people</th>\n",
       "      <th>sum_bad</th>\n",
       "      <th>percent</th>\n",
       "      <th>road_density</th>\n",
       "      <th>road_demand</th>\n",
       "      <th>id_full</th>\n",
       "      <th>count_bad</th>\n",
       "      <th>avg_free_speed_to_limit</th>\n",
       "      <th>sum_all</th>\n",
       "      <th>sum_all_signal</th>\n",
       "      <th>geometry</th>\n",
       "    </tr>\n",
       "  </thead>\n",
       "  <tbody>\n",
       "    <tr>\n",
       "      <th>2</th>\n",
       "      <td>3</td>\n",
       "      <td>Архангельск</td>\n",
       "      <td>Городской округ</td>\n",
       "      <td>3</td>\n",
       "      <td>3</td>\n",
       "      <td>Архангельская область</td>\n",
       "      <td>358594</td>\n",
       "      <td>22.83</td>\n",
       "      <td>1.136748</td>\n",
       "      <td>5.871852</td>\n",
       "      <td>6029</td>\n",
       "      <td>202.0</td>\n",
       "      <td>110</td>\n",
       "      <td>0.635683</td>\n",
       "      <td>2046.616862</td>\n",
       "      <td>2008.360347</td>\n",
       "      <td>MULTIPOLYGON (((4508803.091 9540731.081, 45093...</td>\n",
       "    </tr>\n",
       "  </tbody>\n",
       "</table>\n",
       "</div>"
      ],
      "text/plain": [
       "   id  ...                                           geometry\n",
       "2   3  ...  MULTIPOLYGON (((4508803.091 9540731.081, 45093...\n",
       "\n",
       "[1 rows x 17 columns]"
      ]
     },
     "execution_count": 4,
     "metadata": {},
     "output_type": "execute_result"
    }
   ],
   "source": [
    "area_type = 'Городской округ'\n",
    "city = 'Архангельск'\n",
    "mun_obr = mun_obr[(mun_obr.name==city) & (mun_obr['type']==area_type)]\n",
    "mun_obr.head(3)"
   ]
  },
  {
   "cell_type": "markdown",
   "id": "2b39cde8",
   "metadata": {
    "cellId": "x05zbc3rr256dwzznk0xy",
    "execution_id": "ddf31b6f-586d-4899-9e22-ec51f966e8f8"
   },
   "source": [
    "## Разбитие `Multipolygon`-а на `Polygon`-ы"
   ]
  },
  {
   "cell_type": "code",
   "execution_count": 5,
   "id": "4aeb1fe2",
   "metadata": {
    "cellId": "occki2avcxcsnypqxjf5c"
   },
   "outputs": [],
   "source": [
    "# Функция разбиения мультиполигона\n",
    "def explodeMultiPolygon(indf):\n",
    "    outarr = []\n",
    "    for _, row in indf.iterrows():\n",
    "        assert type(row.geometry) == MultiPolygon\n",
    "        for geom in row.geometry.geoms:\n",
    "            obj = {}\n",
    "            obj['people'] = row.people\n",
    "            obj['id_full'] = row.id_full\n",
    "            obj['geometry'] = geom\n",
    "            outarr.append(obj)\n",
    "    return outarr"
   ]
  },
  {
   "cell_type": "code",
   "execution_count": 6,
   "id": "cfe7caff",
   "metadata": {
    "cellId": "xikv9pwdvjqt50onun2rp"
   },
   "outputs": [
    {
     "data": {
      "text/html": [
       "<div>\n",
       "<style scoped>\n",
       "    .dataframe tbody tr th:only-of-type {\n",
       "        vertical-align: middle;\n",
       "    }\n",
       "\n",
       "    .dataframe tbody tr th {\n",
       "        vertical-align: top;\n",
       "    }\n",
       "\n",
       "    .dataframe thead th {\n",
       "        text-align: right;\n",
       "    }\n",
       "</style>\n",
       "<table border=\"1\" class=\"dataframe\">\n",
       "  <thead>\n",
       "    <tr style=\"text-align: right;\">\n",
       "      <th></th>\n",
       "      <th>people</th>\n",
       "      <th>id_full</th>\n",
       "      <th>geometry</th>\n",
       "    </tr>\n",
       "  </thead>\n",
       "  <tbody>\n",
       "    <tr>\n",
       "      <th>0</th>\n",
       "      <td>358594</td>\n",
       "      <td>202.0</td>\n",
       "      <td>POLYGON ((4508803.091 9540731.081, 4509337.013...</td>\n",
       "    </tr>\n",
       "  </tbody>\n",
       "</table>\n",
       "</div>"
      ],
      "text/plain": [
       "   people  id_full                                           geometry\n",
       "0  358594    202.0  POLYGON ((4508803.091 9540731.081, 4509337.013..."
      ]
     },
     "execution_count": 6,
     "metadata": {},
     "output_type": "execute_result"
    }
   ],
   "source": [
    "city_polys = explodeMultiPolygon(mun_obr)\n",
    "arch = gpd.GeoDataFrame(city_polys, crs=mun_obr.crs.name)\n",
    "arch.head()"
   ]
  },
  {
   "cell_type": "code",
   "execution_count": 7,
   "id": "69042efa",
   "metadata": {
    "cellId": "wpynlh4q9hfj77bhhvy7y9"
   },
   "outputs": [
    {
     "data": {
      "text/plain": [
       "<matplotlib.axes._subplots.AxesSubplot at 0x7f730adf6940>"
      ]
     },
     "execution_count": 7,
     "metadata": {},
     "output_type": "execute_result"
    },
    {
     "data": {
      "image/png": "[encoded data removed]",
      "text/plain": [
       "<Figure size 504x504 with 1 Axes>"
      ]
     },
     "metadata": {
      "needs_background": "light"
     },
     "output_type": "display_data"
    }
   ],
   "source": [
    "arch.plot(figsize=(7,7), facecolor=\"none\", edgecolor=\"black\")"
   ]
  },
  {
   "cell_type": "markdown",
   "id": "c211ec31",
   "metadata": {
    "cellId": "jc8mfmxt6ukr38fzhuvvr",
    "execution_id": "ef5d6886-f7f6-4b57-aa8a-e919e57694b5"
   },
   "source": [
    "## Нахождение замыкающего прямоугольника `Polygon`-а"
   ]
  },
  {
   "cell_type": "code",
   "execution_count": 8,
   "id": "241a9595",
   "metadata": {
    "cellId": "wxnufnawbwjg54qsovy308"
   },
   "outputs": [
    {
     "name": "stdout",
     "output_type": "stream",
     "text": [
      "(4484498.829300001, 9451420.998999998, 4545899.198399998, 9548846.765100002)\n"
     ]
    }
   ],
   "source": [
    "city_geom = arch.iloc[0].geometry\n",
    "rect_coords = city_geom.bounds\n",
    "\n",
    "print(rect_coords)\n",
    "\n",
    "xmin = rect_coords[0]\n",
    "ymin = rect_coords[1]\n",
    "xmax = rect_coords[2]\n",
    "ymax = rect_coords[3]"
   ]
  },
  {
   "cell_type": "markdown",
   "id": "67f551a2",
   "metadata": {
    "cellId": "j4hsdn72dinuci9ldv82j",
    "execution_id": "f602179a-8701-42f8-9c58-fa416968a120"
   },
   "source": [
    "## Расчёт коеффициента искажения длинны\n",
    "\n",
    "Расчёт коеффициента искажения длинны для данной широты\n",
    "\n",
    "* `pi` - $\\pi$\n",
    "* `radCoeff` - коеффициент отношения градусов к радианам\n",
    "* `earthRadius` - экваториальный радиус Земли в метрах"
   ]
  },
  {
   "cell_type": "code",
   "execution_count": 9,
   "id": "617b9167",
   "metadata": {
    "cellId": "mv1o248qzs8aifec3x9la"
   },
   "outputs": [],
   "source": [
    "pi = math.pi\n",
    "radCoeff = pi / 180\n",
    "earthRadius = 6378137"
   ]
  },
  {
   "cell_type": "markdown",
   "id": "91104a25",
   "metadata": {
    "cellId": "3aybr55ooqk94v2k2bqw27",
    "execution_id": "ebb69747-a1c8-43f0-844a-a7f65bbe9a8e"
   },
   "source": [
    "### Перевод из системы `EPSG:3857` в `EPSG:4326`\n",
    "\n",
    "Алгоритм доступен [тут](https://gist.github.com/mudpuddle/6115083)\n",
    "\n",
    "$$\n",
    "\\large \n",
    "lon = \\frac{x}{R} * \\frac{180}{\\pi}\n",
    "$$\n",
    "\n",
    "$$\n",
    "\\large \n",
    "lat = \\left(2 * \\arctan{e^{\\frac{y}{R}}} - \\frac{\\pi}{2}\\right) * \\frac{180}{\\pi}\n",
    "$$\n",
    "\n",
    "где:\n",
    "\n",
    "* $R$ - экваториальный радиус Земли в метрах\n",
    "* $x$ - координата `x` из `EPSG:3857`\n",
    "* $y$ - координата `y` из `EPSG:3857`\n",
    "\n",
    "Вычисляем координаты вершит прямоугольника в сситеме `EPSG:4326`"
   ]
  },
  {
   "cell_type": "code",
   "execution_count": 10,
   "id": "3ac90420",
   "metadata": {
    "cellId": "0s7z9xb37nx7554bebxkjo"
   },
   "outputs": [],
   "source": [
    "def convertFromWebMercator(x, y):\n",
    "    #shift = pi * earthRadius;\n",
    "    lon   = (x / earthRadius) / radCoeff\n",
    "    lat   = (y / earthRadius) / radCoeff # y / shift * 180\n",
    "    lat   = 2 * math.atan(math.exp(lat * radCoeff)) - pi / 2.0;\n",
    "    lat   = lat / radCoeff\n",
    "    return lon, lat"
   ]
  },
  {
   "cell_type": "code",
   "execution_count": 11,
   "id": "0f5671da",
   "metadata": {
    "cellId": "t2g1i9xti6m8dclm516ti"
   },
   "outputs": [
    {
     "data": {
      "text/plain": [
       "(40.28493839976292, 64.39746310015147, 40.836507299893995, 64.39746310015147)"
      ]
     },
     "execution_count": 11,
     "metadata": {},
     "output_type": "execute_result"
    }
   ],
   "source": [
    "lon1, lat1 = convertFromWebMercator(xmin, ymin)\n",
    "lon2, lat2 = convertFromWebMercator(xmax, ymin)\n",
    "\n",
    "lon1, lat1, lon2, lat2"
   ]
  },
  {
   "cell_type": "markdown",
   "id": "0e6946a4",
   "metadata": {
    "cellId": "t9tztmx9qhs4z5nu41411q",
    "execution_id": "7af78ef8-248b-4360-819d-671b0d6849c7"
   },
   "source": [
    "### Расчёт дистанции между точками\n",
    "\n",
    "Расчёт фактического расстояния между точками на сферической поверхности.\n",
    "Алгоритм доступен [тут](https://code911.top/howto/how-to-transform-a-distance-from-degrees-to-metres).\n",
    "\n",
    "$$\n",
    "\\large\n",
    "\\Delta lat = (lat2 - lat1) * \\frac{\\pi}{180}\n",
    "$$\n",
    "\n",
    "$$\n",
    "\\large\n",
    "\\Delta lon = (lon2 - lon1) * \\frac{\\pi}{180}\n",
    "$$\n",
    "\n",
    "$$\n",
    "\\large\n",
    "distA =\n",
    "\\sin{\\left(\\frac{\\Delta lat}{2}\\right)}^2 +\n",
    "\\cos\\left({lat1 * \\frac{\\pi}{180}}\\right) *\n",
    "\\cos\\left({lat2 * \\frac{\\pi}{180}}\\right) *\n",
    "\\sin\\left({\\frac{\\Delta lon}{2}}\\right)^2\n",
    "$$\n",
    "\n",
    "$$\n",
    "\\large\n",
    "D_{meter} = 2R * \\arctan{\\frac{\\sqrt{distA}}{\\sqrt{1 - distA}}}\n",
    "$$\n",
    "\n",
    "где:\n",
    "\n",
    "* $R$ - экваториальный радиус Земли в метрах\n",
    "* $lat1$ - широта левой вешины\n",
    "* $lon1$ - долгота левой вешины\n",
    "* $lat2$ - широта правой вешины\n",
    "* $lon2$ - долгота левой вешины\n",
    "* $D_{meter}$ - фактическое расстояние в метрах"
   ]
  },
  {
   "cell_type": "code",
   "execution_count": 12,
   "id": "b868e297",
   "metadata": {
    "cellId": "kd40x9vk2uevx02xx7bo7"
   },
   "outputs": [
    {
     "name": "stdout",
     "output_type": "stream",
     "text": [
      "Фактическое расстояние в километрах: 26.532592869453314\n"
     ]
    }
   ],
   "source": [
    "dLat = (lat2 - lat1) * radCoeff\n",
    "dLon = (lon2 - lon1) * radCoeff\n",
    "dist_a = pow(math.sin(dLat / 2), 2) + \\\n",
    "    math.cos(lat1 * radCoeff) * math.cos(lat2 * radCoeff) * \\\n",
    "    pow(math.sin(dLon / 2), 2);\n",
    "dist_c = 2 * math.atan2(math.sqrt(dist_a), math.sqrt(1 - dist_a))\n",
    "realDistanse = earthRadius * dist_c\n",
    "print ('Фактическое расстояние в километрах: {}'.format(realDistanse / 1000))"
   ]
  },
  {
   "cell_type": "markdown",
   "id": "f30f4827",
   "metadata": {
    "cellId": "qvh2n0krcaacmsglj4tw5m",
    "execution_id": "3a74de70-4388-4214-9156-57aca59feab7"
   },
   "source": [
    "### Проверяем полученное расстояние\n",
    "\n",
    "Проверяем полученное расстояние с помощью `Yandex` карт.\n",
    "\n",
    "![RealDistans](img/realDistanse.png)"
   ]
  },
  {
   "cell_type": "markdown",
   "id": "ac2c5735",
   "metadata": {
    "cellId": "altr3vjll97dybd6fepfje",
    "execution_id": "54f2074c-ea89-42ab-a56f-2acd026b36ff"
   },
   "source": [
    "### Расчёт формального расстояния в `EPSG:3857`\n",
    "\n",
    "Расчёт формального расстояния между точками в `EPSG:3857`"
   ]
  },
  {
   "cell_type": "code",
   "execution_count": 13,
   "id": "baf821ef",
   "metadata": {
    "cellId": "4oal1venuua4glhb37aouv"
   },
   "outputs": [
    {
     "name": "stdout",
     "output_type": "stream",
     "text": [
      "Формальное расстояние в EPSG:3857: 61400.369099996984\n"
     ]
    }
   ],
   "source": [
    "merkDistanse = (xmax - xmin)\n",
    "print ('Формальное расстояние в EPSG:3857: {}'.format(merkDistanse))"
   ]
  },
  {
   "cell_type": "markdown",
   "id": "7cff12ab",
   "metadata": {
    "cellId": "7g02iym65dkezu0x2sejn",
    "execution_id": "f1d27d52-bdf3-41a1-9e6f-a6e470501eea"
   },
   "source": [
    "### Расчёт коеффициента искажения"
   ]
  },
  {
   "cell_type": "code",
   "execution_count": 14,
   "id": "37d2a7a8",
   "metadata": {
    "cellId": "ckku77c7uj6hm50aaxrz5u"
   },
   "outputs": [
    {
     "name": "stdout",
     "output_type": "stream",
     "text": [
      "Коеффициент искажения: 2.314148843352832\n"
     ]
    }
   ],
   "source": [
    "unitCoeff = (xmax - xmin) / realDistanse\n",
    "print ('Коеффициент искажения: {}'.format(unitCoeff))"
   ]
  },
  {
   "cell_type": "markdown",
   "id": "1b67382d",
   "metadata": {
    "cellId": "0nc5huynylqegkxnwms56e",
    "execution_id": "29c3e0fc-9c3d-4bb8-a8d3-6885ab55a871"
   },
   "source": [
    "### Построение шестиугольников\n",
    "\n",
    "Для [алгоритма](https://sabrinadchan.github.io/data-blog/building-a-hexagonal-cartogram.html)\n",
    "расчёта вершин фигур используем константу из формулы площади шестигранника:\n",
    "\n",
    "$$\n",
    "a = \\sin{\\left(\\frac{\\pi}{3}\\right)} = \\frac{\\sqrt{3}}{2}\n",
    "$$\n",
    "\n",
    "Площадь шестиугольника:\n",
    "\n",
    "$$\n",
    "S_{hexagon} = 3 * \\sin{\\left(\\frac{\\pi}{3}\\right)} * R^2\n",
    "$$\n",
    "\n",
    "![Hexagon](img/hexagon.png)\n",
    "\n",
    "$R$ - *большой* радиус, равен стороне шестиугольника\n",
    "\n",
    "Далее расчёт вершин фигуры:\n",
    "\n",
    "$A = (x, y * a)$\n",
    "\n",
    "$B = (x + R, y * a)$\n",
    "\n",
    "$C = (x + 1\\frac{1}{2}R, (y + R) * a)$\n",
    "\n",
    "$D = (x + R, (y + (2 * R)) * a)$\n",
    "\n",
    "$E = (x, (y + (2 * R)) * a))$\n",
    "\n",
    "$F = (x - (\\frac{1}{2} * R), (y + R) * a)$\n",
    "\n",
    "Где:\n",
    "\n",
    "$x$ - начальная координата `x`\n",
    "\n",
    "$y$ - начальная координата `y`"
   ]
  },
  {
   "cell_type": "code",
   "execution_count": 18,
   "id": "c70a52c3",
   "metadata": {
    "cellId": "ur84uolf98glm98dz619f"
   },
   "outputs": [
    {
     "name": "stdout",
     "output_type": "stream",
     "text": [
      "(10980, 2)\n"
     ]
    },
    {
     "data": {
      "text/html": [
       "<div>\n",
       "<style scoped>\n",
       "    .dataframe tbody tr th:only-of-type {\n",
       "        vertical-align: middle;\n",
       "    }\n",
       "\n",
       "    .dataframe tbody tr th {\n",
       "        vertical-align: top;\n",
       "    }\n",
       "\n",
       "    .dataframe thead th {\n",
       "        text-align: right;\n",
       "    }\n",
       "</style>\n",
       "<table border=\"1\" class=\"dataframe\">\n",
       "  <thead>\n",
       "    <tr style=\"text-align: right;\">\n",
       "      <th></th>\n",
       "      <th>geometry</th>\n",
       "      <th>area</th>\n",
       "    </tr>\n",
       "  </thead>\n",
       "  <tbody>\n",
       "    <tr>\n",
       "      <th>0</th>\n",
       "      <td>POLYGON ((4484498.000 9451420.000, 4484960.830...</td>\n",
       "      <td>556537.528947</td>\n",
       "    </tr>\n",
       "    <tr>\n",
       "      <th>1</th>\n",
       "      <td>POLYGON ((4485192.245 9451820.822, 4485655.074...</td>\n",
       "      <td>556537.528947</td>\n",
       "    </tr>\n",
       "    <tr>\n",
       "      <th>2</th>\n",
       "      <td>POLYGON ((4484498.000 9452221.645, 4484960.830...</td>\n",
       "      <td>556537.528947</td>\n",
       "    </tr>\n",
       "  </tbody>\n",
       "</table>\n",
       "</div>"
      ],
      "text/plain": [
       "                                            geometry           area\n",
       "0  POLYGON ((4484498.000 9451420.000, 4484960.830...  556537.528947\n",
       "1  POLYGON ((4485192.245 9451820.822, 4485655.074...  556537.528947\n",
       "2  POLYGON ((4484498.000 9452221.645, 4484960.830...  556537.528947"
      ]
     },
     "execution_count": 18,
     "metadata": {},
     "output_type": "execute_result"
    }
   ],
   "source": [
    "unit = 200 * unitCoeff\n",
    "\n",
    "a = np.sin(np.pi / 3)\n",
    "cols = np.arange(np.floor(xmin), np.ceil(xmax), 3 * unit)\n",
    "rows = np.arange(np.floor(ymin) / a, np.ceil(ymax) / a, unit)\n",
    "\n",
    "hexagons = []\n",
    "for x in cols:\n",
    "  for i, y in enumerate(rows):\n",
    "    if (i % 2 == 0):\n",
    "      x0 = x\n",
    "    else:\n",
    "      x0 = x + 1.5 * unit\n",
    "\n",
    "    hexagons.append(Polygon([\n",
    "      (x0, y * a),\n",
    "      (x0 + unit, y * a),\n",
    "      (x0 + (1.5 * unit), (y + unit) * a),\n",
    "      (x0 + unit, (y + (2 * unit)) * a),\n",
    "      (x0, (y + (2 * unit)) * a),\n",
    "      (x0 - (0.5 * unit), (y + unit) * a),\n",
    "    ]))\n",
    "\n",
    "polygons_mesh = gpd.GeoDataFrame({'geometry': hexagons}, crs=arch.crs)\n",
    "polygons_mesh['area'] = polygons_mesh.area\n",
    "print(polygons_mesh.shape)\n",
    "polygons_mesh.head(3)"
   ]
  },
  {
   "cell_type": "code",
   "execution_count": 19,
   "id": "7a326bf1",
   "metadata": {
    "cellId": "xv26plszo9m9vzcsz3d3i"
   },
   "outputs": [
    {
     "data": {
      "text/plain": [
       "<matplotlib.axes._subplots.AxesSubplot at 0x7f730b2a4fa0>"
      ]
     },
     "execution_count": 19,
     "metadata": {},
     "output_type": "execute_result"
    },
    {
     "data": {
      "image/png": "[encoded data removed]",
      "text/plain": [
       "<Figure size 504x504 with 1 Axes>"
      ]
     },
     "metadata": {
      "needs_background": "light"
     },
     "output_type": "display_data"
    }
   ],
   "source": [
    "polygons_mesh[:10].plot(figsize=(7,7), facecolor=\"none\", edgecolor=\"black\")"
   ]
  },
  {
   "cell_type": "markdown",
   "id": "4a178806",
   "metadata": {
    "cellId": "ftr6r0gxssrl5o30emyc5",
    "execution_id": "192eeaab-60d3-4cab-910d-120dce8c0fa3"
   },
   "source": [
    "### Ограничеваем фигуры контуром населённого пункта"
   ]
  },
  {
   "cell_type": "code",
   "execution_count": 20,
   "id": "4cf070a7",
   "metadata": {
    "cellId": "2p20ytmbczdpt686iuzjif"
   },
   "outputs": [
    {
     "name": "stdout",
     "output_type": "stream",
     "text": [
      "Количество записей в начале\n",
      "10980\n",
      "После первого фильтра\n",
      "3770\n",
      "После второго фильтра\n",
      "3380\n"
     ]
    },
    {
     "data": {
      "text/html": [
       "<div>\n",
       "<style scoped>\n",
       "    .dataframe tbody tr th:only-of-type {\n",
       "        vertical-align: middle;\n",
       "    }\n",
       "\n",
       "    .dataframe tbody tr th {\n",
       "        vertical-align: top;\n",
       "    }\n",
       "\n",
       "    .dataframe thead th {\n",
       "        text-align: right;\n",
       "    }\n",
       "</style>\n",
       "<table border=\"1\" class=\"dataframe\">\n",
       "  <thead>\n",
       "    <tr style=\"text-align: right;\">\n",
       "      <th></th>\n",
       "      <th>geometry</th>\n",
       "    </tr>\n",
       "  </thead>\n",
       "  <tbody>\n",
       "    <tr>\n",
       "      <th>0</th>\n",
       "      <td>POLYGON ((4485192.245 9484688.254, 4485655.074...</td>\n",
       "    </tr>\n",
       "    <tr>\n",
       "      <th>1</th>\n",
       "      <td>POLYGON ((4485192.245 9485489.899, 4485655.074...</td>\n",
       "    </tr>\n",
       "    <tr>\n",
       "      <th>2</th>\n",
       "      <td>POLYGON ((4484498.000 9485890.721, 4484960.830...</td>\n",
       "    </tr>\n",
       "  </tbody>\n",
       "</table>\n",
       "</div>"
      ],
      "text/plain": [
       "                                            geometry\n",
       "0  POLYGON ((4485192.245 9484688.254, 4485655.074...\n",
       "1  POLYGON ((4485192.245 9485489.899, 4485655.074...\n",
       "2  POLYGON ((4484498.000 9485890.721, 4484960.830..."
      ]
     },
     "execution_count": 20,
     "metadata": {},
     "output_type": "execute_result"
    }
   ],
   "source": [
    "threashold=0.5\n",
    "city_geom = arch.iloc[0].geometry\n",
    "print('Количество записей в начале')\n",
    "print(polygons_mesh.shape[0])\n",
    "city_inter_geom = polygons_mesh[polygons_mesh.intersects(city_geom)]\n",
    "print('После первого фильтра')\n",
    "print(city_inter_geom.shape[0])\n",
    "city_values = city_inter_geom.geometry.values\n",
    "polys = []\n",
    "for geom in city_values:\n",
    "    if ((geom.intersection(city_geom)).area / geom.area) >= threashold:\n",
    "        polys.append(geom)\n",
    "city_polygons = gpd.GeoDataFrame(geometry=polys, crs=arch.crs)\n",
    "print('После второго фильтра')\n",
    "print(city_polygons.shape[0])\n",
    "city_polygons.head(3)"
   ]
  },
  {
   "cell_type": "markdown",
   "id": "439c2c53",
   "metadata": {
    "cellId": "qs4r7vnk1nuxh6zunu3u",
    "execution_id": "32a4e22c-288f-4b4b-9b1f-292709bce982"
   },
   "source": [
    "### Переводим в угловые координаты"
   ]
  },
  {
   "cell_type": "code",
   "execution_count": 21,
   "id": "8f63586f",
   "metadata": {
    "cellId": "5tltppqpco6r5p0gdt74v"
   },
   "outputs": [
    {
     "data": {
      "text/html": [
       "<div>\n",
       "<style scoped>\n",
       "    .dataframe tbody tr th:only-of-type {\n",
       "        vertical-align: middle;\n",
       "    }\n",
       "\n",
       "    .dataframe tbody tr th {\n",
       "        vertical-align: top;\n",
       "    }\n",
       "\n",
       "    .dataframe thead th {\n",
       "        text-align: right;\n",
       "    }\n",
       "</style>\n",
       "<table border=\"1\" class=\"dataframe\">\n",
       "  <thead>\n",
       "    <tr style=\"text-align: right;\">\n",
       "      <th></th>\n",
       "      <th>geometry</th>\n",
       "    </tr>\n",
       "  </thead>\n",
       "  <tbody>\n",
       "    <tr>\n",
       "      <th>0</th>\n",
       "      <td>POLYGON ((40.29117 64.52630, 40.29533 64.52630...</td>\n",
       "    </tr>\n",
       "    <tr>\n",
       "      <th>1</th>\n",
       "      <td>POLYGON ((40.29117 64.52940, 40.29533 64.52940...</td>\n",
       "    </tr>\n",
       "    <tr>\n",
       "      <th>2</th>\n",
       "      <td>POLYGON ((40.28493 64.53094, 40.28909 64.53094...</td>\n",
       "    </tr>\n",
       "  </tbody>\n",
       "</table>\n",
       "</div>"
      ],
      "text/plain": [
       "                                            geometry\n",
       "0  POLYGON ((40.29117 64.52630, 40.29533 64.52630...\n",
       "1  POLYGON ((40.29117 64.52940, 40.29533 64.52940...\n",
       "2  POLYGON ((40.28493 64.53094, 40.28909 64.53094..."
      ]
     },
     "execution_count": 21,
     "metadata": {},
     "output_type": "execute_result"
    }
   ],
   "source": [
    "city_polygons_wgs84 = city_polygons.to_crs('WGS84')\n",
    "city_polygons_wgs84.head(3)"
   ]
  },
  {
   "cell_type": "code",
   "execution_count": 22,
   "id": "63e00e1c",
   "metadata": {
    "cellId": "9lttdw9kgj85itxz60m55"
   },
   "outputs": [
    {
     "data": {
      "text/html": [
       "<div>\n",
       "<style scoped>\n",
       "    .dataframe tbody tr th:only-of-type {\n",
       "        vertical-align: middle;\n",
       "    }\n",
       "\n",
       "    .dataframe tbody tr th {\n",
       "        vertical-align: top;\n",
       "    }\n",
       "\n",
       "    .dataframe thead th {\n",
       "        text-align: right;\n",
       "    }\n",
       "</style>\n",
       "<table border=\"1\" class=\"dataframe\">\n",
       "  <thead>\n",
       "    <tr style=\"text-align: right;\">\n",
       "      <th></th>\n",
       "      <th>geometry</th>\n",
       "    </tr>\n",
       "  </thead>\n",
       "  <tbody>\n",
       "    <tr>\n",
       "      <th>0</th>\n",
       "      <td>[[[64.5262982802965, 40.29116745586139], [64.5...</td>\n",
       "    </tr>\n",
       "    <tr>\n",
       "      <th>1</th>\n",
       "      <td>[[[64.52939535902337, 40.29116745586139], [64....</td>\n",
       "    </tr>\n",
       "    <tr>\n",
       "      <th>2</th>\n",
       "      <td>[[[64.53094376660735, 40.28493095003426], [64....</td>\n",
       "    </tr>\n",
       "  </tbody>\n",
       "</table>\n",
       "</div>"
      ],
      "text/plain": [
       "                                            geometry\n",
       "0  [[[64.5262982802965, 40.29116745586139], [64.5...\n",
       "1  [[[64.52939535902337, 40.29116745586139], [64....\n",
       "2  [[[64.53094376660735, 40.28493095003426], [64...."
      ]
     },
     "execution_count": 22,
     "metadata": {},
     "output_type": "execute_result"
    }
   ],
   "source": [
    "all_res = []\n",
    "\n",
    "for _, row in city_polygons_wgs84.iterrows():\n",
    "    polygon = row.geometry\n",
    "    x, y = polygon.exterior.xy\n",
    "    pairs = zip(x, y)\n",
    "    coords = []\n",
    "    for pair in pairs:\n",
    "        coords.append([pair[1], pair[0]])\n",
    "    obj = {}\n",
    "    obj['geometry'] = [coords]\n",
    "    all_res.append(obj)\n",
    "    \n",
    "city_polygons_dl = pd.DataFrame(all_res)\n",
    "city_polygons_dl.head(3)"
   ]
  },
  {
   "cell_type": "markdown",
   "id": "e40eac1a",
   "metadata": {
    "cellId": "welzqbevjsqszz55xr3p5b",
    "execution_id": "a779929a-38f9-4c7f-badd-5065f804bd90"
   },
   "source": [
    "### Интегрируем в DataLens"
   ]
  },
  {
   "cell_type": "code",
   "execution_count": 23,
   "id": "e73cbfea",
   "metadata": {
    "cellId": "059wddez54z86orce7rx7i"
   },
   "outputs": [],
   "source": [
    "city_polygons_dl.to_csv('data/polygons_lens.csv', index=False)"
   ]
  },
  {
   "cell_type": "markdown",
   "id": "c30f54f5",
   "metadata": {
    "cellId": "5bh2dhwk5jrxtiubw657vf",
    "execution_id": "de0e0432-29d4-47f6-97a2-1cde82a4c3a9"
   },
   "source": [
    "### Сверяем\n",
    "\n",
    "Фигура в `DataLens`\n",
    "\n",
    "![BoryLens](img/boryLens.png)\n",
    "\n",
    "Соответствие со стороной полигона на карте `Yandex`\n",
    "\n",
    "![BoryMaps](img/boryMaps.png)"
   ]
  },
  {
   "cell_type": "code",
   "execution_count": null,
   "id": "aef65008",
   "metadata": {
    "cellId": "o5gm4c4my1zejounfg5v"
   },
   "outputs": [],
   "source": []
  }
 ],
 "metadata": {
  "language_info": {
   "codemirror_mode": {
    "name": "ipython",
    "version": 3
   },
   "file_extension": ".py",
   "mimetype": "text/x-python",
   "name": "python",
   "nbconvert_exporter": "python",
   "pygments_lexer": "ipython3",
   "version": "3.7.7"
  },
  "notebookId": "67bbfc2c-ae5d-42fa-a99d-244f494f1c27",
  "notebookPath": "NorthGate/Notebooks/Untitled.ipynb"
 },
 "nbformat": 4,
 "nbformat_minor": 5
}
