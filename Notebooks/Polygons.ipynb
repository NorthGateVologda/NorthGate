{
 "cells": [
  {
   "cell_type": "code",
   "execution_count": 1,
   "id": "ac4c3c68",
   "metadata": {
    "cellId": "tg62z4a1eia9u6hprnd8b"
   },
   "outputs": [],
   "source": [
    "import math\n",
    "import h3pandas\n",
    "import numpy as np\n",
    "import pandas as pd\n",
    "import geopandas as gpd\n",
    "from shapely.ops import split\n",
    "from shapely.geometry import LineString\n",
    "from shapely.geometry.polygon import Polygon\n",
    "from shapely.geometry.multipolygon import MultiPolygon"
   ]
  },
  {
   "cell_type": "markdown",
   "id": "3e1592f1",
   "metadata": {
    "cellId": "mvua618gefhfq96gl32lpt",
    "execution_id": "e9d5c07c-8148-45bb-9cdc-946ff4bde0dc"
   },
   "source": [
    "# Формирование сетки шестиугольников\n",
    "\n",
    "Формирование сетки шестиугольников в рамках заданного населённого пункта для\n",
    "расчётов необходимых в рамках данного проекта, в том числе плотности\n",
    "населения.\n",
    "\n",
    "Сетка формируется с помощью алгоритма приведённого ниже. К сожалению в нашем\n",
    "случае нет возможности использовать библиотеку `h3geopandas`, так как\n",
    "архитектура данной библиотеки не даёт возможность явно задать размер стороны\n",
    "фигуры, а лишь плотность фигур в заданном участке через ограниченный набор\n",
    "коеффициентов. Учитывая, что площадь населённых пунктов варьирует, мы получим\n",
    "совершенно разные фигуры в каждом случае.\n",
    "\n",
    "Алгоритм который используется ниже возможен лишь на плоской системе координат,\n",
    "как например `Web Mercator` (`EPSG:3857`), в рамках угловых координат фигуры\n",
    "растягиваются. Но после построения сетки, панель данных свободно можно\n",
    "перевести в угловую систему координат, к примеру: `WGS84` (`EPSG:4326`).\n",
    "\n",
    "В рамках данной задачи, так же появилась необходимость расчёта коеффициента\n",
    "искажения, так как номинально одинаковые расстояния в `EPSG:3857` фактически\n",
    "разные на разных широтах.\n",
    "\n",
    "Для нахождения данного коеффициента необходимо было найти фактическое\n",
    "расстояние между двумя верхними точками замыкающего прямоугольника.\n",
    "\n",
    "Для нахождения фактического расстояния было необходимо перевести координаты\n",
    "из `EPSG:3857` в `EPSG:4326`.\n",
    "\n",
    "Далее общее описание процесса:\n",
    "\n",
    "1. Выборка `Multipolygon`-а населённого пункта\n",
    "  1. Используется набор `mun_obr_all_bad.geojson`\n",
    "  2. Набор так же присутствует в базе данных\n",
    "  3. Соответственно все эти действия можно воспроизвести на `Backend`-е\n",
    "2. Разбитие `Multipolygon`-а на `Polygon`-ы\n",
    "  1. В рамках данного `Notebook`-а используется первый `Polygon`\n",
    "3. Нахождение замыкающего прямоугольника `Polygon`-а\n",
    "4. Расчёт коеффициента искажения длинны для данной широты\n",
    "  1. Перевод из системы `EPSG:3857` в `EPSG:4326`\n",
    "  2. Расчёт фактического расстояния между точками на сферической поверхносте\n",
    "  3. Проверяем полученное расстояние с помощью `Yandex` карт\n",
    "  4. Расчёт формального расстояния между точками в `EPSG:3857`\n",
    "  5. Расчёт коеффициента искажения\n",
    "5. Построение шестиугольников\n",
    "  1. Построение на основании параметра `hexagon_side`\n",
    "6. Ограничеваем фигуры контуром населённого пункта\n",
    "7. Переводим в угловые координаты\n",
    "8. Интегрируем в DataLens\n",
    "9. Сверяем"
   ]
  },
  {
   "cell_type": "markdown",
   "id": "bef9030a",
   "metadata": {
    "cellId": "iv0inqukm3e5e9zvtkwapy",
    "execution_id": "90677819-6e9b-43ac-9ee8-3d8446916adc"
   },
   "source": [
    "## Определяем параметр размера стороны шестиугольника\n",
    "\n",
    "Значение параметра в метрах"
   ]
  },
  {
   "cell_type": "code",
   "execution_count": 2,
   "id": "23672dac",
   "metadata": {
    "cellId": "qrvd0gw495j82y9fbc6f4d"
   },
   "outputs": [],
   "source": [
    "hexagon_side = 500"
   ]
  },
  {
   "cell_type": "markdown",
   "id": "e79f09a6",
   "metadata": {
    "cellId": "lnerqfj8kgp95mafim0wt",
    "execution_id": "05634bbc-c512-4d34-9e04-b7553d6c4b8a"
   },
   "source": [
    "## Выборка `Multipolygon`-а населённого пункта"
   ]
  },
  {
   "cell_type": "code",
   "execution_count": 3,
   "id": "ee68a6e1",
   "metadata": {
    "cellId": "k8ssge6nqfrzvx972uax5r"
   },
   "outputs": [],
   "source": [
    "mun_obr_merk = gpd.read_file('GeoJSON/data/mun_obr_all_bad.geojson')"
   ]
  },
  {
   "cell_type": "code",
   "execution_count": 4,
   "id": "3248f457",
   "metadata": {
    "cellId": "2hg38ilsn7qsoqchv2nfan"
   },
   "outputs": [
    {
     "name": "stdout",
     "output_type": "stream",
     "text": [
      "EPSG:3857\n"
     ]
    }
   ],
   "source": [
    "mun_obr = mun_obr_merk\n",
    "print(mun_obr.crs)"
   ]
  },
  {
   "cell_type": "code",
   "execution_count": 5,
   "id": "974a84e6",
   "metadata": {
    "cellId": "kbmd44juzgb7lefp3zhg3"
   },
   "outputs": [
    {
     "data": {
      "text/html": [
       "<div>\n",
       "<style scoped>\n",
       "    .dataframe tbody tr th:only-of-type {\n",
       "        vertical-align: middle;\n",
       "    }\n",
       "\n",
       "    .dataframe tbody tr th {\n",
       "        vertical-align: top;\n",
       "    }\n",
       "\n",
       "    .dataframe thead th {\n",
       "        text-align: right;\n",
       "    }\n",
       "</style>\n",
       "<table border=\"1\" class=\"dataframe\">\n",
       "  <thead>\n",
       "    <tr style=\"text-align: right;\">\n",
       "      <th></th>\n",
       "      <th>id</th>\n",
       "      <th>name</th>\n",
       "      <th>type</th>\n",
       "      <th>level</th>\n",
       "      <th>sub</th>\n",
       "      <th>region</th>\n",
       "      <th>people</th>\n",
       "      <th>sum_bad</th>\n",
       "      <th>percent</th>\n",
       "      <th>road_density</th>\n",
       "      <th>road_demand</th>\n",
       "      <th>id_full</th>\n",
       "      <th>count_bad</th>\n",
       "      <th>avg_free_speed_to_limit</th>\n",
       "      <th>sum_all</th>\n",
       "      <th>sum_all_signal</th>\n",
       "      <th>geometry</th>\n",
       "    </tr>\n",
       "  </thead>\n",
       "  <tbody>\n",
       "    <tr>\n",
       "      <th>2</th>\n",
       "      <td>3</td>\n",
       "      <td>Архангельск</td>\n",
       "      <td>Городской округ</td>\n",
       "      <td>3</td>\n",
       "      <td>3</td>\n",
       "      <td>Архангельская область</td>\n",
       "      <td>358594</td>\n",
       "      <td>22.83</td>\n",
       "      <td>1.136748</td>\n",
       "      <td>5.871852</td>\n",
       "      <td>6029</td>\n",
       "      <td>202.0</td>\n",
       "      <td>110</td>\n",
       "      <td>0.635683</td>\n",
       "      <td>2046.616862</td>\n",
       "      <td>2008.360347</td>\n",
       "      <td>MULTIPOLYGON (((4508803.091 9540731.081, 45093...</td>\n",
       "    </tr>\n",
       "  </tbody>\n",
       "</table>\n",
       "</div>"
      ],
      "text/plain": [
       "   id  ...                                           geometry\n",
       "2   3  ...  MULTIPOLYGON (((4508803.091 9540731.081, 45093...\n",
       "\n",
       "[1 rows x 17 columns]"
      ]
     },
     "execution_count": 5,
     "metadata": {},
     "output_type": "execute_result"
    }
   ],
   "source": [
    "area_type = 'Городской округ'\n",
    "city = 'Архангельск'\n",
    "mun_obr = mun_obr[(mun_obr.name==city) & (mun_obr['type']==area_type)]\n",
    "mun_obr.head(3)"
   ]
  },
  {
   "cell_type": "markdown",
   "id": "0d6706df",
   "metadata": {
    "cellId": "x05zbc3rr256dwzznk0xy",
    "execution_id": "a217be47-c143-4828-846e-e2114ca0cd54"
   },
   "source": [
    "## Разбитие `Multipolygon`-а на `Polygon`-ы"
   ]
  },
  {
   "cell_type": "code",
   "execution_count": 6,
   "id": "f5ea1213",
   "metadata": {
    "cellId": "occki2avcxcsnypqxjf5c"
   },
   "outputs": [],
   "source": [
    "# Функция разбиения мультиполигона\n",
    "def explodeMultiPolygon(indf):\n",
    "    outarr = []\n",
    "    for _, row in indf.iterrows():\n",
    "        assert type(row.geometry) == MultiPolygon\n",
    "        for geom in row.geometry.geoms:\n",
    "            obj = {}\n",
    "            obj['people'] = row.people\n",
    "            obj['id_full'] = row.id_full\n",
    "            obj['geometry'] = geom\n",
    "            outarr.append(obj)\n",
    "    return outarr"
   ]
  },
  {
   "cell_type": "code",
   "execution_count": 7,
   "id": "57f343b5",
   "metadata": {
    "cellId": "xikv9pwdvjqt50onun2rp"
   },
   "outputs": [
    {
     "data": {
      "text/html": [
       "<div>\n",
       "<style scoped>\n",
       "    .dataframe tbody tr th:only-of-type {\n",
       "        vertical-align: middle;\n",
       "    }\n",
       "\n",
       "    .dataframe tbody tr th {\n",
       "        vertical-align: top;\n",
       "    }\n",
       "\n",
       "    .dataframe thead th {\n",
       "        text-align: right;\n",
       "    }\n",
       "</style>\n",
       "<table border=\"1\" class=\"dataframe\">\n",
       "  <thead>\n",
       "    <tr style=\"text-align: right;\">\n",
       "      <th></th>\n",
       "      <th>people</th>\n",
       "      <th>id_full</th>\n",
       "      <th>geometry</th>\n",
       "    </tr>\n",
       "  </thead>\n",
       "  <tbody>\n",
       "    <tr>\n",
       "      <th>0</th>\n",
       "      <td>358594</td>\n",
       "      <td>202.0</td>\n",
       "      <td>POLYGON ((4508803.091 9540731.081, 4509337.013...</td>\n",
       "    </tr>\n",
       "  </tbody>\n",
       "</table>\n",
       "</div>"
      ],
      "text/plain": [
       "   people  id_full                                           geometry\n",
       "0  358594    202.0  POLYGON ((4508803.091 9540731.081, 4509337.013..."
      ]
     },
     "execution_count": 7,
     "metadata": {},
     "output_type": "execute_result"
    }
   ],
   "source": [
    "city_polys = explodeMultiPolygon(mun_obr)\n",
    "arch = gpd.GeoDataFrame(city_polys, crs=mun_obr.crs.name)\n",
    "arch.head()"
   ]
  },
  {
   "cell_type": "code",
   "execution_count": 8,
   "id": "5b2916a0",
   "metadata": {
    "cellId": "wpynlh4q9hfj77bhhvy7y9"
   },
   "outputs": [
    {
     "data": {
      "text/plain": [
       "<matplotlib.axes._subplots.AxesSubplot at 0x7f290b166940>"
      ]
     },
     "execution_count": 8,
     "metadata": {},
     "output_type": "execute_result"
    },
    {
     "data": {
      "image/png": "[encoded data removed]",
      "text/plain": [
       "<Figure size 504x504 with 1 Axes>"
      ]
     },
     "metadata": {
      "needs_background": "light"
     },
     "output_type": "display_data"
    }
   ],
   "source": [
    "arch.plot(figsize=(7,7), facecolor=\"none\", edgecolor=\"black\")"
   ]
  },
  {
   "cell_type": "markdown",
   "id": "17740a63",
   "metadata": {
    "cellId": "jc8mfmxt6ukr38fzhuvvr",
    "execution_id": "4223f0f5-46fd-4861-97e7-795e3874bf00"
   },
   "source": [
    "## Нахождение замыкающего прямоугольника `Polygon`-а"
   ]
  },
  {
   "cell_type": "code",
   "execution_count": 9,
   "id": "41932f4d",
   "metadata": {
    "cellId": "wxnufnawbwjg54qsovy308"
   },
   "outputs": [
    {
     "name": "stdout",
     "output_type": "stream",
     "text": [
      "(4484498.829300001, 9451420.998999998, 4545899.198399998, 9548846.765100002)\n"
     ]
    }
   ],
   "source": [
    "city_geom = arch.iloc[0].geometry\n",
    "rect_coords = city_geom.bounds\n",
    "\n",
    "print(rect_coords)\n",
    "\n",
    "xmin = rect_coords[0]\n",
    "ymin = rect_coords[1]\n",
    "xmax = rect_coords[2]\n",
    "ymax = rect_coords[3]"
   ]
  },
  {
   "cell_type": "markdown",
   "id": "d5f2f480",
   "metadata": {
    "cellId": "j4hsdn72dinuci9ldv82j",
    "execution_id": "6d17ba99-8635-4bcc-a96e-de3b122d280f"
   },
   "source": [
    "## Расчёт коеффициента искажения длинны\n",
    "\n",
    "Расчёт коеффициента искажения длинны для данной широты\n",
    "\n",
    "* `pi` - $\\pi$\n",
    "* `radCoeff` - коеффициент отношения градусов к радианам\n",
    "* `earthRadius` - экваториальный радиус Земли в метрах"
   ]
  },
  {
   "cell_type": "code",
   "execution_count": 10,
   "id": "41c3e42c",
   "metadata": {
    "cellId": "mv1o248qzs8aifec3x9la"
   },
   "outputs": [],
   "source": [
    "pi = math.pi\n",
    "radCoeff = pi / 180\n",
    "earthRadius = 6378137"
   ]
  },
  {
   "cell_type": "markdown",
   "id": "df8562f8",
   "metadata": {
    "cellId": "3aybr55ooqk94v2k2bqw27",
    "execution_id": "f9b07f2d-11f4-45aa-becf-197abacd0ef9"
   },
   "source": [
    "### Перевод из системы `EPSG:3857` в `EPSG:4326`\n",
    "\n",
    "Алгоритм доступен [тут](https://gist.github.com/mudpuddle/6115083)\n",
    "\n",
    "$$\n",
    "\\large \n",
    "lon = \\frac{x}{R} * \\frac{180}{\\pi}\n",
    "$$\n",
    "\n",
    "$$\n",
    "\\large \n",
    "lat = \\left(2 * \\arctan{e^{\\frac{y}{R}}} - \\frac{\\pi}{2}\\right) * \\frac{180}{\\pi}\n",
    "$$\n",
    "\n",
    "где:\n",
    "\n",
    "* $R$ - экваториальный радиус Земли в метрах\n",
    "* $x$ - координата `x` из `EPSG:3857`\n",
    "* $y$ - координата `y` из `EPSG:3857`\n",
    "\n",
    "Вычисляем координаты вершит прямоугольника в сситеме `EPSG:4326`"
   ]
  },
  {
   "cell_type": "code",
   "execution_count": 11,
   "id": "a7678d34",
   "metadata": {
    "cellId": "0s7z9xb37nx7554bebxkjo"
   },
   "outputs": [],
   "source": [
    "def convertFromWebMercator(x, y):\n",
    "    #shift = pi * earthRadius;\n",
    "    lon   = (x / earthRadius) / radCoeff\n",
    "    lat   = (y / earthRadius) / radCoeff # y / shift * 180\n",
    "    lat   = 2 * math.atan(math.exp(lat * radCoeff)) - pi / 2.0;\n",
    "    lat   = lat / radCoeff\n",
    "    return lon, lat"
   ]
  },
  {
   "cell_type": "code",
   "execution_count": 12,
   "id": "be7d84ed",
   "metadata": {
    "cellId": "t2g1i9xti6m8dclm516ti"
   },
   "outputs": [
    {
     "data": {
      "text/plain": [
       "(40.28493839976292, 64.39746310015147, 40.836507299893995, 64.39746310015147)"
      ]
     },
     "execution_count": 12,
     "metadata": {},
     "output_type": "execute_result"
    }
   ],
   "source": [
    "lon1, lat1 = convertFromWebMercator(xmin, ymin)\n",
    "lon2, lat2 = convertFromWebMercator(xmax, ymin)\n",
    "\n",
    "lon1, lat1, lon2, lat2"
   ]
  },
  {
   "cell_type": "markdown",
   "id": "1adfb4e4",
   "metadata": {
    "cellId": "t9tztmx9qhs4z5nu41411q",
    "execution_id": "48e80435-601e-4f33-bc03-c2ac38f7f85f"
   },
   "source": [
    "### Расчёт дистанции между точками\n",
    "\n",
    "Расчёт фактического расстояния между точками на сферической поверхности.\n",
    "Алгоритм доступен [тут](https://code911.top/howto/how-to-transform-a-distance-from-degrees-to-metres).\n",
    "\n",
    "$$\n",
    "\\large\n",
    "\\Delta lat = (lat2 - lat1) * \\frac{\\pi}{180}\n",
    "$$\n",
    "\n",
    "$$\n",
    "\\large\n",
    "\\Delta lon = (lon2 - lon1) * \\frac{\\pi}{180}\n",
    "$$\n",
    "\n",
    "$$\n",
    "\\large\n",
    "distA =\n",
    "\\sin{\\left(\\frac{\\Delta lat}{2}\\right)}^2 +\n",
    "\\cos\\left({lat1 * \\frac{\\pi}{180}}\\right) *\n",
    "\\cos\\left({lat2 * \\frac{\\pi}{180}}\\right) *\n",
    "\\sin\\left({\\frac{\\Delta lon}{2}}\\right)^2\n",
    "$$\n",
    "\n",
    "$$\n",
    "\\large\n",
    "D_{meter} = 2R * \\arctan{\\frac{\\sqrt{distA}}{\\sqrt{1 - distA}}}\n",
    "$$\n",
    "\n",
    "где:\n",
    "\n",
    "* $R$ - экваториальный радиус Земли в метрах\n",
    "* $lat1$ - широта левой вешины\n",
    "* $lon1$ - долгота левой вешины\n",
    "* $lat2$ - широта правой вешины\n",
    "* $lon2$ - долгота левой вешины\n",
    "* $D_{meter}$ - фактическое расстояние в метрах"
   ]
  },
  {
   "cell_type": "code",
   "execution_count": 13,
   "id": "0a95e705",
   "metadata": {
    "cellId": "kd40x9vk2uevx02xx7bo7"
   },
   "outputs": [
    {
     "name": "stdout",
     "output_type": "stream",
     "text": [
      "Фактическое расстояние в километрах: 26.532592869453314\n"
     ]
    }
   ],
   "source": [
    "dLat = (lat2 - lat1) * radCoeff\n",
    "dLon = (lon2 - lon1) * radCoeff\n",
    "dist_a = pow(math.sin(dLat / 2), 2) + \\\n",
    "    math.cos(lat1 * radCoeff) * math.cos(lat2 * radCoeff) * \\\n",
    "    pow(math.sin(dLon / 2), 2);\n",
    "dist_c = 2 * math.atan2(math.sqrt(dist_a), math.sqrt(1 - dist_a))\n",
    "realDistanse = earthRadius * dist_c\n",
    "print ('Фактическое расстояние в километрах: {}'.format(realDistanse / 1000))"
   ]
  },
  {
   "cell_type": "markdown",
   "id": "981dc70a",
   "metadata": {
    "cellId": "qvh2n0krcaacmsglj4tw5m",
    "execution_id": "1c3c6add-3370-469a-be91-60cc6e20b08e"
   },
   "source": [
    "### Проверяем полученное расстояние\n",
    "\n",
    "Проверяем полученное расстояние с помощью `Yandex` карт.\n",
    "\n",
    "![RealDistans](img/realDistanse.png)"
   ]
  },
  {
   "cell_type": "markdown",
   "id": "5ed450ff",
   "metadata": {
    "cellId": "altr3vjll97dybd6fepfje",
    "execution_id": "1ec04387-5994-4714-9037-2964ffca2724"
   },
   "source": [
    "### Расчёт формального расстояния в `EPSG:3857`\n",
    "\n",
    "Расчёт формального расстояния между точками в `EPSG:3857`"
   ]
  },
  {
   "cell_type": "code",
   "execution_count": 14,
   "id": "2242c108",
   "metadata": {
    "cellId": "4oal1venuua4glhb37aouv"
   },
   "outputs": [
    {
     "name": "stdout",
     "output_type": "stream",
     "text": [
      "Формальное расстояние в EPSG:3857: 61400.369099996984\n"
     ]
    }
   ],
   "source": [
    "merkDistanse = (xmax - xmin)\n",
    "print ('Формальное расстояние в EPSG:3857: {}'.format(merkDistanse))"
   ]
  },
  {
   "cell_type": "markdown",
   "id": "735f49a9",
   "metadata": {
    "cellId": "7g02iym65dkezu0x2sejn",
    "execution_id": "8b4c09d4-e5bc-4ab7-be5e-8d5343a35580"
   },
   "source": [
    "### Расчёт коеффициента искажения"
   ]
  },
  {
   "cell_type": "code",
   "execution_count": 15,
   "id": "e262dbda",
   "metadata": {
    "cellId": "ckku77c7uj6hm50aaxrz5u"
   },
   "outputs": [
    {
     "name": "stdout",
     "output_type": "stream",
     "text": [
      "Коеффициент искажения: 2.314148843352832\n"
     ]
    }
   ],
   "source": [
    "unitCoeff = (xmax - xmin) / realDistanse\n",
    "print ('Коеффициент искажения: {}'.format(unitCoeff))"
   ]
  },
  {
   "cell_type": "markdown",
   "id": "4c04539e",
   "metadata": {
    "cellId": "0nc5huynylqegkxnwms56e",
    "execution_id": "f38533db-9c5b-49bb-a6c9-ab1bb8b1a210"
   },
   "source": [
    "### Построение шестиугольников\n",
    "\n",
    "Для [алгоритма](https://sabrinadchan.github.io/data-blog/building-a-hexagonal-cartogram.html)\n",
    "расчёта вершин фигур используем константу из формулы площади шестигранника:\n",
    "\n",
    "$$\n",
    "a = \\sin{\\left(\\frac{\\pi}{3}\\right)} = \\frac{\\sqrt{3}}{2}\n",
    "$$\n",
    "\n",
    "Площадь шестиугольника:\n",
    "\n",
    "$$\n",
    "S_{hexagon} = 3 * \\sin{\\left(\\frac{\\pi}{3}\\right)} * R^2\n",
    "$$\n",
    "\n",
    "![Hexagon](img/hexagon.png)\n",
    "\n",
    "$R$ - *большой* радиус, равен стороне шестиугольника\n",
    "\n",
    "Далее расчёт вершин фигуры:\n",
    "\n",
    "$A = (x, y * a)$\n",
    "\n",
    "$B = (x + R, y * a)$\n",
    "\n",
    "$C = (x + 1\\frac{1}{2}R, (y + R) * a)$\n",
    "\n",
    "$D = (x + R, (y + (2 * R)) * a)$\n",
    "\n",
    "$E = (x, (y + (2 * R)) * a))$\n",
    "\n",
    "$F = (x - (\\frac{1}{2} * R), (y + R) * a)$\n",
    "\n",
    "Где:\n",
    "\n",
    "$x$ - начальная координата `x`\n",
    "\n",
    "$y$ - начальная координата `y`"
   ]
  },
  {
   "cell_type": "code",
   "execution_count": 16,
   "id": "0f4b43fd",
   "metadata": {
    "cellId": "ur84uolf98glm98dz619f"
   },
   "outputs": [
    {
     "name": "stdout",
     "output_type": "stream",
     "text": [
      "(1764, 2)\n"
     ]
    },
    {
     "data": {
      "text/html": [
       "<div>\n",
       "<style scoped>\n",
       "    .dataframe tbody tr th:only-of-type {\n",
       "        vertical-align: middle;\n",
       "    }\n",
       "\n",
       "    .dataframe tbody tr th {\n",
       "        vertical-align: top;\n",
       "    }\n",
       "\n",
       "    .dataframe thead th {\n",
       "        text-align: right;\n",
       "    }\n",
       "</style>\n",
       "<table border=\"1\" class=\"dataframe\">\n",
       "  <thead>\n",
       "    <tr style=\"text-align: right;\">\n",
       "      <th></th>\n",
       "      <th>geometry</th>\n",
       "      <th>area</th>\n",
       "    </tr>\n",
       "  </thead>\n",
       "  <tbody>\n",
       "    <tr>\n",
       "      <th>0</th>\n",
       "      <td>POLYGON ((4484498.000 9451420.000, 4485655.074...</td>\n",
       "      <td>3.478360e+06</td>\n",
       "    </tr>\n",
       "    <tr>\n",
       "      <th>1</th>\n",
       "      <td>POLYGON ((4486233.612 9452422.056, 4487390.686...</td>\n",
       "      <td>3.478360e+06</td>\n",
       "    </tr>\n",
       "    <tr>\n",
       "      <th>2</th>\n",
       "      <td>POLYGON ((4484498.000 9453424.112, 4485655.074...</td>\n",
       "      <td>3.478360e+06</td>\n",
       "    </tr>\n",
       "  </tbody>\n",
       "</table>\n",
       "</div>"
      ],
      "text/plain": [
       "                                            geometry          area\n",
       "0  POLYGON ((4484498.000 9451420.000, 4485655.074...  3.478360e+06\n",
       "1  POLYGON ((4486233.612 9452422.056, 4487390.686...  3.478360e+06\n",
       "2  POLYGON ((4484498.000 9453424.112, 4485655.074...  3.478360e+06"
      ]
     },
     "execution_count": 16,
     "metadata": {},
     "output_type": "execute_result"
    }
   ],
   "source": [
    "# unit - размер стороны шестиугольника в системе Меркатора\n",
    "\n",
    "unit = hexagon_side * unitCoeff\n",
    "\n",
    "a = np.sin(np.pi / 3)\n",
    "cols = np.arange(np.floor(xmin), np.ceil(xmax), 3 * unit)\n",
    "rows = np.arange(np.floor(ymin) / a, np.ceil(ymax) / a, unit)\n",
    "\n",
    "hexagons = []\n",
    "for x in cols:\n",
    "  for i, y in enumerate(rows):\n",
    "    if (i % 2 == 0):\n",
    "      x0 = x\n",
    "    else:\n",
    "      x0 = x + 1.5 * unit\n",
    "\n",
    "    hexagons.append(Polygon([\n",
    "      (x0, y * a),\n",
    "      (x0 + unit, y * a),\n",
    "      (x0 + (1.5 * unit), (y + unit) * a),\n",
    "      (x0 + unit, (y + (2 * unit)) * a),\n",
    "      (x0, (y + (2 * unit)) * a),\n",
    "      (x0 - (0.5 * unit), (y + unit) * a),\n",
    "    ]))\n",
    "\n",
    "polygons_mesh = gpd.GeoDataFrame({'geometry': hexagons}, crs=arch.crs)\n",
    "polygons_mesh['area'] = polygons_mesh.area\n",
    "print(polygons_mesh.shape)\n",
    "polygons_mesh.head(3)"
   ]
  },
  {
   "cell_type": "code",
   "execution_count": 17,
   "id": "ecd98148",
   "metadata": {
    "cellId": "xv26plszo9m9vzcsz3d3i"
   },
   "outputs": [
    {
     "data": {
      "text/plain": [
       "<matplotlib.axes._subplots.AxesSubplot at 0x7f290aa91280>"
      ]
     },
     "execution_count": 17,
     "metadata": {},
     "output_type": "execute_result"
    },
    {
     "data": {
      "image/png": "[encoded data removed]",
      "text/plain": [
       "<Figure size 504x504 with 1 Axes>"
      ]
     },
     "metadata": {
      "needs_background": "light"
     },
     "output_type": "display_data"
    }
   ],
   "source": [
    "polygons_mesh[:10].plot(figsize=(7,7), facecolor=\"none\", edgecolor=\"black\")"
   ]
  },
  {
   "cell_type": "markdown",
   "id": "52386689",
   "metadata": {
    "cellId": "ftr6r0gxssrl5o30emyc5",
    "execution_id": "4fc5b9a6-b3cb-4473-bce8-2326d5a02d47"
   },
   "source": [
    "### Ограничеваем фигуры контуром населённого пункта"
   ]
  },
  {
   "cell_type": "code",
   "execution_count": 18,
   "id": "c774912a",
   "metadata": {
    "cellId": "2p20ytmbczdpt686iuzjif"
   },
   "outputs": [
    {
     "name": "stdout",
     "output_type": "stream",
     "text": [
      "Количество записей в начале\n",
      "1764\n",
      "После первого фильтра\n",
      "695\n",
      "После второго фильтра\n",
      "539\n"
     ]
    },
    {
     "data": {
      "text/html": [
       "<div>\n",
       "<style scoped>\n",
       "    .dataframe tbody tr th:only-of-type {\n",
       "        vertical-align: middle;\n",
       "    }\n",
       "\n",
       "    .dataframe tbody tr th {\n",
       "        vertical-align: top;\n",
       "    }\n",
       "\n",
       "    .dataframe thead th {\n",
       "        text-align: right;\n",
       "    }\n",
       "</style>\n",
       "<table border=\"1\" class=\"dataframe\">\n",
       "  <thead>\n",
       "    <tr style=\"text-align: right;\">\n",
       "      <th></th>\n",
       "      <th>geometry</th>\n",
       "    </tr>\n",
       "  </thead>\n",
       "  <tbody>\n",
       "    <tr>\n",
       "      <th>0</th>\n",
       "      <td>POLYGON ((4486233.612 9484487.843, 4487390.686...</td>\n",
       "    </tr>\n",
       "    <tr>\n",
       "      <th>1</th>\n",
       "      <td>POLYGON ((4484498.000 9485489.899, 4485655.074...</td>\n",
       "    </tr>\n",
       "    <tr>\n",
       "      <th>2</th>\n",
       "      <td>POLYGON ((4486233.612 9486491.955, 4487390.686...</td>\n",
       "    </tr>\n",
       "  </tbody>\n",
       "</table>\n",
       "</div>"
      ],
      "text/plain": [
       "                                            geometry\n",
       "0  POLYGON ((4486233.612 9484487.843, 4487390.686...\n",
       "1  POLYGON ((4484498.000 9485489.899, 4485655.074...\n",
       "2  POLYGON ((4486233.612 9486491.955, 4487390.686..."
      ]
     },
     "execution_count": 18,
     "metadata": {},
     "output_type": "execute_result"
    }
   ],
   "source": [
    "threashold=0.5\n",
    "city_geom = arch.iloc[0].geometry\n",
    "print('Количество записей в начале')\n",
    "print(polygons_mesh.shape[0])\n",
    "city_inter_geom = polygons_mesh[polygons_mesh.intersects(city_geom)]\n",
    "print('После первого фильтра')\n",
    "print(city_inter_geom.shape[0])\n",
    "city_values = city_inter_geom.geometry.values\n",
    "polys = []\n",
    "for geom in city_values:\n",
    "    if ((geom.intersection(city_geom)).area / geom.area) >= threashold:\n",
    "        polys.append(geom)\n",
    "city_polygons = gpd.GeoDataFrame(geometry=polys, crs=arch.crs)\n",
    "print('После второго фильтра')\n",
    "print(city_polygons.shape[0])\n",
    "city_polygons.head(3)"
   ]
  },
  {
   "cell_type": "markdown",
   "id": "eb4b6014",
   "metadata": {
    "cellId": "qs4r7vnk1nuxh6zunu3u",
    "execution_id": "e6428a58-13ae-46cc-936f-4e1781abfaa8"
   },
   "source": [
    "### Переводим в угловые координаты"
   ]
  },
  {
   "cell_type": "code",
   "execution_count": 19,
   "id": "a313a7a9",
   "metadata": {
    "cellId": "5tltppqpco6r5p0gdt74v"
   },
   "outputs": [
    {
     "data": {
      "text/html": [
       "<div>\n",
       "<style scoped>\n",
       "    .dataframe tbody tr th:only-of-type {\n",
       "        vertical-align: middle;\n",
       "    }\n",
       "\n",
       "    .dataframe tbody tr th {\n",
       "        vertical-align: top;\n",
       "    }\n",
       "\n",
       "    .dataframe thead th {\n",
       "        text-align: right;\n",
       "    }\n",
       "</style>\n",
       "<table border=\"1\" class=\"dataframe\">\n",
       "  <thead>\n",
       "    <tr style=\"text-align: right;\">\n",
       "      <th></th>\n",
       "      <th>geometry</th>\n",
       "    </tr>\n",
       "  </thead>\n",
       "  <tbody>\n",
       "    <tr>\n",
       "      <th>0</th>\n",
       "      <td>POLYGON ((40.30052 64.52552, 40.31092 64.52552...</td>\n",
       "    </tr>\n",
       "    <tr>\n",
       "      <th>1</th>\n",
       "      <td>POLYGON ((40.28493 64.52940, 40.29533 64.52940...</td>\n",
       "    </tr>\n",
       "    <tr>\n",
       "      <th>2</th>\n",
       "      <td>POLYGON ((40.30052 64.53327, 40.31092 64.53327...</td>\n",
       "    </tr>\n",
       "  </tbody>\n",
       "</table>\n",
       "</div>"
      ],
      "text/plain": [
       "                                            geometry\n",
       "0  POLYGON ((40.30052 64.52552, 40.31092 64.52552...\n",
       "1  POLYGON ((40.28493 64.52940, 40.29533 64.52940...\n",
       "2  POLYGON ((40.30052 64.53327, 40.31092 64.53327..."
      ]
     },
     "execution_count": 19,
     "metadata": {},
     "output_type": "execute_result"
    }
   ],
   "source": [
    "city_polygons_wgs84 = city_polygons.to_crs('WGS84')\n",
    "city_polygons_wgs84.head(3)"
   ]
  },
  {
   "cell_type": "code",
   "execution_count": 20,
   "id": "3fada740",
   "metadata": {
    "cellId": "9lttdw9kgj85itxz60m55"
   },
   "outputs": [
    {
     "data": {
      "text/html": [
       "<div>\n",
       "<style scoped>\n",
       "    .dataframe tbody tr th:only-of-type {\n",
       "        vertical-align: middle;\n",
       "    }\n",
       "\n",
       "    .dataframe tbody tr th {\n",
       "        vertical-align: top;\n",
       "    }\n",
       "\n",
       "    .dataframe thead th {\n",
       "        text-align: right;\n",
       "    }\n",
       "</style>\n",
       "<table border=\"1\" class=\"dataframe\">\n",
       "  <thead>\n",
       "    <tr style=\"text-align: right;\">\n",
       "      <th></th>\n",
       "      <th>geometry</th>\n",
       "    </tr>\n",
       "  </thead>\n",
       "  <tbody>\n",
       "    <tr>\n",
       "      <th>0</th>\n",
       "      <td>[[[64.52552395570376, 40.30052221460209], [64....</td>\n",
       "    </tr>\n",
       "    <tr>\n",
       "      <th>1</th>\n",
       "      <td>[[[64.52939535902327, 40.28493095003426], [64....</td>\n",
       "    </tr>\n",
       "    <tr>\n",
       "      <th>2</th>\n",
       "      <td>[[[64.5332662132697, 40.30052221460209], [64.5...</td>\n",
       "    </tr>\n",
       "  </tbody>\n",
       "</table>\n",
       "</div>"
      ],
      "text/plain": [
       "                                            geometry\n",
       "0  [[[64.52552395570376, 40.30052221460209], [64....\n",
       "1  [[[64.52939535902327, 40.28493095003426], [64....\n",
       "2  [[[64.5332662132697, 40.30052221460209], [64.5..."
      ]
     },
     "execution_count": 20,
     "metadata": {},
     "output_type": "execute_result"
    }
   ],
   "source": [
    "all_res = []\n",
    "\n",
    "for _, row in city_polygons_wgs84.iterrows():\n",
    "    polygon = row.geometry\n",
    "    x, y = polygon.exterior.xy\n",
    "    pairs = zip(x, y)\n",
    "    coords = []\n",
    "    for pair in pairs:\n",
    "        coords.append([pair[1], pair[0]])\n",
    "    obj = {}\n",
    "    obj['geometry'] = [coords]\n",
    "    all_res.append(obj)\n",
    "    \n",
    "city_polygons_dl = pd.DataFrame(all_res)\n",
    "city_polygons_dl.head(3)"
   ]
  },
  {
   "cell_type": "markdown",
   "id": "8025f95e",
   "metadata": {
    "cellId": "welzqbevjsqszz55xr3p5b",
    "execution_id": "6895ffcf-b228-4580-bb4f-df85db583a6e"
   },
   "source": [
    "### Интегрируем в DataLens"
   ]
  },
  {
   "cell_type": "code",
   "execution_count": 21,
   "id": "638e8bd4",
   "metadata": {
    "cellId": "059wddez54z86orce7rx7i"
   },
   "outputs": [],
   "source": [
    "city_polygons_dl.to_csv('data/polygons_lens.csv', index=False)"
   ]
  },
  {
   "cell_type": "markdown",
   "id": "ad9f7fec",
   "metadata": {
    "cellId": "5bh2dhwk5jrxtiubw657vf",
    "execution_id": "108d227a-4fbc-4a2b-8654-58a03432c754"
   },
   "source": [
    "### Сверяем\n",
    "\n",
    "Фигура в `DataLens`\n",
    "\n",
    "![BoryLens](img/boryLens.png)\n",
    "\n",
    "Соответствие со стороной полигона на карте `Yandex`\n",
    "\n",
    "![BoryMaps](img/boryMaps.png)"
   ]
  },
  {
   "cell_type": "code",
   "execution_count": 22,
   "id": "db3c1249",
   "metadata": {
    "cellId": "o5gm4c4my1zejounfg5v"
   },
   "outputs": [],
   "source": []
  }
 ],
 "metadata": {
  "language_info": {
   "codemirror_mode": {
    "name": "ipython",
    "version": 3
   },
   "file_extension": ".py",
   "mimetype": "text/x-python",
   "name": "python",
   "nbconvert_exporter": "python",
   "pygments_lexer": "ipython3",
   "version": "3.7.7"
  },
  "notebookId": "67bbfc2c-ae5d-42fa-a99d-244f494f1c27",
  "notebookPath": "NorthGate/Notebooks/Polygons.ipynb"
 },
 "nbformat": 4,
 "nbformat_minor": 5
}
