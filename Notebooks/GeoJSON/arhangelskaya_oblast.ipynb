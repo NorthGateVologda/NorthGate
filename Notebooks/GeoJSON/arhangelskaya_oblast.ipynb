{
 "cells": [
  {
   "cell_type": "code",
   "execution_count": 42,
   "id": "2d586920",
   "metadata": {},
   "outputs": [],
   "source": [
    "import geopandas as gpd\n",
    "import pandas as pd"
   ]
  },
  {
   "cell_type": "code",
   "execution_count": 43,
   "id": "ddc06ea7",
   "metadata": {},
   "outputs": [
    {
     "data": {
      "text/html": [
       "<div>\n",
       "<style scoped>\n",
       "    .dataframe tbody tr th:only-of-type {\n",
       "        vertical-align: middle;\n",
       "    }\n",
       "\n",
       "    .dataframe tbody tr th {\n",
       "        vertical-align: top;\n",
       "    }\n",
       "\n",
       "    .dataframe thead th {\n",
       "        text-align: right;\n",
       "    }\n",
       "</style>\n",
       "<table border=\"1\" class=\"dataframe\">\n",
       "  <thead>\n",
       "    <tr style=\"text-align: right;\">\n",
       "      <th></th>\n",
       "      <th>region</th>\n",
       "      <th>id_full</th>\n",
       "      <th>level</th>\n",
       "      <th>type</th>\n",
       "      <th>name</th>\n",
       "      <th>id</th>\n",
       "      <th>geometry</th>\n",
       "    </tr>\n",
       "  </thead>\n",
       "  <tbody>\n",
       "    <tr>\n",
       "      <th>0</th>\n",
       "      <td>Архангельская область</td>\n",
       "      <td>3</td>\n",
       "      <td>2</td>\n",
       "      <td>Область</td>\n",
       "      <td>Архангельская</td>\n",
       "      <td>144105</td>\n",
       "      <td>MULTIPOLYGON (((6752340.851 16757142.533, 6747...</td>\n",
       "    </tr>\n",
       "  </tbody>\n",
       "</table>\n",
       "</div>"
      ],
      "text/plain": [
       "                  region  id_full  level     type           name      id  \\\n",
       "0  Архангельская область        3      2  Область  Архангельская  144105   \n",
       "\n",
       "                                            geometry  \n",
       "0  MULTIPOLYGON (((6752340.851 16757142.533, 6747...  "
      ]
     },
     "execution_count": 43,
     "metadata": {},
     "output_type": "execute_result"
    }
   ],
   "source": [
    "arhangelskaya_oblast = gpd.read_file('data/arhangelskaya_oblast.geojson')\n",
    "data = arhangelskaya_oblast\n",
    "data"
   ]
  },
  {
   "cell_type": "code",
   "execution_count": 44,
   "id": "d39f45f4",
   "metadata": {},
   "outputs": [
    {
     "name": "stdout",
     "output_type": "stream",
     "text": [
      "WGS 84 / Pseudo-Mercator\n",
      "WGS 84\n"
     ]
    },
    {
     "data": {
      "text/html": [
       "<div>\n",
       "<style scoped>\n",
       "    .dataframe tbody tr th:only-of-type {\n",
       "        vertical-align: middle;\n",
       "    }\n",
       "\n",
       "    .dataframe tbody tr th {\n",
       "        vertical-align: top;\n",
       "    }\n",
       "\n",
       "    .dataframe thead th {\n",
       "        text-align: right;\n",
       "    }\n",
       "</style>\n",
       "<table border=\"1\" class=\"dataframe\">\n",
       "  <thead>\n",
       "    <tr style=\"text-align: right;\">\n",
       "      <th></th>\n",
       "      <th>region</th>\n",
       "      <th>id_full</th>\n",
       "      <th>level</th>\n",
       "      <th>type</th>\n",
       "      <th>name</th>\n",
       "      <th>id</th>\n",
       "      <th>geometry</th>\n",
       "    </tr>\n",
       "  </thead>\n",
       "  <tbody>\n",
       "    <tr>\n",
       "      <th>0</th>\n",
       "      <td>Архангельская область</td>\n",
       "      <td>3</td>\n",
       "      <td>2</td>\n",
       "      <td>Область</td>\n",
       "      <td>Архангельская</td>\n",
       "      <td>144105</td>\n",
       "      <td>MULTIPOLYGON (((60.65731 81.73228, 60.61781 81...</td>\n",
       "    </tr>\n",
       "  </tbody>\n",
       "</table>\n",
       "</div>"
      ],
      "text/plain": [
       "                  region  id_full  level     type           name      id  \\\n",
       "0  Архангельская область        3      2  Область  Архангельская  144105   \n",
       "\n",
       "                                            geometry  \n",
       "0  MULTIPOLYGON (((60.65731 81.73228, 60.61781 81...  "
      ]
     },
     "execution_count": 44,
     "metadata": {},
     "output_type": "execute_result"
    }
   ],
   "source": [
    "print (data.crs.name)\n",
    "data = data.to_crs('WGS84')\n",
    "print(data.crs.name)\n",
    "arhangelskaya_oblast = data\n",
    "data.head(3)"
   ]
  },
  {
   "cell_type": "code",
   "execution_count": 45,
   "id": "830087d0",
   "metadata": {},
   "outputs": [
    {
     "data": {
      "text/plain": [
       "<AxesSubplot:>"
      ]
     },
     "execution_count": 45,
     "metadata": {},
     "output_type": "execute_result"
    },
    {
     "data": {
      "image/png": "[encoded data removed]",
      "text/plain": [
       "<Figure size 720x720 with 1 Axes>"
      ]
     },
     "metadata": {
      "needs_background": "light"
     },
     "output_type": "display_data"
    }
   ],
   "source": [
    "data.plot(figsize=(10,10))"
   ]
  },
  {
   "cell_type": "code",
   "execution_count": 53,
   "id": "ebe52750",
   "metadata": {},
   "outputs": [
    {
     "data": {
      "text/html": [
       "<div>\n",
       "<style scoped>\n",
       "    .dataframe tbody tr th:only-of-type {\n",
       "        vertical-align: middle;\n",
       "    }\n",
       "\n",
       "    .dataframe tbody tr th {\n",
       "        vertical-align: top;\n",
       "    }\n",
       "\n",
       "    .dataframe thead th {\n",
       "        text-align: right;\n",
       "    }\n",
       "</style>\n",
       "<table border=\"1\" class=\"dataframe\">\n",
       "  <thead>\n",
       "    <tr style=\"text-align: right;\">\n",
       "      <th></th>\n",
       "      <th>id</th>\n",
       "      <th>region</th>\n",
       "      <th>type</th>\n",
       "      <th>name</th>\n",
       "      <th>geometry</th>\n",
       "    </tr>\n",
       "  </thead>\n",
       "  <tbody>\n",
       "    <tr>\n",
       "      <th>0</th>\n",
       "      <td>144105</td>\n",
       "      <td>Архангельская область</td>\n",
       "      <td>Область</td>\n",
       "      <td>0</td>\n",
       "      <td>[[[81.73228389994497, 60.657309900379154], [81...</td>\n",
       "    </tr>\n",
       "  </tbody>\n",
       "</table>\n",
       "</div>"
      ],
      "text/plain": [
       "       id                 region     type  name  \\\n",
       "0  144105  Архангельская область  Область     0   \n",
       "\n",
       "                                            geometry  \n",
       "0  [[[81.73228389994497, 60.657309900379154], [81...  "
      ]
     },
     "execution_count": 53,
     "metadata": {},
     "output_type": "execute_result"
    }
   ],
   "source": [
    "all_res = []\n",
    "\n",
    "def convert(objectid):\n",
    "    obj = data[data.id == objectid]\n",
    "    for _, row in obj.iterrows():\n",
    "        seq = row.geometry.geoms\n",
    "        polygons = []\n",
    "        for polygon in seq:\n",
    "            x, y = polygon.exterior.xy\n",
    "            pairs = zip(x, y)\n",
    "            coords = []\n",
    "            for pair in pairs:\n",
    "                coords.append([pair[1], pair[0]])\n",
    "            polygons.append(coords)\n",
    "        obj = {}\n",
    "        obj['id'] = objectid\n",
    "        obj['region'] = row.region\n",
    "        obj['type'] = row.type\n",
    "        obj['name'] = row.name\n",
    "        obj['geometry'] = polygons\n",
    "\n",
    "        all_res.append(obj)\n",
    "\n",
    "data = arhangelskaya_oblast\n",
    "objectids = data.id\n",
    "for objectid in objectids:\n",
    "    convert(objectid)\n",
    "\n",
    "arhangelskaya_oblast_df = pd.DataFrame(all_res)\n",
    "data = arhangelskaya_oblast_df\n",
    "data"
   ]
  },
  {
   "cell_type": "code",
   "execution_count": 54,
   "id": "40037aa5",
   "metadata": {},
   "outputs": [],
   "source": [
    "data.to_csv('data/arhangelskaya_oblast_lense.csv', index=False)"
   ]
  },
  {
   "cell_type": "code",
   "execution_count": null,
   "id": "2eef0339",
   "metadata": {},
   "outputs": [],
   "source": []
  }
 ],
 "metadata": {
  "kernelspec": {
   "display_name": "Python 3 (ipykernel)",
   "language": "python",
   "name": "python3"
  },
  "language_info": {
   "codemirror_mode": {
    "name": "ipython",
    "version": 3
   },
   "file_extension": ".py",
   "mimetype": "text/x-python",
   "name": "python",
   "nbconvert_exporter": "python",
   "pygments_lexer": "ipython3",
   "version": "3.11.4"
  }
 },
 "nbformat": 4,
 "nbformat_minor": 5
}
