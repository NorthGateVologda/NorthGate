{
 "cells": [
  {
   "cell_type": "code",
   "execution_count": 1,
   "id": "2d586920",
   "metadata": {},
   "outputs": [],
   "source": [
    "import geopandas as gpd\n",
    "import pandas as pd"
   ]
  },
  {
   "cell_type": "code",
   "execution_count": 7,
   "id": "c77ab951",
   "metadata": {},
   "outputs": [],
   "source": [
    "buildings = gpd.read_file('data/buildings.geojson')"
   ]
  },
  {
   "cell_type": "code",
   "execution_count": 8,
   "id": "41dfb556",
   "metadata": {},
   "outputs": [
    {
     "data": {
      "text/html": [
       "<div>\n",
       "<style scoped>\n",
       "    .dataframe tbody tr th:only-of-type {\n",
       "        vertical-align: middle;\n",
       "    }\n",
       "\n",
       "    .dataframe tbody tr th {\n",
       "        vertical-align: top;\n",
       "    }\n",
       "\n",
       "    .dataframe thead th {\n",
       "        text-align: right;\n",
       "    }\n",
       "</style>\n",
       "<table border=\"1\" class=\"dataframe\">\n",
       "  <thead>\n",
       "    <tr style=\"text-align: right;\">\n",
       "      <th></th>\n",
       "      <th>id</th>\n",
       "      <th>city</th>\n",
       "      <th>year</th>\n",
       "      <th>geometry</th>\n",
       "    </tr>\n",
       "  </thead>\n",
       "  <tbody>\n",
       "    <tr>\n",
       "      <th>0</th>\n",
       "      <td>3600851</td>\n",
       "      <td>г. Архангельск</td>\n",
       "      <td>1972</td>\n",
       "      <td>POINT (4500192.491 9488394.583)</td>\n",
       "    </tr>\n",
       "    <tr>\n",
       "      <th>1</th>\n",
       "      <td>3600852</td>\n",
       "      <td>г. Архангельск</td>\n",
       "      <td>1971</td>\n",
       "      <td>POINT (4500308.835 9488520.679)</td>\n",
       "    </tr>\n",
       "    <tr>\n",
       "      <th>2</th>\n",
       "      <td>3600853</td>\n",
       "      <td>г. Архангельск</td>\n",
       "      <td>1974</td>\n",
       "      <td>POINT (4500297.482 9488325.283)</td>\n",
       "    </tr>\n",
       "  </tbody>\n",
       "</table>\n",
       "</div>"
      ],
      "text/plain": [
       "        id            city  year                         geometry\n",
       "0  3600851  г. Архангельск  1972  POINT (4500192.491 9488394.583)\n",
       "1  3600852  г. Архангельск  1971  POINT (4500308.835 9488520.679)\n",
       "2  3600853  г. Архангельск  1974  POINT (4500297.482 9488325.283)"
      ]
     },
     "execution_count": 8,
     "metadata": {},
     "output_type": "execute_result"
    }
   ],
   "source": [
    "data = buildings\n",
    "data.head(3)"
   ]
  },
  {
   "cell_type": "code",
   "execution_count": 9,
   "id": "2a549a97",
   "metadata": {},
   "outputs": [
    {
     "name": "stdout",
     "output_type": "stream",
     "text": [
      "WGS 84 / Pseudo-Mercator\n",
      "WGS 84\n"
     ]
    },
    {
     "data": {
      "text/html": [
       "<div>\n",
       "<style scoped>\n",
       "    .dataframe tbody tr th:only-of-type {\n",
       "        vertical-align: middle;\n",
       "    }\n",
       "\n",
       "    .dataframe tbody tr th {\n",
       "        vertical-align: top;\n",
       "    }\n",
       "\n",
       "    .dataframe thead th {\n",
       "        text-align: right;\n",
       "    }\n",
       "</style>\n",
       "<table border=\"1\" class=\"dataframe\">\n",
       "  <thead>\n",
       "    <tr style=\"text-align: right;\">\n",
       "      <th></th>\n",
       "      <th>id</th>\n",
       "      <th>city</th>\n",
       "      <th>year</th>\n",
       "      <th>geometry</th>\n",
       "    </tr>\n",
       "  </thead>\n",
       "  <tbody>\n",
       "    <tr>\n",
       "      <th>0</th>\n",
       "      <td>3600851</td>\n",
       "      <td>г. Архангельск</td>\n",
       "      <td>1972</td>\n",
       "      <td>POINT (40.42592 64.54061)</td>\n",
       "    </tr>\n",
       "    <tr>\n",
       "      <th>1</th>\n",
       "      <td>3600852</td>\n",
       "      <td>г. Архангельск</td>\n",
       "      <td>1971</td>\n",
       "      <td>POINT (40.42696 64.54110)</td>\n",
       "    </tr>\n",
       "    <tr>\n",
       "      <th>2</th>\n",
       "      <td>3600853</td>\n",
       "      <td>г. Архангельск</td>\n",
       "      <td>1974</td>\n",
       "      <td>POINT (40.42686 64.54035)</td>\n",
       "    </tr>\n",
       "  </tbody>\n",
       "</table>\n",
       "</div>"
      ],
      "text/plain": [
       "        id            city  year                   geometry\n",
       "0  3600851  г. Архангельск  1972  POINT (40.42592 64.54061)\n",
       "1  3600852  г. Архангельск  1971  POINT (40.42696 64.54110)\n",
       "2  3600853  г. Архангельск  1974  POINT (40.42686 64.54035)"
      ]
     },
     "execution_count": 9,
     "metadata": {},
     "output_type": "execute_result"
    }
   ],
   "source": [
    "print (data.crs.name)\n",
    "data = data.to_crs('WGS84')\n",
    "print(data.crs.name)\n",
    "buildings = data\n",
    "data.head(3)"
   ]
  },
  {
   "cell_type": "code",
   "execution_count": 5,
   "id": "8c1e2aa7",
   "metadata": {},
   "outputs": [
    {
     "data": {
      "text/plain": [
       "<AxesSubplot:>"
      ]
     },
     "execution_count": 5,
     "metadata": {},
     "output_type": "execute_result"
    },
    {
     "data": {
      "image/png": "[encoded data removed]",
      "text/plain": [
       "<Figure size 720x720 with 1 Axes>"
      ]
     },
     "metadata": {
      "needs_background": "light"
     },
     "output_type": "display_data"
    }
   ],
   "source": [
    "data.plot(figsize=(10,10))"
   ]
  },
  {
   "cell_type": "code",
   "execution_count": 6,
   "id": "7136d912",
   "metadata": {},
   "outputs": [
    {
     "data": {
      "text/html": [
       "<div>\n",
       "<style scoped>\n",
       "    .dataframe tbody tr th:only-of-type {\n",
       "        vertical-align: middle;\n",
       "    }\n",
       "\n",
       "    .dataframe tbody tr th {\n",
       "        vertical-align: top;\n",
       "    }\n",
       "\n",
       "    .dataframe thead th {\n",
       "        text-align: right;\n",
       "    }\n",
       "</style>\n",
       "<table border=\"1\" class=\"dataframe\">\n",
       "  <thead>\n",
       "    <tr style=\"text-align: right;\">\n",
       "      <th></th>\n",
       "      <th>id</th>\n",
       "      <th>city</th>\n",
       "      <th>year</th>\n",
       "      <th>geometry</th>\n",
       "    </tr>\n",
       "  </thead>\n",
       "  <tbody>\n",
       "    <tr>\n",
       "      <th>0</th>\n",
       "      <td>3600851</td>\n",
       "      <td>г. Архангельск</td>\n",
       "      <td>1972</td>\n",
       "      <td>POINT (40.42592 64.54061)</td>\n",
       "    </tr>\n",
       "  </tbody>\n",
       "</table>\n",
       "</div>"
      ],
      "text/plain": [
       "        id            city  year                   geometry\n",
       "0  3600851  г. Архангельск  1972  POINT (40.42592 64.54061)"
      ]
     },
     "execution_count": 6,
     "metadata": {},
     "output_type": "execute_result"
    }
   ],
   "source": [
    "data[data.id == 3600851]"
   ]
  },
  {
   "cell_type": "code",
   "execution_count": 14,
   "id": "e4e7341a",
   "metadata": {},
   "outputs": [
    {
     "data": {
      "text/html": [
       "<div>\n",
       "<style scoped>\n",
       "    .dataframe tbody tr th:only-of-type {\n",
       "        vertical-align: middle;\n",
       "    }\n",
       "\n",
       "    .dataframe tbody tr th {\n",
       "        vertical-align: top;\n",
       "    }\n",
       "\n",
       "    .dataframe thead th {\n",
       "        text-align: right;\n",
       "    }\n",
       "</style>\n",
       "<table border=\"1\" class=\"dataframe\">\n",
       "  <thead>\n",
       "    <tr style=\"text-align: right;\">\n",
       "      <th></th>\n",
       "      <th>id</th>\n",
       "      <th>city</th>\n",
       "      <th>year</th>\n",
       "      <th>geometry</th>\n",
       "    </tr>\n",
       "  </thead>\n",
       "  <tbody>\n",
       "    <tr>\n",
       "      <th>0</th>\n",
       "      <td>3600851</td>\n",
       "      <td>г. Архангельск</td>\n",
       "      <td>1972</td>\n",
       "      <td>[64.54061438983302, 40.425916959655396]</td>\n",
       "    </tr>\n",
       "    <tr>\n",
       "      <th>1</th>\n",
       "      <td>3600852</td>\n",
       "      <td>г. Архангельск</td>\n",
       "      <td>1971</td>\n",
       "      <td>[64.5411013195515, 40.426962100081106]</td>\n",
       "    </tr>\n",
       "    <tr>\n",
       "      <th>2</th>\n",
       "      <td>3600853</td>\n",
       "      <td>г. Архангельск</td>\n",
       "      <td>1974</td>\n",
       "      <td>[64.54034678012545, 40.426860110753644]</td>\n",
       "    </tr>\n",
       "    <tr>\n",
       "      <th>3</th>\n",
       "      <td>3600854</td>\n",
       "      <td>г. Архангельск</td>\n",
       "      <td>1983</td>\n",
       "      <td>[64.5402153397441, 40.42570553037348]</td>\n",
       "    </tr>\n",
       "    <tr>\n",
       "      <th>4</th>\n",
       "      <td>3600855</td>\n",
       "      <td>г. Архангельск</td>\n",
       "      <td>1984</td>\n",
       "      <td>[64.53989847983806, 40.4268225099708]</td>\n",
       "    </tr>\n",
       "    <tr>\n",
       "      <th>...</th>\n",
       "      <td>...</td>\n",
       "      <td>...</td>\n",
       "      <td>...</td>\n",
       "      <td>...</td>\n",
       "    </tr>\n",
       "    <tr>\n",
       "      <th>9599</th>\n",
       "      <td>3698034</td>\n",
       "      <td>г. Архангельск</td>\n",
       "      <td>0</td>\n",
       "      <td>[64.41810803107242, 40.60122290617863]</td>\n",
       "    </tr>\n",
       "    <tr>\n",
       "      <th>9600</th>\n",
       "      <td>3698035</td>\n",
       "      <td>г. Архангельск</td>\n",
       "      <td>0</td>\n",
       "      <td>[64.41877306702328, 40.60369002130863]</td>\n",
       "    </tr>\n",
       "    <tr>\n",
       "      <th>9601</th>\n",
       "      <td>3698036</td>\n",
       "      <td>г. Архангельск</td>\n",
       "      <td>0</td>\n",
       "      <td>[64.4165623751895, 40.600623953564636]</td>\n",
       "    </tr>\n",
       "    <tr>\n",
       "      <th>9602</th>\n",
       "      <td>3698037</td>\n",
       "      <td>г. Архангельск</td>\n",
       "      <td>0</td>\n",
       "      <td>[64.41585417711335, 40.602848635857335]</td>\n",
       "    </tr>\n",
       "    <tr>\n",
       "      <th>9603</th>\n",
       "      <td>3698038</td>\n",
       "      <td>г. Архангельск</td>\n",
       "      <td>0</td>\n",
       "      <td>[64.41653158441645, 40.60165072973102]</td>\n",
       "    </tr>\n",
       "  </tbody>\n",
       "</table>\n",
       "<p>9604 rows × 4 columns</p>\n",
       "</div>"
      ],
      "text/plain": [
       "           id            city  year                                 geometry\n",
       "0     3600851  г. Архангельск  1972  [64.54061438983302, 40.425916959655396]\n",
       "1     3600852  г. Архангельск  1971   [64.5411013195515, 40.426962100081106]\n",
       "2     3600853  г. Архангельск  1974  [64.54034678012545, 40.426860110753644]\n",
       "3     3600854  г. Архангельск  1983    [64.5402153397441, 40.42570553037348]\n",
       "4     3600855  г. Архангельск  1984    [64.53989847983806, 40.4268225099708]\n",
       "...       ...             ...   ...                                      ...\n",
       "9599  3698034  г. Архангельск     0   [64.41810803107242, 40.60122290617863]\n",
       "9600  3698035  г. Архангельск     0   [64.41877306702328, 40.60369002130863]\n",
       "9601  3698036  г. Архангельск     0   [64.4165623751895, 40.600623953564636]\n",
       "9602  3698037  г. Архангельск     0  [64.41585417711335, 40.602848635857335]\n",
       "9603  3698038  г. Архангельск     0   [64.41653158441645, 40.60165072973102]\n",
       "\n",
       "[9604 rows x 4 columns]"
      ]
     },
     "execution_count": 14,
     "metadata": {},
     "output_type": "execute_result"
    }
   ],
   "source": [
    "all_res = []\n",
    "\n",
    "def convert(objectid):\n",
    "    obj = data[data.id == objectid]\n",
    "    for _, row in obj.iterrows():\n",
    "        geo = row.geometry\n",
    "\n",
    "        obj = {}\n",
    "        obj['id'] = objectid\n",
    "        obj['city'] = row.city\n",
    "        obj['year'] = row.year\n",
    "        obj['geometry'] = [geo.y, geo.x]\n",
    "\n",
    "        all_res.append(obj)\n",
    "\n",
    "data = buildings\n",
    "objectids = data.id\n",
    "#objectids = [ 3600851 ]\n",
    "for objectid in objectids:\n",
    "    convert(objectid)\n",
    "\n",
    "buildings_df = pd.DataFrame(all_res)\n",
    "data = buildings_df\n",
    "data"
   ]
  },
  {
   "cell_type": "code",
   "execution_count": 15,
   "id": "5224d413",
   "metadata": {},
   "outputs": [],
   "source": [
    "data.to_csv('data/buildings_lense.csv', index=False)"
   ]
  },
  {
   "cell_type": "code",
   "execution_count": null,
   "id": "d39f45f4",
   "metadata": {},
   "outputs": [],
   "source": []
  }
 ],
 "metadata": {
  "kernelspec": {
   "display_name": "Python 3 (ipykernel)",
   "language": "python",
   "name": "python3"
  },
  "language_info": {
   "codemirror_mode": {
    "name": "ipython",
    "version": 3
   },
   "file_extension": ".py",
   "mimetype": "text/x-python",
   "name": "python",
   "nbconvert_exporter": "python",
   "pygments_lexer": "ipython3",
   "version": "3.9.9"
  }
 },
 "nbformat": 4,
 "nbformat_minor": 5
}
