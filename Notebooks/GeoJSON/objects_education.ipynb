{
 "cells": [
  {
   "cell_type": "code",
   "execution_count": 1,
   "id": "2d586920",
   "metadata": {},
   "outputs": [],
   "source": [
    "import geopandas as gpd\n",
    "import pandas as pd"
   ]
  },
  {
   "cell_type": "code",
   "execution_count": 2,
   "id": "c77ab951",
   "metadata": {},
   "outputs": [],
   "source": [
    "objects_education = gpd.read_file('data/objects_education.geojson')"
   ]
  },
  {
   "cell_type": "code",
   "execution_count": 3,
   "id": "41dfb556",
   "metadata": {},
   "outputs": [
    {
     "data": {
      "text/html": [
       "<div>\n",
       "<style scoped>\n",
       "    .dataframe tbody tr th:only-of-type {\n",
       "        vertical-align: middle;\n",
       "    }\n",
       "\n",
       "    .dataframe tbody tr th {\n",
       "        vertical-align: top;\n",
       "    }\n",
       "\n",
       "    .dataframe thead th {\n",
       "        text-align: right;\n",
       "    }\n",
       "</style>\n",
       "<table border=\"1\" class=\"dataframe\">\n",
       "  <thead>\n",
       "    <tr style=\"text-align: right;\">\n",
       "      <th></th>\n",
       "      <th>id</th>\n",
       "      <th>name</th>\n",
       "      <th>city</th>\n",
       "      <th>street</th>\n",
       "      <th>house</th>\n",
       "      <th>post</th>\n",
       "      <th>x</th>\n",
       "      <th>y</th>\n",
       "      <th>geometry</th>\n",
       "    </tr>\n",
       "  </thead>\n",
       "  <tbody>\n",
       "    <tr>\n",
       "      <th>0</th>\n",
       "      <td>224</td>\n",
       "      <td>Северный (Арктический) федеральный университет...</td>\n",
       "      <td>Северодвинск (Северодвинск городской округ)</td>\n",
       "      <td>Карла Маркса</td>\n",
       "      <td>36а</td>\n",
       "      <td>164512</td>\n",
       "      <td>39.780599</td>\n",
       "      <td>64.557914</td>\n",
       "      <td>POINT (4428356.041 9492875.908)</td>\n",
       "    </tr>\n",
       "    <tr>\n",
       "      <th>1</th>\n",
       "      <td>275</td>\n",
       "      <td>Средняя школа №23 им. А.С. Пушкина</td>\n",
       "      <td>Архангельск</td>\n",
       "      <td>Федота Шубина</td>\n",
       "      <td>7 к1</td>\n",
       "      <td>163001</td>\n",
       "      <td>40.525761</td>\n",
       "      <td>64.557264</td>\n",
       "      <td>POINT (4511307.126 9492707.399)</td>\n",
       "    </tr>\n",
       "    <tr>\n",
       "      <th>2</th>\n",
       "      <td>1874</td>\n",
       "      <td>Архангельский областной институт открытого обр...</td>\n",
       "      <td>Архангельск</td>\n",
       "      <td>Ломоносова проспект</td>\n",
       "      <td>270</td>\n",
       "      <td>163001</td>\n",
       "      <td>40.535336</td>\n",
       "      <td>64.559314</td>\n",
       "      <td>POINT (4512372.960 9493238.741)</td>\n",
       "    </tr>\n",
       "  </tbody>\n",
       "</table>\n",
       "</div>"
      ],
      "text/plain": [
       "     id                                               name  \\\n",
       "0   224  Северный (Арктический) федеральный университет...   \n",
       "1   275                 Средняя школа №23 им. А.С. Пушкина   \n",
       "2  1874  Архангельский областной институт открытого обр...   \n",
       "\n",
       "                                          city               street house  \\\n",
       "0  Северодвинск (Северодвинск городской округ)         Карла Маркса   36а   \n",
       "1                                  Архангельск        Федота Шубина  7 к1   \n",
       "2                                  Архангельск  Ломоносова проспект   270   \n",
       "\n",
       "     post          x          y                         geometry  \n",
       "0  164512  39.780599  64.557914  POINT (4428356.041 9492875.908)  \n",
       "1  163001  40.525761  64.557264  POINT (4511307.126 9492707.399)  \n",
       "2  163001  40.535336  64.559314  POINT (4512372.960 9493238.741)  "
      ]
     },
     "execution_count": 3,
     "metadata": {},
     "output_type": "execute_result"
    }
   ],
   "source": [
    "data = objects_education\n",
    "data.head(3)"
   ]
  },
  {
   "cell_type": "code",
   "execution_count": 4,
   "id": "2a549a97",
   "metadata": {},
   "outputs": [
    {
     "data": {
      "text/plain": [
       "'WGS 84 / Pseudo-Mercator'"
      ]
     },
     "execution_count": 4,
     "metadata": {},
     "output_type": "execute_result"
    }
   ],
   "source": [
    "data.crs.name"
   ]
  },
  {
   "cell_type": "code",
   "execution_count": 5,
   "id": "94e76569",
   "metadata": {},
   "outputs": [],
   "source": [
    "data = data.to_crs('WGS84')"
   ]
  },
  {
   "cell_type": "code",
   "execution_count": 6,
   "id": "a93aa292",
   "metadata": {},
   "outputs": [
    {
     "data": {
      "text/plain": [
       "'WGS 84'"
      ]
     },
     "execution_count": 6,
     "metadata": {},
     "output_type": "execute_result"
    }
   ],
   "source": [
    "data.crs.name"
   ]
  },
  {
   "cell_type": "code",
   "execution_count": 7,
   "id": "c6df3922",
   "metadata": {},
   "outputs": [
    {
     "data": {
      "text/html": [
       "<div>\n",
       "<style scoped>\n",
       "    .dataframe tbody tr th:only-of-type {\n",
       "        vertical-align: middle;\n",
       "    }\n",
       "\n",
       "    .dataframe tbody tr th {\n",
       "        vertical-align: top;\n",
       "    }\n",
       "\n",
       "    .dataframe thead th {\n",
       "        text-align: right;\n",
       "    }\n",
       "</style>\n",
       "<table border=\"1\" class=\"dataframe\">\n",
       "  <thead>\n",
       "    <tr style=\"text-align: right;\">\n",
       "      <th></th>\n",
       "      <th>id</th>\n",
       "      <th>name</th>\n",
       "      <th>city</th>\n",
       "      <th>street</th>\n",
       "      <th>house</th>\n",
       "      <th>post</th>\n",
       "      <th>x</th>\n",
       "      <th>y</th>\n",
       "      <th>geometry</th>\n",
       "    </tr>\n",
       "  </thead>\n",
       "  <tbody>\n",
       "    <tr>\n",
       "      <th>0</th>\n",
       "      <td>224</td>\n",
       "      <td>Северный (Арктический) федеральный университет...</td>\n",
       "      <td>Северодвинск (Северодвинск городской округ)</td>\n",
       "      <td>Карла Маркса</td>\n",
       "      <td>36а</td>\n",
       "      <td>164512</td>\n",
       "      <td>39.780599</td>\n",
       "      <td>64.557914</td>\n",
       "      <td>POINT (39.78060 64.55791)</td>\n",
       "    </tr>\n",
       "    <tr>\n",
       "      <th>1</th>\n",
       "      <td>275</td>\n",
       "      <td>Средняя школа №23 им. А.С. Пушкина</td>\n",
       "      <td>Архангельск</td>\n",
       "      <td>Федота Шубина</td>\n",
       "      <td>7 к1</td>\n",
       "      <td>163001</td>\n",
       "      <td>40.525761</td>\n",
       "      <td>64.557264</td>\n",
       "      <td>POINT (40.52576 64.55726)</td>\n",
       "    </tr>\n",
       "    <tr>\n",
       "      <th>2</th>\n",
       "      <td>1874</td>\n",
       "      <td>Архангельский областной институт открытого обр...</td>\n",
       "      <td>Архангельск</td>\n",
       "      <td>Ломоносова проспект</td>\n",
       "      <td>270</td>\n",
       "      <td>163001</td>\n",
       "      <td>40.535336</td>\n",
       "      <td>64.559314</td>\n",
       "      <td>POINT (40.53534 64.55931)</td>\n",
       "    </tr>\n",
       "  </tbody>\n",
       "</table>\n",
       "</div>"
      ],
      "text/plain": [
       "     id                                               name  \\\n",
       "0   224  Северный (Арктический) федеральный университет...   \n",
       "1   275                 Средняя школа №23 им. А.С. Пушкина   \n",
       "2  1874  Архангельский областной институт открытого обр...   \n",
       "\n",
       "                                          city               street house  \\\n",
       "0  Северодвинск (Северодвинск городской округ)         Карла Маркса   36а   \n",
       "1                                  Архангельск        Федота Шубина  7 к1   \n",
       "2                                  Архангельск  Ломоносова проспект   270   \n",
       "\n",
       "     post          x          y                   geometry  \n",
       "0  164512  39.780599  64.557914  POINT (39.78060 64.55791)  \n",
       "1  163001  40.525761  64.557264  POINT (40.52576 64.55726)  \n",
       "2  163001  40.535336  64.559314  POINT (40.53534 64.55931)  "
      ]
     },
     "execution_count": 7,
     "metadata": {},
     "output_type": "execute_result"
    }
   ],
   "source": [
    "data.head(3)"
   ]
  },
  {
   "cell_type": "code",
   "execution_count": 8,
   "id": "8c1e2aa7",
   "metadata": {},
   "outputs": [
    {
     "data": {
      "text/plain": [
       "<AxesSubplot:>"
      ]
     },
     "execution_count": 8,
     "metadata": {},
     "output_type": "execute_result"
    },
    {
     "data": {
      "image/png": "[encoded data removed]",
      "text/plain": [
       "<Figure size 720x720 with 1 Axes>"
      ]
     },
     "metadata": {
      "needs_background": "light"
     },
     "output_type": "display_data"
    }
   ],
   "source": [
    "data.plot(figsize=(10,10))"
   ]
  },
  {
   "cell_type": "code",
   "execution_count": 9,
   "id": "7136d912",
   "metadata": {},
   "outputs": [
    {
     "data": {
      "text/html": [
       "<div>\n",
       "<style scoped>\n",
       "    .dataframe tbody tr th:only-of-type {\n",
       "        vertical-align: middle;\n",
       "    }\n",
       "\n",
       "    .dataframe tbody tr th {\n",
       "        vertical-align: top;\n",
       "    }\n",
       "\n",
       "    .dataframe thead th {\n",
       "        text-align: right;\n",
       "    }\n",
       "</style>\n",
       "<table border=\"1\" class=\"dataframe\">\n",
       "  <thead>\n",
       "    <tr style=\"text-align: right;\">\n",
       "      <th></th>\n",
       "      <th>id</th>\n",
       "      <th>name</th>\n",
       "      <th>city</th>\n",
       "      <th>street</th>\n",
       "      <th>house</th>\n",
       "      <th>post</th>\n",
       "      <th>x</th>\n",
       "      <th>y</th>\n",
       "      <th>geometry</th>\n",
       "    </tr>\n",
       "  </thead>\n",
       "  <tbody>\n",
       "    <tr>\n",
       "      <th>0</th>\n",
       "      <td>224</td>\n",
       "      <td>Северный (Арктический) федеральный университет...</td>\n",
       "      <td>Северодвинск (Северодвинск городской округ)</td>\n",
       "      <td>Карла Маркса</td>\n",
       "      <td>36а</td>\n",
       "      <td>164512</td>\n",
       "      <td>39.780599</td>\n",
       "      <td>64.557914</td>\n",
       "      <td>POINT (39.78060 64.55791)</td>\n",
       "    </tr>\n",
       "  </tbody>\n",
       "</table>\n",
       "</div>"
      ],
      "text/plain": [
       "    id                                               name  \\\n",
       "0  224  Северный (Арктический) федеральный университет...   \n",
       "\n",
       "                                          city        street house    post  \\\n",
       "0  Северодвинск (Северодвинск городской округ)  Карла Маркса   36а  164512   \n",
       "\n",
       "           x          y                   geometry  \n",
       "0  39.780599  64.557914  POINT (39.78060 64.55791)  "
      ]
     },
     "execution_count": 9,
     "metadata": {},
     "output_type": "execute_result"
    }
   ],
   "source": [
    "data[data.id == 224]"
   ]
  },
  {
   "cell_type": "code",
   "execution_count": 10,
   "id": "e4e7341a",
   "metadata": {},
   "outputs": [
    {
     "data": {
      "text/html": [
       "<div>\n",
       "<style scoped>\n",
       "    .dataframe tbody tr th:only-of-type {\n",
       "        vertical-align: middle;\n",
       "    }\n",
       "\n",
       "    .dataframe tbody tr th {\n",
       "        vertical-align: top;\n",
       "    }\n",
       "\n",
       "    .dataframe thead th {\n",
       "        text-align: right;\n",
       "    }\n",
       "</style>\n",
       "<table border=\"1\" class=\"dataframe\">\n",
       "  <thead>\n",
       "    <tr style=\"text-align: right;\">\n",
       "      <th></th>\n",
       "      <th>id</th>\n",
       "      <th>name</th>\n",
       "      <th>city</th>\n",
       "      <th>street</th>\n",
       "      <th>house</th>\n",
       "      <th>post</th>\n",
       "      <th>coords</th>\n",
       "    </tr>\n",
       "  </thead>\n",
       "  <tbody>\n",
       "    <tr>\n",
       "      <th>0</th>\n",
       "      <td>224</td>\n",
       "      <td>0</td>\n",
       "      <td>Северодвинск (Северодвинск городской округ)</td>\n",
       "      <td>Карла Маркса</td>\n",
       "      <td>36а</td>\n",
       "      <td>164512</td>\n",
       "      <td>[64.55791398, 39.78059915]</td>\n",
       "    </tr>\n",
       "    <tr>\n",
       "      <th>1</th>\n",
       "      <td>275</td>\n",
       "      <td>1</td>\n",
       "      <td>Архангельск</td>\n",
       "      <td>Федота Шубина</td>\n",
       "      <td>7 к1</td>\n",
       "      <td>163001</td>\n",
       "      <td>[64.55726367, 40.52576143]</td>\n",
       "    </tr>\n",
       "    <tr>\n",
       "      <th>2</th>\n",
       "      <td>1874</td>\n",
       "      <td>2</td>\n",
       "      <td>Архангельск</td>\n",
       "      <td>Ломоносова проспект</td>\n",
       "      <td>270</td>\n",
       "      <td>163001</td>\n",
       "      <td>[64.55931417, 40.53533598]</td>\n",
       "    </tr>\n",
       "    <tr>\n",
       "      <th>3</th>\n",
       "      <td>1912</td>\n",
       "      <td>3</td>\n",
       "      <td>Архангельск</td>\n",
       "      <td>Клепача</td>\n",
       "      <td>3</td>\n",
       "      <td>163039</td>\n",
       "      <td>[64.43169736, 40.61717154]</td>\n",
       "    </tr>\n",
       "    <tr>\n",
       "      <th>4</th>\n",
       "      <td>3241</td>\n",
       "      <td>4</td>\n",
       "      <td>Архангельск</td>\n",
       "      <td>Урицкого</td>\n",
       "      <td>68 к3</td>\n",
       "      <td>163060</td>\n",
       "      <td>[64.53944863, 40.57454813]</td>\n",
       "    </tr>\n",
       "    <tr>\n",
       "      <th>...</th>\n",
       "      <td>...</td>\n",
       "      <td>...</td>\n",
       "      <td>...</td>\n",
       "      <td>...</td>\n",
       "      <td>...</td>\n",
       "      <td>...</td>\n",
       "      <td>...</td>\n",
       "    </tr>\n",
       "    <tr>\n",
       "      <th>480</th>\n",
       "      <td>206955</td>\n",
       "      <td>480</td>\n",
       "      <td></td>\n",
       "      <td></td>\n",
       "      <td></td>\n",
       "      <td></td>\n",
       "      <td>[63.7174921, 37.4475349]</td>\n",
       "    </tr>\n",
       "    <tr>\n",
       "      <th>481</th>\n",
       "      <td>206958</td>\n",
       "      <td>481</td>\n",
       "      <td></td>\n",
       "      <td></td>\n",
       "      <td></td>\n",
       "      <td></td>\n",
       "      <td>[63.7131966, 37.4545795]</td>\n",
       "    </tr>\n",
       "    <tr>\n",
       "      <th>482</th>\n",
       "      <td>210104</td>\n",
       "      <td>482</td>\n",
       "      <td></td>\n",
       "      <td></td>\n",
       "      <td></td>\n",
       "      <td></td>\n",
       "      <td>[64.0016939, 44.4442573]</td>\n",
       "    </tr>\n",
       "    <tr>\n",
       "      <th>483</th>\n",
       "      <td>211250</td>\n",
       "      <td>483</td>\n",
       "      <td></td>\n",
       "      <td></td>\n",
       "      <td></td>\n",
       "      <td></td>\n",
       "      <td>[65.0268243, 35.7154233]</td>\n",
       "    </tr>\n",
       "    <tr>\n",
       "      <th>484</th>\n",
       "      <td>211307</td>\n",
       "      <td>484</td>\n",
       "      <td></td>\n",
       "      <td></td>\n",
       "      <td></td>\n",
       "      <td></td>\n",
       "      <td>[63.9158519, 38.09218]</td>\n",
       "    </tr>\n",
       "  </tbody>\n",
       "</table>\n",
       "<p>485 rows × 7 columns</p>\n",
       "</div>"
      ],
      "text/plain": [
       "         id  name                                         city  \\\n",
       "0       224     0  Северодвинск (Северодвинск городской округ)   \n",
       "1       275     1                                  Архангельск   \n",
       "2      1874     2                                  Архангельск   \n",
       "3      1912     3                                  Архангельск   \n",
       "4      3241     4                                  Архангельск   \n",
       "..      ...   ...                                          ...   \n",
       "480  206955   480                                                \n",
       "481  206958   481                                                \n",
       "482  210104   482                                                \n",
       "483  211250   483                                                \n",
       "484  211307   484                                                \n",
       "\n",
       "                  street  house    post                      coords  \n",
       "0           Карла Маркса    36а  164512  [64.55791398, 39.78059915]  \n",
       "1          Федота Шубина   7 к1  163001  [64.55726367, 40.52576143]  \n",
       "2    Ломоносова проспект    270  163001  [64.55931417, 40.53533598]  \n",
       "3                Клепача      3  163039  [64.43169736, 40.61717154]  \n",
       "4               Урицкого  68 к3  163060  [64.53944863, 40.57454813]  \n",
       "..                   ...    ...     ...                         ...  \n",
       "480                                        [63.7174921, 37.4475349]  \n",
       "481                                        [63.7131966, 37.4545795]  \n",
       "482                                        [64.0016939, 44.4442573]  \n",
       "483                                        [65.0268243, 35.7154233]  \n",
       "484                                          [63.9158519, 38.09218]  \n",
       "\n",
       "[485 rows x 7 columns]"
      ]
     },
     "execution_count": 10,
     "metadata": {},
     "output_type": "execute_result"
    }
   ],
   "source": [
    "all_res = []\n",
    "\n",
    "def convertObjectsEducationLense(objectid):\n",
    "    obj = data[data.id == objectid]\n",
    "    for _, row in obj.iterrows():\n",
    "        obj = {}\n",
    "        obj['id'] = objectid\n",
    "        obj['name'] = row.name\n",
    "\n",
    "        obj['city'] = row.city\n",
    "        obj['street'] = row.street\n",
    "        obj['house'] = row.house\n",
    "        obj['post'] = row.post\n",
    "        obj['coords'] = [row['y'], row['x']]\n",
    "\n",
    "        all_res.append(obj)\n",
    "\n",
    "data = objects_education\n",
    "objectids = data.id\n",
    "#objectids = [ 224 ]\n",
    "for objectid in objectids:\n",
    "    convertObjectsEducationLense(objectid)\n",
    "\n",
    "objects_education_df = pd.DataFrame(all_res)\n",
    "data = objects_education_df\n",
    "data"
   ]
  },
  {
   "cell_type": "code",
   "execution_count": 11,
   "id": "5224d413",
   "metadata": {},
   "outputs": [],
   "source": [
    "data.to_csv('data/objects_education_lense.csv', index=False)"
   ]
  },
  {
   "cell_type": "code",
   "execution_count": null,
   "id": "d39f45f4",
   "metadata": {},
   "outputs": [],
   "source": []
  }
 ],
 "metadata": {
  "kernelspec": {
   "display_name": "Python 3 (ipykernel)",
   "language": "python",
   "name": "python3"
  },
  "language_info": {
   "codemirror_mode": {
    "name": "ipython",
    "version": 3
   },
   "file_extension": ".py",
   "mimetype": "text/x-python",
   "name": "python",
   "nbconvert_exporter": "python",
   "pygments_lexer": "ipython3",
   "version": "3.9.9"
  }
 },
 "nbformat": 4,
 "nbformat_minor": 5
}
